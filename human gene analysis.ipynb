{
 "cells": [
  {
   "cell_type": "markdown",
   "metadata": {},
   "source": [
    "# Human genomics pipeline\n",
    "\n",
    "An example of genetic analyis and BLAST on human genome.\n",
    "\n",
    "As usual, we need the sequence and the annotations (both name and biotype)."
   ]
  },
  {
   "cell_type": "code",
   "execution_count": 89,
   "metadata": {},
   "outputs": [
    {
     "ename": "ERROR",
     "evalue": "Error in library(tidyverse): there is no package called ‘tidyverse’\n",
     "output_type": "error",
     "traceback": [
      "Error in library(tidyverse): there is no package called ‘tidyverse’\nTraceback:\n",
      "1. library(tidyverse)"
     ]
    }
   ],
   "source": [
    "library(Biostrings)\n",
    "library(BSgenome)\n",
    "library(biomaRt)\n",
    "library(dplyr)\n"
   ]
  },
  {
   "cell_type": "markdown",
   "metadata": {},
   "source": [
    "Annotation in humans:\n",
    "\n",
    "https://www.google.com/search?q=bioconductor+annotation+packages\n",
    "\n",
    "https://bioconductor.org/packages/release/data/annotation/\n",
    "\n",
    "Masked genomes helps, because in them repeats are *masked*, so less likely to scramble alignments. For the sequences, we need the sequences (that can be downloaded as FASTA file) of the genome, and the annotation (.gff file), that can be downloaded separately.\n",
    "\n",
    "Another good source of genomes is UniCal Santa Cruz Genomic Institute website. Not a lot of species, tho.\n",
    "\n",
    "Soft masking: the repeated regions are lowercase in the FASTA file, and many programs can recognize soft masking. Most used in comparative genomic, when doing whole genome comparisons."
   ]
  },
  {
   "cell_type": "markdown",
   "metadata": {},
   "source": [
    "# Loading data and required packages\n",
    "\n",
    "Loading human genome, subsetting sequences on chromosome, skipping small sequences and unknowns."
   ]
  },
  {
   "cell_type": "code",
   "execution_count": 2,
   "metadata": {},
   "outputs": [],
   "source": [
    "#BiocManager::install(\"BSgenome.Hsapiens.UCSC.hg38\")\n",
    "library(BSgenome.Hsapiens.UCSC.hg38)\n",
    "# after installation of the whole genome (700 MB)...\n",
    "genome <- BSgenome.Hsapiens.UCSC.hg38\n",
    "chr    <- seqnames(genome)  #get the sequence names\n",
    "chr    <- chr[-grep(\"_\", chr)] # genome chromosomic indexes : chr1, chr2... chrX, chrY, chrM\n"
   ]
  },
  {
   "cell_type": "markdown",
   "metadata": {},
   "source": [
    "Loading annotations. Alternatively, you can download annotation in GFF3 format from Ensembl FTP repository. But the best option will be to get everything from BiomaRt."
   ]
  },
  {
   "cell_type": "code",
   "execution_count": 30,
   "metadata": {},
   "outputs": [],
   "source": [
    "library(biomaRt)\n",
    "\n",
    "#set our interval analysis\n",
    "upstream   <- 500\n",
    "downstream <- 100\n",
    "\n",
    "#get protein coding sequences and annotations\n",
    "ensembl <- useMart(\"ENSEMBL_MART_ENSEMBL\")\n",
    "ensembl <- useDataset(\"hsapiens_gene_ensembl\", mart = ensembl)  #found with : \n",
    "#    searchDatasets(mart =ensembl, pattern = \"hsapiens\")\n",
    "\n",
    "#build the query:\n",
    "\n",
    "get.coding.genes.info = function() {\n",
    "            getBM(mart = ensembl,\n",
    "                           attributes = c(\"ensembl_gene_id\", \n",
    "                           \"chromosome_name\", \n",
    "                           \"start_position\", \n",
    "                           \"end_position\", \n",
    "                           \"strand\"),    # to know fields, searchAttributes \n",
    "            filters =\"biotype\",\n",
    "            values=\"protein_coding\")\n",
    "}\n",
    "\n",
    "gene.tab = get.coding.genes.info()"
   ]
  },
  {
   "cell_type": "code",
   "execution_count": 31,
   "metadata": {},
   "outputs": [],
   "source": [
    "gene.tab.backup <- gene.tab"
   ]
  },
  {
   "cell_type": "code",
   "execution_count": 43,
   "metadata": {},
   "outputs": [],
   "source": [
    "#array di cromosomi\n",
    "# gia' ripulito chr\n",
    "chr.length = list()\n",
    "for (i in chr) chr.length[[i]] = length(genome[[i]])\n"
   ]
  },
  {
   "cell_type": "code",
   "execution_count": 44,
   "metadata": {},
   "outputs": [
    {
     "data": {
      "text/html": [
       "<dl>\n",
       "\t<dt>$chr1</dt>\n",
       "\t\t<dd>248956422</dd>\n",
       "\t<dt>$chr2</dt>\n",
       "\t\t<dd>242193529</dd>\n",
       "\t<dt>$chr3</dt>\n",
       "\t\t<dd>198295559</dd>\n",
       "\t<dt>$chr4</dt>\n",
       "\t\t<dd>190214555</dd>\n",
       "\t<dt>$chr5</dt>\n",
       "\t\t<dd>181538259</dd>\n",
       "\t<dt>$chr6</dt>\n",
       "\t\t<dd>170805979</dd>\n",
       "</dl>\n"
      ],
      "text/latex": [
       "\\begin{description}\n",
       "\\item[\\$chr1] 248956422\n",
       "\\item[\\$chr2] 242193529\n",
       "\\item[\\$chr3] 198295559\n",
       "\\item[\\$chr4] 190214555\n",
       "\\item[\\$chr5] 181538259\n",
       "\\item[\\$chr6] 170805979\n",
       "\\end{description}\n"
      ],
      "text/markdown": [
       "$chr1\n",
       ":   248956422\n",
       "$chr2\n",
       ":   242193529\n",
       "$chr3\n",
       ":   198295559\n",
       "$chr4\n",
       ":   190214555\n",
       "$chr5\n",
       ":   181538259\n",
       "$chr6\n",
       ":   170805979\n",
       "\n",
       "\n"
      ],
      "text/plain": [
       "$chr1\n",
       "[1] 248956422\n",
       "\n",
       "$chr2\n",
       "[1] 242193529\n",
       "\n",
       "$chr3\n",
       "[1] 198295559\n",
       "\n",
       "$chr4\n",
       "[1] 190214555\n",
       "\n",
       "$chr5\n",
       "[1] 181538259\n",
       "\n",
       "$chr6\n",
       "[1] 170805979\n"
      ]
     },
     "metadata": {},
     "output_type": "display_data"
    }
   ],
   "source": [
    "head(chr.length)"
   ]
  },
  {
   "cell_type": "code",
   "execution_count": 32,
   "metadata": {},
   "outputs": [
    {
     "data": {
      "text/html": [
       "<ol class=list-inline>\n",
       "\t<li>'MT'</li>\n",
       "\t<li>'CHR_HSCHR19LRC_LRC_T_CTG3_1'</li>\n",
       "\t<li>'KI270734.1'</li>\n",
       "\t<li>'CHR_HSCHR15_4_CTG8'</li>\n",
       "\t<li>'GL000009.2'</li>\n",
       "\t<li>'KI270728.1'</li>\n",
       "</ol>\n"
      ],
      "text/latex": [
       "\\begin{enumerate*}\n",
       "\\item 'MT'\n",
       "\\item 'CHR\\_HSCHR19LRC\\_LRC\\_T\\_CTG3\\_1'\n",
       "\\item 'KI270734.1'\n",
       "\\item 'CHR\\_HSCHR15\\_4\\_CTG8'\n",
       "\\item 'GL000009.2'\n",
       "\\item 'KI270728.1'\n",
       "\\end{enumerate*}\n"
      ],
      "text/markdown": [
       "1. 'MT'\n",
       "2. 'CHR_HSCHR19LRC_LRC_T_CTG3_1'\n",
       "3. 'KI270734.1'\n",
       "4. 'CHR_HSCHR15_4_CTG8'\n",
       "5. 'GL000009.2'\n",
       "6. 'KI270728.1'\n",
       "\n",
       "\n"
      ],
      "text/plain": [
       "[1] \"MT\"                          \"CHR_HSCHR19LRC_LRC_T_CTG3_1\"\n",
       "[3] \"KI270734.1\"                  \"CHR_HSCHR15_4_CTG8\"         \n",
       "[5] \"GL000009.2\"                  \"KI270728.1\"                 "
      ]
     },
     "metadata": {},
     "output_type": "display_data"
    }
   ],
   "source": [
    "head(unique(gene.tab$chromosome_name))"
   ]
  },
  {
   "cell_type": "markdown",
   "metadata": {},
   "source": [
    "Chromosome names in gene.tab (taken from UCSC) are different from the names of the chromosome (taken from Ensembl)! \n",
    "\"chr20\" vs \"20\". We can just paste \"chr\", but there will be problems with mitocondrial (\"chrM\" vs \"MT\"). We should really write a function for that."
   ]
  },
  {
   "cell_type": "code",
   "execution_count": 33,
   "metadata": {},
   "outputs": [],
   "source": [
    "gene.tab$chromosome_name = paste(\"chr\",gene.tab$chromosome_name, sep=\"\")"
   ]
  },
  {
   "cell_type": "markdown",
   "metadata": {},
   "source": [
    "Now we calculate promoters positions."
   ]
  },
  {
   "cell_type": "code",
   "execution_count": 34,
   "metadata": {},
   "outputs": [
    {
     "data": {
      "text/html": [
       "<ol class=list-inline>\n",
       "\t<li>'ensembl_gene_id'</li>\n",
       "\t<li>'chromosome_name'</li>\n",
       "\t<li>'start_position'</li>\n",
       "\t<li>'end_position'</li>\n",
       "\t<li>'strand'</li>\n",
       "</ol>\n"
      ],
      "text/latex": [
       "\\begin{enumerate*}\n",
       "\\item 'ensembl\\_gene\\_id'\n",
       "\\item 'chromosome\\_name'\n",
       "\\item 'start\\_position'\n",
       "\\item 'end\\_position'\n",
       "\\item 'strand'\n",
       "\\end{enumerate*}\n"
      ],
      "text/markdown": [
       "1. 'ensembl_gene_id'\n",
       "2. 'chromosome_name'\n",
       "3. 'start_position'\n",
       "4. 'end_position'\n",
       "5. 'strand'\n",
       "\n",
       "\n"
      ],
      "text/plain": [
       "[1] \"ensembl_gene_id\" \"chromosome_name\" \"start_position\"  \"end_position\"   \n",
       "[5] \"strand\"         "
      ]
     },
     "metadata": {},
     "output_type": "display_data"
    }
   ],
   "source": [
    "names(gene.tab)"
   ]
  },
  {
   "cell_type": "code",
   "execution_count": 35,
   "metadata": {},
   "outputs": [],
   "source": [
    "#conditional computation of start and end positions:\n",
    "\n",
    "gene.tab$prom.start <- ifelse(gene.tab$strand==\"1\",\n",
    "                              gene.tab$start_position - upstream  ,\n",
    "                              gene.tab$end_position   - downstream) # set promoter starts\n",
    "\n",
    "gene.tab$prom.end   <- ifelse(gene.tab$strand==\"-1\",\n",
    "                              gene.tab$start_position + downstream,\n",
    "                              gene.tab$end_position + upstream)   # set promoter ends\n"
   ]
  },
  {
   "cell_type": "code",
   "execution_count": 36,
   "metadata": {},
   "outputs": [
    {
     "data": {
      "text/html": [
       "<ol class=list-inline>\n",
       "\t<li>'ensembl_gene_id'</li>\n",
       "\t<li>'chromosome_name'</li>\n",
       "\t<li>'start_position'</li>\n",
       "\t<li>'end_position'</li>\n",
       "\t<li>'strand'</li>\n",
       "\t<li>'prom.start'</li>\n",
       "\t<li>'prom.end'</li>\n",
       "</ol>\n"
      ],
      "text/latex": [
       "\\begin{enumerate*}\n",
       "\\item 'ensembl\\_gene\\_id'\n",
       "\\item 'chromosome\\_name'\n",
       "\\item 'start\\_position'\n",
       "\\item 'end\\_position'\n",
       "\\item 'strand'\n",
       "\\item 'prom.start'\n",
       "\\item 'prom.end'\n",
       "\\end{enumerate*}\n"
      ],
      "text/markdown": [
       "1. 'ensembl_gene_id'\n",
       "2. 'chromosome_name'\n",
       "3. 'start_position'\n",
       "4. 'end_position'\n",
       "5. 'strand'\n",
       "6. 'prom.start'\n",
       "7. 'prom.end'\n",
       "\n",
       "\n"
      ],
      "text/plain": [
       "[1] \"ensembl_gene_id\" \"chromosome_name\" \"start_position\"  \"end_position\"   \n",
       "[5] \"strand\"          \"prom.start\"      \"prom.end\"       "
      ]
     },
     "metadata": {},
     "output_type": "display_data"
    },
    {
     "data": {
      "text/html": [
       "<table>\n",
       "<caption>A data.frame: 6 × 7</caption>\n",
       "<thead>\n",
       "\t<tr><th scope=col>ensembl_gene_id</th><th scope=col>chromosome_name</th><th scope=col>start_position</th><th scope=col>end_position</th><th scope=col>strand</th><th scope=col>prom.start</th><th scope=col>prom.end</th></tr>\n",
       "\t<tr><th scope=col>&lt;chr&gt;</th><th scope=col>&lt;chr&gt;</th><th scope=col>&lt;int&gt;</th><th scope=col>&lt;int&gt;</th><th scope=col>&lt;int&gt;</th><th scope=col>&lt;dbl&gt;</th><th scope=col>&lt;dbl&gt;</th></tr>\n",
       "</thead>\n",
       "<tbody>\n",
       "\t<tr><td>ENSG00000198888</td><td>chrMT</td><td>3307</td><td>4262</td><td>1</td><td>2807</td><td>4762</td></tr>\n",
       "\t<tr><td>ENSG00000198763</td><td>chrMT</td><td>4470</td><td>5511</td><td>1</td><td>3970</td><td>6011</td></tr>\n",
       "\t<tr><td>ENSG00000198804</td><td>chrMT</td><td>5904</td><td>7445</td><td>1</td><td>5404</td><td>7945</td></tr>\n",
       "\t<tr><td>ENSG00000198712</td><td>chrMT</td><td>7586</td><td>8269</td><td>1</td><td>7086</td><td>8769</td></tr>\n",
       "\t<tr><td>ENSG00000228253</td><td>chrMT</td><td>8366</td><td>8572</td><td>1</td><td>7866</td><td>9072</td></tr>\n",
       "\t<tr><td>ENSG00000198899</td><td>chrMT</td><td>8527</td><td>9207</td><td>1</td><td>8027</td><td>9707</td></tr>\n",
       "</tbody>\n",
       "</table>\n"
      ],
      "text/latex": [
       "A data.frame: 6 × 7\n",
       "\\begin{tabular}{r|lllllll}\n",
       " ensembl\\_gene\\_id & chromosome\\_name & start\\_position & end\\_position & strand & prom.start & prom.end\\\\\n",
       " <chr> & <chr> & <int> & <int> & <int> & <dbl> & <dbl>\\\\\n",
       "\\hline\n",
       "\t ENSG00000198888 & chrMT & 3307 & 4262 & 1 & 2807 & 4762\\\\\n",
       "\t ENSG00000198763 & chrMT & 4470 & 5511 & 1 & 3970 & 6011\\\\\n",
       "\t ENSG00000198804 & chrMT & 5904 & 7445 & 1 & 5404 & 7945\\\\\n",
       "\t ENSG00000198712 & chrMT & 7586 & 8269 & 1 & 7086 & 8769\\\\\n",
       "\t ENSG00000228253 & chrMT & 8366 & 8572 & 1 & 7866 & 9072\\\\\n",
       "\t ENSG00000198899 & chrMT & 8527 & 9207 & 1 & 8027 & 9707\\\\\n",
       "\\end{tabular}\n"
      ],
      "text/markdown": [
       "\n",
       "A data.frame: 6 × 7\n",
       "\n",
       "| ensembl_gene_id &lt;chr&gt; | chromosome_name &lt;chr&gt; | start_position &lt;int&gt; | end_position &lt;int&gt; | strand &lt;int&gt; | prom.start &lt;dbl&gt; | prom.end &lt;dbl&gt; |\n",
       "|---|---|---|---|---|---|---|\n",
       "| ENSG00000198888 | chrMT | 3307 | 4262 | 1 | 2807 | 4762 |\n",
       "| ENSG00000198763 | chrMT | 4470 | 5511 | 1 | 3970 | 6011 |\n",
       "| ENSG00000198804 | chrMT | 5904 | 7445 | 1 | 5404 | 7945 |\n",
       "| ENSG00000198712 | chrMT | 7586 | 8269 | 1 | 7086 | 8769 |\n",
       "| ENSG00000228253 | chrMT | 8366 | 8572 | 1 | 7866 | 9072 |\n",
       "| ENSG00000198899 | chrMT | 8527 | 9207 | 1 | 8027 | 9707 |\n",
       "\n"
      ],
      "text/plain": [
       "  ensembl_gene_id chromosome_name start_position end_position strand prom.start\n",
       "1 ENSG00000198888 chrMT           3307           4262         1      2807      \n",
       "2 ENSG00000198763 chrMT           4470           5511         1      3970      \n",
       "3 ENSG00000198804 chrMT           5904           7445         1      5404      \n",
       "4 ENSG00000198712 chrMT           7586           8269         1      7086      \n",
       "5 ENSG00000228253 chrMT           8366           8572         1      7866      \n",
       "6 ENSG00000198899 chrMT           8527           9207         1      8027      \n",
       "  prom.end\n",
       "1 4762    \n",
       "2 6011    \n",
       "3 7945    \n",
       "4 8769    \n",
       "5 9072    \n",
       "6 9707    "
      ]
     },
     "metadata": {},
     "output_type": "display_data"
    }
   ],
   "source": [
    "names(gene.tab)\n",
    "head(gene.tab)"
   ]
  },
  {
   "cell_type": "code",
   "execution_count": 154,
   "metadata": {},
   "outputs": [
    {
     "ename": "ERROR",
     "evalue": "Error in FUN(newX[, i], ...): unused argument (simplify = T)\n",
     "output_type": "error",
     "traceback": [
      "Error in FUN(newX[, i], ...): unused argument (simplify = T)\nTraceback:\n",
      "1. apply(gene.tab, 1, function(x) {\n .     as.numeric(x[7]) > chr.length[[as.character(x[2])]]\n . }, simplify = T)"
     ]
    }
   ],
   "source": [
    "# BUGGED: check if all sequences are in boundaries\n",
    "\n",
    "to.delete = apply(gene.tab, 1, function(x){\n",
    "    as.numeric(x[7]) > chr.length[[as.character(x[2])]]}, simplify = T)"
   ]
  },
  {
   "cell_type": "code",
   "execution_count": 37,
   "metadata": {},
   "outputs": [
    {
     "data": {
      "text/html": [
       "<ol class=list-inline>\n",
       "\t<li>'chr5'</li>\n",
       "\t<li>'chr9'</li>\n",
       "\t<li>'chrY'</li>\n",
       "\t<li>'chr4'</li>\n",
       "\t<li>'chr13'</li>\n",
       "\t<li>'chr11'</li>\n",
       "\t<li>'chrX'</li>\n",
       "\t<li>'chr14'</li>\n",
       "\t<li>'chr20'</li>\n",
       "\t<li>'chr6'</li>\n",
       "\t<li>'chr15'</li>\n",
       "\t<li>'chr7'</li>\n",
       "\t<li>'chr10'</li>\n",
       "\t<li>'chr19'</li>\n",
       "\t<li>'chr2'</li>\n",
       "\t<li>'chr17'</li>\n",
       "\t<li>'chr3'</li>\n",
       "\t<li>'chr1'</li>\n",
       "\t<li>'chr12'</li>\n",
       "\t<li>'chr16'</li>\n",
       "\t<li>'chr8'</li>\n",
       "\t<li>'chr21'</li>\n",
       "\t<li>'chr18'</li>\n",
       "\t<li>'chr22'</li>\n",
       "</ol>\n"
      ],
      "text/latex": [
       "\\begin{enumerate*}\n",
       "\\item 'chr5'\n",
       "\\item 'chr9'\n",
       "\\item 'chrY'\n",
       "\\item 'chr4'\n",
       "\\item 'chr13'\n",
       "\\item 'chr11'\n",
       "\\item 'chrX'\n",
       "\\item 'chr14'\n",
       "\\item 'chr20'\n",
       "\\item 'chr6'\n",
       "\\item 'chr15'\n",
       "\\item 'chr7'\n",
       "\\item 'chr10'\n",
       "\\item 'chr19'\n",
       "\\item 'chr2'\n",
       "\\item 'chr17'\n",
       "\\item 'chr3'\n",
       "\\item 'chr1'\n",
       "\\item 'chr12'\n",
       "\\item 'chr16'\n",
       "\\item 'chr8'\n",
       "\\item 'chr21'\n",
       "\\item 'chr18'\n",
       "\\item 'chr22'\n",
       "\\end{enumerate*}\n"
      ],
      "text/markdown": [
       "1. 'chr5'\n",
       "2. 'chr9'\n",
       "3. 'chrY'\n",
       "4. 'chr4'\n",
       "5. 'chr13'\n",
       "6. 'chr11'\n",
       "7. 'chrX'\n",
       "8. 'chr14'\n",
       "9. 'chr20'\n",
       "10. 'chr6'\n",
       "11. 'chr15'\n",
       "12. 'chr7'\n",
       "13. 'chr10'\n",
       "14. 'chr19'\n",
       "15. 'chr2'\n",
       "16. 'chr17'\n",
       "17. 'chr3'\n",
       "18. 'chr1'\n",
       "19. 'chr12'\n",
       "20. 'chr16'\n",
       "21. 'chr8'\n",
       "22. 'chr21'\n",
       "23. 'chr18'\n",
       "24. 'chr22'\n",
       "\n",
       "\n"
      ],
      "text/plain": [
       " [1] \"chr5\"  \"chr9\"  \"chrY\"  \"chr4\"  \"chr13\" \"chr11\" \"chrX\"  \"chr14\" \"chr20\"\n",
       "[10] \"chr6\"  \"chr15\" \"chr7\"  \"chr10\" \"chr19\" \"chr2\"  \"chr17\" \"chr3\"  \"chr1\" \n",
       "[19] \"chr12\" \"chr16\" \"chr8\"  \"chr21\" \"chr18\" \"chr22\""
      ]
     },
     "metadata": {},
     "output_type": "display_data"
    },
    {
     "data": {
      "text/html": [
       "<ol class=list-inline>\n",
       "\t<li>'-'</li>\n",
       "\t<li>'+'</li>\n",
       "</ol>\n"
      ],
      "text/latex": [
       "\\begin{enumerate*}\n",
       "\\item '-'\n",
       "\\item '+'\n",
       "\\end{enumerate*}\n"
      ],
      "text/markdown": [
       "1. '-'\n",
       "2. '+'\n",
       "\n",
       "\n"
      ],
      "text/plain": [
       "[1] \"-\" \"+\""
      ]
     },
     "metadata": {},
     "output_type": "display_data"
    }
   ],
   "source": [
    "gene.tab <- gene.tab %>% \n",
    "    filter(grepl(\"^chr[1-9*]|Y|X$\", chromosome_name)) %>%\n",
    "    mutate(strand = ifelse(strand==\"1\", \"+\", \"-\")) \n",
    "\n",
    "unique(gene.tab$chromosome_name)\n",
    "unique(gene.tab$strand)"
   ]
  },
  {
   "cell_type": "code",
   "execution_count": 38,
   "metadata": {},
   "outputs": [
    {
     "ename": "ERROR",
     "evalue": "Error in .Call2(\"solve_user_SEW\", refwidths, start, end, width, translate.negative.coord, : solving row 1: the supplied start/end lead to a negative width\n",
     "output_type": "error",
     "traceback": [
      "Error in .Call2(\"solve_user_SEW\", refwidths, start, end, width, translate.negative.coord, : solving row 1: the supplied start/end lead to a negative width\nTraceback:\n",
      "1. getSeq(genome, names = gene.tab$chromosome_name, start = gene.tab$prom.start, \n .     end = gene.tab$prom.end, strand = gene.tab$strand, as.character = T)",
      "2. getSeq(genome, names = gene.tab$chromosome_name, start = gene.tab$prom.start, \n .     end = gene.tab$prom.end, strand = gene.tab$strand, as.character = T)",
      "3. .local(x, ...)",
      "4. .extractFromBSgenomeSingleSequences(x, sseq_args$names, sseq_args$start, \n .     sseq_args$end, sseq_args$width, sseq_args$strand)",
      "5. solveUserSEW(refwidths, start = start, end = end, width = width)",
      "6. .Call2(\"solve_user_SEW\", refwidths, start, end, width, translate.negative.coord, \n .     allow.nonnarrowing, PACKAGE = \"IRanges\")"
     ]
    }
   ],
   "source": [
    "gene.tab$prom.seq <- getSeq(genome,\n",
    "                            names=gene.tab$chromosome_name,\n",
    "                            start= gene.tab$prom.start,\n",
    "                            end=gene.tab$prom.end,\n",
    "                            strand=gene.tab$strand,\n",
    "                            as.character=T\n",
    "                            )"
   ]
  },
  {
   "cell_type": "code",
   "execution_count": 160,
   "metadata": {},
   "outputs": [
    {
     "ename": "ERROR",
     "evalue": "Error in !to.delete: invalid argument type\n",
     "output_type": "error",
     "traceback": [
      "Error in !to.delete: invalid argument type\nTraceback:\n",
      "1. gene.tab[!to.delete]",
      "2. `[.data.frame`(gene.tab, !to.delete)"
     ]
    }
   ],
   "source": [
    "#rm(to.delete)\n",
    "gene.tab2 <- gene.tab[!to.delete]"
   ]
  },
  {
   "cell_type": "code",
   "execution_count": 140,
   "metadata": {},
   "outputs": [
    {
     "name": "stderr",
     "output_type": "stream",
     "text": [
      "Warning message in rbind(parts$upper, ellip_v, parts$lower, deparse.level = 0L):\n",
      "“number of columns of result is not a multiple of vector length (arg 2)”"
     ]
    },
    {
     "data": {
      "text/html": [],
      "text/latex": [],
      "text/markdown": [],
      "text/plain": [
       "     \n",
       "1    \n",
       "2    \n",
       "3    \n",
       "4    \n",
       "5    \n",
       "6    \n",
       "7    \n",
       "8    \n",
       "9    \n",
       "10   \n",
       "11   \n",
       "12   \n",
       "13   \n",
       "14   \n",
       "15   \n",
       "16   \n",
       "17   \n",
       "18   \n",
       "19   \n",
       "20   \n",
       "21   \n",
       "22   \n",
       "23   \n",
       "24   \n",
       "25   \n",
       "26   \n",
       "27   \n",
       "28   \n",
       "29   \n",
       "30   \n",
       "⋮    \n",
       "22778\n",
       "22779\n",
       "22780\n",
       "22781\n",
       "22782\n",
       "22783\n",
       "22784\n",
       "22785\n",
       "22786\n",
       "22787\n",
       "22788\n",
       "22789\n",
       "22790\n",
       "22791\n",
       "22792\n",
       "22793\n",
       "22794\n",
       "22795\n",
       "22796\n",
       "22797\n",
       "22798\n",
       "22799\n",
       "22800\n",
       "22801\n",
       "22802\n",
       "22803\n",
       "22804\n",
       "22805\n",
       "22806\n",
       "22807"
      ]
     },
     "metadata": {},
     "output_type": "display_data"
    }
   ],
   "source": [
    "gene.tab2"
   ]
  },
  {
   "cell_type": "code",
   "execution_count": null,
   "metadata": {},
   "outputs": [],
   "source": [
    "dplyr branch pipe"
   ]
  },
  {
   "cell_type": "code",
   "execution_count": 71,
   "metadata": {
    "collapsed": true
   },
   "outputs": [
    {
     "data": {
      "text/html": [
       "<table>\n",
       "<caption>A data.frame: 25 × 2</caption>\n",
       "<thead>\n",
       "\t<tr><th scope=col>chr_length</th><th scope=col>chromosome_name</th></tr>\n",
       "\t<tr><th scope=col>&lt;int&gt;</th><th scope=col>&lt;chr&gt;</th></tr>\n",
       "</thead>\n",
       "<tbody>\n",
       "\t<tr><td>248956422</td><td>chr1 </td></tr>\n",
       "\t<tr><td>242193529</td><td>chr2 </td></tr>\n",
       "\t<tr><td>198295559</td><td>chr3 </td></tr>\n",
       "\t<tr><td>190214555</td><td>chr4 </td></tr>\n",
       "\t<tr><td>181538259</td><td>chr5 </td></tr>\n",
       "\t<tr><td>170805979</td><td>chr6 </td></tr>\n",
       "\t<tr><td>159345973</td><td>chr7 </td></tr>\n",
       "\t<tr><td>145138636</td><td>chr8 </td></tr>\n",
       "\t<tr><td>138394717</td><td>chr9 </td></tr>\n",
       "\t<tr><td>133797422</td><td>chr10</td></tr>\n",
       "\t<tr><td>135086622</td><td>chr11</td></tr>\n",
       "\t<tr><td>133275309</td><td>chr12</td></tr>\n",
       "\t<tr><td>114364328</td><td>chr13</td></tr>\n",
       "\t<tr><td>107043718</td><td>chr14</td></tr>\n",
       "\t<tr><td>101991189</td><td>chr15</td></tr>\n",
       "\t<tr><td> 90338345</td><td>chr16</td></tr>\n",
       "\t<tr><td> 83257441</td><td>chr17</td></tr>\n",
       "\t<tr><td> 80373285</td><td>chr18</td></tr>\n",
       "\t<tr><td> 58617616</td><td>chr19</td></tr>\n",
       "\t<tr><td> 64444167</td><td>chr20</td></tr>\n",
       "\t<tr><td> 46709983</td><td>chr21</td></tr>\n",
       "\t<tr><td> 50818468</td><td>chr22</td></tr>\n",
       "\t<tr><td>156040895</td><td>chrX </td></tr>\n",
       "\t<tr><td> 57227415</td><td>chrY </td></tr>\n",
       "\t<tr><td>    16569</td><td>chrM </td></tr>\n",
       "</tbody>\n",
       "</table>\n"
      ],
      "text/latex": [
       "A data.frame: 25 × 2\n",
       "\\begin{tabular}{r|ll}\n",
       " chr\\_length & chromosome\\_name\\\\\n",
       " <int> & <chr>\\\\\n",
       "\\hline\n",
       "\t 248956422 & chr1 \\\\\n",
       "\t 242193529 & chr2 \\\\\n",
       "\t 198295559 & chr3 \\\\\n",
       "\t 190214555 & chr4 \\\\\n",
       "\t 181538259 & chr5 \\\\\n",
       "\t 170805979 & chr6 \\\\\n",
       "\t 159345973 & chr7 \\\\\n",
       "\t 145138636 & chr8 \\\\\n",
       "\t 138394717 & chr9 \\\\\n",
       "\t 133797422 & chr10\\\\\n",
       "\t 135086622 & chr11\\\\\n",
       "\t 133275309 & chr12\\\\\n",
       "\t 114364328 & chr13\\\\\n",
       "\t 107043718 & chr14\\\\\n",
       "\t 101991189 & chr15\\\\\n",
       "\t  90338345 & chr16\\\\\n",
       "\t  83257441 & chr17\\\\\n",
       "\t  80373285 & chr18\\\\\n",
       "\t  58617616 & chr19\\\\\n",
       "\t  64444167 & chr20\\\\\n",
       "\t  46709983 & chr21\\\\\n",
       "\t  50818468 & chr22\\\\\n",
       "\t 156040895 & chrX \\\\\n",
       "\t  57227415 & chrY \\\\\n",
       "\t     16569 & chrM \\\\\n",
       "\\end{tabular}\n"
      ],
      "text/markdown": [
       "\n",
       "A data.frame: 25 × 2\n",
       "\n",
       "| chr_length &lt;int&gt; | chromosome_name &lt;chr&gt; |\n",
       "|---|---|\n",
       "| 248956422 | chr1  |\n",
       "| 242193529 | chr2  |\n",
       "| 198295559 | chr3  |\n",
       "| 190214555 | chr4  |\n",
       "| 181538259 | chr5  |\n",
       "| 170805979 | chr6  |\n",
       "| 159345973 | chr7  |\n",
       "| 145138636 | chr8  |\n",
       "| 138394717 | chr9  |\n",
       "| 133797422 | chr10 |\n",
       "| 135086622 | chr11 |\n",
       "| 133275309 | chr12 |\n",
       "| 114364328 | chr13 |\n",
       "| 107043718 | chr14 |\n",
       "| 101991189 | chr15 |\n",
       "|  90338345 | chr16 |\n",
       "|  83257441 | chr17 |\n",
       "|  80373285 | chr18 |\n",
       "|  58617616 | chr19 |\n",
       "|  64444167 | chr20 |\n",
       "|  46709983 | chr21 |\n",
       "|  50818468 | chr22 |\n",
       "| 156040895 | chrX  |\n",
       "|  57227415 | chrY  |\n",
       "|     16569 | chrM  |\n",
       "\n"
      ],
      "text/plain": [
       "   chr_length chromosome_name\n",
       "1  248956422  chr1           \n",
       "2  242193529  chr2           \n",
       "3  198295559  chr3           \n",
       "4  190214555  chr4           \n",
       "5  181538259  chr5           \n",
       "6  170805979  chr6           \n",
       "7  159345973  chr7           \n",
       "8  145138636  chr8           \n",
       "9  138394717  chr9           \n",
       "10 133797422  chr10          \n",
       "11 135086622  chr11          \n",
       "12 133275309  chr12          \n",
       "13 114364328  chr13          \n",
       "14 107043718  chr14          \n",
       "15 101991189  chr15          \n",
       "16  90338345  chr16          \n",
       "17  83257441  chr17          \n",
       "18  80373285  chr18          \n",
       "19  58617616  chr19          \n",
       "20  64444167  chr20          \n",
       "21  46709983  chr21          \n",
       "22  50818468  chr22          \n",
       "23 156040895  chrX           \n",
       "24  57227415  chrY           \n",
       "25     16569  chrM           "
      ]
     },
     "metadata": {},
     "output_type": "display_data"
    }
   ],
   "source": [
    "chrs <- as.data.frame(t(as.data.frame(chr.length)))\n",
    "colnames(chrs) = \"chr_length\"\n",
    "\n",
    "chrs <- chrs %>% \n",
    "    tibble::rownames_to_column() %>% \n",
    "    mutate(chromosome_name=rowname) %>%\n",
    "    select(-rowname)\n",
    "\n",
    "chrs"
   ]
  },
  {
   "cell_type": "code",
   "execution_count": 88,
   "metadata": {},
   "outputs": [
    {
     "data": {
      "text/html": [
       "<table>\n",
       "<caption>A data.frame: 6 × 8</caption>\n",
       "<thead>\n",
       "\t<tr><th scope=col>ensembl_gene_id</th><th scope=col>chromosome_name</th><th scope=col>start_position</th><th scope=col>end_position</th><th scope=col>strand</th><th scope=col>prom.start</th><th scope=col>prom.end</th><th scope=col>chr_length</th></tr>\n",
       "\t<tr><th scope=col>&lt;chr&gt;</th><th scope=col>&lt;chr&gt;</th><th scope=col>&lt;int&gt;</th><th scope=col>&lt;int&gt;</th><th scope=col>&lt;chr&gt;</th><th scope=col>&lt;dbl&gt;</th><th scope=col>&lt;dbl&gt;</th><th scope=col>&lt;int&gt;</th></tr>\n",
       "</thead>\n",
       "<tbody>\n",
       "\t<tr><td>ENSG00000286094</td><td>chr5 </td><td>   716808</td><td>   766919</td><td>-</td><td>   766819</td><td>   716908</td><td>181538259</td></tr>\n",
       "\t<tr><td>ENSG00000204805</td><td>chr9 </td><td> 61861625</td><td> 61863200</td><td>+</td><td> 61861125</td><td> 61863700</td><td>138394717</td></tr>\n",
       "\t<tr><td>ENSG00000286265</td><td>chrY </td><td> 19076946</td><td> 19077416</td><td>-</td><td> 19077316</td><td> 19077046</td><td> 57227415</td></tr>\n",
       "\t<tr><td>ENSG00000285447</td><td>chr9 </td><td>112997120</td><td>113050043</td><td>-</td><td>113049943</td><td>112997220</td><td>138394717</td></tr>\n",
       "\t<tr><td>ENSG00000288380</td><td>chr4 </td><td>  1391552</td><td>  1395992</td><td>+</td><td>  1391052</td><td>  1396492</td><td>190214555</td></tr>\n",
       "\t<tr><td>ENSG00000139675</td><td>chr13</td><td> 52642425</td><td> 52643796</td><td>+</td><td> 52641925</td><td> 52644296</td><td>114364328</td></tr>\n",
       "</tbody>\n",
       "</table>\n"
      ],
      "text/latex": [
       "A data.frame: 6 × 8\n",
       "\\begin{tabular}{r|llllllll}\n",
       " ensembl\\_gene\\_id & chromosome\\_name & start\\_position & end\\_position & strand & prom.start & prom.end & chr\\_length\\\\\n",
       " <chr> & <chr> & <int> & <int> & <chr> & <dbl> & <dbl> & <int>\\\\\n",
       "\\hline\n",
       "\t ENSG00000286094 & chr5  &    716808 &    766919 & - &    766819 &    716908 & 181538259\\\\\n",
       "\t ENSG00000204805 & chr9  &  61861625 &  61863200 & + &  61861125 &  61863700 & 138394717\\\\\n",
       "\t ENSG00000286265 & chrY  &  19076946 &  19077416 & - &  19077316 &  19077046 &  57227415\\\\\n",
       "\t ENSG00000285447 & chr9  & 112997120 & 113050043 & - & 113049943 & 112997220 & 138394717\\\\\n",
       "\t ENSG00000288380 & chr4  &   1391552 &   1395992 & + &   1391052 &   1396492 & 190214555\\\\\n",
       "\t ENSG00000139675 & chr13 &  52642425 &  52643796 & + &  52641925 &  52644296 & 114364328\\\\\n",
       "\\end{tabular}\n"
      ],
      "text/markdown": [
       "\n",
       "A data.frame: 6 × 8\n",
       "\n",
       "| ensembl_gene_id &lt;chr&gt; | chromosome_name &lt;chr&gt; | start_position &lt;int&gt; | end_position &lt;int&gt; | strand &lt;chr&gt; | prom.start &lt;dbl&gt; | prom.end &lt;dbl&gt; | chr_length &lt;int&gt; |\n",
       "|---|---|---|---|---|---|---|---|\n",
       "| ENSG00000286094 | chr5  |    716808 |    766919 | - |    766819 |    716908 | 181538259 |\n",
       "| ENSG00000204805 | chr9  |  61861625 |  61863200 | + |  61861125 |  61863700 | 138394717 |\n",
       "| ENSG00000286265 | chrY  |  19076946 |  19077416 | - |  19077316 |  19077046 |  57227415 |\n",
       "| ENSG00000285447 | chr9  | 112997120 | 113050043 | - | 113049943 | 112997220 | 138394717 |\n",
       "| ENSG00000288380 | chr4  |   1391552 |   1395992 | + |   1391052 |   1396492 | 190214555 |\n",
       "| ENSG00000139675 | chr13 |  52642425 |  52643796 | + |  52641925 |  52644296 | 114364328 |\n",
       "\n"
      ],
      "text/plain": [
       "  ensembl_gene_id chromosome_name start_position end_position strand prom.start\n",
       "1 ENSG00000286094 chr5               716808         766919    -         766819 \n",
       "2 ENSG00000204805 chr9             61861625       61863200    +       61861125 \n",
       "3 ENSG00000286265 chrY             19076946       19077416    -       19077316 \n",
       "4 ENSG00000285447 chr9            112997120      113050043    -      113049943 \n",
       "5 ENSG00000288380 chr4              1391552        1395992    +        1391052 \n",
       "6 ENSG00000139675 chr13            52642425       52643796    +       52641925 \n",
       "  prom.end  chr_length\n",
       "1    716908 181538259 \n",
       "2  61863700 138394717 \n",
       "3  19077046  57227415 \n",
       "4 112997220 138394717 \n",
       "5   1396492 190214555 \n",
       "6  52644296 114364328 "
      ]
     },
     "metadata": {},
     "output_type": "display_data"
    }
   ],
   "source": [
    "#or, with dplyr piping...\n",
    "# It does not change/overwrite the original data, unless requested.\n",
    "\n",
    "gene.tab.backup %>%\n",
    "\n",
    "\n",
    "    \n",
    "    mutate(chromosome_name = paste(\"chr\",chromosome_name, sep=\"\")) %>% # this is an error source. verify matches.\n",
    "\n",
    "    filter(grepl(\"^chr[1-9*]|Y|X$\", chromosome_name)) %>%\n",
    "\n",
    "    mutate(strand = ifelse(strand==\"1\", \"+\", \"-\")) %>%\n",
    "\n",
    "    mutate(prom.start = ifelse(.$strand==\"+\",dplyr branch pipe\n",
    "                              .$start_position - upstream  ,\n",
    "                              .$end_position   - downstream)) %>%\n",
    "    mutate(prom.end=    ifelse(.$strand==\"-\",\n",
    "                              .$start_position + downstream,\n",
    "                              .$end_position + upstream)) %>%\n",
    "\n",
    "    left_join (chrs, by = \"chromosome_name\") %>%\n",
    "\n",
    "    # clean out of boundaries\n",
    "\n",
    "    filter(prom.start>0) %>% \n",
    "    filter(prom.end<chr_length) %>%\n",
    "\n",
    "    head() "
   ]
  },
  {
   "cell_type": "markdown",
   "metadata": {},
   "source": [
    "to do: debug, and plot the consensus matrix plot.\n",
    "you'll see that the pattern is different. \n",
    "high body temperature organism has higher G-C content, easier to work on.\n",
    "the percentage of GC and AT is linked to thermodinamical context. The consensum matrix help in predicting the start point of transcription on genome."
   ]
  },
  {
   "cell_type": "code",
   "execution_count": null,
   "metadata": {},
   "outputs": [],
   "source": [
    "#homework: check the snake"
   ]
  }
 ],
 "metadata": {
  "kernelspec": {
   "display_name": "R",
   "language": "R",
   "name": "ir"
  },
  "language_info": {
   "codemirror_mode": "r",
   "file_extension": ".r",
   "mimetype": "text/x-r-source",
   "name": "R",
   "pygments_lexer": "r",
   "version": "3.6.1"
  }
 },
 "nbformat": 4,
 "nbformat_minor": 2
}
