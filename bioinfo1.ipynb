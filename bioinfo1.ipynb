{
 "cells": [
  {
   "cell_type": "markdown",
   "metadata": {},
   "source": [
    "# Oct-21-2019 - Bioinformatics exercises\n",
    "\n",
    "Data sources chages quickly. Few major resources are stable: European Nucleotide Archive, GenBank (US), DNA Data Bank of Japan. Data come from scientists and consortia.\n",
    "\n",
    "Sequence has alphanumeric codes, ev. with .1, .2, .3 appended for version number.\n",
    "\n",
    "Additional information can be attached to a sequence. Annotations are called FEATURES, abbreviated as codes, can be found in Feature Tables.\n",
    "\n",
    "ex. TSS feature (transcriptional start site) at +10, Exons localization. General info about sequence, submission and literature. Annotations, Stretch of ATGC sequence.\n",
    "\n",
    "Data are stored in flat files, in standard data formats ( GenBank, i.e.). The part that is actually translated is under `FEATURE/CDS/gene` part of the feature table. \n",
    "\n",
    "Keys can be found at [this link](http://www.insdc.org/files/feature_table.html).\n",
    "\n"
   ]
  },
  {
   "cell_type": "markdown",
   "metadata": {},
   "source": [
    "visit GenBank website  (https://www.ncbi.nlm.nih.gov/nuccore) to get sequences. They can be complete or partial cds. (the complete or partial refers to the completeness of the CDS part).\n",
    "\n",
    "GSS are ongoing, uncompleted, not stable datasets.\n",
    "\n",
    "\n",
    "Other standards are FASTA and GFF3 (generic features format, v. 3)  (https://github.com/The-Sequence-Ontology/Specifications/blob/master/gff3.md)\n"
   ]
  },
  {
   "cell_type": "markdown",
   "metadata": {},
   "source": [
    "Entrez is the main source for files (US) and EBI search (ebi.ac.uk) and ENA (euro nucleotide archive, a subset of EBI), repo of sequencing data. The choice should fall to EBI, when possible, because there are FASTq data, where nucleotides have a SCORE."
   ]
  },
  {
   "cell_type": "markdown",
   "metadata": {},
   "source": [
    "NCBI use a tool to compress data to send them. This requires decompression to recover the FASTq data. Always verify version of compression/decompression tools and their compatibility.\n",
    "\n",
    "Genome browsers: ENSEMBLE. ensembl.org\n"
   ]
  },
  {
   "cell_type": "code",
   "execution_count": null,
   "metadata": {},
   "outputs": [],
   "source": []
  }
 ],
 "metadata": {
  "kernelspec": {
   "display_name": "R",
   "language": "R",
   "name": "ir"
  },
  "language_info": {
   "codemirror_mode": "r",
   "file_extension": ".r",
   "mimetype": "text/x-r-source",
   "name": "R",
   "pygments_lexer": "r",
   "version": "3.6.1"
  }
 },
 "nbformat": 4,
 "nbformat_minor": 2
}
