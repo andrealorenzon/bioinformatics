{
 "cells": [
  {
   "cell_type": "markdown",
   "metadata": {},
   "source": [
    "# Gene expression\n",
    "\n",
    "Meta-analisys with gene expression.\n",
    "\n",
    "## Gene expression during zebrafish development\n",
    "\n",
    "Meta analysis combines the results of other studies. It requires raw data, already produced by others. The design is very important. Ex. you have a sample, coming from a tumor, and another, from healthy individual. The two samples contain all the sample from one tissue.\n",
    "\n",
    "With RNASeq we measure the expression level of all the genes, obtaining a table that, for every gene (geneA, geneB..) , indicates all the relative expression in all the tissues (tumorIndividual1, tumorIndividual2, healthyIndividual1, healthyIndividual2...)\n",
    "\n",
    "With microarray or sequencing we can measure the level of every gene in every sample. These can be correlated to causes, tumor development, or other things.\n",
    "\n",
    "We can get several hundreds of candidates, showing significant differences, that we will focus on. This will lead to another table gene vs. significance of differences.\n",
    "\n",
    "The gene list is not enough. With annotations, we can infer actions of the gene.\n",
    "\n",
    "**Functional enrichment**: I want to understand not the function itself, but the pathway impact. \n",
    "\n",
    "We take many lists: upregulated, downregulated, etc. We take one or more metrics (overlap, distance, match, window) and we relate with annotations (GO, KEGG, OMIM, Repeats, Pseudogenes, Domains, Homologous...), looking for some enrichment.\n",
    "\n",
    "In this way we can have functional interpretation of expression tables. **Enrichment Analysis** will tell us if a collection of gene is enriched for a particular function.\n",
    "\n",
    "First, we isolated differentially expressed genes. We can classify genes for their involvement in metabolism, regulation of transcription, or signaling pathways... We take our DEG and check if the overlap with these classes is normal or not, to guess if the pathological state is relevant to metabolism, regulation, etc. and eventually subset your search area in the intersection of class and DEG. Then, studying enrichment, we can filter more and more, creating new hypotheses.\n",
    "\n"
   ]
  },
  {
   "cell_type": "markdown",
   "metadata": {},
   "source": [
    "## Illumina HiSeq Analysis\n",
    "\n",
    "Data comes from GEO (gene expression omnibus), at NCBI. For every experiment there is a series, and a lot of information. [link](https://www.ncbi.nlm.nih.gov/geo/query/acc.cgi?acc=GSE105128).\n",
    "\n",
    "The link contains the description of an experiment, its purpose, and other metadata. In this experiment, KAP1 gene is underexpressed / KO from mice. There are 6 samples, 3 deficient. On single sample pages, there is additional metadata, and a SRA link, that leads to the raw sequencing data. \n",
    "\n",
    "genecount.csv.gz is the raw count of processed data. after unzipping, we import it:\n",
    "\n"
   ]
  },
  {
   "cell_type": "code",
   "execution_count": 1,
   "metadata": {},
   "outputs": [
    {
     "data": {
      "text/html": [
       "<table>\n",
       "<caption>A data.frame: 6 × 7</caption>\n",
       "<thead>\n",
       "\t<tr><th scope=col>geneName</th><th scope=col>WT1</th><th scope=col>WT2</th><th scope=col>WT3</th><th scope=col>KO1</th><th scope=col>KO2</th><th scope=col>KO3</th></tr>\n",
       "\t<tr><th scope=col>&lt;fct&gt;</th><th scope=col>&lt;int&gt;</th><th scope=col>&lt;int&gt;</th><th scope=col>&lt;int&gt;</th><th scope=col>&lt;int&gt;</th><th scope=col>&lt;int&gt;</th><th scope=col>&lt;int&gt;</th></tr>\n",
       "</thead>\n",
       "<tbody>\n",
       "\t<tr><td>ENSMUSG00000000001</td><td>2022</td><td>2141</td><td>2313</td><td>2311</td><td>2415</td><td>2748</td></tr>\n",
       "\t<tr><td>ENSMUSG00000000003</td><td>   0</td><td>   0</td><td>   0</td><td>   0</td><td>   0</td><td>   0</td></tr>\n",
       "\t<tr><td>ENSMUSG00000000028</td><td> 157</td><td> 128</td><td>  97</td><td>  98</td><td> 112</td><td> 145</td></tr>\n",
       "\t<tr><td>ENSMUSG00000000031</td><td>   0</td><td>   0</td><td>   0</td><td>   0</td><td>   0</td><td>   0</td></tr>\n",
       "\t<tr><td>ENSMUSG00000000037</td><td>   5</td><td>   5</td><td>   8</td><td>   7</td><td>  10</td><td>   8</td></tr>\n",
       "\t<tr><td>ENSMUSG00000000049</td><td>   0</td><td>   0</td><td>   0</td><td>   0</td><td>   0</td><td>   2</td></tr>\n",
       "</tbody>\n",
       "</table>\n"
      ],
      "text/latex": [
       "A data.frame: 6 × 7\n",
       "\\begin{tabular}{r|lllllll}\n",
       " geneName & WT1 & WT2 & WT3 & KO1 & KO2 & KO3\\\\\n",
       " <fct> & <int> & <int> & <int> & <int> & <int> & <int>\\\\\n",
       "\\hline\n",
       "\t ENSMUSG00000000001 & 2022 & 2141 & 2313 & 2311 & 2415 & 2748\\\\\n",
       "\t ENSMUSG00000000003 &    0 &    0 &    0 &    0 &    0 &    0\\\\\n",
       "\t ENSMUSG00000000028 &  157 &  128 &   97 &   98 &  112 &  145\\\\\n",
       "\t ENSMUSG00000000031 &    0 &    0 &    0 &    0 &    0 &    0\\\\\n",
       "\t ENSMUSG00000000037 &    5 &    5 &    8 &    7 &   10 &    8\\\\\n",
       "\t ENSMUSG00000000049 &    0 &    0 &    0 &    0 &    0 &    2\\\\\n",
       "\\end{tabular}\n"
      ],
      "text/markdown": [
       "\n",
       "A data.frame: 6 × 7\n",
       "\n",
       "| geneName &lt;fct&gt; | WT1 &lt;int&gt; | WT2 &lt;int&gt; | WT3 &lt;int&gt; | KO1 &lt;int&gt; | KO2 &lt;int&gt; | KO3 &lt;int&gt; |\n",
       "|---|---|---|---|---|---|---|\n",
       "| ENSMUSG00000000001 | 2022 | 2141 | 2313 | 2311 | 2415 | 2748 |\n",
       "| ENSMUSG00000000003 |    0 |    0 |    0 |    0 |    0 |    0 |\n",
       "| ENSMUSG00000000028 |  157 |  128 |   97 |   98 |  112 |  145 |\n",
       "| ENSMUSG00000000031 |    0 |    0 |    0 |    0 |    0 |    0 |\n",
       "| ENSMUSG00000000037 |    5 |    5 |    8 |    7 |   10 |    8 |\n",
       "| ENSMUSG00000000049 |    0 |    0 |    0 |    0 |    0 |    2 |\n",
       "\n"
      ],
      "text/plain": [
       "  geneName           WT1  WT2  WT3  KO1  KO2  KO3 \n",
       "1 ENSMUSG00000000001 2022 2141 2313 2311 2415 2748\n",
       "2 ENSMUSG00000000003    0    0    0    0    0    0\n",
       "3 ENSMUSG00000000028  157  128   97   98  112  145\n",
       "4 ENSMUSG00000000031    0    0    0    0    0    0\n",
       "5 ENSMUSG00000000037    5    5    8    7   10    8\n",
       "6 ENSMUSG00000000049    0    0    0    0    0    2"
      ]
     },
     "metadata": {},
     "output_type": "display_data"
    }
   ],
   "source": [
    "counts = read.csv(file = \"GSE105128_genecount.csv\")\n",
    "head(counts)"
   ]
  },
  {
   "cell_type": "markdown",
   "metadata": {},
   "source": [
    "Data are produced by extracting mRNA, and sequencing them. This produces a lot of small fragments of 15-150 bp. The fragments are stored in a FastQ file (a FASTA file with a quality value for all fragments) that evalutas the confidency of the sequencer in every single nucleotide with a single ascii code.\n",
    "\n",
    "ENS before gene names indicates Ensembl files. Number are gene expression counts, that are the number of reads (fragments) that maps within the gene."
   ]
  },
  {
   "cell_type": "code",
   "execution_count": 2,
   "metadata": {},
   "outputs": [
    {
     "name": "stderr",
     "output_type": "stream",
     "text": [
      "Loading required package: limma\n",
      "Loading required package: AnnotationDbi\n",
      "Loading required package: stats4\n",
      "Loading required package: BiocGenerics\n",
      "Loading required package: parallel\n",
      "\n",
      "Attaching package: ‘BiocGenerics’\n",
      "\n",
      "The following objects are masked from ‘package:parallel’:\n",
      "\n",
      "    clusterApply, clusterApplyLB, clusterCall, clusterEvalQ,\n",
      "    clusterExport, clusterMap, parApply, parCapply, parLapply,\n",
      "    parLapplyLB, parRapply, parSapply, parSapplyLB\n",
      "\n",
      "The following object is masked from ‘package:limma’:\n",
      "\n",
      "    plotMA\n",
      "\n",
      "The following objects are masked from ‘package:stats’:\n",
      "\n",
      "    IQR, mad, sd, var, xtabs\n",
      "\n",
      "The following objects are masked from ‘package:base’:\n",
      "\n",
      "    anyDuplicated, append, as.data.frame, basename, cbind, colnames,\n",
      "    dirname, do.call, duplicated, eval, evalq, Filter, Find, get, grep,\n",
      "    grepl, intersect, is.unsorted, lapply, Map, mapply, match, mget,\n",
      "    order, paste, pmax, pmax.int, pmin, pmin.int, Position, rank,\n",
      "    rbind, Reduce, rownames, sapply, setdiff, sort, table, tapply,\n",
      "    union, unique, unsplit, which, which.max, which.min\n",
      "\n",
      "Loading required package: Biobase\n",
      "Welcome to Bioconductor\n",
      "\n",
      "    Vignettes contain introductory material; view with\n",
      "    'browseVignettes()'. To cite Bioconductor, see\n",
      "    'citation(\"Biobase\")', and for packages 'citation(\"pkgname\")'.\n",
      "\n",
      "Loading required package: IRanges\n",
      "Loading required package: S4Vectors\n",
      "\n",
      "Attaching package: ‘S4Vectors’\n",
      "\n",
      "The following object is masked from ‘package:base’:\n",
      "\n",
      "    expand.grid\n",
      "\n",
      "\n",
      "── \u001b[1mAttaching packages\u001b[22m ─────────────────────────────────────── tidyverse 1.3.0 ──\n",
      "\u001b[32m✔\u001b[39m \u001b[34mggplot2\u001b[39m 3.2.1     \u001b[32m✔\u001b[39m \u001b[34mpurrr  \u001b[39m 0.3.3\n",
      "\u001b[32m✔\u001b[39m \u001b[34mtibble \u001b[39m 2.1.3     \u001b[32m✔\u001b[39m \u001b[34mdplyr  \u001b[39m 0.8.3\n",
      "\u001b[32m✔\u001b[39m \u001b[34mtidyr  \u001b[39m 1.0.0     \u001b[32m✔\u001b[39m \u001b[34mstringr\u001b[39m 1.4.0\n",
      "\u001b[32m✔\u001b[39m \u001b[34mreadr  \u001b[39m 1.3.1     \u001b[32m✔\u001b[39m \u001b[34mforcats\u001b[39m 0.4.0\n",
      "── \u001b[1mConflicts\u001b[22m ────────────────────────────────────────── tidyverse_conflicts() ──\n",
      "\u001b[31m✖\u001b[39m \u001b[34mdplyr\u001b[39m::\u001b[32mcollapse()\u001b[39m   masks \u001b[34mIRanges\u001b[39m::collapse()\n",
      "\u001b[31m✖\u001b[39m \u001b[34mdplyr\u001b[39m::\u001b[32mcombine()\u001b[39m    masks \u001b[34mBiobase\u001b[39m::combine(), \u001b[34mBiocGenerics\u001b[39m::combine()\n",
      "\u001b[31m✖\u001b[39m \u001b[34mdplyr\u001b[39m::\u001b[32mdesc()\u001b[39m       masks \u001b[34mIRanges\u001b[39m::desc()\n",
      "\u001b[31m✖\u001b[39m \u001b[34mtidyr\u001b[39m::\u001b[32mexpand()\u001b[39m     masks \u001b[34mS4Vectors\u001b[39m::expand()\n",
      "\u001b[31m✖\u001b[39m \u001b[34mdplyr\u001b[39m::\u001b[32mfilter()\u001b[39m     masks \u001b[34mstats\u001b[39m::filter()\n",
      "\u001b[31m✖\u001b[39m \u001b[34mdplyr\u001b[39m::\u001b[32mfirst()\u001b[39m      masks \u001b[34mS4Vectors\u001b[39m::first()\n",
      "\u001b[31m✖\u001b[39m \u001b[34mdplyr\u001b[39m::\u001b[32mlag()\u001b[39m        masks \u001b[34mstats\u001b[39m::lag()\n",
      "\u001b[31m✖\u001b[39m \u001b[34mggplot2\u001b[39m::\u001b[32mPosition()\u001b[39m masks \u001b[34mBiocGenerics\u001b[39m::Position(), \u001b[34mbase\u001b[39m::Position()\n",
      "\u001b[31m✖\u001b[39m \u001b[34mpurrr\u001b[39m::\u001b[32mreduce()\u001b[39m     masks \u001b[34mIRanges\u001b[39m::reduce()\n",
      "\u001b[31m✖\u001b[39m \u001b[34mdplyr\u001b[39m::\u001b[32mrename()\u001b[39m     masks \u001b[34mS4Vectors\u001b[39m::rename()\n",
      "\u001b[31m✖\u001b[39m \u001b[34mdplyr\u001b[39m::\u001b[32mselect()\u001b[39m     masks \u001b[34mAnnotationDbi\u001b[39m::select()\n",
      "\u001b[31m✖\u001b[39m \u001b[34mdplyr\u001b[39m::\u001b[32mslice()\u001b[39m      masks \u001b[34mIRanges\u001b[39m::slice()\n"
     ]
    }
   ],
   "source": [
    "#load libraries:\n",
    "library(edgeR)  #for differential expression normalization and filtering\n",
    "library(org.Mm.eg.db) # annotation of mouse genome\n",
    "library(tidyverse)"
   ]
  },
  {
   "cell_type": "markdown",
   "metadata": {},
   "source": [
    "### Assigning groups for edgeR:\n",
    "* 1 -> WT\n",
    "* 2 -> KO"
   ]
  },
  {
   "cell_type": "code",
   "execution_count": 3,
   "metadata": {},
   "outputs": [],
   "source": [
    "# assign every experiment to the proper group (control, knockout)\n",
    "\n",
    "groups = factor (c(1,1,1,2,2,2))\n",
    "\n",
    "# create edgeR proprietary data structure\n",
    "data = DGEList(counts = counts[,2:7], \n",
    "                 group = groups,\n",
    "                 genes = counts$geneName)"
   ]
  },
  {
   "cell_type": "code",
   "execution_count": 4,
   "metadata": {},
   "outputs": [
    {
     "data": {
      "text/html": [
       "<table>\n",
       "<caption>A matrix: 6 × 6 of type dbl</caption>\n",
       "<thead>\n",
       "\t<tr><th scope=col>WT1</th><th scope=col>WT2</th><th scope=col>WT3</th><th scope=col>KO1</th><th scope=col>KO2</th><th scope=col>KO3</th></tr>\n",
       "</thead>\n",
       "<tbody>\n",
       "\t<tr><td>200.1362550</td><td>210.3085367</td><td>224.5494594</td><td>229.2458367</td><td>242.607649</td><td>249.9375838</td></tr>\n",
       "\t<tr><td>  0.0000000</td><td>  0.0000000</td><td>  0.0000000</td><td>  0.0000000</td><td>  0.000000</td><td>  0.0000000</td></tr>\n",
       "\t<tr><td> 15.5397587</td><td> 12.5733268</td><td>  9.4169034</td><td>  9.7213726</td><td> 11.251369</td><td> 13.1881185</td></tr>\n",
       "\t<tr><td>  0.0000000</td><td>  0.0000000</td><td>  0.0000000</td><td>  0.0000000</td><td>  0.000000</td><td>  0.0000000</td></tr>\n",
       "\t<tr><td>  0.4948968</td><td>  0.4911456</td><td>  0.7766518</td><td>  0.6943838</td><td>  1.004587</td><td>  0.7276203</td></tr>\n",
       "\t<tr><td>  0.0000000</td><td>  0.0000000</td><td>  0.0000000</td><td>  0.0000000</td><td>  0.000000</td><td>  0.1819051</td></tr>\n",
       "</tbody>\n",
       "</table>\n"
      ],
      "text/latex": [
       "A matrix: 6 × 6 of type dbl\n",
       "\\begin{tabular}{r|llllll}\n",
       " WT1 & WT2 & WT3 & KO1 & KO2 & KO3\\\\\n",
       "\\hline\n",
       "\t 200.1362550 & 210.3085367 & 224.5494594 & 229.2458367 & 242.607649 & 249.9375838\\\\\n",
       "\t   0.0000000 &   0.0000000 &   0.0000000 &   0.0000000 &   0.000000 &   0.0000000\\\\\n",
       "\t  15.5397587 &  12.5733268 &   9.4169034 &   9.7213726 &  11.251369 &  13.1881185\\\\\n",
       "\t   0.0000000 &   0.0000000 &   0.0000000 &   0.0000000 &   0.000000 &   0.0000000\\\\\n",
       "\t   0.4948968 &   0.4911456 &   0.7766518 &   0.6943838 &   1.004587 &   0.7276203\\\\\n",
       "\t   0.0000000 &   0.0000000 &   0.0000000 &   0.0000000 &   0.000000 &   0.1819051\\\\\n",
       "\\end{tabular}\n"
      ],
      "text/markdown": [
       "\n",
       "A matrix: 6 × 6 of type dbl\n",
       "\n",
       "| WT1 | WT2 | WT3 | KO1 | KO2 | KO3 |\n",
       "|---|---|---|---|---|---|\n",
       "| 200.1362550 | 210.3085367 | 224.5494594 | 229.2458367 | 242.607649 | 249.9375838 |\n",
       "|   0.0000000 |   0.0000000 |   0.0000000 |   0.0000000 |   0.000000 |   0.0000000 |\n",
       "|  15.5397587 |  12.5733268 |   9.4169034 |   9.7213726 |  11.251369 |  13.1881185 |\n",
       "|   0.0000000 |   0.0000000 |   0.0000000 |   0.0000000 |   0.000000 |   0.0000000 |\n",
       "|   0.4948968 |   0.4911456 |   0.7766518 |   0.6943838 |   1.004587 |   0.7276203 |\n",
       "|   0.0000000 |   0.0000000 |   0.0000000 |   0.0000000 |   0.000000 |   0.1819051 |\n",
       "\n"
      ],
      "text/plain": [
       "  WT1         WT2         WT3         KO1         KO2        KO3        \n",
       "1 200.1362550 210.3085367 224.5494594 229.2458367 242.607649 249.9375838\n",
       "2   0.0000000   0.0000000   0.0000000   0.0000000   0.000000   0.0000000\n",
       "3  15.5397587  12.5733268   9.4169034   9.7213726  11.251369  13.1881185\n",
       "4   0.0000000   0.0000000   0.0000000   0.0000000   0.000000   0.0000000\n",
       "5   0.4948968   0.4911456   0.7766518   0.6943838   1.004587   0.7276203\n",
       "6   0.0000000   0.0000000   0.0000000   0.0000000   0.000000   0.1819051"
      ]
     },
     "metadata": {},
     "output_type": "display_data"
    }
   ],
   "source": [
    "#perform a rough normalization, dividing by library size, and multiplying by 10^6.\n",
    "cpm(data)  %>%\n",
    "head() #count per million\n",
    "CPM <- cpm(data)\n",
    "\n"
   ]
  },
  {
   "cell_type": "code",
   "execution_count": 5,
   "metadata": {},
   "outputs": [
    {
     "data": {
      "image/png": "[encoded data removed]",
      "text/plain": [
       "Plot with title “Cluster Dendrogram”"
      ]
     },
     "metadata": {},
     "output_type": "display_data"
    }
   ],
   "source": [
    "#calculate distance matrix between the experiments\n",
    "dist <- dist(t(cpm(data)))\n",
    "\n",
    "#clustering distance datas\n",
    "hclust <- hclust(d = dist)\n",
    "\n",
    "par(mfrow = c(1,2))\n",
    "plot(hclust)\n",
    "#multidimensional scaling plot, for same analysis\n",
    "plotMDS(data)"
   ]
  },
  {
   "cell_type": "code",
   "execution_count": 6,
   "metadata": {},
   "outputs": [],
   "source": [
    "# annotation, and looking for the KEP1 gene:\n",
    "# maps from Ensembl ID and EntrezGene ID can be performed with\n",
    "\n",
    "ens.eg <- as.list(org.Mm.egENSEMBL2EG) #ensembl-> EG\n",
    "eg.sym <- as.list(org.Mm.egSYMBOL)   #gene Symbols -> EG\n",
    "\n",
    "# head(ens.eg)\n",
    "# head(eg.sym)"
   ]
  },
  {
   "cell_type": "code",
   "execution_count": 7,
   "metadata": {},
   "outputs": [
    {
     "data": {
      "text/html": [
       "0"
      ],
      "text/latex": [
       "0"
      ],
      "text/markdown": [
       "0"
      ],
      "text/plain": [
       "[1] 0"
      ]
     },
     "metadata": {},
     "output_type": "display_data"
    }
   ],
   "source": [
    "sum(eg.sym == \"Kap1\")\n",
    "\n",
    "#There is no Kap1! Google search find many alias names, and Kap1 is an alias for TRIM28"
   ]
  },
  {
   "cell_type": "code",
   "execution_count": 8,
   "metadata": {},
   "outputs": [
    {
     "data": {
      "text/html": [
       "1"
      ],
      "text/latex": [
       "1"
      ],
      "text/markdown": [
       "1"
      ],
      "text/plain": [
       "[1] 1"
      ]
     },
     "metadata": {},
     "output_type": "display_data"
    }
   ],
   "source": [
    "sum(eg.sym == \"Trim28\")\n",
    "#Here it is!"
   ]
  },
  {
   "cell_type": "code",
   "execution_count": 9,
   "metadata": {},
   "outputs": [
    {
     "data": {
      "text/html": [
       "<strong>$`21849`</strong> = 'Trim28'"
      ],
      "text/latex": [
       "\\textbf{\\$`21849`} = 'Trim28'"
      ],
      "text/markdown": [
       "**$`21849`** = 'Trim28'"
      ],
      "text/plain": [
       "$`21849`\n",
       "[1] \"Trim28\"\n"
      ]
     },
     "metadata": {},
     "output_type": "display_data"
    }
   ],
   "source": [
    "eg.sym[eg.sym==\"Trim28\"]  #... we find the Entrez Gene ID number..."
   ]
  },
  {
   "cell_type": "code",
   "execution_count": 10,
   "metadata": {},
   "outputs": [
    {
     "data": {
      "text/html": [
       "<strong>$ENSMUSG00000005566</strong> = '21849'"
      ],
      "text/latex": [
       "\\textbf{\\$ENSMUSG00000005566} = '21849'"
      ],
      "text/markdown": [
       "**$ENSMUSG00000005566** = '21849'"
      ],
      "text/plain": [
       "$ENSMUSG00000005566\n",
       "[1] \"21849\"\n"
      ]
     },
     "metadata": {},
     "output_type": "display_data"
    }
   ],
   "source": [
    "ens.eg[ens.eg == names(eg.sym[eg.sym == \"Trim28\"])] #...and finally the Ensemble ID."
   ]
  },
  {
   "cell_type": "code",
   "execution_count": 11,
   "metadata": {},
   "outputs": [],
   "source": [
    "kap1 = \"ENSMUSG00000005566\""
   ]
  },
  {
   "cell_type": "code",
   "execution_count": 12,
   "metadata": {},
   "outputs": [],
   "source": [
    "# create a CPM dataframe, attach gene names\n",
    "CPM <- as.data.frame(CPM)\n",
    "CPM$genes = counts$geneName"
   ]
  },
  {
   "cell_type": "code",
   "execution_count": 30,
   "metadata": {},
   "outputs": [
    {
     "data": {
      "image/png": "[encoded data removed]",
      "text/plain": [
       "Plot with title “Kap1”"
      ]
     },
     "metadata": {},
     "output_type": "display_data"
    }
   ],
   "source": [
    "barplot(as.matrix((CPM[CPM$genes == kap1,1:6])), main = \"Kap1\")"
   ]
  },
  {
   "cell_type": "code",
   "execution_count": 14,
   "metadata": {},
   "outputs": [],
   "source": [
    "#So, let's fix data.\n",
    "#correct grouping:\n",
    "\n",
    "groups2 = factor (c(1,1,2,2,2,1))  # new groups!\n",
    "\n",
    "# create edgeR proprietary data structure\n",
    "# with the same function\n",
    "\n",
    "data2 = DGEList(counts = counts[,2:7], \n",
    "                 group = groups2,\n",
    "                 genes = counts$geneName)\n",
    "\n",
    "#perform a rough normalization, dividing by library size, and multiplying by 10^6.\n",
    "#cpm(data2)\n",
    "\n",
    "CPM2 <- cpm(data2)\n"
   ]
  },
  {
   "cell_type": "markdown",
   "metadata": {},
   "source": [
    "Normalization. We add a `norm.factor` to the sample field of our DGE List."
   ]
  },
  {
   "cell_type": "code",
   "execution_count": 15,
   "metadata": {},
   "outputs": [],
   "source": [
    "data2 <- calcNormFactors(data2)\n"
   ]
  },
  {
   "cell_type": "markdown",
   "metadata": {},
   "source": [
    "Create a design matrix, to state the groups of the study, in a contrast object."
   ]
  },
  {
   "cell_type": "code",
   "execution_count": 16,
   "metadata": {},
   "outputs": [
    {
     "data": {
      "text/html": [
       "<table>\n",
       "<caption>A matrix: 6 × 2 of type dbl</caption>\n",
       "<thead>\n",
       "\t<tr><th scope=col>(Intercept)</th><th scope=col>groups22</th></tr>\n",
       "</thead>\n",
       "<tbody>\n",
       "\t<tr><td>1</td><td>0</td></tr>\n",
       "\t<tr><td>1</td><td>0</td></tr>\n",
       "\t<tr><td>1</td><td>1</td></tr>\n",
       "\t<tr><td>1</td><td>1</td></tr>\n",
       "\t<tr><td>1</td><td>1</td></tr>\n",
       "\t<tr><td>1</td><td>0</td></tr>\n",
       "</tbody>\n",
       "</table>\n"
      ],
      "text/latex": [
       "A matrix: 6 × 2 of type dbl\n",
       "\\begin{tabular}{r|ll}\n",
       " (Intercept) & groups22\\\\\n",
       "\\hline\n",
       "\t 1 & 0\\\\\n",
       "\t 1 & 0\\\\\n",
       "\t 1 & 1\\\\\n",
       "\t 1 & 1\\\\\n",
       "\t 1 & 1\\\\\n",
       "\t 1 & 0\\\\\n",
       "\\end{tabular}\n"
      ],
      "text/markdown": [
       "\n",
       "A matrix: 6 × 2 of type dbl\n",
       "\n",
       "| (Intercept) | groups22 |\n",
       "|---|---|\n",
       "| 1 | 0 |\n",
       "| 1 | 0 |\n",
       "| 1 | 1 |\n",
       "| 1 | 1 |\n",
       "| 1 | 1 |\n",
       "| 1 | 0 |\n",
       "\n"
      ],
      "text/plain": [
       "  (Intercept) groups22\n",
       "1 1           0       \n",
       "2 1           0       \n",
       "3 1           1       \n",
       "4 1           1       \n",
       "5 1           1       \n",
       "6 1           0       "
      ]
     },
     "metadata": {},
     "output_type": "display_data"
    }
   ],
   "source": [
    "design = model.matrix(~groups2)\n",
    "design"
   ]
  },
  {
   "cell_type": "markdown",
   "metadata": {},
   "source": [
    "Estimate the dispersion: an edgeR function to build the linear models to calculate the fold-change. Variability is higher for less dispersed data. It will use different corrections on different data, to make it less stringent. The aim is to calculate the fold-change. All info are attached to the dataset."
   ]
  },
  {
   "cell_type": "code",
   "execution_count": 17,
   "metadata": {},
   "outputs": [],
   "source": [
    "data2 <- estimateDisp(data2, design)"
   ]
  },
  {
   "cell_type": "code",
   "execution_count": 18,
   "metadata": {},
   "outputs": [
    {
     "data": {
      "text/html": [
       "<ol class=list-inline>\n",
       "\t<li>'counts'</li>\n",
       "\t<li>'samples'</li>\n",
       "\t<li>'genes'</li>\n",
       "\t<li>'design'</li>\n",
       "\t<li>'common.dispersion'</li>\n",
       "\t<li>'trended.dispersion'</li>\n",
       "\t<li>'tagwise.dispersion'</li>\n",
       "\t<li>'AveLogCPM'</li>\n",
       "\t<li>'trend.method'</li>\n",
       "\t<li>'prior.df'</li>\n",
       "\t<li>'prior.n'</li>\n",
       "\t<li>'span'</li>\n",
       "</ol>\n"
      ],
      "text/latex": [
       "\\begin{enumerate*}\n",
       "\\item 'counts'\n",
       "\\item 'samples'\n",
       "\\item 'genes'\n",
       "\\item 'design'\n",
       "\\item 'common.dispersion'\n",
       "\\item 'trended.dispersion'\n",
       "\\item 'tagwise.dispersion'\n",
       "\\item 'AveLogCPM'\n",
       "\\item 'trend.method'\n",
       "\\item 'prior.df'\n",
       "\\item 'prior.n'\n",
       "\\item 'span'\n",
       "\\end{enumerate*}\n"
      ],
      "text/markdown": [
       "1. 'counts'\n",
       "2. 'samples'\n",
       "3. 'genes'\n",
       "4. 'design'\n",
       "5. 'common.dispersion'\n",
       "6. 'trended.dispersion'\n",
       "7. 'tagwise.dispersion'\n",
       "8. 'AveLogCPM'\n",
       "9. 'trend.method'\n",
       "10. 'prior.df'\n",
       "11. 'prior.n'\n",
       "12. 'span'\n",
       "\n",
       "\n"
      ],
      "text/plain": [
       " [1] \"counts\"             \"samples\"            \"genes\"             \n",
       " [4] \"design\"             \"common.dispersion\"  \"trended.dispersion\"\n",
       " [7] \"tagwise.dispersion\" \"AveLogCPM\"          \"trend.method\"      \n",
       "[10] \"prior.df\"           \"prior.n\"            \"span\"              "
      ]
     },
     "metadata": {},
     "output_type": "display_data"
    }
   ],
   "source": [
    "names(data2) # attached informations"
   ]
  },
  {
   "cell_type": "markdown",
   "metadata": {},
   "source": [
    "We then apply a GLM."
   ]
  },
  {
   "cell_type": "code",
   "execution_count": 19,
   "metadata": {},
   "outputs": [],
   "source": [
    "fit <- glmQLFit(data2, design) # fitting the model\n",
    "qlf <- glmQLFTest(fit, coef=2) # statistical test"
   ]
  },
  {
   "cell_type": "markdown",
   "metadata": {},
   "source": [
    "topTags will show us the result of the fitting ina DGEGLM object."
   ]
  },
  {
   "cell_type": "code",
   "execution_count": 20,
   "metadata": {},
   "outputs": [
    {
     "data": {
      "text/html": [
       "<dl>\n",
       "\t<dt>$table</dt>\n",
       "\t\t<dd><table>\n",
       "<caption>A data.frame: 10 × 6</caption>\n",
       "<thead>\n",
       "\t<tr><th></th><th scope=col>genes</th><th scope=col>logFC</th><th scope=col>logCPM</th><th scope=col>F</th><th scope=col>PValue</th><th scope=col>FDR</th></tr>\n",
       "\t<tr><th></th><th scope=col>&lt;fct&gt;</th><th scope=col>&lt;dbl&gt;</th><th scope=col>&lt;dbl&gt;</th><th scope=col>&lt;dbl&gt;</th><th scope=col>&lt;dbl&gt;</th><th scope=col>&lt;dbl&gt;</th></tr>\n",
       "</thead>\n",
       "<tbody>\n",
       "\t<tr><th scope=row>15325</th><td>ENSMUSG00000051726</td><td> 5.339874</td><td>6.756629</td><td>2950.7837</td><td>3.347345e-55</td><td>1.271690e-50</td></tr>\n",
       "\t<tr><th scope=row>5260</th><td>ENSMUSG00000025885</td><td>10.329885</td><td>6.489680</td><td>2811.8579</td><td>1.512093e-54</td><td>2.872295e-50</td></tr>\n",
       "\t<tr><th scope=row>870</th><td>ENSMUSG00000005566</td><td>-3.509059</td><td>7.027317</td><td>2068.2475</td><td>2.151825e-50</td><td>2.725000e-46</td></tr>\n",
       "\t<tr><th scope=row>7928</th><td>ENSMUSG00000030553</td><td> 3.109103</td><td>7.105370</td><td>1824.6874</td><td>1.039514e-48</td><td>9.873045e-45</td></tr>\n",
       "\t<tr><th scope=row>341</th><td>ENSMUSG00000001918</td><td>-2.212505</td><td>8.034318</td><td>1233.4925</td><td>1.699502e-43</td><td>1.291316e-39</td></tr>\n",
       "\t<tr><th scope=row>7575</th><td>ENSMUSG00000029833</td><td> 2.149791</td><td>7.883337</td><td> 986.8285</td><td>1.442083e-40</td><td>9.131027e-37</td></tr>\n",
       "\t<tr><th scope=row>16665</th><td>ENSMUSG00000057409</td><td> 1.851938</td><td>7.642062</td><td> 852.0912</td><td>1.162126e-38</td><td>6.307192e-35</td></tr>\n",
       "\t<tr><th scope=row>2009</th><td>ENSMUSG00000018800</td><td> 4.312535</td><td>4.397721</td><td> 847.9831</td><td>1.341827e-38</td><td>6.372171e-35</td></tr>\n",
       "\t<tr><th scope=row>12833</th><td>ENSMUSG00000043008</td><td> 1.837532</td><td>9.162491</td><td> 737.9876</td><td>8.195244e-37</td><td>3.459395e-33</td></tr>\n",
       "\t<tr><th scope=row>2051</th><td>ENSMUSG00000018995</td><td> 2.489607</td><td>5.473478</td><td> 716.5720</td><td>1.948422e-36</td><td>7.402249e-33</td></tr>\n",
       "</tbody>\n",
       "</table>\n",
       "</dd>\n",
       "\t<dt>$adjust.method</dt>\n",
       "\t\t<dd>'BH'</dd>\n",
       "\t<dt>$comparison</dt>\n",
       "\t\t<dd>'groups22'</dd>\n",
       "\t<dt>$test</dt>\n",
       "\t\t<dd>'glm'</dd>\n",
       "</dl>\n"
      ],
      "text/latex": [
       "\\begin{description}\n",
       "\\item[\\$table] A data.frame: 10 × 6\n",
       "\\begin{tabular}{r|llllll}\n",
       "  & genes & logFC & logCPM & F & PValue & FDR\\\\\n",
       "  & <fct> & <dbl> & <dbl> & <dbl> & <dbl> & <dbl>\\\\\n",
       "\\hline\n",
       "\t15325 & ENSMUSG00000051726 &  5.339874 & 6.756629 & 2950.7837 & 3.347345e-55 & 1.271690e-50\\\\\n",
       "\t5260 & ENSMUSG00000025885 & 10.329885 & 6.489680 & 2811.8579 & 1.512093e-54 & 2.872295e-50\\\\\n",
       "\t870 & ENSMUSG00000005566 & -3.509059 & 7.027317 & 2068.2475 & 2.151825e-50 & 2.725000e-46\\\\\n",
       "\t7928 & ENSMUSG00000030553 &  3.109103 & 7.105370 & 1824.6874 & 1.039514e-48 & 9.873045e-45\\\\\n",
       "\t341 & ENSMUSG00000001918 & -2.212505 & 8.034318 & 1233.4925 & 1.699502e-43 & 1.291316e-39\\\\\n",
       "\t7575 & ENSMUSG00000029833 &  2.149791 & 7.883337 &  986.8285 & 1.442083e-40 & 9.131027e-37\\\\\n",
       "\t16665 & ENSMUSG00000057409 &  1.851938 & 7.642062 &  852.0912 & 1.162126e-38 & 6.307192e-35\\\\\n",
       "\t2009 & ENSMUSG00000018800 &  4.312535 & 4.397721 &  847.9831 & 1.341827e-38 & 6.372171e-35\\\\\n",
       "\t12833 & ENSMUSG00000043008 &  1.837532 & 9.162491 &  737.9876 & 8.195244e-37 & 3.459395e-33\\\\\n",
       "\t2051 & ENSMUSG00000018995 &  2.489607 & 5.473478 &  716.5720 & 1.948422e-36 & 7.402249e-33\\\\\n",
       "\\end{tabular}\n",
       "\n",
       "\\item[\\$adjust.method] 'BH'\n",
       "\\item[\\$comparison] 'groups22'\n",
       "\\item[\\$test] 'glm'\n",
       "\\end{description}\n"
      ],
      "text/markdown": [
       "$table\n",
       ":   \n",
       "A data.frame: 10 × 6\n",
       "\n",
       "| <!--/--> | genes &lt;fct&gt; | logFC &lt;dbl&gt; | logCPM &lt;dbl&gt; | F &lt;dbl&gt; | PValue &lt;dbl&gt; | FDR &lt;dbl&gt; |\n",
       "|---|---|---|---|---|---|---|\n",
       "| 15325 | ENSMUSG00000051726 |  5.339874 | 6.756629 | 2950.7837 | 3.347345e-55 | 1.271690e-50 |\n",
       "| 5260 | ENSMUSG00000025885 | 10.329885 | 6.489680 | 2811.8579 | 1.512093e-54 | 2.872295e-50 |\n",
       "| 870 | ENSMUSG00000005566 | -3.509059 | 7.027317 | 2068.2475 | 2.151825e-50 | 2.725000e-46 |\n",
       "| 7928 | ENSMUSG00000030553 |  3.109103 | 7.105370 | 1824.6874 | 1.039514e-48 | 9.873045e-45 |\n",
       "| 341 | ENSMUSG00000001918 | -2.212505 | 8.034318 | 1233.4925 | 1.699502e-43 | 1.291316e-39 |\n",
       "| 7575 | ENSMUSG00000029833 |  2.149791 | 7.883337 |  986.8285 | 1.442083e-40 | 9.131027e-37 |\n",
       "| 16665 | ENSMUSG00000057409 |  1.851938 | 7.642062 |  852.0912 | 1.162126e-38 | 6.307192e-35 |\n",
       "| 2009 | ENSMUSG00000018800 |  4.312535 | 4.397721 |  847.9831 | 1.341827e-38 | 6.372171e-35 |\n",
       "| 12833 | ENSMUSG00000043008 |  1.837532 | 9.162491 |  737.9876 | 8.195244e-37 | 3.459395e-33 |\n",
       "| 2051 | ENSMUSG00000018995 |  2.489607 | 5.473478 |  716.5720 | 1.948422e-36 | 7.402249e-33 |\n",
       "\n",
       "\n",
       "$adjust.method\n",
       ":   'BH'\n",
       "$comparison\n",
       ":   'groups22'\n",
       "$test\n",
       ":   'glm'\n",
       "\n",
       "\n"
      ],
      "text/plain": [
       "Coefficient:  groups22 \n",
       "                   genes     logFC   logCPM         F       PValue          FDR\n",
       "15325 ENSMUSG00000051726  5.339874 6.756629 2950.7837 3.347345e-55 1.271690e-50\n",
       "5260  ENSMUSG00000025885 10.329885 6.489680 2811.8579 1.512093e-54 2.872295e-50\n",
       "870   ENSMUSG00000005566 -3.509059 7.027317 2068.2475 2.151825e-50 2.725000e-46\n",
       "7928  ENSMUSG00000030553  3.109103 7.105370 1824.6874 1.039514e-48 9.873045e-45\n",
       "341   ENSMUSG00000001918 -2.212505 8.034318 1233.4925 1.699502e-43 1.291316e-39\n",
       "7575  ENSMUSG00000029833  2.149791 7.883337  986.8285 1.442083e-40 9.131027e-37\n",
       "16665 ENSMUSG00000057409  1.851938 7.642062  852.0912 1.162126e-38 6.307192e-35\n",
       "2009  ENSMUSG00000018800  4.312535 4.397721  847.9831 1.341827e-38 6.372171e-35\n",
       "12833 ENSMUSG00000043008  1.837532 9.162491  737.9876 8.195244e-37 3.459395e-33\n",
       "2051  ENSMUSG00000018995  2.489607 5.473478  716.5720 1.948422e-36 7.402249e-33"
      ]
     },
     "metadata": {},
     "output_type": "display_data"
    }
   ],
   "source": [
    "topTags(qlf)"
   ]
  },
  {
   "cell_type": "markdown",
   "metadata": {},
   "source": [
    "Other statistical test:"
   ]
  },
  {
   "cell_type": "code",
   "execution_count": 21,
   "metadata": {},
   "outputs": [],
   "source": [
    "lrt <- glmLRT(fit) # linearized test, RTFM.\n"
   ]
  },
  {
   "cell_type": "code",
   "execution_count": 22,
   "metadata": {},
   "outputs": [],
   "source": [
    "ttags <- topTags(lrt) # gene per gene FoldChange - CountsPerMillion - LR(?) - PValue significance"
   ]
  },
  {
   "cell_type": "code",
   "execution_count": null,
   "metadata": {},
   "outputs": [],
   "source": []
  },
  {
   "cell_type": "code",
   "execution_count": 23,
   "metadata": {},
   "outputs": [
    {
     "data": {
      "text/html": [
       "4.77969642039313e-138"
      ],
      "text/latex": [
       "4.77969642039313e-138"
      ],
      "text/markdown": [
       "4.77969642039313e-138"
      ],
      "text/plain": [
       "[1] 4.779696e-138"
      ]
     },
     "metadata": {},
     "output_type": "display_data"
    }
   ],
   "source": [
    "max(ttags$table$FDR)"
   ]
  },
  {
   "cell_type": "code",
   "execution_count": 31,
   "metadata": {},
   "outputs": [
    {
     "data": {
      "text/html": [
       "<ol class=list-inline>\n",
       "\t<li>728</li>\n",
       "\t<li>6</li>\n",
       "</ol>\n"
      ],
      "text/latex": [
       "\\begin{enumerate*}\n",
       "\\item 728\n",
       "\\item 6\n",
       "\\end{enumerate*}\n"
      ],
      "text/markdown": [
       "1. 728\n",
       "2. 6\n",
       "\n",
       "\n"
      ],
      "text/plain": [
       "[1] 728   6"
      ]
     },
     "metadata": {},
     "output_type": "display_data"
    }
   ],
   "source": [
    "dim(topTags(lrt, p.value = 0.01, n=999999999))\n",
    "res <- topTags(lrt, p.value = 0.01, n=999999999)"
   ]
  },
  {
   "cell_type": "code",
   "execution_count": 32,
   "metadata": {},
   "outputs": [
    {
     "data": {
      "text/html": [
       "<table>\n",
       "<caption>A data.frame: 728 × 6</caption>\n",
       "<thead>\n",
       "\t<tr><th></th><th scope=col>genes</th><th scope=col>logFC</th><th scope=col>logCPM</th><th scope=col>LR</th><th scope=col>PValue</th><th scope=col>FDR</th></tr>\n",
       "\t<tr><th></th><th scope=col>&lt;fct&gt;</th><th scope=col>&lt;dbl&gt;</th><th scope=col>&lt;dbl&gt;</th><th scope=col>&lt;dbl&gt;</th><th scope=col>&lt;dbl&gt;</th><th scope=col>&lt;dbl&gt;</th></tr>\n",
       "</thead>\n",
       "<tbody>\n",
       "\t<tr><th scope=row>5260</th><td>ENSMUSG00000025885</td><td>10.329885</td><td>6.489680</td><td>2639.7591</td><td> 0.000000e+00</td><td> 0.000000e+00</td></tr>\n",
       "\t<tr><th scope=row>15325</th><td>ENSMUSG00000051726</td><td> 5.339874</td><td>6.756629</td><td>2135.3697</td><td> 0.000000e+00</td><td> 0.000000e+00</td></tr>\n",
       "\t<tr><th scope=row>870</th><td>ENSMUSG00000005566</td><td>-3.509059</td><td>7.027317</td><td>1385.2840</td><td>3.313289e-303</td><td>4.195839e-299</td></tr>\n",
       "\t<tr><th scope=row>7928</th><td>ENSMUSG00000030553</td><td> 3.109103</td><td>7.105370</td><td>1179.3873</td><td>1.840963e-258</td><td>1.748501e-254</td></tr>\n",
       "\t<tr><th scope=row>956</th><td>ENSMUSG00000006154</td><td>-5.872378</td><td>4.924604</td><td>1050.5702</td><td>1.829721e-230</td><td>1.390259e-226</td></tr>\n",
       "\t<tr><th scope=row>341</th><td>ENSMUSG00000001918</td><td>-2.212505</td><td>8.034318</td><td> 724.6855</td><td>1.281788e-159</td><td>8.116068e-156</td></tr>\n",
       "\t<tr><th scope=row>7575</th><td>ENSMUSG00000029833</td><td> 2.149791</td><td>7.883337</td><td> 681.8709</td><td>2.618574e-150</td><td>1.421175e-146</td></tr>\n",
       "\t<tr><th scope=row>2009</th><td>ENSMUSG00000018800</td><td> 4.312535</td><td>4.397721</td><td> 668.1751</td><td>2.491506e-147</td><td>1.183185e-143</td></tr>\n",
       "\t<tr><th scope=row>9792</th><td>ENSMUSG00000034634</td><td> 4.909676</td><td>4.092185</td><td> 649.8178</td><td>2.447585e-143</td><td>1.033180e-139</td></tr>\n",
       "\t<tr><th scope=row>8008</th><td>ENSMUSG00000030703</td><td>-3.969739</td><td>4.556763</td><td> 641.9506</td><td>1.258113e-141</td><td>4.779696e-138</td></tr>\n",
       "\t<tr><th scope=row>14666</th><td>ENSMUSG00000049436</td><td>10.706881</td><td>3.357133</td><td> 576.8953</td><td>1.775910e-127</td><td>6.133510e-124</td></tr>\n",
       "\t<tr><th scope=row>35916</th><td>ENSMUSG00000091679</td><td> 4.413335</td><td>4.016612</td><td> 570.0820</td><td>5.388571e-126</td><td>1.705977e-122</td></tr>\n",
       "\t<tr><th scope=row>12833</th><td>ENSMUSG00000043008</td><td> 1.837532</td><td>9.162491</td><td> 554.1551</td><td>1.570731e-122</td><td>4.590280e-119</td></tr>\n",
       "\t<tr><th scope=row>34699</th><td>ENSMUSG00000090433</td><td>10.576623</td><td>3.227942</td><td> 535.4671</td><td>1.826261e-118</td><td>4.955819e-115</td></tr>\n",
       "\t<tr><th scope=row>16665</th><td>ENSMUSG00000057409</td><td> 1.851938</td><td>7.642062</td><td> 511.9608</td><td>2.374623e-113</td><td>6.014286e-110</td></tr>\n",
       "\t<tr><th scope=row>13306</th><td>ENSMUSG00000044678</td><td> 2.685969</td><td>5.250066</td><td> 503.5259</td><td>1.624853e-111</td><td>3.858112e-108</td></tr>\n",
       "\t<tr><th scope=row>2051</th><td>ENSMUSG00000018995</td><td> 2.489607</td><td>5.473478</td><td> 495.8682</td><td>7.532965e-110</td><td>1.683440e-106</td></tr>\n",
       "\t<tr><th scope=row>681</th><td>ENSMUSG00000004113</td><td> 6.533757</td><td>3.262734</td><td> 490.8348</td><td>9.379219e-109</td><td>1.979588e-105</td></tr>\n",
       "\t<tr><th scope=row>15118</th><td>ENSMUSG00000051000</td><td> 2.928490</td><td>4.783032</td><td> 484.7358</td><td>1.991859e-107</td><td>3.982775e-104</td></tr>\n",
       "\t<tr><th scope=row>4583</th><td>ENSMUSG00000024561</td><td> 1.617837</td><td>7.751648</td><td> 401.2899</td><td> 2.884939e-89</td><td> 5.480086e-86</td></tr>\n",
       "\t<tr><th scope=row>18067</th><td>ENSMUSG00000062908</td><td> 1.866838</td><td>6.091116</td><td> 393.1326</td><td> 1.721484e-87</td><td> 3.114328e-84</td></tr>\n",
       "\t<tr><th scope=row>9614</th><td>ENSMUSG00000034156</td><td> 1.820716</td><td>6.219831</td><td> 391.3237</td><td> 4.263008e-87</td><td> 7.361634e-84</td></tr>\n",
       "\t<tr><th scope=row>2353</th><td>ENSMUSG00000020142</td><td> 4.313773</td><td>3.350503</td><td> 389.2055</td><td> 1.232633e-86</td><td> 2.036042e-83</td></tr>\n",
       "\t<tr><th scope=row>11992</th><td>ENSMUSG00000040498</td><td> 1.760245</td><td>6.246852</td><td> 370.7950</td><td> 1.256318e-82</td><td> 1.988699e-79</td></tr>\n",
       "\t<tr><th scope=row>5137</th><td>ENSMUSG00000025558</td><td> 1.514451</td><td>6.905846</td><td> 326.5807</td><td> 5.339853e-73</td><td> 8.114655e-70</td></tr>\n",
       "\t<tr><th scope=row>12077</th><td>ENSMUSG00000040703</td><td> 2.560123</td><td>4.290027</td><td> 325.9239</td><td> 7.422982e-73</td><td> 1.084640e-69</td></tr>\n",
       "\t<tr><th scope=row>514</th><td>ENSMUSG00000002980</td><td>-4.290043</td><td>3.037729</td><td> 314.9106</td><td> 1.860003e-70</td><td> 2.617161e-67</td></tr>\n",
       "\t<tr><th scope=row>15368</th><td>ENSMUSG00000051934</td><td> 4.481318</td><td>2.871152</td><td> 304.6839</td><td> 3.142988e-68</td><td> 4.264473e-65</td></tr>\n",
       "\t<tr><th scope=row>1039</th><td>ENSMUSG00000006587</td><td> 3.072343</td><td>3.511285</td><td> 287.4700</td><td> 1.769379e-64</td><td> 2.317948e-61</td></tr>\n",
       "\t<tr><th scope=row>5767</th><td>ENSMUSG00000026767</td><td> 1.515696</td><td>6.286881</td><td> 284.8622</td><td> 6.547509e-64</td><td> 8.291547e-61</td></tr>\n",
       "\t<tr><th scope=row>⋮</th><td>⋮</td><td>⋮</td><td>⋮</td><td>⋮</td><td>⋮</td><td>⋮</td></tr>\n",
       "\t<tr><th scope=row>5113</th><td>ENSMUSG00000025508</td><td>-0.2943407</td><td> 7.9946632</td><td>14.32930</td><td>0.0001534574</td><td>0.008333004</td></tr>\n",
       "\t<tr><th scope=row>12046</th><td>ENSMUSG00000040627</td><td>-3.5295380</td><td>-1.0877292</td><td>14.32830</td><td>0.0001535391</td><td>0.008333004</td></tr>\n",
       "\t<tr><th scope=row>7896</th><td>ENSMUSG00000030499</td><td> 1.6811940</td><td> 0.1844143</td><td>14.26673</td><td>0.0001586440</td><td>0.008597783</td></tr>\n",
       "\t<tr><th scope=row>6879</th><td>ENSMUSG00000028698</td><td>-0.5028969</td><td> 4.0321715</td><td>14.25866</td><td>0.0001593263</td><td>0.008622461</td></tr>\n",
       "\t<tr><th scope=row>8715</th><td>ENSMUSG00000031955</td><td>-4.8993405</td><td>-1.4218893</td><td>14.24056</td><td>0.0001608657</td><td>0.008693382</td></tr>\n",
       "\t<tr><th scope=row>4827</th><td>ENSMUSG00000024989</td><td>-0.6678789</td><td> 2.9526757</td><td>14.23268</td><td>0.0001615410</td><td>0.008717477</td></tr>\n",
       "\t<tr><th scope=row>5271</th><td>ENSMUSG00000025903</td><td> 0.3147532</td><td> 6.6304422</td><td>14.22734</td><td>0.0001619999</td><td>0.008729841</td></tr>\n",
       "\t<tr><th scope=row>2597</th><td>ENSMUSG00000020547</td><td>-0.3026718</td><td> 7.0380662</td><td>14.20625</td><td>0.0001638252</td><td>0.008815701</td></tr>\n",
       "\t<tr><th scope=row>4139</th><td>ENSMUSG00000023341</td><td>-0.5785663</td><td> 3.4733748</td><td>14.19708</td><td>0.0001646262</td><td>0.008844353</td></tr>\n",
       "\t<tr><th scope=row>11051</th><td>ENSMUSG00000038151</td><td>-0.4770774</td><td> 4.2622037</td><td>14.19482</td><td>0.0001648233</td><td>0.008844353</td></tr>\n",
       "\t<tr><th scope=row>709</th><td>ENSMUSG00000004383</td><td> 1.7175294</td><td> 0.1210723</td><td>14.12972</td><td>0.0001706265</td><td>0.009142837</td></tr>\n",
       "\t<tr><th scope=row>16873</th><td>ENSMUSG00000058290</td><td>-0.5925010</td><td> 3.3691549</td><td>14.12430</td><td>0.0001711188</td><td>0.009156301</td></tr>\n",
       "\t<tr><th scope=row>22165</th><td>ENSMUSG00000074754</td><td> 0.7774459</td><td> 2.4348672</td><td>14.11279</td><td>0.0001721690</td><td>0.009199540</td></tr>\n",
       "\t<tr><th scope=row>1887</th><td>ENSMUSG00000018001</td><td>-0.2987692</td><td> 7.2377638</td><td>14.07806</td><td>0.0001753772</td><td>0.009357803</td></tr>\n",
       "\t<tr><th scope=row>16132</th><td>ENSMUSG00000055170</td><td>-1.3629448</td><td> 0.7551874</td><td>14.05559</td><td>0.0001774856</td><td>0.009457022</td></tr>\n",
       "\t<tr><th scope=row>18270</th><td>ENSMUSG00000063714</td><td> 0.8488457</td><td> 2.1426429</td><td>14.05135</td><td>0.0001778864</td><td>0.009464449</td></tr>\n",
       "\t<tr><th scope=row>1587</th><td>ENSMUSG00000015243</td><td> 0.4206623</td><td> 4.9140938</td><td>14.04701</td><td>0.0001782972</td><td>0.009464449</td></tr>\n",
       "\t<tr><th scope=row>1686</th><td>ENSMUSG00000015944</td><td> 0.3494554</td><td> 5.8611746</td><td>14.04622</td><td>0.0001783724</td><td>0.009464449</td></tr>\n",
       "\t<tr><th scope=row>6407</th><td>ENSMUSG00000027907</td><td>-0.4736792</td><td> 4.2647403</td><td>14.00397</td><td>0.0001824252</td><td>0.009665992</td></tr>\n",
       "\t<tr><th scope=row>21382</th><td>ENSMUSG00000073062</td><td> 0.5413728</td><td> 3.6783336</td><td>13.99412</td><td>0.0001833828</td><td>0.009703196</td></tr>\n",
       "\t<tr><th scope=row>8445</th><td>ENSMUSG00000031520</td><td>-2.9832572</td><td>-0.9011113</td><td>13.99065</td><td>0.0001837221</td><td>0.009705333</td></tr>\n",
       "\t<tr><th scope=row>7321</th><td>ENSMUSG00000029414</td><td>-0.5441622</td><td> 3.6707717</td><td>13.98848</td><td>0.0001839341</td><td>0.009705333</td></tr>\n",
       "\t<tr><th scope=row>8705</th><td>ENSMUSG00000031937</td><td> 2.9984253</td><td>-0.9450743</td><td>13.98207</td><td>0.0001845623</td><td>0.009724976</td></tr>\n",
       "\t<tr><th scope=row>29579</th><td>ENSMUSG00000084812</td><td> 2.9977189</td><td>-0.9451339</td><td>13.97479</td><td>0.0001852782</td><td>0.009742637</td></tr>\n",
       "\t<tr><th scope=row>18219</th><td>ENSMUSG00000063524</td><td> 0.3209409</td><td> 6.3765318</td><td>13.97345</td><td>0.0001854104</td><td>0.009742637</td></tr>\n",
       "\t<tr><th scope=row>12549</th><td>ENSMUSG00000042195</td><td> 0.4690306</td><td> 4.2983524</td><td>13.96368</td><td>0.0001863770</td><td>0.009779899</td></tr>\n",
       "\t<tr><th scope=row>6280</th><td>ENSMUSG00000027669</td><td> 0.3355876</td><td> 6.0540411</td><td>13.94507</td><td>0.0001882303</td><td>0.009863526</td></tr>\n",
       "\t<tr><th scope=row>11104</th><td>ENSMUSG00000038252</td><td>-0.3182610</td><td> 6.4428674</td><td>13.93473</td><td>0.0001892685</td><td>0.009904268</td></tr>\n",
       "\t<tr><th scope=row>8749</th><td>ENSMUSG00000032000</td><td> 0.2934742</td><td> 7.5767249</td><td>13.91883</td><td>0.0001908766</td><td>0.009974681</td></tr>\n",
       "\t<tr><th scope=row>2653</th><td>ENSMUSG00000020644</td><td>-0.4630412</td><td> 4.3588663</td><td>13.91181</td><td>0.0001915905</td><td>0.009998233</td></tr>\n",
       "</tbody>\n",
       "</table>\n"
      ],
      "text/latex": [
       "A data.frame: 728 × 6\n",
       "\\begin{tabular}{r|llllll}\n",
       "  & genes & logFC & logCPM & LR & PValue & FDR\\\\\n",
       "  & <fct> & <dbl> & <dbl> & <dbl> & <dbl> & <dbl>\\\\\n",
       "\\hline\n",
       "\t5260 & ENSMUSG00000025885 & 10.329885 & 6.489680 & 2639.7591 &  0.000000e+00 &  0.000000e+00\\\\\n",
       "\t15325 & ENSMUSG00000051726 &  5.339874 & 6.756629 & 2135.3697 &  0.000000e+00 &  0.000000e+00\\\\\n",
       "\t870 & ENSMUSG00000005566 & -3.509059 & 7.027317 & 1385.2840 & 3.313289e-303 & 4.195839e-299\\\\\n",
       "\t7928 & ENSMUSG00000030553 &  3.109103 & 7.105370 & 1179.3873 & 1.840963e-258 & 1.748501e-254\\\\\n",
       "\t956 & ENSMUSG00000006154 & -5.872378 & 4.924604 & 1050.5702 & 1.829721e-230 & 1.390259e-226\\\\\n",
       "\t341 & ENSMUSG00000001918 & -2.212505 & 8.034318 &  724.6855 & 1.281788e-159 & 8.116068e-156\\\\\n",
       "\t7575 & ENSMUSG00000029833 &  2.149791 & 7.883337 &  681.8709 & 2.618574e-150 & 1.421175e-146\\\\\n",
       "\t2009 & ENSMUSG00000018800 &  4.312535 & 4.397721 &  668.1751 & 2.491506e-147 & 1.183185e-143\\\\\n",
       "\t9792 & ENSMUSG00000034634 &  4.909676 & 4.092185 &  649.8178 & 2.447585e-143 & 1.033180e-139\\\\\n",
       "\t8008 & ENSMUSG00000030703 & -3.969739 & 4.556763 &  641.9506 & 1.258113e-141 & 4.779696e-138\\\\\n",
       "\t14666 & ENSMUSG00000049436 & 10.706881 & 3.357133 &  576.8953 & 1.775910e-127 & 6.133510e-124\\\\\n",
       "\t35916 & ENSMUSG00000091679 &  4.413335 & 4.016612 &  570.0820 & 5.388571e-126 & 1.705977e-122\\\\\n",
       "\t12833 & ENSMUSG00000043008 &  1.837532 & 9.162491 &  554.1551 & 1.570731e-122 & 4.590280e-119\\\\\n",
       "\t34699 & ENSMUSG00000090433 & 10.576623 & 3.227942 &  535.4671 & 1.826261e-118 & 4.955819e-115\\\\\n",
       "\t16665 & ENSMUSG00000057409 &  1.851938 & 7.642062 &  511.9608 & 2.374623e-113 & 6.014286e-110\\\\\n",
       "\t13306 & ENSMUSG00000044678 &  2.685969 & 5.250066 &  503.5259 & 1.624853e-111 & 3.858112e-108\\\\\n",
       "\t2051 & ENSMUSG00000018995 &  2.489607 & 5.473478 &  495.8682 & 7.532965e-110 & 1.683440e-106\\\\\n",
       "\t681 & ENSMUSG00000004113 &  6.533757 & 3.262734 &  490.8348 & 9.379219e-109 & 1.979588e-105\\\\\n",
       "\t15118 & ENSMUSG00000051000 &  2.928490 & 4.783032 &  484.7358 & 1.991859e-107 & 3.982775e-104\\\\\n",
       "\t4583 & ENSMUSG00000024561 &  1.617837 & 7.751648 &  401.2899 &  2.884939e-89 &  5.480086e-86\\\\\n",
       "\t18067 & ENSMUSG00000062908 &  1.866838 & 6.091116 &  393.1326 &  1.721484e-87 &  3.114328e-84\\\\\n",
       "\t9614 & ENSMUSG00000034156 &  1.820716 & 6.219831 &  391.3237 &  4.263008e-87 &  7.361634e-84\\\\\n",
       "\t2353 & ENSMUSG00000020142 &  4.313773 & 3.350503 &  389.2055 &  1.232633e-86 &  2.036042e-83\\\\\n",
       "\t11992 & ENSMUSG00000040498 &  1.760245 & 6.246852 &  370.7950 &  1.256318e-82 &  1.988699e-79\\\\\n",
       "\t5137 & ENSMUSG00000025558 &  1.514451 & 6.905846 &  326.5807 &  5.339853e-73 &  8.114655e-70\\\\\n",
       "\t12077 & ENSMUSG00000040703 &  2.560123 & 4.290027 &  325.9239 &  7.422982e-73 &  1.084640e-69\\\\\n",
       "\t514 & ENSMUSG00000002980 & -4.290043 & 3.037729 &  314.9106 &  1.860003e-70 &  2.617161e-67\\\\\n",
       "\t15368 & ENSMUSG00000051934 &  4.481318 & 2.871152 &  304.6839 &  3.142988e-68 &  4.264473e-65\\\\\n",
       "\t1039 & ENSMUSG00000006587 &  3.072343 & 3.511285 &  287.4700 &  1.769379e-64 &  2.317948e-61\\\\\n",
       "\t5767 & ENSMUSG00000026767 &  1.515696 & 6.286881 &  284.8622 &  6.547509e-64 &  8.291547e-61\\\\\n",
       "\t⋮ & ⋮ & ⋮ & ⋮ & ⋮ & ⋮ & ⋮\\\\\n",
       "\t5113 & ENSMUSG00000025508 & -0.2943407 &  7.9946632 & 14.32930 & 0.0001534574 & 0.008333004\\\\\n",
       "\t12046 & ENSMUSG00000040627 & -3.5295380 & -1.0877292 & 14.32830 & 0.0001535391 & 0.008333004\\\\\n",
       "\t7896 & ENSMUSG00000030499 &  1.6811940 &  0.1844143 & 14.26673 & 0.0001586440 & 0.008597783\\\\\n",
       "\t6879 & ENSMUSG00000028698 & -0.5028969 &  4.0321715 & 14.25866 & 0.0001593263 & 0.008622461\\\\\n",
       "\t8715 & ENSMUSG00000031955 & -4.8993405 & -1.4218893 & 14.24056 & 0.0001608657 & 0.008693382\\\\\n",
       "\t4827 & ENSMUSG00000024989 & -0.6678789 &  2.9526757 & 14.23268 & 0.0001615410 & 0.008717477\\\\\n",
       "\t5271 & ENSMUSG00000025903 &  0.3147532 &  6.6304422 & 14.22734 & 0.0001619999 & 0.008729841\\\\\n",
       "\t2597 & ENSMUSG00000020547 & -0.3026718 &  7.0380662 & 14.20625 & 0.0001638252 & 0.008815701\\\\\n",
       "\t4139 & ENSMUSG00000023341 & -0.5785663 &  3.4733748 & 14.19708 & 0.0001646262 & 0.008844353\\\\\n",
       "\t11051 & ENSMUSG00000038151 & -0.4770774 &  4.2622037 & 14.19482 & 0.0001648233 & 0.008844353\\\\\n",
       "\t709 & ENSMUSG00000004383 &  1.7175294 &  0.1210723 & 14.12972 & 0.0001706265 & 0.009142837\\\\\n",
       "\t16873 & ENSMUSG00000058290 & -0.5925010 &  3.3691549 & 14.12430 & 0.0001711188 & 0.009156301\\\\\n",
       "\t22165 & ENSMUSG00000074754 &  0.7774459 &  2.4348672 & 14.11279 & 0.0001721690 & 0.009199540\\\\\n",
       "\t1887 & ENSMUSG00000018001 & -0.2987692 &  7.2377638 & 14.07806 & 0.0001753772 & 0.009357803\\\\\n",
       "\t16132 & ENSMUSG00000055170 & -1.3629448 &  0.7551874 & 14.05559 & 0.0001774856 & 0.009457022\\\\\n",
       "\t18270 & ENSMUSG00000063714 &  0.8488457 &  2.1426429 & 14.05135 & 0.0001778864 & 0.009464449\\\\\n",
       "\t1587 & ENSMUSG00000015243 &  0.4206623 &  4.9140938 & 14.04701 & 0.0001782972 & 0.009464449\\\\\n",
       "\t1686 & ENSMUSG00000015944 &  0.3494554 &  5.8611746 & 14.04622 & 0.0001783724 & 0.009464449\\\\\n",
       "\t6407 & ENSMUSG00000027907 & -0.4736792 &  4.2647403 & 14.00397 & 0.0001824252 & 0.009665992\\\\\n",
       "\t21382 & ENSMUSG00000073062 &  0.5413728 &  3.6783336 & 13.99412 & 0.0001833828 & 0.009703196\\\\\n",
       "\t8445 & ENSMUSG00000031520 & -2.9832572 & -0.9011113 & 13.99065 & 0.0001837221 & 0.009705333\\\\\n",
       "\t7321 & ENSMUSG00000029414 & -0.5441622 &  3.6707717 & 13.98848 & 0.0001839341 & 0.009705333\\\\\n",
       "\t8705 & ENSMUSG00000031937 &  2.9984253 & -0.9450743 & 13.98207 & 0.0001845623 & 0.009724976\\\\\n",
       "\t29579 & ENSMUSG00000084812 &  2.9977189 & -0.9451339 & 13.97479 & 0.0001852782 & 0.009742637\\\\\n",
       "\t18219 & ENSMUSG00000063524 &  0.3209409 &  6.3765318 & 13.97345 & 0.0001854104 & 0.009742637\\\\\n",
       "\t12549 & ENSMUSG00000042195 &  0.4690306 &  4.2983524 & 13.96368 & 0.0001863770 & 0.009779899\\\\\n",
       "\t6280 & ENSMUSG00000027669 &  0.3355876 &  6.0540411 & 13.94507 & 0.0001882303 & 0.009863526\\\\\n",
       "\t11104 & ENSMUSG00000038252 & -0.3182610 &  6.4428674 & 13.93473 & 0.0001892685 & 0.009904268\\\\\n",
       "\t8749 & ENSMUSG00000032000 &  0.2934742 &  7.5767249 & 13.91883 & 0.0001908766 & 0.009974681\\\\\n",
       "\t2653 & ENSMUSG00000020644 & -0.4630412 &  4.3588663 & 13.91181 & 0.0001915905 & 0.009998233\\\\\n",
       "\\end{tabular}\n"
      ],
      "text/markdown": [
       "\n",
       "A data.frame: 728 × 6\n",
       "\n",
       "| <!--/--> | genes &lt;fct&gt; | logFC &lt;dbl&gt; | logCPM &lt;dbl&gt; | LR &lt;dbl&gt; | PValue &lt;dbl&gt; | FDR &lt;dbl&gt; |\n",
       "|---|---|---|---|---|---|---|\n",
       "| 5260 | ENSMUSG00000025885 | 10.329885 | 6.489680 | 2639.7591 |  0.000000e+00 |  0.000000e+00 |\n",
       "| 15325 | ENSMUSG00000051726 |  5.339874 | 6.756629 | 2135.3697 |  0.000000e+00 |  0.000000e+00 |\n",
       "| 870 | ENSMUSG00000005566 | -3.509059 | 7.027317 | 1385.2840 | 3.313289e-303 | 4.195839e-299 |\n",
       "| 7928 | ENSMUSG00000030553 |  3.109103 | 7.105370 | 1179.3873 | 1.840963e-258 | 1.748501e-254 |\n",
       "| 956 | ENSMUSG00000006154 | -5.872378 | 4.924604 | 1050.5702 | 1.829721e-230 | 1.390259e-226 |\n",
       "| 341 | ENSMUSG00000001918 | -2.212505 | 8.034318 |  724.6855 | 1.281788e-159 | 8.116068e-156 |\n",
       "| 7575 | ENSMUSG00000029833 |  2.149791 | 7.883337 |  681.8709 | 2.618574e-150 | 1.421175e-146 |\n",
       "| 2009 | ENSMUSG00000018800 |  4.312535 | 4.397721 |  668.1751 | 2.491506e-147 | 1.183185e-143 |\n",
       "| 9792 | ENSMUSG00000034634 |  4.909676 | 4.092185 |  649.8178 | 2.447585e-143 | 1.033180e-139 |\n",
       "| 8008 | ENSMUSG00000030703 | -3.969739 | 4.556763 |  641.9506 | 1.258113e-141 | 4.779696e-138 |\n",
       "| 14666 | ENSMUSG00000049436 | 10.706881 | 3.357133 |  576.8953 | 1.775910e-127 | 6.133510e-124 |\n",
       "| 35916 | ENSMUSG00000091679 |  4.413335 | 4.016612 |  570.0820 | 5.388571e-126 | 1.705977e-122 |\n",
       "| 12833 | ENSMUSG00000043008 |  1.837532 | 9.162491 |  554.1551 | 1.570731e-122 | 4.590280e-119 |\n",
       "| 34699 | ENSMUSG00000090433 | 10.576623 | 3.227942 |  535.4671 | 1.826261e-118 | 4.955819e-115 |\n",
       "| 16665 | ENSMUSG00000057409 |  1.851938 | 7.642062 |  511.9608 | 2.374623e-113 | 6.014286e-110 |\n",
       "| 13306 | ENSMUSG00000044678 |  2.685969 | 5.250066 |  503.5259 | 1.624853e-111 | 3.858112e-108 |\n",
       "| 2051 | ENSMUSG00000018995 |  2.489607 | 5.473478 |  495.8682 | 7.532965e-110 | 1.683440e-106 |\n",
       "| 681 | ENSMUSG00000004113 |  6.533757 | 3.262734 |  490.8348 | 9.379219e-109 | 1.979588e-105 |\n",
       "| 15118 | ENSMUSG00000051000 |  2.928490 | 4.783032 |  484.7358 | 1.991859e-107 | 3.982775e-104 |\n",
       "| 4583 | ENSMUSG00000024561 |  1.617837 | 7.751648 |  401.2899 |  2.884939e-89 |  5.480086e-86 |\n",
       "| 18067 | ENSMUSG00000062908 |  1.866838 | 6.091116 |  393.1326 |  1.721484e-87 |  3.114328e-84 |\n",
       "| 9614 | ENSMUSG00000034156 |  1.820716 | 6.219831 |  391.3237 |  4.263008e-87 |  7.361634e-84 |\n",
       "| 2353 | ENSMUSG00000020142 |  4.313773 | 3.350503 |  389.2055 |  1.232633e-86 |  2.036042e-83 |\n",
       "| 11992 | ENSMUSG00000040498 |  1.760245 | 6.246852 |  370.7950 |  1.256318e-82 |  1.988699e-79 |\n",
       "| 5137 | ENSMUSG00000025558 |  1.514451 | 6.905846 |  326.5807 |  5.339853e-73 |  8.114655e-70 |\n",
       "| 12077 | ENSMUSG00000040703 |  2.560123 | 4.290027 |  325.9239 |  7.422982e-73 |  1.084640e-69 |\n",
       "| 514 | ENSMUSG00000002980 | -4.290043 | 3.037729 |  314.9106 |  1.860003e-70 |  2.617161e-67 |\n",
       "| 15368 | ENSMUSG00000051934 |  4.481318 | 2.871152 |  304.6839 |  3.142988e-68 |  4.264473e-65 |\n",
       "| 1039 | ENSMUSG00000006587 |  3.072343 | 3.511285 |  287.4700 |  1.769379e-64 |  2.317948e-61 |\n",
       "| 5767 | ENSMUSG00000026767 |  1.515696 | 6.286881 |  284.8622 |  6.547509e-64 |  8.291547e-61 |\n",
       "| ⋮ | ⋮ | ⋮ | ⋮ | ⋮ | ⋮ | ⋮ |\n",
       "| 5113 | ENSMUSG00000025508 | -0.2943407 |  7.9946632 | 14.32930 | 0.0001534574 | 0.008333004 |\n",
       "| 12046 | ENSMUSG00000040627 | -3.5295380 | -1.0877292 | 14.32830 | 0.0001535391 | 0.008333004 |\n",
       "| 7896 | ENSMUSG00000030499 |  1.6811940 |  0.1844143 | 14.26673 | 0.0001586440 | 0.008597783 |\n",
       "| 6879 | ENSMUSG00000028698 | -0.5028969 |  4.0321715 | 14.25866 | 0.0001593263 | 0.008622461 |\n",
       "| 8715 | ENSMUSG00000031955 | -4.8993405 | -1.4218893 | 14.24056 | 0.0001608657 | 0.008693382 |\n",
       "| 4827 | ENSMUSG00000024989 | -0.6678789 |  2.9526757 | 14.23268 | 0.0001615410 | 0.008717477 |\n",
       "| 5271 | ENSMUSG00000025903 |  0.3147532 |  6.6304422 | 14.22734 | 0.0001619999 | 0.008729841 |\n",
       "| 2597 | ENSMUSG00000020547 | -0.3026718 |  7.0380662 | 14.20625 | 0.0001638252 | 0.008815701 |\n",
       "| 4139 | ENSMUSG00000023341 | -0.5785663 |  3.4733748 | 14.19708 | 0.0001646262 | 0.008844353 |\n",
       "| 11051 | ENSMUSG00000038151 | -0.4770774 |  4.2622037 | 14.19482 | 0.0001648233 | 0.008844353 |\n",
       "| 709 | ENSMUSG00000004383 |  1.7175294 |  0.1210723 | 14.12972 | 0.0001706265 | 0.009142837 |\n",
       "| 16873 | ENSMUSG00000058290 | -0.5925010 |  3.3691549 | 14.12430 | 0.0001711188 | 0.009156301 |\n",
       "| 22165 | ENSMUSG00000074754 |  0.7774459 |  2.4348672 | 14.11279 | 0.0001721690 | 0.009199540 |\n",
       "| 1887 | ENSMUSG00000018001 | -0.2987692 |  7.2377638 | 14.07806 | 0.0001753772 | 0.009357803 |\n",
       "| 16132 | ENSMUSG00000055170 | -1.3629448 |  0.7551874 | 14.05559 | 0.0001774856 | 0.009457022 |\n",
       "| 18270 | ENSMUSG00000063714 |  0.8488457 |  2.1426429 | 14.05135 | 0.0001778864 | 0.009464449 |\n",
       "| 1587 | ENSMUSG00000015243 |  0.4206623 |  4.9140938 | 14.04701 | 0.0001782972 | 0.009464449 |\n",
       "| 1686 | ENSMUSG00000015944 |  0.3494554 |  5.8611746 | 14.04622 | 0.0001783724 | 0.009464449 |\n",
       "| 6407 | ENSMUSG00000027907 | -0.4736792 |  4.2647403 | 14.00397 | 0.0001824252 | 0.009665992 |\n",
       "| 21382 | ENSMUSG00000073062 |  0.5413728 |  3.6783336 | 13.99412 | 0.0001833828 | 0.009703196 |\n",
       "| 8445 | ENSMUSG00000031520 | -2.9832572 | -0.9011113 | 13.99065 | 0.0001837221 | 0.009705333 |\n",
       "| 7321 | ENSMUSG00000029414 | -0.5441622 |  3.6707717 | 13.98848 | 0.0001839341 | 0.009705333 |\n",
       "| 8705 | ENSMUSG00000031937 |  2.9984253 | -0.9450743 | 13.98207 | 0.0001845623 | 0.009724976 |\n",
       "| 29579 | ENSMUSG00000084812 |  2.9977189 | -0.9451339 | 13.97479 | 0.0001852782 | 0.009742637 |\n",
       "| 18219 | ENSMUSG00000063524 |  0.3209409 |  6.3765318 | 13.97345 | 0.0001854104 | 0.009742637 |\n",
       "| 12549 | ENSMUSG00000042195 |  0.4690306 |  4.2983524 | 13.96368 | 0.0001863770 | 0.009779899 |\n",
       "| 6280 | ENSMUSG00000027669 |  0.3355876 |  6.0540411 | 13.94507 | 0.0001882303 | 0.009863526 |\n",
       "| 11104 | ENSMUSG00000038252 | -0.3182610 |  6.4428674 | 13.93473 | 0.0001892685 | 0.009904268 |\n",
       "| 8749 | ENSMUSG00000032000 |  0.2934742 |  7.5767249 | 13.91883 | 0.0001908766 | 0.009974681 |\n",
       "| 2653 | ENSMUSG00000020644 | -0.4630412 |  4.3588663 | 13.91181 | 0.0001915905 | 0.009998233 |\n",
       "\n"
      ],
      "text/plain": [
       "      genes              logFC      logCPM     LR        PValue       \n",
       "5260  ENSMUSG00000025885 10.329885  6.489680   2639.7591  0.000000e+00\n",
       "15325 ENSMUSG00000051726  5.339874  6.756629   2135.3697  0.000000e+00\n",
       "870   ENSMUSG00000005566 -3.509059  7.027317   1385.2840 3.313289e-303\n",
       "7928  ENSMUSG00000030553  3.109103  7.105370   1179.3873 1.840963e-258\n",
       "956   ENSMUSG00000006154 -5.872378  4.924604   1050.5702 1.829721e-230\n",
       "341   ENSMUSG00000001918 -2.212505  8.034318    724.6855 1.281788e-159\n",
       "7575  ENSMUSG00000029833  2.149791  7.883337    681.8709 2.618574e-150\n",
       "2009  ENSMUSG00000018800  4.312535  4.397721    668.1751 2.491506e-147\n",
       "9792  ENSMUSG00000034634  4.909676  4.092185    649.8178 2.447585e-143\n",
       "8008  ENSMUSG00000030703 -3.969739  4.556763    641.9506 1.258113e-141\n",
       "14666 ENSMUSG00000049436 10.706881  3.357133    576.8953 1.775910e-127\n",
       "35916 ENSMUSG00000091679  4.413335  4.016612    570.0820 5.388571e-126\n",
       "12833 ENSMUSG00000043008  1.837532  9.162491    554.1551 1.570731e-122\n",
       "34699 ENSMUSG00000090433 10.576623  3.227942    535.4671 1.826261e-118\n",
       "16665 ENSMUSG00000057409  1.851938  7.642062    511.9608 2.374623e-113\n",
       "13306 ENSMUSG00000044678  2.685969  5.250066    503.5259 1.624853e-111\n",
       "2051  ENSMUSG00000018995  2.489607  5.473478    495.8682 7.532965e-110\n",
       "681   ENSMUSG00000004113  6.533757  3.262734    490.8348 9.379219e-109\n",
       "15118 ENSMUSG00000051000  2.928490  4.783032    484.7358 1.991859e-107\n",
       "4583  ENSMUSG00000024561  1.617837  7.751648    401.2899  2.884939e-89\n",
       "18067 ENSMUSG00000062908  1.866838  6.091116    393.1326  1.721484e-87\n",
       "9614  ENSMUSG00000034156  1.820716  6.219831    391.3237  4.263008e-87\n",
       "2353  ENSMUSG00000020142  4.313773  3.350503    389.2055  1.232633e-86\n",
       "11992 ENSMUSG00000040498  1.760245  6.246852    370.7950  1.256318e-82\n",
       "5137  ENSMUSG00000025558  1.514451  6.905846    326.5807  5.339853e-73\n",
       "12077 ENSMUSG00000040703  2.560123  4.290027    325.9239  7.422982e-73\n",
       "514   ENSMUSG00000002980 -4.290043  3.037729    314.9106  1.860003e-70\n",
       "15368 ENSMUSG00000051934  4.481318  2.871152    304.6839  3.142988e-68\n",
       "1039  ENSMUSG00000006587  3.072343  3.511285    287.4700  1.769379e-64\n",
       "5767  ENSMUSG00000026767  1.515696  6.286881    284.8622  6.547509e-64\n",
       "⋮     ⋮                  ⋮          ⋮          ⋮         ⋮            \n",
       "5113  ENSMUSG00000025508 -0.2943407  7.9946632 14.32930  0.0001534574 \n",
       "12046 ENSMUSG00000040627 -3.5295380 -1.0877292 14.32830  0.0001535391 \n",
       "7896  ENSMUSG00000030499  1.6811940  0.1844143 14.26673  0.0001586440 \n",
       "6879  ENSMUSG00000028698 -0.5028969  4.0321715 14.25866  0.0001593263 \n",
       "8715  ENSMUSG00000031955 -4.8993405 -1.4218893 14.24056  0.0001608657 \n",
       "4827  ENSMUSG00000024989 -0.6678789  2.9526757 14.23268  0.0001615410 \n",
       "5271  ENSMUSG00000025903  0.3147532  6.6304422 14.22734  0.0001619999 \n",
       "2597  ENSMUSG00000020547 -0.3026718  7.0380662 14.20625  0.0001638252 \n",
       "4139  ENSMUSG00000023341 -0.5785663  3.4733748 14.19708  0.0001646262 \n",
       "11051 ENSMUSG00000038151 -0.4770774  4.2622037 14.19482  0.0001648233 \n",
       "709   ENSMUSG00000004383  1.7175294  0.1210723 14.12972  0.0001706265 \n",
       "16873 ENSMUSG00000058290 -0.5925010  3.3691549 14.12430  0.0001711188 \n",
       "22165 ENSMUSG00000074754  0.7774459  2.4348672 14.11279  0.0001721690 \n",
       "1887  ENSMUSG00000018001 -0.2987692  7.2377638 14.07806  0.0001753772 \n",
       "16132 ENSMUSG00000055170 -1.3629448  0.7551874 14.05559  0.0001774856 \n",
       "18270 ENSMUSG00000063714  0.8488457  2.1426429 14.05135  0.0001778864 \n",
       "1587  ENSMUSG00000015243  0.4206623  4.9140938 14.04701  0.0001782972 \n",
       "1686  ENSMUSG00000015944  0.3494554  5.8611746 14.04622  0.0001783724 \n",
       "6407  ENSMUSG00000027907 -0.4736792  4.2647403 14.00397  0.0001824252 \n",
       "21382 ENSMUSG00000073062  0.5413728  3.6783336 13.99412  0.0001833828 \n",
       "8445  ENSMUSG00000031520 -2.9832572 -0.9011113 13.99065  0.0001837221 \n",
       "7321  ENSMUSG00000029414 -0.5441622  3.6707717 13.98848  0.0001839341 \n",
       "8705  ENSMUSG00000031937  2.9984253 -0.9450743 13.98207  0.0001845623 \n",
       "29579 ENSMUSG00000084812  2.9977189 -0.9451339 13.97479  0.0001852782 \n",
       "18219 ENSMUSG00000063524  0.3209409  6.3765318 13.97345  0.0001854104 \n",
       "12549 ENSMUSG00000042195  0.4690306  4.2983524 13.96368  0.0001863770 \n",
       "6280  ENSMUSG00000027669  0.3355876  6.0540411 13.94507  0.0001882303 \n",
       "11104 ENSMUSG00000038252 -0.3182610  6.4428674 13.93473  0.0001892685 \n",
       "8749  ENSMUSG00000032000  0.2934742  7.5767249 13.91883  0.0001908766 \n",
       "2653  ENSMUSG00000020644 -0.4630412  4.3588663 13.91181  0.0001915905 \n",
       "      FDR          \n",
       "5260   0.000000e+00\n",
       "15325  0.000000e+00\n",
       "870   4.195839e-299\n",
       "7928  1.748501e-254\n",
       "956   1.390259e-226\n",
       "341   8.116068e-156\n",
       "7575  1.421175e-146\n",
       "2009  1.183185e-143\n",
       "9792  1.033180e-139\n",
       "8008  4.779696e-138\n",
       "14666 6.133510e-124\n",
       "35916 1.705977e-122\n",
       "12833 4.590280e-119\n",
       "34699 4.955819e-115\n",
       "16665 6.014286e-110\n",
       "13306 3.858112e-108\n",
       "2051  1.683440e-106\n",
       "681   1.979588e-105\n",
       "15118 3.982775e-104\n",
       "4583   5.480086e-86\n",
       "18067  3.114328e-84\n",
       "9614   7.361634e-84\n",
       "2353   2.036042e-83\n",
       "11992  1.988699e-79\n",
       "5137   8.114655e-70\n",
       "12077  1.084640e-69\n",
       "514    2.617161e-67\n",
       "15368  4.264473e-65\n",
       "1039   2.317948e-61\n",
       "5767   8.291547e-61\n",
       "⋮     ⋮            \n",
       "5113  0.008333004  \n",
       "12046 0.008333004  \n",
       "7896  0.008597783  \n",
       "6879  0.008622461  \n",
       "8715  0.008693382  \n",
       "4827  0.008717477  \n",
       "5271  0.008729841  \n",
       "2597  0.008815701  \n",
       "4139  0.008844353  \n",
       "11051 0.008844353  \n",
       "709   0.009142837  \n",
       "16873 0.009156301  \n",
       "22165 0.009199540  \n",
       "1887  0.009357803  \n",
       "16132 0.009457022  \n",
       "18270 0.009464449  \n",
       "1587  0.009464449  \n",
       "1686  0.009464449  \n",
       "6407  0.009665992  \n",
       "21382 0.009703196  \n",
       "8445  0.009705333  \n",
       "7321  0.009705333  \n",
       "8705  0.009724976  \n",
       "29579 0.009742637  \n",
       "18219 0.009742637  \n",
       "12549 0.009779899  \n",
       "6280  0.009863526  \n",
       "11104 0.009904268  \n",
       "8749  0.009974681  \n",
       "2653  0.009998233  "
      ]
     },
     "metadata": {},
     "output_type": "display_data"
    }
   ],
   "source": [
    "res$table"
   ]
  },
  {
   "cell_type": "code",
   "execution_count": 26,
   "metadata": {},
   "outputs": [],
   "source": [
    "#attach the Entrez Gene ID name\n",
    "\n",
    "res.tab <- res$table\n",
    "res.tab$eg =   apply(res.tab, 1, function(x) as.character(ens.eg[x[1]]))\n",
    "res.tab$symb = apply(res.tab, 1, function(x) as.character(eg.sym[x[7]]))"
   ]
  },
  {
   "cell_type": "code",
   "execution_count": 27,
   "metadata": {},
   "outputs": [
    {
     "data": {
      "text/html": [
       "<table>\n",
       "<caption>A data.frame: 6 × 8</caption>\n",
       "<thead>\n",
       "\t<tr><th></th><th scope=col>genes</th><th scope=col>logFC</th><th scope=col>logCPM</th><th scope=col>LR</th><th scope=col>PValue</th><th scope=col>FDR</th><th scope=col>eg</th><th scope=col>symb</th></tr>\n",
       "\t<tr><th></th><th scope=col>&lt;fct&gt;</th><th scope=col>&lt;dbl&gt;</th><th scope=col>&lt;dbl&gt;</th><th scope=col>&lt;dbl&gt;</th><th scope=col>&lt;dbl&gt;</th><th scope=col>&lt;dbl&gt;</th><th scope=col>&lt;chr&gt;</th><th scope=col>&lt;chr&gt;</th></tr>\n",
       "</thead>\n",
       "<tbody>\n",
       "\t<tr><th scope=row>5260</th><td>ENSMUSG00000025885</td><td>10.329885</td><td>6.489680</td><td>2639.7591</td><td> 0.000000e+00</td><td> 0.000000e+00</td><td>17919 </td><td>Myo5b  </td></tr>\n",
       "\t<tr><th scope=row>15325</th><td>ENSMUSG00000051726</td><td> 5.339874</td><td>6.756629</td><td>2135.3697</td><td> 0.000000e+00</td><td> 0.000000e+00</td><td>382571</td><td>Kcnf1  </td></tr>\n",
       "\t<tr><th scope=row>870</th><td>ENSMUSG00000005566</td><td>-3.509059</td><td>7.027317</td><td>1385.2840</td><td>3.313289e-303</td><td>4.195839e-299</td><td>21849 </td><td>Trim28 </td></tr>\n",
       "\t<tr><th scope=row>7928</th><td>ENSMUSG00000030553</td><td> 3.109103</td><td>7.105370</td><td>1179.3873</td><td>1.840963e-258</td><td>1.748501e-254</td><td>78444 </td><td>Pgpep1l</td></tr>\n",
       "\t<tr><th scope=row>956</th><td>ENSMUSG00000006154</td><td>-5.872378</td><td>4.924604</td><td>1050.5702</td><td>1.829721e-230</td><td>1.390259e-226</td><td>67425 </td><td>Eps8l1 </td></tr>\n",
       "\t<tr><th scope=row>341</th><td>ENSMUSG00000001918</td><td>-2.212505</td><td>8.034318</td><td> 724.6855</td><td>1.281788e-159</td><td>8.116068e-156</td><td>20514 </td><td>Slc1a5 </td></tr>\n",
       "</tbody>\n",
       "</table>\n"
      ],
      "text/latex": [
       "A data.frame: 6 × 8\n",
       "\\begin{tabular}{r|llllllll}\n",
       "  & genes & logFC & logCPM & LR & PValue & FDR & eg & symb\\\\\n",
       "  & <fct> & <dbl> & <dbl> & <dbl> & <dbl> & <dbl> & <chr> & <chr>\\\\\n",
       "\\hline\n",
       "\t5260 & ENSMUSG00000025885 & 10.329885 & 6.489680 & 2639.7591 &  0.000000e+00 &  0.000000e+00 & 17919  & Myo5b  \\\\\n",
       "\t15325 & ENSMUSG00000051726 &  5.339874 & 6.756629 & 2135.3697 &  0.000000e+00 &  0.000000e+00 & 382571 & Kcnf1  \\\\\n",
       "\t870 & ENSMUSG00000005566 & -3.509059 & 7.027317 & 1385.2840 & 3.313289e-303 & 4.195839e-299 & 21849  & Trim28 \\\\\n",
       "\t7928 & ENSMUSG00000030553 &  3.109103 & 7.105370 & 1179.3873 & 1.840963e-258 & 1.748501e-254 & 78444  & Pgpep1l\\\\\n",
       "\t956 & ENSMUSG00000006154 & -5.872378 & 4.924604 & 1050.5702 & 1.829721e-230 & 1.390259e-226 & 67425  & Eps8l1 \\\\\n",
       "\t341 & ENSMUSG00000001918 & -2.212505 & 8.034318 &  724.6855 & 1.281788e-159 & 8.116068e-156 & 20514  & Slc1a5 \\\\\n",
       "\\end{tabular}\n"
      ],
      "text/markdown": [
       "\n",
       "A data.frame: 6 × 8\n",
       "\n",
       "| <!--/--> | genes &lt;fct&gt; | logFC &lt;dbl&gt; | logCPM &lt;dbl&gt; | LR &lt;dbl&gt; | PValue &lt;dbl&gt; | FDR &lt;dbl&gt; | eg &lt;chr&gt; | symb &lt;chr&gt; |\n",
       "|---|---|---|---|---|---|---|---|---|\n",
       "| 5260 | ENSMUSG00000025885 | 10.329885 | 6.489680 | 2639.7591 |  0.000000e+00 |  0.000000e+00 | 17919  | Myo5b   |\n",
       "| 15325 | ENSMUSG00000051726 |  5.339874 | 6.756629 | 2135.3697 |  0.000000e+00 |  0.000000e+00 | 382571 | Kcnf1   |\n",
       "| 870 | ENSMUSG00000005566 | -3.509059 | 7.027317 | 1385.2840 | 3.313289e-303 | 4.195839e-299 | 21849  | Trim28  |\n",
       "| 7928 | ENSMUSG00000030553 |  3.109103 | 7.105370 | 1179.3873 | 1.840963e-258 | 1.748501e-254 | 78444  | Pgpep1l |\n",
       "| 956 | ENSMUSG00000006154 | -5.872378 | 4.924604 | 1050.5702 | 1.829721e-230 | 1.390259e-226 | 67425  | Eps8l1  |\n",
       "| 341 | ENSMUSG00000001918 | -2.212505 | 8.034318 |  724.6855 | 1.281788e-159 | 8.116068e-156 | 20514  | Slc1a5  |\n",
       "\n"
      ],
      "text/plain": [
       "      genes              logFC     logCPM   LR        PValue       \n",
       "5260  ENSMUSG00000025885 10.329885 6.489680 2639.7591  0.000000e+00\n",
       "15325 ENSMUSG00000051726  5.339874 6.756629 2135.3697  0.000000e+00\n",
       "870   ENSMUSG00000005566 -3.509059 7.027317 1385.2840 3.313289e-303\n",
       "7928  ENSMUSG00000030553  3.109103 7.105370 1179.3873 1.840963e-258\n",
       "956   ENSMUSG00000006154 -5.872378 4.924604 1050.5702 1.829721e-230\n",
       "341   ENSMUSG00000001918 -2.212505 8.034318  724.6855 1.281788e-159\n",
       "      FDR           eg     symb   \n",
       "5260   0.000000e+00 17919  Myo5b  \n",
       "15325  0.000000e+00 382571 Kcnf1  \n",
       "870   4.195839e-299 21849  Trim28 \n",
       "7928  1.748501e-254 78444  Pgpep1l\n",
       "956   1.390259e-226 67425  Eps8l1 \n",
       "341   8.116068e-156 20514  Slc1a5 "
      ]
     },
     "metadata": {},
     "output_type": "display_data"
    }
   ],
   "source": [
    "head(res.tab)"
   ]
  },
  {
   "cell_type": "markdown",
   "metadata": {},
   "source": [
    "Trim28 is the most significant among those with a negative logFC. "
   ]
  },
  {
   "cell_type": "code",
   "execution_count": 28,
   "metadata": {},
   "outputs": [],
   "source": [
    "plot.gene = function (x){\n",
    "    id = names(ens.eg[ens.eg==names(eg.sym[(eg.sym==x)])])\n",
    "    if(length(id)==1) barplot(data[data$genes==id,]$counts, main=x)\n",
    "}"
   ]
  },
  {
   "cell_type": "code",
   "execution_count": 34,
   "metadata": {},
   "outputs": [
    {
     "data": {
      "image/png": "[encoded data removed]",
      "text/plain": [
       "Plot with title “Eps8l1”"
      ]
     },
     "metadata": {},
     "output_type": "display_data"
    }
   ],
   "source": [
    "par(mfrow=c(2,2))\n",
    "plot.gene(\"Myo5b\")\n",
    "plot.gene(\"Kcnf1\")\n",
    "plot.gene(\"Pgpep1l\")\n",
    "plot.gene(\"Eps8l1\")"
   ]
  },
  {
   "cell_type": "markdown",
   "metadata": {},
   "source": [
    "# Enrichment analysis"
   ]
  },
  {
   "cell_type": "markdown",
   "metadata": {},
   "source": [
    "by DAVID or Enrichr websites. Also GREAT from Bejerano lab, that takes coordinates, and do enrichment analysis on flanking regions. Useful also for immunoprecipitation (ChipSEQ).\n",
    "\n",
    "In R, with EdgeR, there is a simple function, that takes the fitting of the linear model as parameter.\n"
   ]
  },
  {
   "cell_type": "code",
   "execution_count": 36,
   "metadata": {},
   "outputs": [
    {
     "name": "stderr",
     "output_type": "stream",
     "text": [
      "\n"
     ]
    }
   ],
   "source": [
    "library(GO.db)\n",
    "\n",
    "#loads ontologies, that categorize genes by function"
   ]
  },
  {
   "cell_type": "code",
   "execution_count": 37,
   "metadata": {},
   "outputs": [],
   "source": [
    "#GO annotation\n",
    "\n",
    "goa = goana(lrt, species = \"Mm\", FRD=0.1)"
   ]
  },
  {
   "cell_type": "code",
   "execution_count": 41,
   "metadata": {},
   "outputs": [
    {
     "data": {
      "text/html": [
       "<table>\n",
       "<caption>A data.frame: 30 × 7</caption>\n",
       "<thead>\n",
       "\t<tr><th></th><th scope=col>Term</th><th scope=col>Ont</th><th scope=col>N</th><th scope=col>Up</th><th scope=col>Down</th><th scope=col>P.Up</th><th scope=col>P.Down</th></tr>\n",
       "\t<tr><th></th><th scope=col>&lt;chr&gt;</th><th scope=col>&lt;chr&gt;</th><th scope=col>&lt;dbl&gt;</th><th scope=col>&lt;dbl&gt;</th><th scope=col>&lt;dbl&gt;</th><th scope=col>&lt;dbl&gt;</th><th scope=col>&lt;dbl&gt;</th></tr>\n",
       "</thead>\n",
       "<tbody>\n",
       "\t<tr><th scope=row>GO:0090594</th><td>inflammatory response to wounding                                               </td><td>BP</td><td> 12</td><td> 5</td><td>0</td><td>6.874563e-07</td><td>1.00000000</td></tr>\n",
       "\t<tr><th scope=row>GO:0002246</th><td>wound healing involved in inflammatory response                                 </td><td>BP</td><td>  9</td><td> 4</td><td>0</td><td>7.284703e-06</td><td>1.00000000</td></tr>\n",
       "\t<tr><th scope=row>GO:0007059</th><td>chromosome segregation                                                          </td><td>BP</td><td> 87</td><td> 7</td><td>0</td><td>4.485695e-04</td><td>1.00000000</td></tr>\n",
       "\t<tr><th scope=row>GO:0019752</th><td>carboxylic acid metabolic process                                               </td><td>BP</td><td>400</td><td>16</td><td>9</td><td>5.798271e-04</td><td>0.01049496</td></tr>\n",
       "\t<tr><th scope=row>GO:0010762</th><td>regulation of fibroblast migration                                              </td><td>BP</td><td> 25</td><td> 4</td><td>1</td><td>6.001419e-04</td><td>0.20619631</td></tr>\n",
       "\t<tr><th scope=row>GO:0043436</th><td>oxoacid metabolic process                                                       </td><td>BP</td><td>410</td><td>16</td><td>9</td><td>7.578641e-04</td><td>0.01220996</td></tr>\n",
       "\t<tr><th scope=row>GO:0000245</th><td>spliceosomal complex assembly                                                   </td><td>BP</td><td> 12</td><td> 3</td><td>0</td><td>7.827459e-04</td><td>1.00000000</td></tr>\n",
       "\t<tr><th scope=row>GO:0006082</th><td>organic acid metabolic process                                                  </td><td>BP</td><td>421</td><td>16</td><td>9</td><td>1.005879e-03</td><td>0.01433154</td></tr>\n",
       "\t<tr><th scope=row>GO:0055114</th><td>oxidation-reduction process                                                     </td><td>BP</td><td>346</td><td>14</td><td>6</td><td>1.165289e-03</td><td>0.09711083</td></tr>\n",
       "\t<tr><th scope=row>GO:1902042</th><td>negative regulation of extrinsic apoptotic signaling pathway via death domain...</td><td>BP</td><td> 14</td><td> 3</td><td>0</td><td>1.265233e-03</td><td>1.00000000</td></tr>\n",
       "\t<tr><th scope=row>GO:0045930</th><td>negative regulation of mitotic cell cycle                                       </td><td>BP</td><td>105</td><td> 7</td><td>0</td><td>1.379868e-03</td><td>1.00000000</td></tr>\n",
       "\t<tr><th scope=row>GO:1903038</th><td>negative regulation of leukocyte cell-cell adhesion                             </td><td>BP</td><td> 78</td><td> 6</td><td>0</td><td>1.462911e-03</td><td>1.00000000</td></tr>\n",
       "\t<tr><th scope=row>GO:2000562</th><td>negative regulation of CD4-positive, alpha-beta T cell proliferation            </td><td>BP</td><td>  4</td><td> 2</td><td>0</td><td>1.480635e-03</td><td>1.00000000</td></tr>\n",
       "\t<tr><th scope=row>GO:0106014</th><td>regulation of inflammatory response to wounding                                 </td><td>BP</td><td>  4</td><td> 2</td><td>0</td><td>1.480635e-03</td><td>1.00000000</td></tr>\n",
       "\t<tr><th scope=row>GO:0050776</th><td>regulation of immune response                                                   </td><td>BP</td><td>399</td><td>15</td><td>3</td><td>1.622529e-03</td><td>0.71699400</td></tr>\n",
       "\t<tr><th scope=row>GO:0002695</th><td>negative regulation of leukocyte activation                                     </td><td>BP</td><td>108</td><td> 7</td><td>0</td><td>1.625316e-03</td><td>1.00000000</td></tr>\n",
       "\t<tr><th scope=row>GO:0007093</th><td>mitotic cell cycle checkpoint                                                   </td><td>BP</td><td> 55</td><td> 5</td><td>0</td><td>1.745985e-03</td><td>1.00000000</td></tr>\n",
       "\t<tr><th scope=row>GO:0010761</th><td>fibroblast migration                                                            </td><td>BP</td><td> 34</td><td> 4</td><td>1</td><td>1.969800e-03</td><td>0.26965014</td></tr>\n",
       "\t<tr><th scope=row>GO:0044344</th><td>cellular response to fibroblast growth factor stimulus                          </td><td>BP</td><td> 57</td><td> 5</td><td>0</td><td>2.048996e-03</td><td>1.00000000</td></tr>\n",
       "\t<tr><th scope=row>GO:0072332</th><td>intrinsic apoptotic signaling pathway by p53 class mediator                     </td><td>BP</td><td> 35</td><td> 4</td><td>0</td><td>2.196867e-03</td><td>1.00000000</td></tr>\n",
       "\t<tr><th scope=row>GO:0071774</th><td>response to fibroblast growth factor                                            </td><td>BP</td><td> 59</td><td> 5</td><td>0</td><td>2.388745e-03</td><td>1.00000000</td></tr>\n",
       "\t<tr><th scope=row>GO:0046395</th><td>carboxylic acid catabolic process                                               </td><td>BP</td><td> 86</td><td> 6</td><td>2</td><td>2.415112e-03</td><td>0.18664304</td></tr>\n",
       "\t<tr><th scope=row>GO:0016054</th><td>organic acid catabolic process                                                  </td><td>BP</td><td> 86</td><td> 6</td><td>2</td><td>2.415112e-03</td><td>0.18664304</td></tr>\n",
       "\t<tr><th scope=row>GO:0030214</th><td>hyaluronan catabolic process                                                    </td><td>BP</td><td>  5</td><td> 2</td><td>0</td><td>2.441982e-03</td><td>1.00000000</td></tr>\n",
       "\t<tr><th scope=row>GO:0060770</th><td>negative regulation of epithelial cell proliferation involved in prostate gla...</td><td>BP</td><td>  5</td><td> 2</td><td>0</td><td>2.441982e-03</td><td>1.00000000</td></tr>\n",
       "\t<tr><th scope=row>GO:0070141</th><td>response to UV-A                                                                </td><td>BP</td><td>  5</td><td> 2</td><td>0</td><td>2.441982e-03</td><td>1.00000000</td></tr>\n",
       "\t<tr><th scope=row>GO:0002682</th><td>regulation of immune system process                                             </td><td>BP</td><td>736</td><td>22</td><td>9</td><td>2.727205e-03</td><td>0.23101929</td></tr>\n",
       "\t<tr><th scope=row>GO:0034113</th><td>heterotypic cell-cell adhesion                                                  </td><td>BP</td><td> 38</td><td> 4</td><td>1</td><td>2.985313e-03</td><td>0.29622062</td></tr>\n",
       "\t<tr><th scope=row>GO:0050866</th><td>negative regulation of cell activation                                          </td><td>BP</td><td>122</td><td> 7</td><td>0</td><td>3.251499e-03</td><td>1.00000000</td></tr>\n",
       "\t<tr><th scope=row>GO:0002819</th><td>regulation of adaptive immune response                                          </td><td>BP</td><td>123</td><td> 7</td><td>1</td><td>3.402994e-03</td><td>0.68124485</td></tr>\n",
       "</tbody>\n",
       "</table>\n"
      ],
      "text/latex": [
       "A data.frame: 30 × 7\n",
       "\\begin{tabular}{r|lllllll}\n",
       "  & Term & Ont & N & Up & Down & P.Up & P.Down\\\\\n",
       "  & <chr> & <chr> & <dbl> & <dbl> & <dbl> & <dbl> & <dbl>\\\\\n",
       "\\hline\n",
       "\tGO:0090594 & inflammatory response to wounding                                                & BP &  12 &  5 & 0 & 6.874563e-07 & 1.00000000\\\\\n",
       "\tGO:0002246 & wound healing involved in inflammatory response                                  & BP &   9 &  4 & 0 & 7.284703e-06 & 1.00000000\\\\\n",
       "\tGO:0007059 & chromosome segregation                                                           & BP &  87 &  7 & 0 & 4.485695e-04 & 1.00000000\\\\\n",
       "\tGO:0019752 & carboxylic acid metabolic process                                                & BP & 400 & 16 & 9 & 5.798271e-04 & 0.01049496\\\\\n",
       "\tGO:0010762 & regulation of fibroblast migration                                               & BP &  25 &  4 & 1 & 6.001419e-04 & 0.20619631\\\\\n",
       "\tGO:0043436 & oxoacid metabolic process                                                        & BP & 410 & 16 & 9 & 7.578641e-04 & 0.01220996\\\\\n",
       "\tGO:0000245 & spliceosomal complex assembly                                                    & BP &  12 &  3 & 0 & 7.827459e-04 & 1.00000000\\\\\n",
       "\tGO:0006082 & organic acid metabolic process                                                   & BP & 421 & 16 & 9 & 1.005879e-03 & 0.01433154\\\\\n",
       "\tGO:0055114 & oxidation-reduction process                                                      & BP & 346 & 14 & 6 & 1.165289e-03 & 0.09711083\\\\\n",
       "\tGO:1902042 & negative regulation of extrinsic apoptotic signaling pathway via death domain... & BP &  14 &  3 & 0 & 1.265233e-03 & 1.00000000\\\\\n",
       "\tGO:0045930 & negative regulation of mitotic cell cycle                                        & BP & 105 &  7 & 0 & 1.379868e-03 & 1.00000000\\\\\n",
       "\tGO:1903038 & negative regulation of leukocyte cell-cell adhesion                              & BP &  78 &  6 & 0 & 1.462911e-03 & 1.00000000\\\\\n",
       "\tGO:2000562 & negative regulation of CD4-positive, alpha-beta T cell proliferation             & BP &   4 &  2 & 0 & 1.480635e-03 & 1.00000000\\\\\n",
       "\tGO:0106014 & regulation of inflammatory response to wounding                                  & BP &   4 &  2 & 0 & 1.480635e-03 & 1.00000000\\\\\n",
       "\tGO:0050776 & regulation of immune response                                                    & BP & 399 & 15 & 3 & 1.622529e-03 & 0.71699400\\\\\n",
       "\tGO:0002695 & negative regulation of leukocyte activation                                      & BP & 108 &  7 & 0 & 1.625316e-03 & 1.00000000\\\\\n",
       "\tGO:0007093 & mitotic cell cycle checkpoint                                                    & BP &  55 &  5 & 0 & 1.745985e-03 & 1.00000000\\\\\n",
       "\tGO:0010761 & fibroblast migration                                                             & BP &  34 &  4 & 1 & 1.969800e-03 & 0.26965014\\\\\n",
       "\tGO:0044344 & cellular response to fibroblast growth factor stimulus                           & BP &  57 &  5 & 0 & 2.048996e-03 & 1.00000000\\\\\n",
       "\tGO:0072332 & intrinsic apoptotic signaling pathway by p53 class mediator                      & BP &  35 &  4 & 0 & 2.196867e-03 & 1.00000000\\\\\n",
       "\tGO:0071774 & response to fibroblast growth factor                                             & BP &  59 &  5 & 0 & 2.388745e-03 & 1.00000000\\\\\n",
       "\tGO:0046395 & carboxylic acid catabolic process                                                & BP &  86 &  6 & 2 & 2.415112e-03 & 0.18664304\\\\\n",
       "\tGO:0016054 & organic acid catabolic process                                                   & BP &  86 &  6 & 2 & 2.415112e-03 & 0.18664304\\\\\n",
       "\tGO:0030214 & hyaluronan catabolic process                                                     & BP &   5 &  2 & 0 & 2.441982e-03 & 1.00000000\\\\\n",
       "\tGO:0060770 & negative regulation of epithelial cell proliferation involved in prostate gla... & BP &   5 &  2 & 0 & 2.441982e-03 & 1.00000000\\\\\n",
       "\tGO:0070141 & response to UV-A                                                                 & BP &   5 &  2 & 0 & 2.441982e-03 & 1.00000000\\\\\n",
       "\tGO:0002682 & regulation of immune system process                                              & BP & 736 & 22 & 9 & 2.727205e-03 & 0.23101929\\\\\n",
       "\tGO:0034113 & heterotypic cell-cell adhesion                                                   & BP &  38 &  4 & 1 & 2.985313e-03 & 0.29622062\\\\\n",
       "\tGO:0050866 & negative regulation of cell activation                                           & BP & 122 &  7 & 0 & 3.251499e-03 & 1.00000000\\\\\n",
       "\tGO:0002819 & regulation of adaptive immune response                                           & BP & 123 &  7 & 1 & 3.402994e-03 & 0.68124485\\\\\n",
       "\\end{tabular}\n"
      ],
      "text/markdown": [
       "\n",
       "A data.frame: 30 × 7\n",
       "\n",
       "| <!--/--> | Term &lt;chr&gt; | Ont &lt;chr&gt; | N &lt;dbl&gt; | Up &lt;dbl&gt; | Down &lt;dbl&gt; | P.Up &lt;dbl&gt; | P.Down &lt;dbl&gt; |\n",
       "|---|---|---|---|---|---|---|---|\n",
       "| GO:0090594 | inflammatory response to wounding                                                | BP |  12 |  5 | 0 | 6.874563e-07 | 1.00000000 |\n",
       "| GO:0002246 | wound healing involved in inflammatory response                                  | BP |   9 |  4 | 0 | 7.284703e-06 | 1.00000000 |\n",
       "| GO:0007059 | chromosome segregation                                                           | BP |  87 |  7 | 0 | 4.485695e-04 | 1.00000000 |\n",
       "| GO:0019752 | carboxylic acid metabolic process                                                | BP | 400 | 16 | 9 | 5.798271e-04 | 0.01049496 |\n",
       "| GO:0010762 | regulation of fibroblast migration                                               | BP |  25 |  4 | 1 | 6.001419e-04 | 0.20619631 |\n",
       "| GO:0043436 | oxoacid metabolic process                                                        | BP | 410 | 16 | 9 | 7.578641e-04 | 0.01220996 |\n",
       "| GO:0000245 | spliceosomal complex assembly                                                    | BP |  12 |  3 | 0 | 7.827459e-04 | 1.00000000 |\n",
       "| GO:0006082 | organic acid metabolic process                                                   | BP | 421 | 16 | 9 | 1.005879e-03 | 0.01433154 |\n",
       "| GO:0055114 | oxidation-reduction process                                                      | BP | 346 | 14 | 6 | 1.165289e-03 | 0.09711083 |\n",
       "| GO:1902042 | negative regulation of extrinsic apoptotic signaling pathway via death domain... | BP |  14 |  3 | 0 | 1.265233e-03 | 1.00000000 |\n",
       "| GO:0045930 | negative regulation of mitotic cell cycle                                        | BP | 105 |  7 | 0 | 1.379868e-03 | 1.00000000 |\n",
       "| GO:1903038 | negative regulation of leukocyte cell-cell adhesion                              | BP |  78 |  6 | 0 | 1.462911e-03 | 1.00000000 |\n",
       "| GO:2000562 | negative regulation of CD4-positive, alpha-beta T cell proliferation             | BP |   4 |  2 | 0 | 1.480635e-03 | 1.00000000 |\n",
       "| GO:0106014 | regulation of inflammatory response to wounding                                  | BP |   4 |  2 | 0 | 1.480635e-03 | 1.00000000 |\n",
       "| GO:0050776 | regulation of immune response                                                    | BP | 399 | 15 | 3 | 1.622529e-03 | 0.71699400 |\n",
       "| GO:0002695 | negative regulation of leukocyte activation                                      | BP | 108 |  7 | 0 | 1.625316e-03 | 1.00000000 |\n",
       "| GO:0007093 | mitotic cell cycle checkpoint                                                    | BP |  55 |  5 | 0 | 1.745985e-03 | 1.00000000 |\n",
       "| GO:0010761 | fibroblast migration                                                             | BP |  34 |  4 | 1 | 1.969800e-03 | 0.26965014 |\n",
       "| GO:0044344 | cellular response to fibroblast growth factor stimulus                           | BP |  57 |  5 | 0 | 2.048996e-03 | 1.00000000 |\n",
       "| GO:0072332 | intrinsic apoptotic signaling pathway by p53 class mediator                      | BP |  35 |  4 | 0 | 2.196867e-03 | 1.00000000 |\n",
       "| GO:0071774 | response to fibroblast growth factor                                             | BP |  59 |  5 | 0 | 2.388745e-03 | 1.00000000 |\n",
       "| GO:0046395 | carboxylic acid catabolic process                                                | BP |  86 |  6 | 2 | 2.415112e-03 | 0.18664304 |\n",
       "| GO:0016054 | organic acid catabolic process                                                   | BP |  86 |  6 | 2 | 2.415112e-03 | 0.18664304 |\n",
       "| GO:0030214 | hyaluronan catabolic process                                                     | BP |   5 |  2 | 0 | 2.441982e-03 | 1.00000000 |\n",
       "| GO:0060770 | negative regulation of epithelial cell proliferation involved in prostate gla... | BP |   5 |  2 | 0 | 2.441982e-03 | 1.00000000 |\n",
       "| GO:0070141 | response to UV-A                                                                 | BP |   5 |  2 | 0 | 2.441982e-03 | 1.00000000 |\n",
       "| GO:0002682 | regulation of immune system process                                              | BP | 736 | 22 | 9 | 2.727205e-03 | 0.23101929 |\n",
       "| GO:0034113 | heterotypic cell-cell adhesion                                                   | BP |  38 |  4 | 1 | 2.985313e-03 | 0.29622062 |\n",
       "| GO:0050866 | negative regulation of cell activation                                           | BP | 122 |  7 | 0 | 3.251499e-03 | 1.00000000 |\n",
       "| GO:0002819 | regulation of adaptive immune response                                           | BP | 123 |  7 | 1 | 3.402994e-03 | 0.68124485 |\n",
       "\n"
      ],
      "text/plain": [
       "           Term                                                                            \n",
       "GO:0090594 inflammatory response to wounding                                               \n",
       "GO:0002246 wound healing involved in inflammatory response                                 \n",
       "GO:0007059 chromosome segregation                                                          \n",
       "GO:0019752 carboxylic acid metabolic process                                               \n",
       "GO:0010762 regulation of fibroblast migration                                              \n",
       "GO:0043436 oxoacid metabolic process                                                       \n",
       "GO:0000245 spliceosomal complex assembly                                                   \n",
       "GO:0006082 organic acid metabolic process                                                  \n",
       "GO:0055114 oxidation-reduction process                                                     \n",
       "GO:1902042 negative regulation of extrinsic apoptotic signaling pathway via death domain...\n",
       "GO:0045930 negative regulation of mitotic cell cycle                                       \n",
       "GO:1903038 negative regulation of leukocyte cell-cell adhesion                             \n",
       "GO:2000562 negative regulation of CD4-positive, alpha-beta T cell proliferation            \n",
       "GO:0106014 regulation of inflammatory response to wounding                                 \n",
       "GO:0050776 regulation of immune response                                                   \n",
       "GO:0002695 negative regulation of leukocyte activation                                     \n",
       "GO:0007093 mitotic cell cycle checkpoint                                                   \n",
       "GO:0010761 fibroblast migration                                                            \n",
       "GO:0044344 cellular response to fibroblast growth factor stimulus                          \n",
       "GO:0072332 intrinsic apoptotic signaling pathway by p53 class mediator                     \n",
       "GO:0071774 response to fibroblast growth factor                                            \n",
       "GO:0046395 carboxylic acid catabolic process                                               \n",
       "GO:0016054 organic acid catabolic process                                                  \n",
       "GO:0030214 hyaluronan catabolic process                                                    \n",
       "GO:0060770 negative regulation of epithelial cell proliferation involved in prostate gla...\n",
       "GO:0070141 response to UV-A                                                                \n",
       "GO:0002682 regulation of immune system process                                             \n",
       "GO:0034113 heterotypic cell-cell adhesion                                                  \n",
       "GO:0050866 negative regulation of cell activation                                          \n",
       "GO:0002819 regulation of adaptive immune response                                          \n",
       "           Ont N   Up Down P.Up         P.Down    \n",
       "GO:0090594 BP   12  5 0    6.874563e-07 1.00000000\n",
       "GO:0002246 BP    9  4 0    7.284703e-06 1.00000000\n",
       "GO:0007059 BP   87  7 0    4.485695e-04 1.00000000\n",
       "GO:0019752 BP  400 16 9    5.798271e-04 0.01049496\n",
       "GO:0010762 BP   25  4 1    6.001419e-04 0.20619631\n",
       "GO:0043436 BP  410 16 9    7.578641e-04 0.01220996\n",
       "GO:0000245 BP   12  3 0    7.827459e-04 1.00000000\n",
       "GO:0006082 BP  421 16 9    1.005879e-03 0.01433154\n",
       "GO:0055114 BP  346 14 6    1.165289e-03 0.09711083\n",
       "GO:1902042 BP   14  3 0    1.265233e-03 1.00000000\n",
       "GO:0045930 BP  105  7 0    1.379868e-03 1.00000000\n",
       "GO:1903038 BP   78  6 0    1.462911e-03 1.00000000\n",
       "GO:2000562 BP    4  2 0    1.480635e-03 1.00000000\n",
       "GO:0106014 BP    4  2 0    1.480635e-03 1.00000000\n",
       "GO:0050776 BP  399 15 3    1.622529e-03 0.71699400\n",
       "GO:0002695 BP  108  7 0    1.625316e-03 1.00000000\n",
       "GO:0007093 BP   55  5 0    1.745985e-03 1.00000000\n",
       "GO:0010761 BP   34  4 1    1.969800e-03 0.26965014\n",
       "GO:0044344 BP   57  5 0    2.048996e-03 1.00000000\n",
       "GO:0072332 BP   35  4 0    2.196867e-03 1.00000000\n",
       "GO:0071774 BP   59  5 0    2.388745e-03 1.00000000\n",
       "GO:0046395 BP   86  6 2    2.415112e-03 0.18664304\n",
       "GO:0016054 BP   86  6 2    2.415112e-03 0.18664304\n",
       "GO:0030214 BP    5  2 0    2.441982e-03 1.00000000\n",
       "GO:0060770 BP    5  2 0    2.441982e-03 1.00000000\n",
       "GO:0070141 BP    5  2 0    2.441982e-03 1.00000000\n",
       "GO:0002682 BP  736 22 9    2.727205e-03 0.23101929\n",
       "GO:0034113 BP   38  4 1    2.985313e-03 0.29622062\n",
       "GO:0050866 BP  122  7 0    3.251499e-03 1.00000000\n",
       "GO:0002819 BP  123  7 1    3.402994e-03 0.68124485"
      ]
     },
     "metadata": {},
     "output_type": "display_data"
    }
   ],
   "source": [
    "topGO(goa, \n",
    "      ontology = \"BP\", \n",
    "      sort=\"Up\", \n",
    "      n=30, \n",
    "      truncate=80)\n",
    "\n",
    "#Ont = BP (biological process)\n",
    "# N = number of annotations in the whole transcriptome\n",
    "# Up = # of genes in upregulated set\n",
    "# \" but downregulated\n",
    "# p.up and down are p values for percentages of up-downregulated genes"
   ]
  },
  {
   "cell_type": "code",
   "execution_count": 42,
   "metadata": {},
   "outputs": [
    {
     "data": {
      "text/html": [
       "<table>\n",
       "<caption>A data.frame: 30 × 7</caption>\n",
       "<thead>\n",
       "\t<tr><th></th><th scope=col>Term</th><th scope=col>Ont</th><th scope=col>N</th><th scope=col>Up</th><th scope=col>Down</th><th scope=col>P.Up</th><th scope=col>P.Down</th></tr>\n",
       "\t<tr><th></th><th scope=col>&lt;chr&gt;</th><th scope=col>&lt;chr&gt;</th><th scope=col>&lt;dbl&gt;</th><th scope=col>&lt;dbl&gt;</th><th scope=col>&lt;dbl&gt;</th><th scope=col>&lt;dbl&gt;</th><th scope=col>&lt;dbl&gt;</th></tr>\n",
       "</thead>\n",
       "<tbody>\n",
       "\t<tr><th scope=row>GO:0006520</th><td>cellular amino acid metabolic process                                        </td><td>BP</td><td>103</td><td>4</td><td> 7</td><td>0.08179383</td><td>4.016350e-05</td></tr>\n",
       "\t<tr><th scope=row>GO:0018126</th><td>protein hydroxylation                                                        </td><td>BP</td><td>  8</td><td>0</td><td> 3</td><td>1.00000000</td><td>4.019994e-05</td></tr>\n",
       "\t<tr><th scope=row>GO:1901605</th><td>alpha-amino acid metabolic process                                           </td><td>BP</td><td> 84</td><td>2</td><td> 6</td><td>0.38841811</td><td>1.119779e-04</td></tr>\n",
       "\t<tr><th scope=row>GO:0048490</th><td>anterograde synaptic vesicle transport                                       </td><td>BP</td><td> 11</td><td>0</td><td> 3</td><td>1.00000000</td><td>1.161210e-04</td></tr>\n",
       "\t<tr><th scope=row>GO:0099514</th><td>synaptic vesicle cytoskeletal transport                                      </td><td>BP</td><td> 11</td><td>0</td><td> 3</td><td>1.00000000</td><td>1.161210e-04</td></tr>\n",
       "\t<tr><th scope=row>GO:0099517</th><td>synaptic vesicle transport along microtubule                                 </td><td>BP</td><td> 11</td><td>0</td><td> 3</td><td>1.00000000</td><td>1.161210e-04</td></tr>\n",
       "\t<tr><th scope=row>GO:0019471</th><td>4-hydroxyproline metabolic process                                           </td><td>BP</td><td>  3</td><td>0</td><td> 2</td><td>1.00000000</td><td>2.478624e-04</td></tr>\n",
       "\t<tr><th scope=row>GO:0050883</th><td>musculoskeletal movement, spinal reflex action                               </td><td>BP</td><td>  3</td><td>0</td><td> 2</td><td>1.00000000</td><td>2.478624e-04</td></tr>\n",
       "\t<tr><th scope=row>GO:0019511</th><td>peptidyl-proline hydroxylation                                               </td><td>BP</td><td>  3</td><td>0</td><td> 2</td><td>1.00000000</td><td>2.478624e-04</td></tr>\n",
       "\t<tr><th scope=row>GO:0018401</th><td>peptidyl-proline hydroxylation to 4-hydroxy-L-proline                        </td><td>BP</td><td>  3</td><td>0</td><td> 2</td><td>1.00000000</td><td>2.478624e-04</td></tr>\n",
       "\t<tr><th scope=row>GO:0021533</th><td>cell differentiation in hindbrain                                            </td><td>BP</td><td> 20</td><td>0</td><td> 3</td><td>1.00000000</td><td>7.560556e-04</td></tr>\n",
       "\t<tr><th scope=row>GO:0021697</th><td>cerebellar cortex formation                                                  </td><td>BP</td><td> 20</td><td>0</td><td> 3</td><td>1.00000000</td><td>7.560556e-04</td></tr>\n",
       "\t<tr><th scope=row>GO:0021700</th><td>developmental maturation                                                     </td><td>BP</td><td>167</td><td>1</td><td> 7</td><td>0.93360181</td><td>8.054985e-04</td></tr>\n",
       "\t<tr><th scope=row>GO:1902222</th><td>erythrose 4-phosphate/phosphoenolpyruvate family amino acid catabolic process</td><td>BP</td><td>  5</td><td>0</td><td> 2</td><td>1.00000000</td><td>8.164121e-04</td></tr>\n",
       "\t<tr><th scope=row>GO:0006559</th><td>L-phenylalanine catabolic process                                            </td><td>BP</td><td>  5</td><td>0</td><td> 2</td><td>1.00000000</td><td>8.164121e-04</td></tr>\n",
       "\t<tr><th scope=row>GO:0099003</th><td>vesicle-mediated transport in synapse                                        </td><td>BP</td><td>128</td><td>3</td><td> 6</td><td>0.33428876</td><td>1.088160e-03</td></tr>\n",
       "\t<tr><th scope=row>GO:0043482</th><td>cellular pigment accumulation                                                </td><td>BP</td><td>  6</td><td>0</td><td> 2</td><td>1.00000000</td><td>1.217344e-03</td></tr>\n",
       "\t<tr><th scope=row>GO:0035646</th><td>endosome to melanosome transport                                             </td><td>BP</td><td>  6</td><td>0</td><td> 2</td><td>1.00000000</td><td>1.217344e-03</td></tr>\n",
       "\t<tr><th scope=row>GO:0043485</th><td>endosome to pigment granule transport                                        </td><td>BP</td><td>  6</td><td>0</td><td> 2</td><td>1.00000000</td><td>1.217344e-03</td></tr>\n",
       "\t<tr><th scope=row>GO:0043476</th><td>pigment accumulation                                                         </td><td>BP</td><td>  6</td><td>0</td><td> 2</td><td>1.00000000</td><td>1.217344e-03</td></tr>\n",
       "\t<tr><th scope=row>GO:0048757</th><td>pigment granule maturation                                                   </td><td>BP</td><td>  6</td><td>0</td><td> 2</td><td>1.00000000</td><td>1.217344e-03</td></tr>\n",
       "\t<tr><th scope=row>GO:2001242</th><td>regulation of intrinsic apoptotic signaling pathway                          </td><td>BP</td><td> 94</td><td>3</td><td> 5</td><td>0.18887452</td><td>1.650748e-03</td></tr>\n",
       "\t<tr><th scope=row>GO:0021696</th><td>cerebellar cortex morphogenesis                                              </td><td>BP</td><td> 26</td><td>0</td><td> 3</td><td>1.00000000</td><td>1.657613e-03</td></tr>\n",
       "\t<tr><th scope=row>GO:0060011</th><td>Sertoli cell proliferation                                                   </td><td>BP</td><td>  7</td><td>0</td><td> 2</td><td>1.00000000</td><td>1.694165e-03</td></tr>\n",
       "\t<tr><th scope=row>GO:0008089</th><td>anterograde axonal transport                                                 </td><td>BP</td><td> 28</td><td>0</td><td> 3</td><td>1.00000000</td><td>2.061336e-03</td></tr>\n",
       "\t<tr><th scope=row>GO:1902221</th><td>erythrose 4-phosphate/phosphoenolpyruvate family amino acid metabolic process</td><td>BP</td><td>  8</td><td>0</td><td> 2</td><td>1.00000000</td><td>2.245487e-03</td></tr>\n",
       "\t<tr><th scope=row>GO:0006558</th><td>L-phenylalanine metabolic process                                            </td><td>BP</td><td>  8</td><td>0</td><td> 2</td><td>1.00000000</td><td>2.245487e-03</td></tr>\n",
       "\t<tr><th scope=row>GO:0055085</th><td>transmembrane transport                                                      </td><td>BP</td><td>591</td><td>9</td><td>13</td><td>0.60654360</td><td>2.503317e-03</td></tr>\n",
       "\t<tr><th scope=row>GO:0047496</th><td>vesicle transport along microtubule                                          </td><td>BP</td><td> 30</td><td>0</td><td> 3</td><td>1.00000000</td><td>2.521334e-03</td></tr>\n",
       "\t<tr><th scope=row>GO:0009074</th><td>aromatic amino acid family catabolic process                                 </td><td>BP</td><td>  9</td><td>0</td><td> 2</td><td>1.00000000</td><td>2.869939e-03</td></tr>\n",
       "</tbody>\n",
       "</table>\n"
      ],
      "text/latex": [
       "A data.frame: 30 × 7\n",
       "\\begin{tabular}{r|lllllll}\n",
       "  & Term & Ont & N & Up & Down & P.Up & P.Down\\\\\n",
       "  & <chr> & <chr> & <dbl> & <dbl> & <dbl> & <dbl> & <dbl>\\\\\n",
       "\\hline\n",
       "\tGO:0006520 & cellular amino acid metabolic process                                         & BP & 103 & 4 &  7 & 0.08179383 & 4.016350e-05\\\\\n",
       "\tGO:0018126 & protein hydroxylation                                                         & BP &   8 & 0 &  3 & 1.00000000 & 4.019994e-05\\\\\n",
       "\tGO:1901605 & alpha-amino acid metabolic process                                            & BP &  84 & 2 &  6 & 0.38841811 & 1.119779e-04\\\\\n",
       "\tGO:0048490 & anterograde synaptic vesicle transport                                        & BP &  11 & 0 &  3 & 1.00000000 & 1.161210e-04\\\\\n",
       "\tGO:0099514 & synaptic vesicle cytoskeletal transport                                       & BP &  11 & 0 &  3 & 1.00000000 & 1.161210e-04\\\\\n",
       "\tGO:0099517 & synaptic vesicle transport along microtubule                                  & BP &  11 & 0 &  3 & 1.00000000 & 1.161210e-04\\\\\n",
       "\tGO:0019471 & 4-hydroxyproline metabolic process                                            & BP &   3 & 0 &  2 & 1.00000000 & 2.478624e-04\\\\\n",
       "\tGO:0050883 & musculoskeletal movement, spinal reflex action                                & BP &   3 & 0 &  2 & 1.00000000 & 2.478624e-04\\\\\n",
       "\tGO:0019511 & peptidyl-proline hydroxylation                                                & BP &   3 & 0 &  2 & 1.00000000 & 2.478624e-04\\\\\n",
       "\tGO:0018401 & peptidyl-proline hydroxylation to 4-hydroxy-L-proline                         & BP &   3 & 0 &  2 & 1.00000000 & 2.478624e-04\\\\\n",
       "\tGO:0021533 & cell differentiation in hindbrain                                             & BP &  20 & 0 &  3 & 1.00000000 & 7.560556e-04\\\\\n",
       "\tGO:0021697 & cerebellar cortex formation                                                   & BP &  20 & 0 &  3 & 1.00000000 & 7.560556e-04\\\\\n",
       "\tGO:0021700 & developmental maturation                                                      & BP & 167 & 1 &  7 & 0.93360181 & 8.054985e-04\\\\\n",
       "\tGO:1902222 & erythrose 4-phosphate/phosphoenolpyruvate family amino acid catabolic process & BP &   5 & 0 &  2 & 1.00000000 & 8.164121e-04\\\\\n",
       "\tGO:0006559 & L-phenylalanine catabolic process                                             & BP &   5 & 0 &  2 & 1.00000000 & 8.164121e-04\\\\\n",
       "\tGO:0099003 & vesicle-mediated transport in synapse                                         & BP & 128 & 3 &  6 & 0.33428876 & 1.088160e-03\\\\\n",
       "\tGO:0043482 & cellular pigment accumulation                                                 & BP &   6 & 0 &  2 & 1.00000000 & 1.217344e-03\\\\\n",
       "\tGO:0035646 & endosome to melanosome transport                                              & BP &   6 & 0 &  2 & 1.00000000 & 1.217344e-03\\\\\n",
       "\tGO:0043485 & endosome to pigment granule transport                                         & BP &   6 & 0 &  2 & 1.00000000 & 1.217344e-03\\\\\n",
       "\tGO:0043476 & pigment accumulation                                                          & BP &   6 & 0 &  2 & 1.00000000 & 1.217344e-03\\\\\n",
       "\tGO:0048757 & pigment granule maturation                                                    & BP &   6 & 0 &  2 & 1.00000000 & 1.217344e-03\\\\\n",
       "\tGO:2001242 & regulation of intrinsic apoptotic signaling pathway                           & BP &  94 & 3 &  5 & 0.18887452 & 1.650748e-03\\\\\n",
       "\tGO:0021696 & cerebellar cortex morphogenesis                                               & BP &  26 & 0 &  3 & 1.00000000 & 1.657613e-03\\\\\n",
       "\tGO:0060011 & Sertoli cell proliferation                                                    & BP &   7 & 0 &  2 & 1.00000000 & 1.694165e-03\\\\\n",
       "\tGO:0008089 & anterograde axonal transport                                                  & BP &  28 & 0 &  3 & 1.00000000 & 2.061336e-03\\\\\n",
       "\tGO:1902221 & erythrose 4-phosphate/phosphoenolpyruvate family amino acid metabolic process & BP &   8 & 0 &  2 & 1.00000000 & 2.245487e-03\\\\\n",
       "\tGO:0006558 & L-phenylalanine metabolic process                                             & BP &   8 & 0 &  2 & 1.00000000 & 2.245487e-03\\\\\n",
       "\tGO:0055085 & transmembrane transport                                                       & BP & 591 & 9 & 13 & 0.60654360 & 2.503317e-03\\\\\n",
       "\tGO:0047496 & vesicle transport along microtubule                                           & BP &  30 & 0 &  3 & 1.00000000 & 2.521334e-03\\\\\n",
       "\tGO:0009074 & aromatic amino acid family catabolic process                                  & BP &   9 & 0 &  2 & 1.00000000 & 2.869939e-03\\\\\n",
       "\\end{tabular}\n"
      ],
      "text/markdown": [
       "\n",
       "A data.frame: 30 × 7\n",
       "\n",
       "| <!--/--> | Term &lt;chr&gt; | Ont &lt;chr&gt; | N &lt;dbl&gt; | Up &lt;dbl&gt; | Down &lt;dbl&gt; | P.Up &lt;dbl&gt; | P.Down &lt;dbl&gt; |\n",
       "|---|---|---|---|---|---|---|---|\n",
       "| GO:0006520 | cellular amino acid metabolic process                                         | BP | 103 | 4 |  7 | 0.08179383 | 4.016350e-05 |\n",
       "| GO:0018126 | protein hydroxylation                                                         | BP |   8 | 0 |  3 | 1.00000000 | 4.019994e-05 |\n",
       "| GO:1901605 | alpha-amino acid metabolic process                                            | BP |  84 | 2 |  6 | 0.38841811 | 1.119779e-04 |\n",
       "| GO:0048490 | anterograde synaptic vesicle transport                                        | BP |  11 | 0 |  3 | 1.00000000 | 1.161210e-04 |\n",
       "| GO:0099514 | synaptic vesicle cytoskeletal transport                                       | BP |  11 | 0 |  3 | 1.00000000 | 1.161210e-04 |\n",
       "| GO:0099517 | synaptic vesicle transport along microtubule                                  | BP |  11 | 0 |  3 | 1.00000000 | 1.161210e-04 |\n",
       "| GO:0019471 | 4-hydroxyproline metabolic process                                            | BP |   3 | 0 |  2 | 1.00000000 | 2.478624e-04 |\n",
       "| GO:0050883 | musculoskeletal movement, spinal reflex action                                | BP |   3 | 0 |  2 | 1.00000000 | 2.478624e-04 |\n",
       "| GO:0019511 | peptidyl-proline hydroxylation                                                | BP |   3 | 0 |  2 | 1.00000000 | 2.478624e-04 |\n",
       "| GO:0018401 | peptidyl-proline hydroxylation to 4-hydroxy-L-proline                         | BP |   3 | 0 |  2 | 1.00000000 | 2.478624e-04 |\n",
       "| GO:0021533 | cell differentiation in hindbrain                                             | BP |  20 | 0 |  3 | 1.00000000 | 7.560556e-04 |\n",
       "| GO:0021697 | cerebellar cortex formation                                                   | BP |  20 | 0 |  3 | 1.00000000 | 7.560556e-04 |\n",
       "| GO:0021700 | developmental maturation                                                      | BP | 167 | 1 |  7 | 0.93360181 | 8.054985e-04 |\n",
       "| GO:1902222 | erythrose 4-phosphate/phosphoenolpyruvate family amino acid catabolic process | BP |   5 | 0 |  2 | 1.00000000 | 8.164121e-04 |\n",
       "| GO:0006559 | L-phenylalanine catabolic process                                             | BP |   5 | 0 |  2 | 1.00000000 | 8.164121e-04 |\n",
       "| GO:0099003 | vesicle-mediated transport in synapse                                         | BP | 128 | 3 |  6 | 0.33428876 | 1.088160e-03 |\n",
       "| GO:0043482 | cellular pigment accumulation                                                 | BP |   6 | 0 |  2 | 1.00000000 | 1.217344e-03 |\n",
       "| GO:0035646 | endosome to melanosome transport                                              | BP |   6 | 0 |  2 | 1.00000000 | 1.217344e-03 |\n",
       "| GO:0043485 | endosome to pigment granule transport                                         | BP |   6 | 0 |  2 | 1.00000000 | 1.217344e-03 |\n",
       "| GO:0043476 | pigment accumulation                                                          | BP |   6 | 0 |  2 | 1.00000000 | 1.217344e-03 |\n",
       "| GO:0048757 | pigment granule maturation                                                    | BP |   6 | 0 |  2 | 1.00000000 | 1.217344e-03 |\n",
       "| GO:2001242 | regulation of intrinsic apoptotic signaling pathway                           | BP |  94 | 3 |  5 | 0.18887452 | 1.650748e-03 |\n",
       "| GO:0021696 | cerebellar cortex morphogenesis                                               | BP |  26 | 0 |  3 | 1.00000000 | 1.657613e-03 |\n",
       "| GO:0060011 | Sertoli cell proliferation                                                    | BP |   7 | 0 |  2 | 1.00000000 | 1.694165e-03 |\n",
       "| GO:0008089 | anterograde axonal transport                                                  | BP |  28 | 0 |  3 | 1.00000000 | 2.061336e-03 |\n",
       "| GO:1902221 | erythrose 4-phosphate/phosphoenolpyruvate family amino acid metabolic process | BP |   8 | 0 |  2 | 1.00000000 | 2.245487e-03 |\n",
       "| GO:0006558 | L-phenylalanine metabolic process                                             | BP |   8 | 0 |  2 | 1.00000000 | 2.245487e-03 |\n",
       "| GO:0055085 | transmembrane transport                                                       | BP | 591 | 9 | 13 | 0.60654360 | 2.503317e-03 |\n",
       "| GO:0047496 | vesicle transport along microtubule                                           | BP |  30 | 0 |  3 | 1.00000000 | 2.521334e-03 |\n",
       "| GO:0009074 | aromatic amino acid family catabolic process                                  | BP |   9 | 0 |  2 | 1.00000000 | 2.869939e-03 |\n",
       "\n"
      ],
      "text/plain": [
       "           Term                                                                         \n",
       "GO:0006520 cellular amino acid metabolic process                                        \n",
       "GO:0018126 protein hydroxylation                                                        \n",
       "GO:1901605 alpha-amino acid metabolic process                                           \n",
       "GO:0048490 anterograde synaptic vesicle transport                                       \n",
       "GO:0099514 synaptic vesicle cytoskeletal transport                                      \n",
       "GO:0099517 synaptic vesicle transport along microtubule                                 \n",
       "GO:0019471 4-hydroxyproline metabolic process                                           \n",
       "GO:0050883 musculoskeletal movement, spinal reflex action                               \n",
       "GO:0019511 peptidyl-proline hydroxylation                                               \n",
       "GO:0018401 peptidyl-proline hydroxylation to 4-hydroxy-L-proline                        \n",
       "GO:0021533 cell differentiation in hindbrain                                            \n",
       "GO:0021697 cerebellar cortex formation                                                  \n",
       "GO:0021700 developmental maturation                                                     \n",
       "GO:1902222 erythrose 4-phosphate/phosphoenolpyruvate family amino acid catabolic process\n",
       "GO:0006559 L-phenylalanine catabolic process                                            \n",
       "GO:0099003 vesicle-mediated transport in synapse                                        \n",
       "GO:0043482 cellular pigment accumulation                                                \n",
       "GO:0035646 endosome to melanosome transport                                             \n",
       "GO:0043485 endosome to pigment granule transport                                        \n",
       "GO:0043476 pigment accumulation                                                         \n",
       "GO:0048757 pigment granule maturation                                                   \n",
       "GO:2001242 regulation of intrinsic apoptotic signaling pathway                          \n",
       "GO:0021696 cerebellar cortex morphogenesis                                              \n",
       "GO:0060011 Sertoli cell proliferation                                                   \n",
       "GO:0008089 anterograde axonal transport                                                 \n",
       "GO:1902221 erythrose 4-phosphate/phosphoenolpyruvate family amino acid metabolic process\n",
       "GO:0006558 L-phenylalanine metabolic process                                            \n",
       "GO:0055085 transmembrane transport                                                      \n",
       "GO:0047496 vesicle transport along microtubule                                          \n",
       "GO:0009074 aromatic amino acid family catabolic process                                 \n",
       "           Ont N   Up Down P.Up       P.Down      \n",
       "GO:0006520 BP  103 4   7   0.08179383 4.016350e-05\n",
       "GO:0018126 BP    8 0   3   1.00000000 4.019994e-05\n",
       "GO:1901605 BP   84 2   6   0.38841811 1.119779e-04\n",
       "GO:0048490 BP   11 0   3   1.00000000 1.161210e-04\n",
       "GO:0099514 BP   11 0   3   1.00000000 1.161210e-04\n",
       "GO:0099517 BP   11 0   3   1.00000000 1.161210e-04\n",
       "GO:0019471 BP    3 0   2   1.00000000 2.478624e-04\n",
       "GO:0050883 BP    3 0   2   1.00000000 2.478624e-04\n",
       "GO:0019511 BP    3 0   2   1.00000000 2.478624e-04\n",
       "GO:0018401 BP    3 0   2   1.00000000 2.478624e-04\n",
       "GO:0021533 BP   20 0   3   1.00000000 7.560556e-04\n",
       "GO:0021697 BP   20 0   3   1.00000000 7.560556e-04\n",
       "GO:0021700 BP  167 1   7   0.93360181 8.054985e-04\n",
       "GO:1902222 BP    5 0   2   1.00000000 8.164121e-04\n",
       "GO:0006559 BP    5 0   2   1.00000000 8.164121e-04\n",
       "GO:0099003 BP  128 3   6   0.33428876 1.088160e-03\n",
       "GO:0043482 BP    6 0   2   1.00000000 1.217344e-03\n",
       "GO:0035646 BP    6 0   2   1.00000000 1.217344e-03\n",
       "GO:0043485 BP    6 0   2   1.00000000 1.217344e-03\n",
       "GO:0043476 BP    6 0   2   1.00000000 1.217344e-03\n",
       "GO:0048757 BP    6 0   2   1.00000000 1.217344e-03\n",
       "GO:2001242 BP   94 3   5   0.18887452 1.650748e-03\n",
       "GO:0021696 BP   26 0   3   1.00000000 1.657613e-03\n",
       "GO:0060011 BP    7 0   2   1.00000000 1.694165e-03\n",
       "GO:0008089 BP   28 0   3   1.00000000 2.061336e-03\n",
       "GO:1902221 BP    8 0   2   1.00000000 2.245487e-03\n",
       "GO:0006558 BP    8 0   2   1.00000000 2.245487e-03\n",
       "GO:0055085 BP  591 9  13   0.60654360 2.503317e-03\n",
       "GO:0047496 BP   30 0   3   1.00000000 2.521334e-03\n",
       "GO:0009074 BP    9 0   2   1.00000000 2.869939e-03"
      ]
     },
     "metadata": {},
     "output_type": "display_data"
    }
   ],
   "source": [
    "topGO(goa, \n",
    "      ontology = \"BP\", \n",
    "      sort=\"Down\", \n",
    "      n=30, \n",
    "      truncate=80)"
   ]
  },
  {
   "cell_type": "markdown",
   "metadata": {},
   "source": [
    "Remember that p.values are NOT corrected."
   ]
  },
  {
   "cell_type": "code",
   "execution_count": null,
   "metadata": {},
   "outputs": [],
   "source": []
  }
 ],
 "metadata": {
  "kernelspec": {
   "display_name": "R",
   "language": "R",
   "name": "ir"
  },
  "language_info": {
   "codemirror_mode": "r",
   "file_extension": ".r",
   "mimetype": "text/x-r-source",
   "name": "R",
   "pygments_lexer": "r",
   "version": "3.6.1"
  }
 },
 "nbformat": 4,
 "nbformat_minor": 2
}
