{
 "cells": [
  {
   "cell_type": "markdown",
   "metadata": {},
   "source": [
    "# Gene expression\n",
    "\n",
    "Meta-analisys with gene expression.\n",
    "\n",
    "## Gene expression during zebrafish development\n",
    "\n",
    "Meta analysis combines the results of other studies. It requires raw data, already produced by others. The design is very important. Ex. you have a sample, coming from a tumor, and another, from healthy individual. The two samples contain all the sample from one tissue.\n",
    "\n",
    "With RNASeq we measure the expression level of all the genes, obtaining a table that, for every gene (geneA, geneB..) , indicates all the relative expression in all the tissues (tumorIndividual1, tumorIndividual2, healthyIndividual1, healthyIndividual2...)\n",
    "\n",
    "With microarray or sequencing we can measure the level of every gene in every sample. These can be correlated to causes, tumor development, or other things.\n",
    "\n",
    "We can get several hundreds of candidates, showing significant differences, that we will focus on. This will lead to another table gene vs. significance of differences.\n",
    "\n",
    "The gene list is not enough. With annotations, we can infer actions of the gene.\n",
    "\n",
    "**Functional enrichment**: I want to understand not the function itself, but the pathway impact. \n",
    "\n",
    "We take many lists: upregulated, downregulated, etc. We take one or more metrics (overlap, distance, match, window) and we relate with annotations (GO, KEGG, OMIM, Repeats, Pseudogenes, Domains, Homologous...), looking for some enrichment.\n",
    "\n",
    "In this way we can have functional interpretation of expression tables. **Enrichment Analysis** will tell us if a collection of gene is enriched for a particular function.\n",
    "\n",
    "First, we isolated differentially expressed genes. We can classify genes for their involvement in metabolism, regulation of transcription, or signaling pathways... We take our DEG and check if the overlap with these classes is normal or not, to guess if the pathological state is relevant to metabolism, regulation, etc. and eventually subset your search area in the intersection of class and DEG. Then, studying enrichment, we can filter more and more, creating new hypotheses.\n",
    "\n"
   ]
  },
  {
   "cell_type": "markdown",
   "metadata": {},
   "source": [
    "## Illumina HiSeq Analysis\n",
    "\n",
    "Data comes from GEO (gene expression omnibus), at NCBI. For every experiment there is a series, and a lot of information. [link](https://www.ncbi.nlm.nih.gov/geo/query/acc.cgi?acc=GSE105128).\n",
    "\n",
    "The link contains the description of an experiment, its purpose, and other metadata. In this experiment, KAP1 gene is underexpressed / KO from mice. There are 6 samples, 3 deficient. On single sample pages, there is additional metadata, and a SRA link, that leads to the raw sequencing data. \n",
    "\n",
    "genecount.csv.gz is the raw count of processed data. after unzipping, we import it:\n",
    "\n"
   ]
  },
  {
   "cell_type": "code",
   "execution_count": 1,
   "metadata": {},
   "outputs": [
    {
     "data": {
      "text/html": [
       "<table>\n",
       "<caption>A data.frame: 6 × 7</caption>\n",
       "<thead>\n",
       "\t<tr><th scope=col>geneName</th><th scope=col>WT1</th><th scope=col>WT2</th><th scope=col>WT3</th><th scope=col>KO1</th><th scope=col>KO2</th><th scope=col>KO3</th></tr>\n",
       "\t<tr><th scope=col>&lt;fct&gt;</th><th scope=col>&lt;int&gt;</th><th scope=col>&lt;int&gt;</th><th scope=col>&lt;int&gt;</th><th scope=col>&lt;int&gt;</th><th scope=col>&lt;int&gt;</th><th scope=col>&lt;int&gt;</th></tr>\n",
       "</thead>\n",
       "<tbody>\n",
       "\t<tr><td>ENSMUSG00000000001</td><td>2022</td><td>2141</td><td>2313</td><td>2311</td><td>2415</td><td>2748</td></tr>\n",
       "\t<tr><td>ENSMUSG00000000003</td><td>   0</td><td>   0</td><td>   0</td><td>   0</td><td>   0</td><td>   0</td></tr>\n",
       "\t<tr><td>ENSMUSG00000000028</td><td> 157</td><td> 128</td><td>  97</td><td>  98</td><td> 112</td><td> 145</td></tr>\n",
       "\t<tr><td>ENSMUSG00000000031</td><td>   0</td><td>   0</td><td>   0</td><td>   0</td><td>   0</td><td>   0</td></tr>\n",
       "\t<tr><td>ENSMUSG00000000037</td><td>   5</td><td>   5</td><td>   8</td><td>   7</td><td>  10</td><td>   8</td></tr>\n",
       "\t<tr><td>ENSMUSG00000000049</td><td>   0</td><td>   0</td><td>   0</td><td>   0</td><td>   0</td><td>   2</td></tr>\n",
       "</tbody>\n",
       "</table>\n"
      ],
      "text/latex": [
       "A data.frame: 6 × 7\n",
       "\\begin{tabular}{r|lllllll}\n",
       " geneName & WT1 & WT2 & WT3 & KO1 & KO2 & KO3\\\\\n",
       " <fct> & <int> & <int> & <int> & <int> & <int> & <int>\\\\\n",
       "\\hline\n",
       "\t ENSMUSG00000000001 & 2022 & 2141 & 2313 & 2311 & 2415 & 2748\\\\\n",
       "\t ENSMUSG00000000003 &    0 &    0 &    0 &    0 &    0 &    0\\\\\n",
       "\t ENSMUSG00000000028 &  157 &  128 &   97 &   98 &  112 &  145\\\\\n",
       "\t ENSMUSG00000000031 &    0 &    0 &    0 &    0 &    0 &    0\\\\\n",
       "\t ENSMUSG00000000037 &    5 &    5 &    8 &    7 &   10 &    8\\\\\n",
       "\t ENSMUSG00000000049 &    0 &    0 &    0 &    0 &    0 &    2\\\\\n",
       "\\end{tabular}\n"
      ],
      "text/markdown": [
       "\n",
       "A data.frame: 6 × 7\n",
       "\n",
       "| geneName &lt;fct&gt; | WT1 &lt;int&gt; | WT2 &lt;int&gt; | WT3 &lt;int&gt; | KO1 &lt;int&gt; | KO2 &lt;int&gt; | KO3 &lt;int&gt; |\n",
       "|---|---|---|---|---|---|---|\n",
       "| ENSMUSG00000000001 | 2022 | 2141 | 2313 | 2311 | 2415 | 2748 |\n",
       "| ENSMUSG00000000003 |    0 |    0 |    0 |    0 |    0 |    0 |\n",
       "| ENSMUSG00000000028 |  157 |  128 |   97 |   98 |  112 |  145 |\n",
       "| ENSMUSG00000000031 |    0 |    0 |    0 |    0 |    0 |    0 |\n",
       "| ENSMUSG00000000037 |    5 |    5 |    8 |    7 |   10 |    8 |\n",
       "| ENSMUSG00000000049 |    0 |    0 |    0 |    0 |    0 |    2 |\n",
       "\n"
      ],
      "text/plain": [
       "  geneName           WT1  WT2  WT3  KO1  KO2  KO3 \n",
       "1 ENSMUSG00000000001 2022 2141 2313 2311 2415 2748\n",
       "2 ENSMUSG00000000003    0    0    0    0    0    0\n",
       "3 ENSMUSG00000000028  157  128   97   98  112  145\n",
       "4 ENSMUSG00000000031    0    0    0    0    0    0\n",
       "5 ENSMUSG00000000037    5    5    8    7   10    8\n",
       "6 ENSMUSG00000000049    0    0    0    0    0    2"
      ]
     },
     "metadata": {},
     "output_type": "display_data"
    }
   ],
   "source": [
    "counts = read.csv(file = \"GSE105128_genecount.csv\")\n",
    "head(counts)"
   ]
  },
  {
   "cell_type": "markdown",
   "metadata": {},
   "source": [
    "Data are produced by extracting mRNA, and sequencing them. This produces a lot of small fragments of 15-150 bp. The fragments are stored in a FastQ file (a FASTA file with a quality value for all fragments) that evalutas the confidency of the sequencer in every single nucleotide with a single ascii code.\n",
    "\n",
    "ENS before gene names indicates Ensembl files. Number are gene expression counts, that are the number of reads (fragments) that maps within the gene."
   ]
  },
  {
   "cell_type": "code",
   "execution_count": 2,
   "metadata": {},
   "outputs": [
    {
     "name": "stderr",
     "output_type": "stream",
     "text": [
      "Loading required package: limma\n",
      "Loading required package: AnnotationDbi\n",
      "Loading required package: stats4\n",
      "Loading required package: BiocGenerics\n",
      "Loading required package: parallel\n",
      "\n",
      "Attaching package: ‘BiocGenerics’\n",
      "\n",
      "The following objects are masked from ‘package:parallel’:\n",
      "\n",
      "    clusterApply, clusterApplyLB, clusterCall, clusterEvalQ,\n",
      "    clusterExport, clusterMap, parApply, parCapply, parLapply,\n",
      "    parLapplyLB, parRapply, parSapply, parSapplyLB\n",
      "\n",
      "The following object is masked from ‘package:limma’:\n",
      "\n",
      "    plotMA\n",
      "\n",
      "The following objects are masked from ‘package:stats’:\n",
      "\n",
      "    IQR, mad, sd, var, xtabs\n",
      "\n",
      "The following objects are masked from ‘package:base’:\n",
      "\n",
      "    anyDuplicated, append, as.data.frame, basename, cbind, colnames,\n",
      "    dirname, do.call, duplicated, eval, evalq, Filter, Find, get, grep,\n",
      "    grepl, intersect, is.unsorted, lapply, Map, mapply, match, mget,\n",
      "    order, paste, pmax, pmax.int, pmin, pmin.int, Position, rank,\n",
      "    rbind, Reduce, rownames, sapply, setdiff, sort, table, tapply,\n",
      "    union, unique, unsplit, which, which.max, which.min\n",
      "\n",
      "Loading required package: Biobase\n",
      "Welcome to Bioconductor\n",
      "\n",
      "    Vignettes contain introductory material; view with\n",
      "    'browseVignettes()'. To cite Bioconductor, see\n",
      "    'citation(\"Biobase\")', and for packages 'citation(\"pkgname\")'.\n",
      "\n",
      "Loading required package: IRanges\n",
      "Loading required package: S4Vectors\n",
      "\n",
      "Attaching package: ‘S4Vectors’\n",
      "\n",
      "The following object is masked from ‘package:base’:\n",
      "\n",
      "    expand.grid\n",
      "\n",
      "\n",
      "── \u001b[1mAttaching packages\u001b[22m ─────────────────────────────────────── tidyverse 1.3.0 ──\n",
      "\u001b[32m✔\u001b[39m \u001b[34mggplot2\u001b[39m 3.2.1     \u001b[32m✔\u001b[39m \u001b[34mpurrr  \u001b[39m 0.3.3\n",
      "\u001b[32m✔\u001b[39m \u001b[34mtibble \u001b[39m 2.1.3     \u001b[32m✔\u001b[39m \u001b[34mdplyr  \u001b[39m 0.8.3\n",
      "\u001b[32m✔\u001b[39m \u001b[34mtidyr  \u001b[39m 1.0.0     \u001b[32m✔\u001b[39m \u001b[34mstringr\u001b[39m 1.4.0\n",
      "\u001b[32m✔\u001b[39m \u001b[34mreadr  \u001b[39m 1.3.1     \u001b[32m✔\u001b[39m \u001b[34mforcats\u001b[39m 0.4.0\n",
      "── \u001b[1mConflicts\u001b[22m ────────────────────────────────────────── tidyverse_conflicts() ──\n",
      "\u001b[31m✖\u001b[39m \u001b[34mdplyr\u001b[39m::\u001b[32mcollapse()\u001b[39m   masks \u001b[34mIRanges\u001b[39m::collapse()\n",
      "\u001b[31m✖\u001b[39m \u001b[34mdplyr\u001b[39m::\u001b[32mcombine()\u001b[39m    masks \u001b[34mBiobase\u001b[39m::combine(), \u001b[34mBiocGenerics\u001b[39m::combine()\n",
      "\u001b[31m✖\u001b[39m \u001b[34mdplyr\u001b[39m::\u001b[32mdesc()\u001b[39m       masks \u001b[34mIRanges\u001b[39m::desc()\n",
      "\u001b[31m✖\u001b[39m \u001b[34mtidyr\u001b[39m::\u001b[32mexpand()\u001b[39m     masks \u001b[34mS4Vectors\u001b[39m::expand()\n",
      "\u001b[31m✖\u001b[39m \u001b[34mdplyr\u001b[39m::\u001b[32mfilter()\u001b[39m     masks \u001b[34mstats\u001b[39m::filter()\n",
      "\u001b[31m✖\u001b[39m \u001b[34mdplyr\u001b[39m::\u001b[32mfirst()\u001b[39m      masks \u001b[34mS4Vectors\u001b[39m::first()\n",
      "\u001b[31m✖\u001b[39m \u001b[34mdplyr\u001b[39m::\u001b[32mlag()\u001b[39m        masks \u001b[34mstats\u001b[39m::lag()\n",
      "\u001b[31m✖\u001b[39m \u001b[34mggplot2\u001b[39m::\u001b[32mPosition()\u001b[39m masks \u001b[34mBiocGenerics\u001b[39m::Position(), \u001b[34mbase\u001b[39m::Position()\n",
      "\u001b[31m✖\u001b[39m \u001b[34mpurrr\u001b[39m::\u001b[32mreduce()\u001b[39m     masks \u001b[34mIRanges\u001b[39m::reduce()\n",
      "\u001b[31m✖\u001b[39m \u001b[34mdplyr\u001b[39m::\u001b[32mrename()\u001b[39m     masks \u001b[34mS4Vectors\u001b[39m::rename()\n",
      "\u001b[31m✖\u001b[39m \u001b[34mdplyr\u001b[39m::\u001b[32mselect()\u001b[39m     masks \u001b[34mAnnotationDbi\u001b[39m::select()\n",
      "\u001b[31m✖\u001b[39m \u001b[34mdplyr\u001b[39m::\u001b[32mslice()\u001b[39m      masks \u001b[34mIRanges\u001b[39m::slice()\n"
     ]
    }
   ],
   "source": [
    "#load libraries:\n",
    "library(edgeR)  #for differential expression normalization and filtering\n",
    "library(org.Mm.eg.db) # annotation of mouse genome\n",
    "library(tidyverse)"
   ]
  },
  {
   "cell_type": "markdown",
   "metadata": {},
   "source": [
    "### Assigning groups for edgeR:\n",
    "* 1 -> WT\n",
    "* 2 -> KO"
   ]
  },
  {
   "cell_type": "code",
   "execution_count": 3,
   "metadata": {},
   "outputs": [],
   "source": [
    "\n",
    "\n",
    "groups = factor (c(1,1,1,2,2,2))\n",
    "\n",
    "# create edgeR proprietary data structure\n",
    "data = DGEList(counts = counts[,2:7], \n",
    "                 group = groups,\n",
    "                 genes = counts$geneName)"
   ]
  },
  {
   "cell_type": "code",
   "execution_count": 4,
   "metadata": {},
   "outputs": [
    {
     "data": {
      "text/html": [
       "<table>\n",
       "<caption>A matrix: 6 × 6 of type dbl</caption>\n",
       "<thead>\n",
       "\t<tr><th scope=col>WT1</th><th scope=col>WT2</th><th scope=col>WT3</th><th scope=col>KO1</th><th scope=col>KO2</th><th scope=col>KO3</th></tr>\n",
       "</thead>\n",
       "<tbody>\n",
       "\t<tr><td>200.1362550</td><td>210.3085367</td><td>224.5494594</td><td>229.2458367</td><td>242.607649</td><td>249.9375838</td></tr>\n",
       "\t<tr><td>  0.0000000</td><td>  0.0000000</td><td>  0.0000000</td><td>  0.0000000</td><td>  0.000000</td><td>  0.0000000</td></tr>\n",
       "\t<tr><td> 15.5397587</td><td> 12.5733268</td><td>  9.4169034</td><td>  9.7213726</td><td> 11.251369</td><td> 13.1881185</td></tr>\n",
       "\t<tr><td>  0.0000000</td><td>  0.0000000</td><td>  0.0000000</td><td>  0.0000000</td><td>  0.000000</td><td>  0.0000000</td></tr>\n",
       "\t<tr><td>  0.4948968</td><td>  0.4911456</td><td>  0.7766518</td><td>  0.6943838</td><td>  1.004587</td><td>  0.7276203</td></tr>\n",
       "\t<tr><td>  0.0000000</td><td>  0.0000000</td><td>  0.0000000</td><td>  0.0000000</td><td>  0.000000</td><td>  0.1819051</td></tr>\n",
       "</tbody>\n",
       "</table>\n"
      ],
      "text/latex": [
       "A matrix: 6 × 6 of type dbl\n",
       "\\begin{tabular}{r|llllll}\n",
       " WT1 & WT2 & WT3 & KO1 & KO2 & KO3\\\\\n",
       "\\hline\n",
       "\t 200.1362550 & 210.3085367 & 224.5494594 & 229.2458367 & 242.607649 & 249.9375838\\\\\n",
       "\t   0.0000000 &   0.0000000 &   0.0000000 &   0.0000000 &   0.000000 &   0.0000000\\\\\n",
       "\t  15.5397587 &  12.5733268 &   9.4169034 &   9.7213726 &  11.251369 &  13.1881185\\\\\n",
       "\t   0.0000000 &   0.0000000 &   0.0000000 &   0.0000000 &   0.000000 &   0.0000000\\\\\n",
       "\t   0.4948968 &   0.4911456 &   0.7766518 &   0.6943838 &   1.004587 &   0.7276203\\\\\n",
       "\t   0.0000000 &   0.0000000 &   0.0000000 &   0.0000000 &   0.000000 &   0.1819051\\\\\n",
       "\\end{tabular}\n"
      ],
      "text/markdown": [
       "\n",
       "A matrix: 6 × 6 of type dbl\n",
       "\n",
       "| WT1 | WT2 | WT3 | KO1 | KO2 | KO3 |\n",
       "|---|---|---|---|---|---|\n",
       "| 200.1362550 | 210.3085367 | 224.5494594 | 229.2458367 | 242.607649 | 249.9375838 |\n",
       "|   0.0000000 |   0.0000000 |   0.0000000 |   0.0000000 |   0.000000 |   0.0000000 |\n",
       "|  15.5397587 |  12.5733268 |   9.4169034 |   9.7213726 |  11.251369 |  13.1881185 |\n",
       "|   0.0000000 |   0.0000000 |   0.0000000 |   0.0000000 |   0.000000 |   0.0000000 |\n",
       "|   0.4948968 |   0.4911456 |   0.7766518 |   0.6943838 |   1.004587 |   0.7276203 |\n",
       "|   0.0000000 |   0.0000000 |   0.0000000 |   0.0000000 |   0.000000 |   0.1819051 |\n",
       "\n"
      ],
      "text/plain": [
       "  WT1         WT2         WT3         KO1         KO2        KO3        \n",
       "1 200.1362550 210.3085367 224.5494594 229.2458367 242.607649 249.9375838\n",
       "2   0.0000000   0.0000000   0.0000000   0.0000000   0.000000   0.0000000\n",
       "3  15.5397587  12.5733268   9.4169034   9.7213726  11.251369  13.1881185\n",
       "4   0.0000000   0.0000000   0.0000000   0.0000000   0.000000   0.0000000\n",
       "5   0.4948968   0.4911456   0.7766518   0.6943838   1.004587   0.7276203\n",
       "6   0.0000000   0.0000000   0.0000000   0.0000000   0.000000   0.1819051"
      ]
     },
     "metadata": {},
     "output_type": "display_data"
    }
   ],
   "source": [
    "#perform a rough normalization, dividing by library size, and multiplying by 10^6.\n",
    "cpm(data)  %>%\n",
    "head() #count per million\n",
    "CPM <- cpm(data)\n",
    "\n"
   ]
  },
  {
   "cell_type": "code",
   "execution_count": 5,
   "metadata": {},
   "outputs": [
    {
     "data": {
      "image/png": "[encoded data removed]",
      "text/plain": [
       "Plot with title “Cluster Dendrogram”"
      ]
     },
     "metadata": {},
     "output_type": "display_data"
    }
   ],
   "source": [
    "#calculate distance matrix between the experiments\n",
    "dist <- dist(t(cpm(data)))\n",
    "\n",
    "#clustering distance datas\n",
    "hclust <- hclust(d = dist)\n",
    "\n",
    "par(mfrow = c(1,2))\n",
    "plot(hclust)\n",
    "#multidimensional scaling plot, for same analysis\n",
    "plotMDS(data)"
   ]
  },
  {
   "cell_type": "code",
   "execution_count": 98,
   "metadata": {},
   "outputs": [],
   "source": [
    "# annotation, and looking for the KEP1 gene:\n",
    "# maps from Ensembl ID and EntrezGene ID can be performed with\n",
    "\n",
    "ens.eg <- as.list(org.Mm.egENSEMBL2EG) #ensembl-> EG\n",
    "eg.sym <- as.list(org.Mm.egSYMBOL)   #gene Symbols -> EG\n",
    "\n",
    "# head(ens.eg)\n",
    "# head(eg.sym)"
   ]
  },
  {
   "cell_type": "code",
   "execution_count": 7,
   "metadata": {},
   "outputs": [
    {
     "data": {
      "text/html": [
       "0"
      ],
      "text/latex": [
       "0"
      ],
      "text/markdown": [
       "0"
      ],
      "text/plain": [
       "[1] 0"
      ]
     },
     "metadata": {},
     "output_type": "display_data"
    }
   ],
   "source": [
    "sum(eg.sym == \"Kap1\")\n",
    "\n",
    "#There is no Kap1! Google search find many alias names, and Kap1 is an alias for TRIM28"
   ]
  },
  {
   "cell_type": "code",
   "execution_count": 8,
   "metadata": {},
   "outputs": [
    {
     "data": {
      "text/html": [
       "1"
      ],
      "text/latex": [
       "1"
      ],
      "text/markdown": [
       "1"
      ],
      "text/plain": [
       "[1] 1"
      ]
     },
     "metadata": {},
     "output_type": "display_data"
    }
   ],
   "source": [
    "sum(eg.sym == \"Trim28\")\n",
    "#Here it is!"
   ]
  },
  {
   "cell_type": "code",
   "execution_count": 9,
   "metadata": {},
   "outputs": [
    {
     "data": {
      "text/html": [
       "<strong>$`21849`</strong> = 'Trim28'"
      ],
      "text/latex": [
       "\\textbf{\\$`21849`} = 'Trim28'"
      ],
      "text/markdown": [
       "**$`21849`** = 'Trim28'"
      ],
      "text/plain": [
       "$`21849`\n",
       "[1] \"Trim28\"\n"
      ]
     },
     "metadata": {},
     "output_type": "display_data"
    }
   ],
   "source": [
    "eg.sym[eg.sym==\"Trim28\"]  #... we find the Entrez Gene ID number..."
   ]
  },
  {
   "cell_type": "code",
   "execution_count": 10,
   "metadata": {},
   "outputs": [
    {
     "data": {
      "text/html": [
       "<strong>$ENSMUSG00000005566</strong> = '21849'"
      ],
      "text/latex": [
       "\\textbf{\\$ENSMUSG00000005566} = '21849'"
      ],
      "text/markdown": [
       "**$ENSMUSG00000005566** = '21849'"
      ],
      "text/plain": [
       "$ENSMUSG00000005566\n",
       "[1] \"21849\"\n"
      ]
     },
     "metadata": {},
     "output_type": "display_data"
    }
   ],
   "source": [
    "ens.eg[ens.eg == names(eg.sym[eg.sym == \"Trim28\"])] #...and finally the Ensemble ID."
   ]
  },
  {
   "cell_type": "code",
   "execution_count": 11,
   "metadata": {},
   "outputs": [],
   "source": [
    "kap1 = \"ENSMUSG00000005566\""
   ]
  },
  {
   "cell_type": "code",
   "execution_count": 12,
   "metadata": {},
   "outputs": [],
   "source": [
    "# create a CPM dataframe, attach gene names\n",
    "CPM <- as.data.frame(CPM)\n",
    "CPM$genes = counts$geneName"
   ]
  },
  {
   "cell_type": "code",
   "execution_count": 13,
   "metadata": {},
   "outputs": [
    {
     "data": {
      "image/png": "[encoded data removed]",
      "text/plain": [
       "plot without title"
      ]
     },
     "metadata": {},
     "output_type": "display_data"
    }
   ],
   "source": [
    "barplot(as.matrix((CPM[CPM$genes == kap1,1:6])))"
   ]
  },
  {
   "cell_type": "code",
   "execution_count": 44,
   "metadata": {},
   "outputs": [],
   "source": [
    "#So, let's fix data.\n",
    "\n",
    "groups2 = factor (c(1,1,2,2,2,1))  # new groups!\n",
    "\n",
    "# create edgeR proprietary data structure\n",
    "# with the same function\n",
    "\n",
    "data2 = DGEList(counts = counts[,2:7], \n",
    "                 group = groups2,\n",
    "                 genes = counts$geneName)\n",
    "\n",
    "#perform a rough normalization, dividing by library size, and multiplying by 10^6.\n",
    "#cpm(data2)\n",
    "\n",
    "CPM2 <- cpm(data2)\n"
   ]
  },
  {
   "cell_type": "markdown",
   "metadata": {},
   "source": [
    "Normalization. We add a `norm.factor` to the sample field of our DGE List."
   ]
  },
  {
   "cell_type": "code",
   "execution_count": 45,
   "metadata": {},
   "outputs": [],
   "source": [
    "data2 <- calcNormFactors(data2)\n"
   ]
  },
  {
   "cell_type": "markdown",
   "metadata": {},
   "source": [
    "Create a design matrix, to state the groups of the study, in a contrast object."
   ]
  },
  {
   "cell_type": "code",
   "execution_count": 46,
   "metadata": {},
   "outputs": [
    {
     "data": {
      "text/html": [
       "<table>\n",
       "<caption>A matrix: 6 × 2 of type dbl</caption>\n",
       "<thead>\n",
       "\t<tr><th scope=col>(Intercept)</th><th scope=col>groups22</th></tr>\n",
       "</thead>\n",
       "<tbody>\n",
       "\t<tr><td>1</td><td>0</td></tr>\n",
       "\t<tr><td>1</td><td>0</td></tr>\n",
       "\t<tr><td>1</td><td>1</td></tr>\n",
       "\t<tr><td>1</td><td>1</td></tr>\n",
       "\t<tr><td>1</td><td>1</td></tr>\n",
       "\t<tr><td>1</td><td>0</td></tr>\n",
       "</tbody>\n",
       "</table>\n"
      ],
      "text/latex": [
       "A matrix: 6 × 2 of type dbl\n",
       "\\begin{tabular}{r|ll}\n",
       " (Intercept) & groups22\\\\\n",
       "\\hline\n",
       "\t 1 & 0\\\\\n",
       "\t 1 & 0\\\\\n",
       "\t 1 & 1\\\\\n",
       "\t 1 & 1\\\\\n",
       "\t 1 & 1\\\\\n",
       "\t 1 & 0\\\\\n",
       "\\end{tabular}\n"
      ],
      "text/markdown": [
       "\n",
       "A matrix: 6 × 2 of type dbl\n",
       "\n",
       "| (Intercept) | groups22 |\n",
       "|---|---|\n",
       "| 1 | 0 |\n",
       "| 1 | 0 |\n",
       "| 1 | 1 |\n",
       "| 1 | 1 |\n",
       "| 1 | 1 |\n",
       "| 1 | 0 |\n",
       "\n"
      ],
      "text/plain": [
       "  (Intercept) groups22\n",
       "1 1           0       \n",
       "2 1           0       \n",
       "3 1           1       \n",
       "4 1           1       \n",
       "5 1           1       \n",
       "6 1           0       "
      ]
     },
     "metadata": {},
     "output_type": "display_data"
    }
   ],
   "source": [
    "design = model.matrix(~groups2)\n",
    "design"
   ]
  },
  {
   "cell_type": "markdown",
   "metadata": {},
   "source": [
    "Estimate the dispersion: an edgeR function to build the linear models to calculate the fold-change. Variability is higher for less dispersed data. It will use different corrections on different data, to make it less stringent. The aim is to calculate the fold-change. All info are attached to the dataset."
   ]
  },
  {
   "cell_type": "code",
   "execution_count": 48,
   "metadata": {},
   "outputs": [],
   "source": [
    "data2 <- estimateDisp(data2, design)"
   ]
  },
  {
   "cell_type": "code",
   "execution_count": 52,
   "metadata": {},
   "outputs": [
    {
     "data": {
      "text/html": [
       "<ol class=list-inline>\n",
       "\t<li>'counts'</li>\n",
       "\t<li>'samples'</li>\n",
       "\t<li>'genes'</li>\n",
       "\t<li>'design'</li>\n",
       "\t<li>'common.dispersion'</li>\n",
       "\t<li>'trended.dispersion'</li>\n",
       "\t<li>'tagwise.dispersion'</li>\n",
       "\t<li>'AveLogCPM'</li>\n",
       "\t<li>'trend.method'</li>\n",
       "\t<li>'prior.df'</li>\n",
       "\t<li>'prior.n'</li>\n",
       "\t<li>'span'</li>\n",
       "</ol>\n"
      ],
      "text/latex": [
       "\\begin{enumerate*}\n",
       "\\item 'counts'\n",
       "\\item 'samples'\n",
       "\\item 'genes'\n",
       "\\item 'design'\n",
       "\\item 'common.dispersion'\n",
       "\\item 'trended.dispersion'\n",
       "\\item 'tagwise.dispersion'\n",
       "\\item 'AveLogCPM'\n",
       "\\item 'trend.method'\n",
       "\\item 'prior.df'\n",
       "\\item 'prior.n'\n",
       "\\item 'span'\n",
       "\\end{enumerate*}\n"
      ],
      "text/markdown": [
       "1. 'counts'\n",
       "2. 'samples'\n",
       "3. 'genes'\n",
       "4. 'design'\n",
       "5. 'common.dispersion'\n",
       "6. 'trended.dispersion'\n",
       "7. 'tagwise.dispersion'\n",
       "8. 'AveLogCPM'\n",
       "9. 'trend.method'\n",
       "10. 'prior.df'\n",
       "11. 'prior.n'\n",
       "12. 'span'\n",
       "\n",
       "\n"
      ],
      "text/plain": [
       " [1] \"counts\"             \"samples\"            \"genes\"             \n",
       " [4] \"design\"             \"common.dispersion\"  \"trended.dispersion\"\n",
       " [7] \"tagwise.dispersion\" \"AveLogCPM\"          \"trend.method\"      \n",
       "[10] \"prior.df\"           \"prior.n\"            \"span\"              "
      ]
     },
     "metadata": {},
     "output_type": "display_data"
    }
   ],
   "source": [
    "names(data2) # attached informations"
   ]
  },
  {
   "cell_type": "markdown",
   "metadata": {},
   "source": [
    "We then apply a GLM."
   ]
  },
  {
   "cell_type": "code",
   "execution_count": 55,
   "metadata": {},
   "outputs": [],
   "source": [
    "fit <- glmQLFit(data2, design) # fitting the model\n",
    "qlf <- glmQLFTest(fit, coef=2) # statistical test"
   ]
  },
  {
   "cell_type": "markdown",
   "metadata": {},
   "source": [
    "topTags will show us the result of the fitting ina DGEGLM object."
   ]
  },
  {
   "cell_type": "code",
   "execution_count": 56,
   "metadata": {},
   "outputs": [
    {
     "data": {
      "text/html": [
       "<dl>\n",
       "\t<dt>$table</dt>\n",
       "\t\t<dd><table>\n",
       "<caption>A data.frame: 10 × 6</caption>\n",
       "<thead>\n",
       "\t<tr><th></th><th scope=col>genes</th><th scope=col>logFC</th><th scope=col>logCPM</th><th scope=col>F</th><th scope=col>PValue</th><th scope=col>FDR</th></tr>\n",
       "\t<tr><th></th><th scope=col>&lt;fct&gt;</th><th scope=col>&lt;dbl&gt;</th><th scope=col>&lt;dbl&gt;</th><th scope=col>&lt;dbl&gt;</th><th scope=col>&lt;dbl&gt;</th><th scope=col>&lt;dbl&gt;</th></tr>\n",
       "</thead>\n",
       "<tbody>\n",
       "\t<tr><th scope=row>15325</th><td>ENSMUSG00000051726</td><td> 5.339874</td><td>6.756629</td><td>2950.7837</td><td>3.347345e-55</td><td>1.271690e-50</td></tr>\n",
       "\t<tr><th scope=row>5260</th><td>ENSMUSG00000025885</td><td>10.329885</td><td>6.489680</td><td>2811.8579</td><td>1.512093e-54</td><td>2.872295e-50</td></tr>\n",
       "\t<tr><th scope=row>870</th><td>ENSMUSG00000005566</td><td>-3.509059</td><td>7.027317</td><td>2068.2475</td><td>2.151825e-50</td><td>2.725000e-46</td></tr>\n",
       "\t<tr><th scope=row>7928</th><td>ENSMUSG00000030553</td><td> 3.109103</td><td>7.105370</td><td>1824.6874</td><td>1.039514e-48</td><td>9.873045e-45</td></tr>\n",
       "\t<tr><th scope=row>341</th><td>ENSMUSG00000001918</td><td>-2.212505</td><td>8.034318</td><td>1233.4925</td><td>1.699502e-43</td><td>1.291316e-39</td></tr>\n",
       "\t<tr><th scope=row>7575</th><td>ENSMUSG00000029833</td><td> 2.149791</td><td>7.883337</td><td> 986.8285</td><td>1.442083e-40</td><td>9.131027e-37</td></tr>\n",
       "\t<tr><th scope=row>16665</th><td>ENSMUSG00000057409</td><td> 1.851938</td><td>7.642062</td><td> 852.0912</td><td>1.162126e-38</td><td>6.307192e-35</td></tr>\n",
       "\t<tr><th scope=row>2009</th><td>ENSMUSG00000018800</td><td> 4.312535</td><td>4.397721</td><td> 847.9831</td><td>1.341827e-38</td><td>6.372171e-35</td></tr>\n",
       "\t<tr><th scope=row>12833</th><td>ENSMUSG00000043008</td><td> 1.837532</td><td>9.162491</td><td> 737.9876</td><td>8.195244e-37</td><td>3.459395e-33</td></tr>\n",
       "\t<tr><th scope=row>2051</th><td>ENSMUSG00000018995</td><td> 2.489607</td><td>5.473478</td><td> 716.5720</td><td>1.948422e-36</td><td>7.402249e-33</td></tr>\n",
       "</tbody>\n",
       "</table>\n",
       "</dd>\n",
       "\t<dt>$adjust.method</dt>\n",
       "\t\t<dd>'BH'</dd>\n",
       "\t<dt>$comparison</dt>\n",
       "\t\t<dd>'groups22'</dd>\n",
       "\t<dt>$test</dt>\n",
       "\t\t<dd>'glm'</dd>\n",
       "</dl>\n"
      ],
      "text/latex": [
       "\\begin{description}\n",
       "\\item[\\$table] A data.frame: 10 × 6\n",
       "\\begin{tabular}{r|llllll}\n",
       "  & genes & logFC & logCPM & F & PValue & FDR\\\\\n",
       "  & <fct> & <dbl> & <dbl> & <dbl> & <dbl> & <dbl>\\\\\n",
       "\\hline\n",
       "\t15325 & ENSMUSG00000051726 &  5.339874 & 6.756629 & 2950.7837 & 3.347345e-55 & 1.271690e-50\\\\\n",
       "\t5260 & ENSMUSG00000025885 & 10.329885 & 6.489680 & 2811.8579 & 1.512093e-54 & 2.872295e-50\\\\\n",
       "\t870 & ENSMUSG00000005566 & -3.509059 & 7.027317 & 2068.2475 & 2.151825e-50 & 2.725000e-46\\\\\n",
       "\t7928 & ENSMUSG00000030553 &  3.109103 & 7.105370 & 1824.6874 & 1.039514e-48 & 9.873045e-45\\\\\n",
       "\t341 & ENSMUSG00000001918 & -2.212505 & 8.034318 & 1233.4925 & 1.699502e-43 & 1.291316e-39\\\\\n",
       "\t7575 & ENSMUSG00000029833 &  2.149791 & 7.883337 &  986.8285 & 1.442083e-40 & 9.131027e-37\\\\\n",
       "\t16665 & ENSMUSG00000057409 &  1.851938 & 7.642062 &  852.0912 & 1.162126e-38 & 6.307192e-35\\\\\n",
       "\t2009 & ENSMUSG00000018800 &  4.312535 & 4.397721 &  847.9831 & 1.341827e-38 & 6.372171e-35\\\\\n",
       "\t12833 & ENSMUSG00000043008 &  1.837532 & 9.162491 &  737.9876 & 8.195244e-37 & 3.459395e-33\\\\\n",
       "\t2051 & ENSMUSG00000018995 &  2.489607 & 5.473478 &  716.5720 & 1.948422e-36 & 7.402249e-33\\\\\n",
       "\\end{tabular}\n",
       "\n",
       "\\item[\\$adjust.method] 'BH'\n",
       "\\item[\\$comparison] 'groups22'\n",
       "\\item[\\$test] 'glm'\n",
       "\\end{description}\n"
      ],
      "text/markdown": [
       "$table\n",
       ":   \n",
       "A data.frame: 10 × 6\n",
       "\n",
       "| <!--/--> | genes &lt;fct&gt; | logFC &lt;dbl&gt; | logCPM &lt;dbl&gt; | F &lt;dbl&gt; | PValue &lt;dbl&gt; | FDR &lt;dbl&gt; |\n",
       "|---|---|---|---|---|---|---|\n",
       "| 15325 | ENSMUSG00000051726 |  5.339874 | 6.756629 | 2950.7837 | 3.347345e-55 | 1.271690e-50 |\n",
       "| 5260 | ENSMUSG00000025885 | 10.329885 | 6.489680 | 2811.8579 | 1.512093e-54 | 2.872295e-50 |\n",
       "| 870 | ENSMUSG00000005566 | -3.509059 | 7.027317 | 2068.2475 | 2.151825e-50 | 2.725000e-46 |\n",
       "| 7928 | ENSMUSG00000030553 |  3.109103 | 7.105370 | 1824.6874 | 1.039514e-48 | 9.873045e-45 |\n",
       "| 341 | ENSMUSG00000001918 | -2.212505 | 8.034318 | 1233.4925 | 1.699502e-43 | 1.291316e-39 |\n",
       "| 7575 | ENSMUSG00000029833 |  2.149791 | 7.883337 |  986.8285 | 1.442083e-40 | 9.131027e-37 |\n",
       "| 16665 | ENSMUSG00000057409 |  1.851938 | 7.642062 |  852.0912 | 1.162126e-38 | 6.307192e-35 |\n",
       "| 2009 | ENSMUSG00000018800 |  4.312535 | 4.397721 |  847.9831 | 1.341827e-38 | 6.372171e-35 |\n",
       "| 12833 | ENSMUSG00000043008 |  1.837532 | 9.162491 |  737.9876 | 8.195244e-37 | 3.459395e-33 |\n",
       "| 2051 | ENSMUSG00000018995 |  2.489607 | 5.473478 |  716.5720 | 1.948422e-36 | 7.402249e-33 |\n",
       "\n",
       "\n",
       "$adjust.method\n",
       ":   'BH'\n",
       "$comparison\n",
       ":   'groups22'\n",
       "$test\n",
       ":   'glm'\n",
       "\n",
       "\n"
      ],
      "text/plain": [
       "Coefficient:  groups22 \n",
       "                   genes     logFC   logCPM         F       PValue          FDR\n",
       "15325 ENSMUSG00000051726  5.339874 6.756629 2950.7837 3.347345e-55 1.271690e-50\n",
       "5260  ENSMUSG00000025885 10.329885 6.489680 2811.8579 1.512093e-54 2.872295e-50\n",
       "870   ENSMUSG00000005566 -3.509059 7.027317 2068.2475 2.151825e-50 2.725000e-46\n",
       "7928  ENSMUSG00000030553  3.109103 7.105370 1824.6874 1.039514e-48 9.873045e-45\n",
       "341   ENSMUSG00000001918 -2.212505 8.034318 1233.4925 1.699502e-43 1.291316e-39\n",
       "7575  ENSMUSG00000029833  2.149791 7.883337  986.8285 1.442083e-40 9.131027e-37\n",
       "16665 ENSMUSG00000057409  1.851938 7.642062  852.0912 1.162126e-38 6.307192e-35\n",
       "2009  ENSMUSG00000018800  4.312535 4.397721  847.9831 1.341827e-38 6.372171e-35\n",
       "12833 ENSMUSG00000043008  1.837532 9.162491  737.9876 8.195244e-37 3.459395e-33\n",
       "2051  ENSMUSG00000018995  2.489607 5.473478  716.5720 1.948422e-36 7.402249e-33"
      ]
     },
     "metadata": {},
     "output_type": "display_data"
    }
   ],
   "source": [
    "topTags(qlf)"
   ]
  },
  {
   "cell_type": "markdown",
   "metadata": {},
   "source": [
    "Other statistical test:"
   ]
  },
  {
   "cell_type": "code",
   "execution_count": 59,
   "metadata": {},
   "outputs": [],
   "source": [
    "lrt <- glmLRT(fit) # linearized test, RTFM.\n"
   ]
  },
  {
   "cell_type": "code",
   "execution_count": 77,
   "metadata": {},
   "outputs": [],
   "source": [
    "ttags <- topTags(lrt) # gene per gene FoldChange - CountsPerMillion - LR(?) - PValue significance"
   ]
  },
  {
   "cell_type": "code",
   "execution_count": 81,
   "metadata": {},
   "outputs": [
    {
     "data": {
      "text/html": [
       "<table>\n",
       "<caption>A data.frame: 37991 × 4</caption>\n",
       "<thead>\n",
       "\t<tr><th scope=col>logFC</th><th scope=col>logCPM</th><th scope=col>LR</th><th scope=col>PValue</th></tr>\n",
       "\t<tr><th scope=col>&lt;dbl&gt;</th><th scope=col>&lt;dbl&gt;</th><th scope=col>&lt;dbl&gt;</th><th scope=col>&lt;dbl&gt;</th></tr>\n",
       "</thead>\n",
       "<tbody>\n",
       "\t<tr><td> 0.08391315</td><td> 7.82228700</td><td>1.15595495</td><td>0.28230603</td></tr>\n",
       "\t<tr><td> 0.00000000</td><td>-2.36036622</td><td>0.00000000</td><td>1.00000000</td></tr>\n",
       "\t<tr><td>-0.43466295</td><td> 3.60282180</td><td>8.65897671</td><td>0.00325454</td></tr>\n",
       "\t<tr><td> 0.00000000</td><td>-2.36036622</td><td>0.00000000</td><td>1.00000000</td></tr>\n",
       "\t<tr><td> 0.51851573</td><td>-0.16393952</td><td>1.18182164</td><td>0.27698546</td></tr>\n",
       "\t<tr><td>-2.63949888</td><td>-2.13814483</td><td>2.67613590</td><td>0.10186262</td></tr>\n",
       "\t<tr><td> 0.15030713</td><td> 5.69506634</td><td>2.43826616</td><td>0.11840704</td></tr>\n",
       "\t<tr><td>-0.59111915</td><td>-1.30162539</td><td>0.55504035</td><td>0.45626549</td></tr>\n",
       "\t<tr><td> 0.03963565</td><td> 7.50885530</td><td>0.25333084</td><td>0.61473944</td></tr>\n",
       "\t<tr><td>-0.04905527</td><td> 3.99961575</td><td>0.13547860</td><td>0.71281793</td></tr>\n",
       "\t<tr><td> 0.02273664</td><td> 5.62852750</td><td>0.05427171</td><td>0.81579021</td></tr>\n",
       "\t<tr><td>-0.47512029</td><td> 0.09823569</td><td>1.20495308</td><td>0.27233396</td></tr>\n",
       "\t<tr><td> 0.00000000</td><td>-2.36036622</td><td>0.00000000</td><td>1.00000000</td></tr>\n",
       "\t<tr><td> 0.00000000</td><td>-2.36036622</td><td>0.00000000</td><td>1.00000000</td></tr>\n",
       "\t<tr><td>-1.85489136</td><td>-2.24497459</td><td>1.34433595</td><td>0.24627076</td></tr>\n",
       "\t<tr><td> 0.08268493</td><td> 3.30132564</td><td>0.27077591</td><td>0.60281176</td></tr>\n",
       "\t<tr><td> 0.00000000</td><td>-2.36036622</td><td>0.00000000</td><td>1.00000000</td></tr>\n",
       "\t<tr><td>-0.59336647</td><td>-1.30151172</td><td>0.55908000</td><td>0.45463116</td></tr>\n",
       "\t<tr><td> 0.04007819</td><td> 8.54867938</td><td>0.27545686</td><td>0.59969453</td></tr>\n",
       "\t<tr><td>-0.14067427</td><td> 5.74249915</td><td>2.17579608</td><td>0.14019695</td></tr>\n",
       "\t<tr><td>-0.17844121</td><td> 5.66214855</td><td>3.38503662</td><td>0.06579072</td></tr>\n",
       "\t<tr><td>-0.08445892</td><td> 5.65422313</td><td>0.75661479</td><td>0.38439000</td></tr>\n",
       "\t<tr><td>-0.03961311</td><td> 5.17256116</td><td>0.13605663</td><td>0.71223316</td></tr>\n",
       "\t<tr><td> 0.04485658</td><td>-1.94550007</td><td>0.00132028</td><td>0.97101472</td></tr>\n",
       "\t<tr><td> 0.00000000</td><td>-2.36036622</td><td>0.00000000</td><td>1.00000000</td></tr>\n",
       "\t<tr><td> 0.00000000</td><td>-2.36036622</td><td>0.00000000</td><td>1.00000000</td></tr>\n",
       "\t<tr><td>-0.34566259</td><td>-0.90139205</td><td>0.28796343</td><td>0.59152858</td></tr>\n",
       "\t<tr><td> 0.11232684</td><td> 5.30748954</td><td>1.14892530</td><td>0.28377424</td></tr>\n",
       "\t<tr><td>-0.05735342</td><td> 5.92723969</td><td>0.38954381</td><td>0.53253929</td></tr>\n",
       "\t<tr><td> 1.33830643</td><td>-1.94534872</td><td>1.09598587</td><td>0.29514873</td></tr>\n",
       "\t<tr><td>⋮</td><td>⋮</td><td>⋮</td><td>⋮</td></tr>\n",
       "\t<tr><td> 0.000000</td><td>-2.360366</td><td>0.0000000</td><td>1.0000000</td></tr>\n",
       "\t<tr><td> 0.000000</td><td>-2.360366</td><td>0.0000000</td><td>1.0000000</td></tr>\n",
       "\t<tr><td> 0.000000</td><td>-2.360366</td><td>0.0000000</td><td>1.0000000</td></tr>\n",
       "\t<tr><td> 0.000000</td><td>-2.360366</td><td>0.0000000</td><td>1.0000000</td></tr>\n",
       "\t<tr><td> 0.000000</td><td>-2.360366</td><td>0.0000000</td><td>1.0000000</td></tr>\n",
       "\t<tr><td>-0.463031</td><td>-1.857757</td><td>0.1628194</td><td>0.6865739</td></tr>\n",
       "\t<tr><td> 0.000000</td><td>-2.360366</td><td>0.0000000</td><td>1.0000000</td></tr>\n",
       "\t<tr><td> 0.000000</td><td>-2.360366</td><td>0.0000000</td><td>1.0000000</td></tr>\n",
       "\t<tr><td> 0.000000</td><td>-2.360366</td><td>0.0000000</td><td>1.0000000</td></tr>\n",
       "\t<tr><td> 0.000000</td><td>-2.360366</td><td>0.0000000</td><td>1.0000000</td></tr>\n",
       "\t<tr><td> 0.000000</td><td>-2.360366</td><td>0.0000000</td><td>1.0000000</td></tr>\n",
       "\t<tr><td> 0.000000</td><td>-2.360366</td><td>0.0000000</td><td>1.0000000</td></tr>\n",
       "\t<tr><td> 1.893768</td><td>-2.244852</td><td>1.4165636</td><td>0.2339698</td></tr>\n",
       "\t<tr><td> 0.000000</td><td>-2.360366</td><td>0.0000000</td><td>1.0000000</td></tr>\n",
       "\t<tr><td> 0.000000</td><td>-2.360366</td><td>0.0000000</td><td>1.0000000</td></tr>\n",
       "\t<tr><td> 0.000000</td><td>-2.360366</td><td>0.0000000</td><td>1.0000000</td></tr>\n",
       "\t<tr><td> 0.000000</td><td>-2.360366</td><td>0.0000000</td><td>1.0000000</td></tr>\n",
       "\t<tr><td> 0.000000</td><td>-2.360366</td><td>0.0000000</td><td>1.0000000</td></tr>\n",
       "\t<tr><td> 0.000000</td><td>-2.360366</td><td>0.0000000</td><td>1.0000000</td></tr>\n",
       "\t<tr><td> 0.000000</td><td>-2.360366</td><td>0.0000000</td><td>1.0000000</td></tr>\n",
       "\t<tr><td> 0.000000</td><td>-2.360366</td><td>0.0000000</td><td>1.0000000</td></tr>\n",
       "\t<tr><td> 0.000000</td><td>-2.360366</td><td>0.0000000</td><td>1.0000000</td></tr>\n",
       "\t<tr><td> 0.000000</td><td>-2.360366</td><td>0.0000000</td><td>1.0000000</td></tr>\n",
       "\t<tr><td> 0.000000</td><td>-2.360366</td><td>0.0000000</td><td>1.0000000</td></tr>\n",
       "\t<tr><td> 0.000000</td><td>-2.360366</td><td>0.0000000</td><td>1.0000000</td></tr>\n",
       "\t<tr><td> 0.000000</td><td>-2.360366</td><td>0.0000000</td><td>1.0000000</td></tr>\n",
       "\t<tr><td> 0.000000</td><td>-2.360366</td><td>0.0000000</td><td>1.0000000</td></tr>\n",
       "\t<tr><td> 0.000000</td><td>-2.360366</td><td>0.0000000</td><td>1.0000000</td></tr>\n",
       "\t<tr><td> 0.000000</td><td>-2.360366</td><td>0.0000000</td><td>1.0000000</td></tr>\n",
       "\t<tr><td> 0.000000</td><td>-2.360366</td><td>0.0000000</td><td>1.0000000</td></tr>\n",
       "</tbody>\n",
       "</table>\n"
      ],
      "text/latex": [
       "A data.frame: 37991 × 4\n",
       "\\begin{tabular}{r|llll}\n",
       " logFC & logCPM & LR & PValue\\\\\n",
       " <dbl> & <dbl> & <dbl> & <dbl>\\\\\n",
       "\\hline\n",
       "\t  0.08391315 &  7.82228700 & 1.15595495 & 0.28230603\\\\\n",
       "\t  0.00000000 & -2.36036622 & 0.00000000 & 1.00000000\\\\\n",
       "\t -0.43466295 &  3.60282180 & 8.65897671 & 0.00325454\\\\\n",
       "\t  0.00000000 & -2.36036622 & 0.00000000 & 1.00000000\\\\\n",
       "\t  0.51851573 & -0.16393952 & 1.18182164 & 0.27698546\\\\\n",
       "\t -2.63949888 & -2.13814483 & 2.67613590 & 0.10186262\\\\\n",
       "\t  0.15030713 &  5.69506634 & 2.43826616 & 0.11840704\\\\\n",
       "\t -0.59111915 & -1.30162539 & 0.55504035 & 0.45626549\\\\\n",
       "\t  0.03963565 &  7.50885530 & 0.25333084 & 0.61473944\\\\\n",
       "\t -0.04905527 &  3.99961575 & 0.13547860 & 0.71281793\\\\\n",
       "\t  0.02273664 &  5.62852750 & 0.05427171 & 0.81579021\\\\\n",
       "\t -0.47512029 &  0.09823569 & 1.20495308 & 0.27233396\\\\\n",
       "\t  0.00000000 & -2.36036622 & 0.00000000 & 1.00000000\\\\\n",
       "\t  0.00000000 & -2.36036622 & 0.00000000 & 1.00000000\\\\\n",
       "\t -1.85489136 & -2.24497459 & 1.34433595 & 0.24627076\\\\\n",
       "\t  0.08268493 &  3.30132564 & 0.27077591 & 0.60281176\\\\\n",
       "\t  0.00000000 & -2.36036622 & 0.00000000 & 1.00000000\\\\\n",
       "\t -0.59336647 & -1.30151172 & 0.55908000 & 0.45463116\\\\\n",
       "\t  0.04007819 &  8.54867938 & 0.27545686 & 0.59969453\\\\\n",
       "\t -0.14067427 &  5.74249915 & 2.17579608 & 0.14019695\\\\\n",
       "\t -0.17844121 &  5.66214855 & 3.38503662 & 0.06579072\\\\\n",
       "\t -0.08445892 &  5.65422313 & 0.75661479 & 0.38439000\\\\\n",
       "\t -0.03961311 &  5.17256116 & 0.13605663 & 0.71223316\\\\\n",
       "\t  0.04485658 & -1.94550007 & 0.00132028 & 0.97101472\\\\\n",
       "\t  0.00000000 & -2.36036622 & 0.00000000 & 1.00000000\\\\\n",
       "\t  0.00000000 & -2.36036622 & 0.00000000 & 1.00000000\\\\\n",
       "\t -0.34566259 & -0.90139205 & 0.28796343 & 0.59152858\\\\\n",
       "\t  0.11232684 &  5.30748954 & 1.14892530 & 0.28377424\\\\\n",
       "\t -0.05735342 &  5.92723969 & 0.38954381 & 0.53253929\\\\\n",
       "\t  1.33830643 & -1.94534872 & 1.09598587 & 0.29514873\\\\\n",
       "\t ⋮ & ⋮ & ⋮ & ⋮\\\\\n",
       "\t  0.000000 & -2.360366 & 0.0000000 & 1.0000000\\\\\n",
       "\t  0.000000 & -2.360366 & 0.0000000 & 1.0000000\\\\\n",
       "\t  0.000000 & -2.360366 & 0.0000000 & 1.0000000\\\\\n",
       "\t  0.000000 & -2.360366 & 0.0000000 & 1.0000000\\\\\n",
       "\t  0.000000 & -2.360366 & 0.0000000 & 1.0000000\\\\\n",
       "\t -0.463031 & -1.857757 & 0.1628194 & 0.6865739\\\\\n",
       "\t  0.000000 & -2.360366 & 0.0000000 & 1.0000000\\\\\n",
       "\t  0.000000 & -2.360366 & 0.0000000 & 1.0000000\\\\\n",
       "\t  0.000000 & -2.360366 & 0.0000000 & 1.0000000\\\\\n",
       "\t  0.000000 & -2.360366 & 0.0000000 & 1.0000000\\\\\n",
       "\t  0.000000 & -2.360366 & 0.0000000 & 1.0000000\\\\\n",
       "\t  0.000000 & -2.360366 & 0.0000000 & 1.0000000\\\\\n",
       "\t  1.893768 & -2.244852 & 1.4165636 & 0.2339698\\\\\n",
       "\t  0.000000 & -2.360366 & 0.0000000 & 1.0000000\\\\\n",
       "\t  0.000000 & -2.360366 & 0.0000000 & 1.0000000\\\\\n",
       "\t  0.000000 & -2.360366 & 0.0000000 & 1.0000000\\\\\n",
       "\t  0.000000 & -2.360366 & 0.0000000 & 1.0000000\\\\\n",
       "\t  0.000000 & -2.360366 & 0.0000000 & 1.0000000\\\\\n",
       "\t  0.000000 & -2.360366 & 0.0000000 & 1.0000000\\\\\n",
       "\t  0.000000 & -2.360366 & 0.0000000 & 1.0000000\\\\\n",
       "\t  0.000000 & -2.360366 & 0.0000000 & 1.0000000\\\\\n",
       "\t  0.000000 & -2.360366 & 0.0000000 & 1.0000000\\\\\n",
       "\t  0.000000 & -2.360366 & 0.0000000 & 1.0000000\\\\\n",
       "\t  0.000000 & -2.360366 & 0.0000000 & 1.0000000\\\\\n",
       "\t  0.000000 & -2.360366 & 0.0000000 & 1.0000000\\\\\n",
       "\t  0.000000 & -2.360366 & 0.0000000 & 1.0000000\\\\\n",
       "\t  0.000000 & -2.360366 & 0.0000000 & 1.0000000\\\\\n",
       "\t  0.000000 & -2.360366 & 0.0000000 & 1.0000000\\\\\n",
       "\t  0.000000 & -2.360366 & 0.0000000 & 1.0000000\\\\\n",
       "\t  0.000000 & -2.360366 & 0.0000000 & 1.0000000\\\\\n",
       "\\end{tabular}\n"
      ],
      "text/markdown": [
       "\n",
       "A data.frame: 37991 × 4\n",
       "\n",
       "| logFC &lt;dbl&gt; | logCPM &lt;dbl&gt; | LR &lt;dbl&gt; | PValue &lt;dbl&gt; |\n",
       "|---|---|---|---|\n",
       "|  0.08391315 |  7.82228700 | 1.15595495 | 0.28230603 |\n",
       "|  0.00000000 | -2.36036622 | 0.00000000 | 1.00000000 |\n",
       "| -0.43466295 |  3.60282180 | 8.65897671 | 0.00325454 |\n",
       "|  0.00000000 | -2.36036622 | 0.00000000 | 1.00000000 |\n",
       "|  0.51851573 | -0.16393952 | 1.18182164 | 0.27698546 |\n",
       "| -2.63949888 | -2.13814483 | 2.67613590 | 0.10186262 |\n",
       "|  0.15030713 |  5.69506634 | 2.43826616 | 0.11840704 |\n",
       "| -0.59111915 | -1.30162539 | 0.55504035 | 0.45626549 |\n",
       "|  0.03963565 |  7.50885530 | 0.25333084 | 0.61473944 |\n",
       "| -0.04905527 |  3.99961575 | 0.13547860 | 0.71281793 |\n",
       "|  0.02273664 |  5.62852750 | 0.05427171 | 0.81579021 |\n",
       "| -0.47512029 |  0.09823569 | 1.20495308 | 0.27233396 |\n",
       "|  0.00000000 | -2.36036622 | 0.00000000 | 1.00000000 |\n",
       "|  0.00000000 | -2.36036622 | 0.00000000 | 1.00000000 |\n",
       "| -1.85489136 | -2.24497459 | 1.34433595 | 0.24627076 |\n",
       "|  0.08268493 |  3.30132564 | 0.27077591 | 0.60281176 |\n",
       "|  0.00000000 | -2.36036622 | 0.00000000 | 1.00000000 |\n",
       "| -0.59336647 | -1.30151172 | 0.55908000 | 0.45463116 |\n",
       "|  0.04007819 |  8.54867938 | 0.27545686 | 0.59969453 |\n",
       "| -0.14067427 |  5.74249915 | 2.17579608 | 0.14019695 |\n",
       "| -0.17844121 |  5.66214855 | 3.38503662 | 0.06579072 |\n",
       "| -0.08445892 |  5.65422313 | 0.75661479 | 0.38439000 |\n",
       "| -0.03961311 |  5.17256116 | 0.13605663 | 0.71223316 |\n",
       "|  0.04485658 | -1.94550007 | 0.00132028 | 0.97101472 |\n",
       "|  0.00000000 | -2.36036622 | 0.00000000 | 1.00000000 |\n",
       "|  0.00000000 | -2.36036622 | 0.00000000 | 1.00000000 |\n",
       "| -0.34566259 | -0.90139205 | 0.28796343 | 0.59152858 |\n",
       "|  0.11232684 |  5.30748954 | 1.14892530 | 0.28377424 |\n",
       "| -0.05735342 |  5.92723969 | 0.38954381 | 0.53253929 |\n",
       "|  1.33830643 | -1.94534872 | 1.09598587 | 0.29514873 |\n",
       "| ⋮ | ⋮ | ⋮ | ⋮ |\n",
       "|  0.000000 | -2.360366 | 0.0000000 | 1.0000000 |\n",
       "|  0.000000 | -2.360366 | 0.0000000 | 1.0000000 |\n",
       "|  0.000000 | -2.360366 | 0.0000000 | 1.0000000 |\n",
       "|  0.000000 | -2.360366 | 0.0000000 | 1.0000000 |\n",
       "|  0.000000 | -2.360366 | 0.0000000 | 1.0000000 |\n",
       "| -0.463031 | -1.857757 | 0.1628194 | 0.6865739 |\n",
       "|  0.000000 | -2.360366 | 0.0000000 | 1.0000000 |\n",
       "|  0.000000 | -2.360366 | 0.0000000 | 1.0000000 |\n",
       "|  0.000000 | -2.360366 | 0.0000000 | 1.0000000 |\n",
       "|  0.000000 | -2.360366 | 0.0000000 | 1.0000000 |\n",
       "|  0.000000 | -2.360366 | 0.0000000 | 1.0000000 |\n",
       "|  0.000000 | -2.360366 | 0.0000000 | 1.0000000 |\n",
       "|  1.893768 | -2.244852 | 1.4165636 | 0.2339698 |\n",
       "|  0.000000 | -2.360366 | 0.0000000 | 1.0000000 |\n",
       "|  0.000000 | -2.360366 | 0.0000000 | 1.0000000 |\n",
       "|  0.000000 | -2.360366 | 0.0000000 | 1.0000000 |\n",
       "|  0.000000 | -2.360366 | 0.0000000 | 1.0000000 |\n",
       "|  0.000000 | -2.360366 | 0.0000000 | 1.0000000 |\n",
       "|  0.000000 | -2.360366 | 0.0000000 | 1.0000000 |\n",
       "|  0.000000 | -2.360366 | 0.0000000 | 1.0000000 |\n",
       "|  0.000000 | -2.360366 | 0.0000000 | 1.0000000 |\n",
       "|  0.000000 | -2.360366 | 0.0000000 | 1.0000000 |\n",
       "|  0.000000 | -2.360366 | 0.0000000 | 1.0000000 |\n",
       "|  0.000000 | -2.360366 | 0.0000000 | 1.0000000 |\n",
       "|  0.000000 | -2.360366 | 0.0000000 | 1.0000000 |\n",
       "|  0.000000 | -2.360366 | 0.0000000 | 1.0000000 |\n",
       "|  0.000000 | -2.360366 | 0.0000000 | 1.0000000 |\n",
       "|  0.000000 | -2.360366 | 0.0000000 | 1.0000000 |\n",
       "|  0.000000 | -2.360366 | 0.0000000 | 1.0000000 |\n",
       "|  0.000000 | -2.360366 | 0.0000000 | 1.0000000 |\n",
       "\n"
      ],
      "text/plain": [
       "      logFC       logCPM      LR         PValue    \n",
       "1      0.08391315  7.82228700 1.15595495 0.28230603\n",
       "2      0.00000000 -2.36036622 0.00000000 1.00000000\n",
       "3     -0.43466295  3.60282180 8.65897671 0.00325454\n",
       "4      0.00000000 -2.36036622 0.00000000 1.00000000\n",
       "5      0.51851573 -0.16393952 1.18182164 0.27698546\n",
       "6     -2.63949888 -2.13814483 2.67613590 0.10186262\n",
       "7      0.15030713  5.69506634 2.43826616 0.11840704\n",
       "8     -0.59111915 -1.30162539 0.55504035 0.45626549\n",
       "9      0.03963565  7.50885530 0.25333084 0.61473944\n",
       "10    -0.04905527  3.99961575 0.13547860 0.71281793\n",
       "11     0.02273664  5.62852750 0.05427171 0.81579021\n",
       "12    -0.47512029  0.09823569 1.20495308 0.27233396\n",
       "13     0.00000000 -2.36036622 0.00000000 1.00000000\n",
       "14     0.00000000 -2.36036622 0.00000000 1.00000000\n",
       "15    -1.85489136 -2.24497459 1.34433595 0.24627076\n",
       "16     0.08268493  3.30132564 0.27077591 0.60281176\n",
       "17     0.00000000 -2.36036622 0.00000000 1.00000000\n",
       "18    -0.59336647 -1.30151172 0.55908000 0.45463116\n",
       "19     0.04007819  8.54867938 0.27545686 0.59969453\n",
       "20    -0.14067427  5.74249915 2.17579608 0.14019695\n",
       "21    -0.17844121  5.66214855 3.38503662 0.06579072\n",
       "22    -0.08445892  5.65422313 0.75661479 0.38439000\n",
       "23    -0.03961311  5.17256116 0.13605663 0.71223316\n",
       "24     0.04485658 -1.94550007 0.00132028 0.97101472\n",
       "25     0.00000000 -2.36036622 0.00000000 1.00000000\n",
       "26     0.00000000 -2.36036622 0.00000000 1.00000000\n",
       "27    -0.34566259 -0.90139205 0.28796343 0.59152858\n",
       "28     0.11232684  5.30748954 1.14892530 0.28377424\n",
       "29    -0.05735342  5.92723969 0.38954381 0.53253929\n",
       "30     1.33830643 -1.94534872 1.09598587 0.29514873\n",
       "⋮     ⋮           ⋮           ⋮          ⋮         \n",
       "37962  0.000000   -2.360366   0.0000000  1.0000000 \n",
       "37963  0.000000   -2.360366   0.0000000  1.0000000 \n",
       "37964  0.000000   -2.360366   0.0000000  1.0000000 \n",
       "37965  0.000000   -2.360366   0.0000000  1.0000000 \n",
       "37966  0.000000   -2.360366   0.0000000  1.0000000 \n",
       "37967 -0.463031   -1.857757   0.1628194  0.6865739 \n",
       "37968  0.000000   -2.360366   0.0000000  1.0000000 \n",
       "37969  0.000000   -2.360366   0.0000000  1.0000000 \n",
       "37970  0.000000   -2.360366   0.0000000  1.0000000 \n",
       "37971  0.000000   -2.360366   0.0000000  1.0000000 \n",
       "37972  0.000000   -2.360366   0.0000000  1.0000000 \n",
       "37973  0.000000   -2.360366   0.0000000  1.0000000 \n",
       "37974  1.893768   -2.244852   1.4165636  0.2339698 \n",
       "37975  0.000000   -2.360366   0.0000000  1.0000000 \n",
       "37976  0.000000   -2.360366   0.0000000  1.0000000 \n",
       "37977  0.000000   -2.360366   0.0000000  1.0000000 \n",
       "37978  0.000000   -2.360366   0.0000000  1.0000000 \n",
       "37979  0.000000   -2.360366   0.0000000  1.0000000 \n",
       "37980  0.000000   -2.360366   0.0000000  1.0000000 \n",
       "37981  0.000000   -2.360366   0.0000000  1.0000000 \n",
       "37982  0.000000   -2.360366   0.0000000  1.0000000 \n",
       "37983  0.000000   -2.360366   0.0000000  1.0000000 \n",
       "37984  0.000000   -2.360366   0.0000000  1.0000000 \n",
       "37985  0.000000   -2.360366   0.0000000  1.0000000 \n",
       "37986  0.000000   -2.360366   0.0000000  1.0000000 \n",
       "37987  0.000000   -2.360366   0.0000000  1.0000000 \n",
       "37988  0.000000   -2.360366   0.0000000  1.0000000 \n",
       "37989  0.000000   -2.360366   0.0000000  1.0000000 \n",
       "37990  0.000000   -2.360366   0.0000000  1.0000000 \n",
       "37991  0.000000   -2.360366   0.0000000  1.0000000 "
      ]
     },
     "metadata": {},
     "output_type": "display_data"
    }
   ],
   "source": []
  },
  {
   "cell_type": "code",
   "execution_count": 82,
   "metadata": {},
   "outputs": [
    {
     "data": {
      "text/html": [
       "4.77969642039313e-138"
      ],
      "text/latex": [
       "4.77969642039313e-138"
      ],
      "text/markdown": [
       "4.77969642039313e-138"
      ],
      "text/plain": [
       "[1] 4.779696e-138"
      ]
     },
     "metadata": {},
     "output_type": "display_data"
    }
   ],
   "source": [
    "max(ttags$table$FDR)"
   ]
  },
  {
   "cell_type": "code",
   "execution_count": 92,
   "metadata": {},
   "outputs": [
    {
     "data": {
      "text/html": [
       "<ol class=list-inline>\n",
       "\t<li>1024</li>\n",
       "\t<li>6</li>\n",
       "</ol>\n"
      ],
      "text/latex": [
       "\\begin{enumerate*}\n",
       "\\item 1024\n",
       "\\item 6\n",
       "\\end{enumerate*}\n"
      ],
      "text/markdown": [
       "1. 1024\n",
       "2. 6\n",
       "\n",
       "\n"
      ],
      "text/plain": [
       "[1] 1024    6"
      ]
     },
     "metadata": {},
     "output_type": "display_data"
    }
   ],
   "source": [
    "dim(topTags(lrt, p.value = 0.05, n=999999999))\n",
    "res <- topTags(lrt, p.value = 0.05, n=999999999)"
   ]
  },
  {
   "cell_type": "code",
   "execution_count": 96,
   "metadata": {},
   "outputs": [
    {
     "data": {
      "text/html": [
       "<table>\n",
       "<caption>A data.frame: 1024 × 6</caption>\n",
       "<thead>\n",
       "\t<tr><th></th><th scope=col>genes</th><th scope=col>logFC</th><th scope=col>logCPM</th><th scope=col>LR</th><th scope=col>PValue</th><th scope=col>FDR</th></tr>\n",
       "\t<tr><th></th><th scope=col>&lt;fct&gt;</th><th scope=col>&lt;dbl&gt;</th><th scope=col>&lt;dbl&gt;</th><th scope=col>&lt;dbl&gt;</th><th scope=col>&lt;dbl&gt;</th><th scope=col>&lt;dbl&gt;</th></tr>\n",
       "</thead>\n",
       "<tbody>\n",
       "\t<tr><th scope=row>5260</th><td>ENSMUSG00000025885</td><td>10.329885</td><td>6.489680</td><td>2639.7591</td><td> 0.000000e+00</td><td> 0.000000e+00</td></tr>\n",
       "\t<tr><th scope=row>15325</th><td>ENSMUSG00000051726</td><td> 5.339874</td><td>6.756629</td><td>2135.3697</td><td> 0.000000e+00</td><td> 0.000000e+00</td></tr>\n",
       "\t<tr><th scope=row>870</th><td>ENSMUSG00000005566</td><td>-3.509059</td><td>7.027317</td><td>1385.2840</td><td>3.313289e-303</td><td>4.195839e-299</td></tr>\n",
       "\t<tr><th scope=row>7928</th><td>ENSMUSG00000030553</td><td> 3.109103</td><td>7.105370</td><td>1179.3873</td><td>1.840963e-258</td><td>1.748501e-254</td></tr>\n",
       "\t<tr><th scope=row>956</th><td>ENSMUSG00000006154</td><td>-5.872378</td><td>4.924604</td><td>1050.5702</td><td>1.829721e-230</td><td>1.390259e-226</td></tr>\n",
       "\t<tr><th scope=row>341</th><td>ENSMUSG00000001918</td><td>-2.212505</td><td>8.034318</td><td> 724.6855</td><td>1.281788e-159</td><td>8.116068e-156</td></tr>\n",
       "\t<tr><th scope=row>7575</th><td>ENSMUSG00000029833</td><td> 2.149791</td><td>7.883337</td><td> 681.8709</td><td>2.618574e-150</td><td>1.421175e-146</td></tr>\n",
       "\t<tr><th scope=row>2009</th><td>ENSMUSG00000018800</td><td> 4.312535</td><td>4.397721</td><td> 668.1751</td><td>2.491506e-147</td><td>1.183185e-143</td></tr>\n",
       "\t<tr><th scope=row>9792</th><td>ENSMUSG00000034634</td><td> 4.909676</td><td>4.092185</td><td> 649.8178</td><td>2.447585e-143</td><td>1.033180e-139</td></tr>\n",
       "\t<tr><th scope=row>8008</th><td>ENSMUSG00000030703</td><td>-3.969739</td><td>4.556763</td><td> 641.9506</td><td>1.258113e-141</td><td>4.779696e-138</td></tr>\n",
       "\t<tr><th scope=row>14666</th><td>ENSMUSG00000049436</td><td>10.706881</td><td>3.357133</td><td> 576.8953</td><td>1.775910e-127</td><td>6.133510e-124</td></tr>\n",
       "\t<tr><th scope=row>35916</th><td>ENSMUSG00000091679</td><td> 4.413335</td><td>4.016612</td><td> 570.0820</td><td>5.388571e-126</td><td>1.705977e-122</td></tr>\n",
       "\t<tr><th scope=row>12833</th><td>ENSMUSG00000043008</td><td> 1.837532</td><td>9.162491</td><td> 554.1551</td><td>1.570731e-122</td><td>4.590280e-119</td></tr>\n",
       "\t<tr><th scope=row>34699</th><td>ENSMUSG00000090433</td><td>10.576623</td><td>3.227942</td><td> 535.4671</td><td>1.826261e-118</td><td>4.955819e-115</td></tr>\n",
       "\t<tr><th scope=row>16665</th><td>ENSMUSG00000057409</td><td> 1.851938</td><td>7.642062</td><td> 511.9608</td><td>2.374623e-113</td><td>6.014286e-110</td></tr>\n",
       "\t<tr><th scope=row>13306</th><td>ENSMUSG00000044678</td><td> 2.685969</td><td>5.250066</td><td> 503.5259</td><td>1.624853e-111</td><td>3.858112e-108</td></tr>\n",
       "\t<tr><th scope=row>2051</th><td>ENSMUSG00000018995</td><td> 2.489607</td><td>5.473478</td><td> 495.8682</td><td>7.532965e-110</td><td>1.683440e-106</td></tr>\n",
       "\t<tr><th scope=row>681</th><td>ENSMUSG00000004113</td><td> 6.533757</td><td>3.262734</td><td> 490.8348</td><td>9.379219e-109</td><td>1.979588e-105</td></tr>\n",
       "\t<tr><th scope=row>15118</th><td>ENSMUSG00000051000</td><td> 2.928490</td><td>4.783032</td><td> 484.7358</td><td>1.991859e-107</td><td>3.982775e-104</td></tr>\n",
       "\t<tr><th scope=row>4583</th><td>ENSMUSG00000024561</td><td> 1.617837</td><td>7.751648</td><td> 401.2899</td><td> 2.884939e-89</td><td> 5.480086e-86</td></tr>\n",
       "\t<tr><th scope=row>18067</th><td>ENSMUSG00000062908</td><td> 1.866838</td><td>6.091116</td><td> 393.1326</td><td> 1.721484e-87</td><td> 3.114328e-84</td></tr>\n",
       "\t<tr><th scope=row>9614</th><td>ENSMUSG00000034156</td><td> 1.820716</td><td>6.219831</td><td> 391.3237</td><td> 4.263008e-87</td><td> 7.361634e-84</td></tr>\n",
       "\t<tr><th scope=row>2353</th><td>ENSMUSG00000020142</td><td> 4.313773</td><td>3.350503</td><td> 389.2055</td><td> 1.232633e-86</td><td> 2.036042e-83</td></tr>\n",
       "\t<tr><th scope=row>11992</th><td>ENSMUSG00000040498</td><td> 1.760245</td><td>6.246852</td><td> 370.7950</td><td> 1.256318e-82</td><td> 1.988699e-79</td></tr>\n",
       "\t<tr><th scope=row>5137</th><td>ENSMUSG00000025558</td><td> 1.514451</td><td>6.905846</td><td> 326.5807</td><td> 5.339853e-73</td><td> 8.114655e-70</td></tr>\n",
       "\t<tr><th scope=row>12077</th><td>ENSMUSG00000040703</td><td> 2.560123</td><td>4.290027</td><td> 325.9239</td><td> 7.422982e-73</td><td> 1.084640e-69</td></tr>\n",
       "\t<tr><th scope=row>514</th><td>ENSMUSG00000002980</td><td>-4.290043</td><td>3.037729</td><td> 314.9106</td><td> 1.860003e-70</td><td> 2.617161e-67</td></tr>\n",
       "\t<tr><th scope=row>15368</th><td>ENSMUSG00000051934</td><td> 4.481318</td><td>2.871152</td><td> 304.6839</td><td> 3.142988e-68</td><td> 4.264473e-65</td></tr>\n",
       "\t<tr><th scope=row>1039</th><td>ENSMUSG00000006587</td><td> 3.072343</td><td>3.511285</td><td> 287.4700</td><td> 1.769379e-64</td><td> 2.317948e-61</td></tr>\n",
       "\t<tr><th scope=row>5767</th><td>ENSMUSG00000026767</td><td> 1.515696</td><td>6.286881</td><td> 284.8622</td><td> 6.547509e-64</td><td> 8.291547e-61</td></tr>\n",
       "\t<tr><th scope=row>⋮</th><td>⋮</td><td>⋮</td><td>⋮</td><td>⋮</td><td>⋮</td><td>⋮</td></tr>\n",
       "\t<tr><th scope=row>14873</th><td>ENSMUSG00000050148</td><td> 0.3160936</td><td> 5.6346456</td><td>10.48606</td><td>0.001202787</td><td>0.04592470</td></tr>\n",
       "\t<tr><th scope=row>5388</th><td>ENSMUSG00000026110</td><td> 0.3193793</td><td> 5.5858095</td><td>10.48146</td><td>0.001205784</td><td>0.04594256</td></tr>\n",
       "\t<tr><th scope=row>13723</th><td>ENSMUSG00000046111</td><td>-0.2801171</td><td> 6.3138828</td><td>10.48137</td><td>0.001205844</td><td>0.04594256</td></tr>\n",
       "\t<tr><th scope=row>10314</th><td>ENSMUSG00000036169</td><td>-4.4598779</td><td>-1.6233202</td><td>10.47978</td><td>0.001206883</td><td>0.04594256</td></tr>\n",
       "\t<tr><th scope=row>25785</th><td>ENSMUSG00000080747</td><td>-0.5292596</td><td> 3.2222470</td><td>10.47121</td><td>0.001212495</td><td>0.04611002</td></tr>\n",
       "\t<tr><th scope=row>21869</th><td>ENSMUSG00000074151</td><td> 0.2420470</td><td> 9.5246037</td><td>10.44240</td><td>0.001231549</td><td>0.04678780</td></tr>\n",
       "\t<tr><th scope=row>23302</th><td>ENSMUSG00000076665</td><td>-4.4497835</td><td>-1.6240812</td><td>10.42701</td><td>0.001241856</td><td>0.04713223</td></tr>\n",
       "\t<tr><th scope=row>3723</th><td>ENSMUSG00000022475</td><td>-0.2453226</td><td> 8.7784779</td><td>10.42241</td><td>0.001244957</td><td>0.04720274</td></tr>\n",
       "\t<tr><th scope=row>30269</th><td>ENSMUSG00000085531</td><td> 0.9809567</td><td> 1.2156084</td><td>10.41120</td><td>0.001252536</td><td>0.04740604</td></tr>\n",
       "\t<tr><th scope=row>13062</th><td>ENSMUSG00000043924</td><td> 0.3901561</td><td> 4.4857454</td><td>10.41079</td><td>0.001252814</td><td>0.04740604</td></tr>\n",
       "\t<tr><th scope=row>17100</th><td>ENSMUSG00000059159</td><td>-0.4260882</td><td> 4.0593379</td><td>10.39666</td><td>0.001262435</td><td>0.04772256</td></tr>\n",
       "\t<tr><th scope=row>9340</th><td>ENSMUSG00000033282</td><td> 0.5894519</td><td> 2.8244309</td><td>10.38179</td><td>0.001272641</td><td>0.04806054</td></tr>\n",
       "\t<tr><th scope=row>7701</th><td>ENSMUSG00000030134</td><td>-0.4861705</td><td> 3.5265558</td><td>10.37443</td><td>0.001277723</td><td>0.04815212</td></tr>\n",
       "\t<tr><th scope=row>20815</th><td>ENSMUSG00000070883</td><td> 0.6583878</td><td> 2.4657909</td><td>10.37295</td><td>0.001278750</td><td>0.04815212</td></tr>\n",
       "\t<tr><th scope=row>11715</th><td>ENSMUSG00000039765</td><td>-1.1949672</td><td> 0.6534006</td><td>10.37217</td><td>0.001279290</td><td>0.04815212</td></tr>\n",
       "\t<tr><th scope=row>17847</th><td>ENSMUSG00000062101</td><td> 0.5512586</td><td> 3.0461977</td><td>10.37095</td><td>0.001280136</td><td>0.04815212</td></tr>\n",
       "\t<tr><th scope=row>6912</th><td>ENSMUSG00000028756</td><td> 0.2679802</td><td> 6.6496227</td><td>10.35996</td><td>0.001287779</td><td>0.04836793</td></tr>\n",
       "\t<tr><th scope=row>35522</th><td>ENSMUSG00000091272</td><td>-1.1647837</td><td> 0.7271850</td><td>10.35904</td><td>0.001288420</td><td>0.04836793</td></tr>\n",
       "\t<tr><th scope=row>10372</th><td>ENSMUSG00000036356</td><td>-2.3996166</td><td>-0.9008510</td><td>10.35400</td><td>0.001291947</td><td>0.04845248</td></tr>\n",
       "\t<tr><th scope=row>2812</th><td>ENSMUSG00000020889</td><td>-0.7184715</td><td> 2.1829191</td><td>10.33359</td><td>0.001306310</td><td>0.04894281</td></tr>\n",
       "\t<tr><th scope=row>2000</th><td>ENSMUSG00000018740</td><td>-0.5451205</td><td> 3.0877596</td><td>10.32212</td><td>0.001314454</td><td>0.04919943</td></tr>\n",
       "\t<tr><th scope=row>7694</th><td>ENSMUSG00000030122</td><td>-0.2680379</td><td> 6.6358887</td><td>10.31993</td><td>0.001316016</td><td>0.04920942</td></tr>\n",
       "\t<tr><th scope=row>11247</th><td>ENSMUSG00000038578</td><td> 0.7087473</td><td> 2.2098262</td><td>10.31643</td><td>0.001318514</td><td>0.04925433</td></tr>\n",
       "\t<tr><th scope=row>3603</th><td>ENSMUSG00000022283</td><td>-0.2400625</td><td> 9.6591333</td><td>10.31386</td><td>0.001320348</td><td>0.04927442</td></tr>\n",
       "\t<tr><th scope=row>1693</th><td>ENSMUSG00000015968</td><td>-0.9581935</td><td> 1.2922310</td><td>10.30358</td><td>0.001327722</td><td>0.04950097</td></tr>\n",
       "\t<tr><th scope=row>6103</th><td>ENSMUSG00000027367</td><td> 0.2636299</td><td> 6.7847382</td><td>10.30132</td><td>0.001329353</td><td>0.04951319</td></tr>\n",
       "\t<tr><th scope=row>253</th><td>ENSMUSG00000001435</td><td> 2.4108135</td><td>-0.9449983</td><td>10.29840</td><td>0.001331453</td><td>0.04951890</td></tr>\n",
       "\t<tr><th scope=row>11111</th><td>ENSMUSG00000038264</td><td> 0.7298290</td><td> 2.1162183</td><td>10.29749</td><td>0.001332113</td><td>0.04951890</td></tr>\n",
       "\t<tr><th scope=row>9371</th><td>ENSMUSG00000033386</td><td>-0.4862186</td><td> 3.5116504</td><td>10.28780</td><td>0.001339123</td><td>0.04973081</td></tr>\n",
       "\t<tr><th scope=row>16283</th><td>ENSMUSG00000055865</td><td> 0.5538894</td><td> 3.0157327</td><td>10.28333</td><td>0.001342374</td><td>0.04980285</td></tr>\n",
       "</tbody>\n",
       "</table>\n"
      ],
      "text/latex": [
       "A data.frame: 1024 × 6\n",
       "\\begin{tabular}{r|llllll}\n",
       "  & genes & logFC & logCPM & LR & PValue & FDR\\\\\n",
       "  & <fct> & <dbl> & <dbl> & <dbl> & <dbl> & <dbl>\\\\\n",
       "\\hline\n",
       "\t5260 & ENSMUSG00000025885 & 10.329885 & 6.489680 & 2639.7591 &  0.000000e+00 &  0.000000e+00\\\\\n",
       "\t15325 & ENSMUSG00000051726 &  5.339874 & 6.756629 & 2135.3697 &  0.000000e+00 &  0.000000e+00\\\\\n",
       "\t870 & ENSMUSG00000005566 & -3.509059 & 7.027317 & 1385.2840 & 3.313289e-303 & 4.195839e-299\\\\\n",
       "\t7928 & ENSMUSG00000030553 &  3.109103 & 7.105370 & 1179.3873 & 1.840963e-258 & 1.748501e-254\\\\\n",
       "\t956 & ENSMUSG00000006154 & -5.872378 & 4.924604 & 1050.5702 & 1.829721e-230 & 1.390259e-226\\\\\n",
       "\t341 & ENSMUSG00000001918 & -2.212505 & 8.034318 &  724.6855 & 1.281788e-159 & 8.116068e-156\\\\\n",
       "\t7575 & ENSMUSG00000029833 &  2.149791 & 7.883337 &  681.8709 & 2.618574e-150 & 1.421175e-146\\\\\n",
       "\t2009 & ENSMUSG00000018800 &  4.312535 & 4.397721 &  668.1751 & 2.491506e-147 & 1.183185e-143\\\\\n",
       "\t9792 & ENSMUSG00000034634 &  4.909676 & 4.092185 &  649.8178 & 2.447585e-143 & 1.033180e-139\\\\\n",
       "\t8008 & ENSMUSG00000030703 & -3.969739 & 4.556763 &  641.9506 & 1.258113e-141 & 4.779696e-138\\\\\n",
       "\t14666 & ENSMUSG00000049436 & 10.706881 & 3.357133 &  576.8953 & 1.775910e-127 & 6.133510e-124\\\\\n",
       "\t35916 & ENSMUSG00000091679 &  4.413335 & 4.016612 &  570.0820 & 5.388571e-126 & 1.705977e-122\\\\\n",
       "\t12833 & ENSMUSG00000043008 &  1.837532 & 9.162491 &  554.1551 & 1.570731e-122 & 4.590280e-119\\\\\n",
       "\t34699 & ENSMUSG00000090433 & 10.576623 & 3.227942 &  535.4671 & 1.826261e-118 & 4.955819e-115\\\\\n",
       "\t16665 & ENSMUSG00000057409 &  1.851938 & 7.642062 &  511.9608 & 2.374623e-113 & 6.014286e-110\\\\\n",
       "\t13306 & ENSMUSG00000044678 &  2.685969 & 5.250066 &  503.5259 & 1.624853e-111 & 3.858112e-108\\\\\n",
       "\t2051 & ENSMUSG00000018995 &  2.489607 & 5.473478 &  495.8682 & 7.532965e-110 & 1.683440e-106\\\\\n",
       "\t681 & ENSMUSG00000004113 &  6.533757 & 3.262734 &  490.8348 & 9.379219e-109 & 1.979588e-105\\\\\n",
       "\t15118 & ENSMUSG00000051000 &  2.928490 & 4.783032 &  484.7358 & 1.991859e-107 & 3.982775e-104\\\\\n",
       "\t4583 & ENSMUSG00000024561 &  1.617837 & 7.751648 &  401.2899 &  2.884939e-89 &  5.480086e-86\\\\\n",
       "\t18067 & ENSMUSG00000062908 &  1.866838 & 6.091116 &  393.1326 &  1.721484e-87 &  3.114328e-84\\\\\n",
       "\t9614 & ENSMUSG00000034156 &  1.820716 & 6.219831 &  391.3237 &  4.263008e-87 &  7.361634e-84\\\\\n",
       "\t2353 & ENSMUSG00000020142 &  4.313773 & 3.350503 &  389.2055 &  1.232633e-86 &  2.036042e-83\\\\\n",
       "\t11992 & ENSMUSG00000040498 &  1.760245 & 6.246852 &  370.7950 &  1.256318e-82 &  1.988699e-79\\\\\n",
       "\t5137 & ENSMUSG00000025558 &  1.514451 & 6.905846 &  326.5807 &  5.339853e-73 &  8.114655e-70\\\\\n",
       "\t12077 & ENSMUSG00000040703 &  2.560123 & 4.290027 &  325.9239 &  7.422982e-73 &  1.084640e-69\\\\\n",
       "\t514 & ENSMUSG00000002980 & -4.290043 & 3.037729 &  314.9106 &  1.860003e-70 &  2.617161e-67\\\\\n",
       "\t15368 & ENSMUSG00000051934 &  4.481318 & 2.871152 &  304.6839 &  3.142988e-68 &  4.264473e-65\\\\\n",
       "\t1039 & ENSMUSG00000006587 &  3.072343 & 3.511285 &  287.4700 &  1.769379e-64 &  2.317948e-61\\\\\n",
       "\t5767 & ENSMUSG00000026767 &  1.515696 & 6.286881 &  284.8622 &  6.547509e-64 &  8.291547e-61\\\\\n",
       "\t⋮ & ⋮ & ⋮ & ⋮ & ⋮ & ⋮ & ⋮\\\\\n",
       "\t14873 & ENSMUSG00000050148 &  0.3160936 &  5.6346456 & 10.48606 & 0.001202787 & 0.04592470\\\\\n",
       "\t5388 & ENSMUSG00000026110 &  0.3193793 &  5.5858095 & 10.48146 & 0.001205784 & 0.04594256\\\\\n",
       "\t13723 & ENSMUSG00000046111 & -0.2801171 &  6.3138828 & 10.48137 & 0.001205844 & 0.04594256\\\\\n",
       "\t10314 & ENSMUSG00000036169 & -4.4598779 & -1.6233202 & 10.47978 & 0.001206883 & 0.04594256\\\\\n",
       "\t25785 & ENSMUSG00000080747 & -0.5292596 &  3.2222470 & 10.47121 & 0.001212495 & 0.04611002\\\\\n",
       "\t21869 & ENSMUSG00000074151 &  0.2420470 &  9.5246037 & 10.44240 & 0.001231549 & 0.04678780\\\\\n",
       "\t23302 & ENSMUSG00000076665 & -4.4497835 & -1.6240812 & 10.42701 & 0.001241856 & 0.04713223\\\\\n",
       "\t3723 & ENSMUSG00000022475 & -0.2453226 &  8.7784779 & 10.42241 & 0.001244957 & 0.04720274\\\\\n",
       "\t30269 & ENSMUSG00000085531 &  0.9809567 &  1.2156084 & 10.41120 & 0.001252536 & 0.04740604\\\\\n",
       "\t13062 & ENSMUSG00000043924 &  0.3901561 &  4.4857454 & 10.41079 & 0.001252814 & 0.04740604\\\\\n",
       "\t17100 & ENSMUSG00000059159 & -0.4260882 &  4.0593379 & 10.39666 & 0.001262435 & 0.04772256\\\\\n",
       "\t9340 & ENSMUSG00000033282 &  0.5894519 &  2.8244309 & 10.38179 & 0.001272641 & 0.04806054\\\\\n",
       "\t7701 & ENSMUSG00000030134 & -0.4861705 &  3.5265558 & 10.37443 & 0.001277723 & 0.04815212\\\\\n",
       "\t20815 & ENSMUSG00000070883 &  0.6583878 &  2.4657909 & 10.37295 & 0.001278750 & 0.04815212\\\\\n",
       "\t11715 & ENSMUSG00000039765 & -1.1949672 &  0.6534006 & 10.37217 & 0.001279290 & 0.04815212\\\\\n",
       "\t17847 & ENSMUSG00000062101 &  0.5512586 &  3.0461977 & 10.37095 & 0.001280136 & 0.04815212\\\\\n",
       "\t6912 & ENSMUSG00000028756 &  0.2679802 &  6.6496227 & 10.35996 & 0.001287779 & 0.04836793\\\\\n",
       "\t35522 & ENSMUSG00000091272 & -1.1647837 &  0.7271850 & 10.35904 & 0.001288420 & 0.04836793\\\\\n",
       "\t10372 & ENSMUSG00000036356 & -2.3996166 & -0.9008510 & 10.35400 & 0.001291947 & 0.04845248\\\\\n",
       "\t2812 & ENSMUSG00000020889 & -0.7184715 &  2.1829191 & 10.33359 & 0.001306310 & 0.04894281\\\\\n",
       "\t2000 & ENSMUSG00000018740 & -0.5451205 &  3.0877596 & 10.32212 & 0.001314454 & 0.04919943\\\\\n",
       "\t7694 & ENSMUSG00000030122 & -0.2680379 &  6.6358887 & 10.31993 & 0.001316016 & 0.04920942\\\\\n",
       "\t11247 & ENSMUSG00000038578 &  0.7087473 &  2.2098262 & 10.31643 & 0.001318514 & 0.04925433\\\\\n",
       "\t3603 & ENSMUSG00000022283 & -0.2400625 &  9.6591333 & 10.31386 & 0.001320348 & 0.04927442\\\\\n",
       "\t1693 & ENSMUSG00000015968 & -0.9581935 &  1.2922310 & 10.30358 & 0.001327722 & 0.04950097\\\\\n",
       "\t6103 & ENSMUSG00000027367 &  0.2636299 &  6.7847382 & 10.30132 & 0.001329353 & 0.04951319\\\\\n",
       "\t253 & ENSMUSG00000001435 &  2.4108135 & -0.9449983 & 10.29840 & 0.001331453 & 0.04951890\\\\\n",
       "\t11111 & ENSMUSG00000038264 &  0.7298290 &  2.1162183 & 10.29749 & 0.001332113 & 0.04951890\\\\\n",
       "\t9371 & ENSMUSG00000033386 & -0.4862186 &  3.5116504 & 10.28780 & 0.001339123 & 0.04973081\\\\\n",
       "\t16283 & ENSMUSG00000055865 &  0.5538894 &  3.0157327 & 10.28333 & 0.001342374 & 0.04980285\\\\\n",
       "\\end{tabular}\n"
      ],
      "text/markdown": [
       "\n",
       "A data.frame: 1024 × 6\n",
       "\n",
       "| <!--/--> | genes &lt;fct&gt; | logFC &lt;dbl&gt; | logCPM &lt;dbl&gt; | LR &lt;dbl&gt; | PValue &lt;dbl&gt; | FDR &lt;dbl&gt; |\n",
       "|---|---|---|---|---|---|---|\n",
       "| 5260 | ENSMUSG00000025885 | 10.329885 | 6.489680 | 2639.7591 |  0.000000e+00 |  0.000000e+00 |\n",
       "| 15325 | ENSMUSG00000051726 |  5.339874 | 6.756629 | 2135.3697 |  0.000000e+00 |  0.000000e+00 |\n",
       "| 870 | ENSMUSG00000005566 | -3.509059 | 7.027317 | 1385.2840 | 3.313289e-303 | 4.195839e-299 |\n",
       "| 7928 | ENSMUSG00000030553 |  3.109103 | 7.105370 | 1179.3873 | 1.840963e-258 | 1.748501e-254 |\n",
       "| 956 | ENSMUSG00000006154 | -5.872378 | 4.924604 | 1050.5702 | 1.829721e-230 | 1.390259e-226 |\n",
       "| 341 | ENSMUSG00000001918 | -2.212505 | 8.034318 |  724.6855 | 1.281788e-159 | 8.116068e-156 |\n",
       "| 7575 | ENSMUSG00000029833 |  2.149791 | 7.883337 |  681.8709 | 2.618574e-150 | 1.421175e-146 |\n",
       "| 2009 | ENSMUSG00000018800 |  4.312535 | 4.397721 |  668.1751 | 2.491506e-147 | 1.183185e-143 |\n",
       "| 9792 | ENSMUSG00000034634 |  4.909676 | 4.092185 |  649.8178 | 2.447585e-143 | 1.033180e-139 |\n",
       "| 8008 | ENSMUSG00000030703 | -3.969739 | 4.556763 |  641.9506 | 1.258113e-141 | 4.779696e-138 |\n",
       "| 14666 | ENSMUSG00000049436 | 10.706881 | 3.357133 |  576.8953 | 1.775910e-127 | 6.133510e-124 |\n",
       "| 35916 | ENSMUSG00000091679 |  4.413335 | 4.016612 |  570.0820 | 5.388571e-126 | 1.705977e-122 |\n",
       "| 12833 | ENSMUSG00000043008 |  1.837532 | 9.162491 |  554.1551 | 1.570731e-122 | 4.590280e-119 |\n",
       "| 34699 | ENSMUSG00000090433 | 10.576623 | 3.227942 |  535.4671 | 1.826261e-118 | 4.955819e-115 |\n",
       "| 16665 | ENSMUSG00000057409 |  1.851938 | 7.642062 |  511.9608 | 2.374623e-113 | 6.014286e-110 |\n",
       "| 13306 | ENSMUSG00000044678 |  2.685969 | 5.250066 |  503.5259 | 1.624853e-111 | 3.858112e-108 |\n",
       "| 2051 | ENSMUSG00000018995 |  2.489607 | 5.473478 |  495.8682 | 7.532965e-110 | 1.683440e-106 |\n",
       "| 681 | ENSMUSG00000004113 |  6.533757 | 3.262734 |  490.8348 | 9.379219e-109 | 1.979588e-105 |\n",
       "| 15118 | ENSMUSG00000051000 |  2.928490 | 4.783032 |  484.7358 | 1.991859e-107 | 3.982775e-104 |\n",
       "| 4583 | ENSMUSG00000024561 |  1.617837 | 7.751648 |  401.2899 |  2.884939e-89 |  5.480086e-86 |\n",
       "| 18067 | ENSMUSG00000062908 |  1.866838 | 6.091116 |  393.1326 |  1.721484e-87 |  3.114328e-84 |\n",
       "| 9614 | ENSMUSG00000034156 |  1.820716 | 6.219831 |  391.3237 |  4.263008e-87 |  7.361634e-84 |\n",
       "| 2353 | ENSMUSG00000020142 |  4.313773 | 3.350503 |  389.2055 |  1.232633e-86 |  2.036042e-83 |\n",
       "| 11992 | ENSMUSG00000040498 |  1.760245 | 6.246852 |  370.7950 |  1.256318e-82 |  1.988699e-79 |\n",
       "| 5137 | ENSMUSG00000025558 |  1.514451 | 6.905846 |  326.5807 |  5.339853e-73 |  8.114655e-70 |\n",
       "| 12077 | ENSMUSG00000040703 |  2.560123 | 4.290027 |  325.9239 |  7.422982e-73 |  1.084640e-69 |\n",
       "| 514 | ENSMUSG00000002980 | -4.290043 | 3.037729 |  314.9106 |  1.860003e-70 |  2.617161e-67 |\n",
       "| 15368 | ENSMUSG00000051934 |  4.481318 | 2.871152 |  304.6839 |  3.142988e-68 |  4.264473e-65 |\n",
       "| 1039 | ENSMUSG00000006587 |  3.072343 | 3.511285 |  287.4700 |  1.769379e-64 |  2.317948e-61 |\n",
       "| 5767 | ENSMUSG00000026767 |  1.515696 | 6.286881 |  284.8622 |  6.547509e-64 |  8.291547e-61 |\n",
       "| ⋮ | ⋮ | ⋮ | ⋮ | ⋮ | ⋮ | ⋮ |\n",
       "| 14873 | ENSMUSG00000050148 |  0.3160936 |  5.6346456 | 10.48606 | 0.001202787 | 0.04592470 |\n",
       "| 5388 | ENSMUSG00000026110 |  0.3193793 |  5.5858095 | 10.48146 | 0.001205784 | 0.04594256 |\n",
       "| 13723 | ENSMUSG00000046111 | -0.2801171 |  6.3138828 | 10.48137 | 0.001205844 | 0.04594256 |\n",
       "| 10314 | ENSMUSG00000036169 | -4.4598779 | -1.6233202 | 10.47978 | 0.001206883 | 0.04594256 |\n",
       "| 25785 | ENSMUSG00000080747 | -0.5292596 |  3.2222470 | 10.47121 | 0.001212495 | 0.04611002 |\n",
       "| 21869 | ENSMUSG00000074151 |  0.2420470 |  9.5246037 | 10.44240 | 0.001231549 | 0.04678780 |\n",
       "| 23302 | ENSMUSG00000076665 | -4.4497835 | -1.6240812 | 10.42701 | 0.001241856 | 0.04713223 |\n",
       "| 3723 | ENSMUSG00000022475 | -0.2453226 |  8.7784779 | 10.42241 | 0.001244957 | 0.04720274 |\n",
       "| 30269 | ENSMUSG00000085531 |  0.9809567 |  1.2156084 | 10.41120 | 0.001252536 | 0.04740604 |\n",
       "| 13062 | ENSMUSG00000043924 |  0.3901561 |  4.4857454 | 10.41079 | 0.001252814 | 0.04740604 |\n",
       "| 17100 | ENSMUSG00000059159 | -0.4260882 |  4.0593379 | 10.39666 | 0.001262435 | 0.04772256 |\n",
       "| 9340 | ENSMUSG00000033282 |  0.5894519 |  2.8244309 | 10.38179 | 0.001272641 | 0.04806054 |\n",
       "| 7701 | ENSMUSG00000030134 | -0.4861705 |  3.5265558 | 10.37443 | 0.001277723 | 0.04815212 |\n",
       "| 20815 | ENSMUSG00000070883 |  0.6583878 |  2.4657909 | 10.37295 | 0.001278750 | 0.04815212 |\n",
       "| 11715 | ENSMUSG00000039765 | -1.1949672 |  0.6534006 | 10.37217 | 0.001279290 | 0.04815212 |\n",
       "| 17847 | ENSMUSG00000062101 |  0.5512586 |  3.0461977 | 10.37095 | 0.001280136 | 0.04815212 |\n",
       "| 6912 | ENSMUSG00000028756 |  0.2679802 |  6.6496227 | 10.35996 | 0.001287779 | 0.04836793 |\n",
       "| 35522 | ENSMUSG00000091272 | -1.1647837 |  0.7271850 | 10.35904 | 0.001288420 | 0.04836793 |\n",
       "| 10372 | ENSMUSG00000036356 | -2.3996166 | -0.9008510 | 10.35400 | 0.001291947 | 0.04845248 |\n",
       "| 2812 | ENSMUSG00000020889 | -0.7184715 |  2.1829191 | 10.33359 | 0.001306310 | 0.04894281 |\n",
       "| 2000 | ENSMUSG00000018740 | -0.5451205 |  3.0877596 | 10.32212 | 0.001314454 | 0.04919943 |\n",
       "| 7694 | ENSMUSG00000030122 | -0.2680379 |  6.6358887 | 10.31993 | 0.001316016 | 0.04920942 |\n",
       "| 11247 | ENSMUSG00000038578 |  0.7087473 |  2.2098262 | 10.31643 | 0.001318514 | 0.04925433 |\n",
       "| 3603 | ENSMUSG00000022283 | -0.2400625 |  9.6591333 | 10.31386 | 0.001320348 | 0.04927442 |\n",
       "| 1693 | ENSMUSG00000015968 | -0.9581935 |  1.2922310 | 10.30358 | 0.001327722 | 0.04950097 |\n",
       "| 6103 | ENSMUSG00000027367 |  0.2636299 |  6.7847382 | 10.30132 | 0.001329353 | 0.04951319 |\n",
       "| 253 | ENSMUSG00000001435 |  2.4108135 | -0.9449983 | 10.29840 | 0.001331453 | 0.04951890 |\n",
       "| 11111 | ENSMUSG00000038264 |  0.7298290 |  2.1162183 | 10.29749 | 0.001332113 | 0.04951890 |\n",
       "| 9371 | ENSMUSG00000033386 | -0.4862186 |  3.5116504 | 10.28780 | 0.001339123 | 0.04973081 |\n",
       "| 16283 | ENSMUSG00000055865 |  0.5538894 |  3.0157327 | 10.28333 | 0.001342374 | 0.04980285 |\n",
       "\n"
      ],
      "text/plain": [
       "      genes              logFC      logCPM     LR        PValue       \n",
       "5260  ENSMUSG00000025885 10.329885  6.489680   2639.7591  0.000000e+00\n",
       "15325 ENSMUSG00000051726  5.339874  6.756629   2135.3697  0.000000e+00\n",
       "870   ENSMUSG00000005566 -3.509059  7.027317   1385.2840 3.313289e-303\n",
       "7928  ENSMUSG00000030553  3.109103  7.105370   1179.3873 1.840963e-258\n",
       "956   ENSMUSG00000006154 -5.872378  4.924604   1050.5702 1.829721e-230\n",
       "341   ENSMUSG00000001918 -2.212505  8.034318    724.6855 1.281788e-159\n",
       "7575  ENSMUSG00000029833  2.149791  7.883337    681.8709 2.618574e-150\n",
       "2009  ENSMUSG00000018800  4.312535  4.397721    668.1751 2.491506e-147\n",
       "9792  ENSMUSG00000034634  4.909676  4.092185    649.8178 2.447585e-143\n",
       "8008  ENSMUSG00000030703 -3.969739  4.556763    641.9506 1.258113e-141\n",
       "14666 ENSMUSG00000049436 10.706881  3.357133    576.8953 1.775910e-127\n",
       "35916 ENSMUSG00000091679  4.413335  4.016612    570.0820 5.388571e-126\n",
       "12833 ENSMUSG00000043008  1.837532  9.162491    554.1551 1.570731e-122\n",
       "34699 ENSMUSG00000090433 10.576623  3.227942    535.4671 1.826261e-118\n",
       "16665 ENSMUSG00000057409  1.851938  7.642062    511.9608 2.374623e-113\n",
       "13306 ENSMUSG00000044678  2.685969  5.250066    503.5259 1.624853e-111\n",
       "2051  ENSMUSG00000018995  2.489607  5.473478    495.8682 7.532965e-110\n",
       "681   ENSMUSG00000004113  6.533757  3.262734    490.8348 9.379219e-109\n",
       "15118 ENSMUSG00000051000  2.928490  4.783032    484.7358 1.991859e-107\n",
       "4583  ENSMUSG00000024561  1.617837  7.751648    401.2899  2.884939e-89\n",
       "18067 ENSMUSG00000062908  1.866838  6.091116    393.1326  1.721484e-87\n",
       "9614  ENSMUSG00000034156  1.820716  6.219831    391.3237  4.263008e-87\n",
       "2353  ENSMUSG00000020142  4.313773  3.350503    389.2055  1.232633e-86\n",
       "11992 ENSMUSG00000040498  1.760245  6.246852    370.7950  1.256318e-82\n",
       "5137  ENSMUSG00000025558  1.514451  6.905846    326.5807  5.339853e-73\n",
       "12077 ENSMUSG00000040703  2.560123  4.290027    325.9239  7.422982e-73\n",
       "514   ENSMUSG00000002980 -4.290043  3.037729    314.9106  1.860003e-70\n",
       "15368 ENSMUSG00000051934  4.481318  2.871152    304.6839  3.142988e-68\n",
       "1039  ENSMUSG00000006587  3.072343  3.511285    287.4700  1.769379e-64\n",
       "5767  ENSMUSG00000026767  1.515696  6.286881    284.8622  6.547509e-64\n",
       "⋮     ⋮                  ⋮          ⋮          ⋮         ⋮            \n",
       "14873 ENSMUSG00000050148  0.3160936  5.6346456 10.48606  0.001202787  \n",
       "5388  ENSMUSG00000026110  0.3193793  5.5858095 10.48146  0.001205784  \n",
       "13723 ENSMUSG00000046111 -0.2801171  6.3138828 10.48137  0.001205844  \n",
       "10314 ENSMUSG00000036169 -4.4598779 -1.6233202 10.47978  0.001206883  \n",
       "25785 ENSMUSG00000080747 -0.5292596  3.2222470 10.47121  0.001212495  \n",
       "21869 ENSMUSG00000074151  0.2420470  9.5246037 10.44240  0.001231549  \n",
       "23302 ENSMUSG00000076665 -4.4497835 -1.6240812 10.42701  0.001241856  \n",
       "3723  ENSMUSG00000022475 -0.2453226  8.7784779 10.42241  0.001244957  \n",
       "30269 ENSMUSG00000085531  0.9809567  1.2156084 10.41120  0.001252536  \n",
       "13062 ENSMUSG00000043924  0.3901561  4.4857454 10.41079  0.001252814  \n",
       "17100 ENSMUSG00000059159 -0.4260882  4.0593379 10.39666  0.001262435  \n",
       "9340  ENSMUSG00000033282  0.5894519  2.8244309 10.38179  0.001272641  \n",
       "7701  ENSMUSG00000030134 -0.4861705  3.5265558 10.37443  0.001277723  \n",
       "20815 ENSMUSG00000070883  0.6583878  2.4657909 10.37295  0.001278750  \n",
       "11715 ENSMUSG00000039765 -1.1949672  0.6534006 10.37217  0.001279290  \n",
       "17847 ENSMUSG00000062101  0.5512586  3.0461977 10.37095  0.001280136  \n",
       "6912  ENSMUSG00000028756  0.2679802  6.6496227 10.35996  0.001287779  \n",
       "35522 ENSMUSG00000091272 -1.1647837  0.7271850 10.35904  0.001288420  \n",
       "10372 ENSMUSG00000036356 -2.3996166 -0.9008510 10.35400  0.001291947  \n",
       "2812  ENSMUSG00000020889 -0.7184715  2.1829191 10.33359  0.001306310  \n",
       "2000  ENSMUSG00000018740 -0.5451205  3.0877596 10.32212  0.001314454  \n",
       "7694  ENSMUSG00000030122 -0.2680379  6.6358887 10.31993  0.001316016  \n",
       "11247 ENSMUSG00000038578  0.7087473  2.2098262 10.31643  0.001318514  \n",
       "3603  ENSMUSG00000022283 -0.2400625  9.6591333 10.31386  0.001320348  \n",
       "1693  ENSMUSG00000015968 -0.9581935  1.2922310 10.30358  0.001327722  \n",
       "6103  ENSMUSG00000027367  0.2636299  6.7847382 10.30132  0.001329353  \n",
       "253   ENSMUSG00000001435  2.4108135 -0.9449983 10.29840  0.001331453  \n",
       "11111 ENSMUSG00000038264  0.7298290  2.1162183 10.29749  0.001332113  \n",
       "9371  ENSMUSG00000033386 -0.4862186  3.5116504 10.28780  0.001339123  \n",
       "16283 ENSMUSG00000055865  0.5538894  3.0157327 10.28333  0.001342374  \n",
       "      FDR          \n",
       "5260   0.000000e+00\n",
       "15325  0.000000e+00\n",
       "870   4.195839e-299\n",
       "7928  1.748501e-254\n",
       "956   1.390259e-226\n",
       "341   8.116068e-156\n",
       "7575  1.421175e-146\n",
       "2009  1.183185e-143\n",
       "9792  1.033180e-139\n",
       "8008  4.779696e-138\n",
       "14666 6.133510e-124\n",
       "35916 1.705977e-122\n",
       "12833 4.590280e-119\n",
       "34699 4.955819e-115\n",
       "16665 6.014286e-110\n",
       "13306 3.858112e-108\n",
       "2051  1.683440e-106\n",
       "681   1.979588e-105\n",
       "15118 3.982775e-104\n",
       "4583   5.480086e-86\n",
       "18067  3.114328e-84\n",
       "9614   7.361634e-84\n",
       "2353   2.036042e-83\n",
       "11992  1.988699e-79\n",
       "5137   8.114655e-70\n",
       "12077  1.084640e-69\n",
       "514    2.617161e-67\n",
       "15368  4.264473e-65\n",
       "1039   2.317948e-61\n",
       "5767   8.291547e-61\n",
       "⋮     ⋮            \n",
       "14873 0.04592470   \n",
       "5388  0.04594256   \n",
       "13723 0.04594256   \n",
       "10314 0.04594256   \n",
       "25785 0.04611002   \n",
       "21869 0.04678780   \n",
       "23302 0.04713223   \n",
       "3723  0.04720274   \n",
       "30269 0.04740604   \n",
       "13062 0.04740604   \n",
       "17100 0.04772256   \n",
       "9340  0.04806054   \n",
       "7701  0.04815212   \n",
       "20815 0.04815212   \n",
       "11715 0.04815212   \n",
       "17847 0.04815212   \n",
       "6912  0.04836793   \n",
       "35522 0.04836793   \n",
       "10372 0.04845248   \n",
       "2812  0.04894281   \n",
       "2000  0.04919943   \n",
       "7694  0.04920942   \n",
       "11247 0.04925433   \n",
       "3603  0.04927442   \n",
       "1693  0.04950097   \n",
       "6103  0.04951319   \n",
       "253   0.04951890   \n",
       "11111 0.04951890   \n",
       "9371  0.04973081   \n",
       "16283 0.04980285   "
      ]
     },
     "metadata": {},
     "output_type": "display_data"
    }
   ],
   "source": [
    "res$table"
   ]
  },
  {
   "cell_type": "code",
   "execution_count": 101,
   "metadata": {},
   "outputs": [],
   "source": [
    "#attach the Entrez Gene ID name\n",
    "\n",
    "res.tab <- res$table\n",
    "res.tab$eg =   apply(res.tab, 1, function(x) as.character(ens.eg[x[1]]))\n",
    "res.tab$symb = apply(res.tab, 1, function(x) as.character(eg.sym[x[7]]))"
   ]
  },
  {
   "cell_type": "code",
   "execution_count": 102,
   "metadata": {},
   "outputs": [
    {
     "data": {
      "text/html": [
       "<table>\n",
       "<caption>A data.frame: 6 × 8</caption>\n",
       "<thead>\n",
       "\t<tr><th></th><th scope=col>genes</th><th scope=col>logFC</th><th scope=col>logCPM</th><th scope=col>LR</th><th scope=col>PValue</th><th scope=col>FDR</th><th scope=col>eg</th><th scope=col>symb</th></tr>\n",
       "\t<tr><th></th><th scope=col>&lt;fct&gt;</th><th scope=col>&lt;dbl&gt;</th><th scope=col>&lt;dbl&gt;</th><th scope=col>&lt;dbl&gt;</th><th scope=col>&lt;dbl&gt;</th><th scope=col>&lt;dbl&gt;</th><th scope=col>&lt;chr&gt;</th><th scope=col>&lt;chr&gt;</th></tr>\n",
       "</thead>\n",
       "<tbody>\n",
       "\t<tr><th scope=row>5260</th><td>ENSMUSG00000025885</td><td>10.329885</td><td>6.489680</td><td>2639.7591</td><td> 0.000000e+00</td><td> 0.000000e+00</td><td>17919 </td><td>Myo5b  </td></tr>\n",
       "\t<tr><th scope=row>15325</th><td>ENSMUSG00000051726</td><td> 5.339874</td><td>6.756629</td><td>2135.3697</td><td> 0.000000e+00</td><td> 0.000000e+00</td><td>382571</td><td>Kcnf1  </td></tr>\n",
       "\t<tr><th scope=row>870</th><td>ENSMUSG00000005566</td><td>-3.509059</td><td>7.027317</td><td>1385.2840</td><td>3.313289e-303</td><td>4.195839e-299</td><td>21849 </td><td>Trim28 </td></tr>\n",
       "\t<tr><th scope=row>7928</th><td>ENSMUSG00000030553</td><td> 3.109103</td><td>7.105370</td><td>1179.3873</td><td>1.840963e-258</td><td>1.748501e-254</td><td>78444 </td><td>Pgpep1l</td></tr>\n",
       "\t<tr><th scope=row>956</th><td>ENSMUSG00000006154</td><td>-5.872378</td><td>4.924604</td><td>1050.5702</td><td>1.829721e-230</td><td>1.390259e-226</td><td>67425 </td><td>Eps8l1 </td></tr>\n",
       "\t<tr><th scope=row>341</th><td>ENSMUSG00000001918</td><td>-2.212505</td><td>8.034318</td><td> 724.6855</td><td>1.281788e-159</td><td>8.116068e-156</td><td>20514 </td><td>Slc1a5 </td></tr>\n",
       "</tbody>\n",
       "</table>\n"
      ],
      "text/latex": [
       "A data.frame: 6 × 8\n",
       "\\begin{tabular}{r|llllllll}\n",
       "  & genes & logFC & logCPM & LR & PValue & FDR & eg & symb\\\\\n",
       "  & <fct> & <dbl> & <dbl> & <dbl> & <dbl> & <dbl> & <chr> & <chr>\\\\\n",
       "\\hline\n",
       "\t5260 & ENSMUSG00000025885 & 10.329885 & 6.489680 & 2639.7591 &  0.000000e+00 &  0.000000e+00 & 17919  & Myo5b  \\\\\n",
       "\t15325 & ENSMUSG00000051726 &  5.339874 & 6.756629 & 2135.3697 &  0.000000e+00 &  0.000000e+00 & 382571 & Kcnf1  \\\\\n",
       "\t870 & ENSMUSG00000005566 & -3.509059 & 7.027317 & 1385.2840 & 3.313289e-303 & 4.195839e-299 & 21849  & Trim28 \\\\\n",
       "\t7928 & ENSMUSG00000030553 &  3.109103 & 7.105370 & 1179.3873 & 1.840963e-258 & 1.748501e-254 & 78444  & Pgpep1l\\\\\n",
       "\t956 & ENSMUSG00000006154 & -5.872378 & 4.924604 & 1050.5702 & 1.829721e-230 & 1.390259e-226 & 67425  & Eps8l1 \\\\\n",
       "\t341 & ENSMUSG00000001918 & -2.212505 & 8.034318 &  724.6855 & 1.281788e-159 & 8.116068e-156 & 20514  & Slc1a5 \\\\\n",
       "\\end{tabular}\n"
      ],
      "text/markdown": [
       "\n",
       "A data.frame: 6 × 8\n",
       "\n",
       "| <!--/--> | genes &lt;fct&gt; | logFC &lt;dbl&gt; | logCPM &lt;dbl&gt; | LR &lt;dbl&gt; | PValue &lt;dbl&gt; | FDR &lt;dbl&gt; | eg &lt;chr&gt; | symb &lt;chr&gt; |\n",
       "|---|---|---|---|---|---|---|---|---|\n",
       "| 5260 | ENSMUSG00000025885 | 10.329885 | 6.489680 | 2639.7591 |  0.000000e+00 |  0.000000e+00 | 17919  | Myo5b   |\n",
       "| 15325 | ENSMUSG00000051726 |  5.339874 | 6.756629 | 2135.3697 |  0.000000e+00 |  0.000000e+00 | 382571 | Kcnf1   |\n",
       "| 870 | ENSMUSG00000005566 | -3.509059 | 7.027317 | 1385.2840 | 3.313289e-303 | 4.195839e-299 | 21849  | Trim28  |\n",
       "| 7928 | ENSMUSG00000030553 |  3.109103 | 7.105370 | 1179.3873 | 1.840963e-258 | 1.748501e-254 | 78444  | Pgpep1l |\n",
       "| 956 | ENSMUSG00000006154 | -5.872378 | 4.924604 | 1050.5702 | 1.829721e-230 | 1.390259e-226 | 67425  | Eps8l1  |\n",
       "| 341 | ENSMUSG00000001918 | -2.212505 | 8.034318 |  724.6855 | 1.281788e-159 | 8.116068e-156 | 20514  | Slc1a5  |\n",
       "\n"
      ],
      "text/plain": [
       "      genes              logFC     logCPM   LR        PValue       \n",
       "5260  ENSMUSG00000025885 10.329885 6.489680 2639.7591  0.000000e+00\n",
       "15325 ENSMUSG00000051726  5.339874 6.756629 2135.3697  0.000000e+00\n",
       "870   ENSMUSG00000005566 -3.509059 7.027317 1385.2840 3.313289e-303\n",
       "7928  ENSMUSG00000030553  3.109103 7.105370 1179.3873 1.840963e-258\n",
       "956   ENSMUSG00000006154 -5.872378 4.924604 1050.5702 1.829721e-230\n",
       "341   ENSMUSG00000001918 -2.212505 8.034318  724.6855 1.281788e-159\n",
       "      FDR           eg     symb   \n",
       "5260   0.000000e+00 17919  Myo5b  \n",
       "15325  0.000000e+00 382571 Kcnf1  \n",
       "870   4.195839e-299 21849  Trim28 \n",
       "7928  1.748501e-254 78444  Pgpep1l\n",
       "956   1.390259e-226 67425  Eps8l1 \n",
       "341   8.116068e-156 20514  Slc1a5 "
      ]
     },
     "metadata": {},
     "output_type": "display_data"
    }
   ],
   "source": [
    "head(res.tab)"
   ]
  },
  {
   "cell_type": "markdown",
   "metadata": {},
   "source": [
    "Trim28 is the most significant among those with a negative logFC. "
   ]
  },
  {
   "cell_type": "code",
   "execution_count": 105,
   "metadata": {},
   "outputs": [],
   "source": [
    "plot.gene = function (x){\n",
    "    id = names(ens.eg[ens.eg==names(eg.sym[(eg.sym==x)])])\n",
    "    if(length(id)==1) barplot(data[data$genes==id,]$counts, main=x)\n",
    "}"
   ]
  },
  {
   "cell_type": "code",
   "execution_count": 106,
   "metadata": {},
   "outputs": [
    {
     "data": {
      "image/png": "[encoded data removed]",
      "text/plain": [
       "Plot with title “Myo5b”"
      ]
     },
     "metadata": {},
     "output_type": "display_data"
    }
   ],
   "source": [
    "plot.gene(\"Myo5b\")"
   ]
  },
  {
   "cell_type": "code",
   "execution_count": null,
   "metadata": {},
   "outputs": [],
   "source": []
  }
 ],
 "metadata": {
  "kernelspec": {
   "display_name": "R",
   "language": "R",
   "name": "ir"
  },
  "language_info": {
   "codemirror_mode": "r",
   "file_extension": ".r",
   "mimetype": "text/x-r-source",
   "name": "R",
   "pygments_lexer": "r",
   "version": "3.6.1"
  }
 },
 "nbformat": 4,
 "nbformat_minor": 2
}
