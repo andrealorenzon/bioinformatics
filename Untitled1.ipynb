{
 "cells": [
  {
   "cell_type": "code",
   "execution_count": null,
   "metadata": {},
   "outputs": [],
   "source": []
  },
  {
   "cell_type": "raw",
   "metadata": {},
   "source": [
    "library(Biobase)"
   ]
  },
  {
   "cell_type": "code",
   "execution_count": 1,
   "metadata": {},
   "outputs": [
    {
     "ename": "ERROR",
     "evalue": "Error in vignette(Biobase): object 'Biobase' not found\n",
     "output_type": "error",
     "traceback": [
      "Error in vignette(Biobase): object 'Biobase' not found\nTraceback:\n",
      "1. vignette(Biobase)"
     ]
    }
   ],
   "source": [
    "vignette(Biobase)"
   ]
  },
  {
   "cell_type": "code",
   "execution_count": 2,
   "metadata": {},
   "outputs": [
    {
     "ename": "ERROR",
     "evalue": "Error in menu(paste(vig$package, \"-\", vig$tit), title = paste(\"Please select a vignette:\", : menu() cannot be used non-interactively\n",
     "output_type": "error",
     "traceback": [
      "Error in menu(paste(vig$package, \"-\", vig$tit), title = paste(\"Please select a vignette:\", : menu() cannot be used non-interactively\nTraceback:\n",
      "1. Biobase::openVignette()",
      "2. menu(paste(vig$package, \"-\", vig$tit), title = paste(\"Please select a vignette:\", \n .     if (any(hasnofile)) \"(entries marked by '[-]' have no PDF file)\" else \"\"))",
      "3. stop(\"menu() cannot be used non-interactively\")"
     ]
    }
   ],
   "source": [
    "Biobase::openVignette()"
   ]
  },
  {
   "cell_type": "code",
   "execution_count": null,
   "metadata": {},
   "outputs": [],
   "source": []
  }
 ],
 "metadata": {
  "kernelspec": {
   "display_name": "R",
   "language": "R",
   "name": "ir"
  },
  "language_info": {
   "codemirror_mode": "r",
   "file_extension": ".r",
   "mimetype": "text/x-r-source",
   "name": "R",
   "pygments_lexer": "r",
   "version": "3.6.1"
  }
 },
 "nbformat": 4,
 "nbformat_minor": 2
}
