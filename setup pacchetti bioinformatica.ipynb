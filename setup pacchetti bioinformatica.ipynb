{
 "cells": [
  {
   "cell_type": "code",
   "execution_count": 6,
   "metadata": {},
   "outputs": [
    {
     "name": "stderr",
     "output_type": "stream",
     "text": [
      "Warning message in file(con, \"r\"):\n",
      "“URL 'https://bioconductor.org/config.yaml': status was 'Couldn't resolve host name'”Bioconductor version 3.9 (BiocManager 1.30.7), R 3.6.1 (2019-07-05)\n",
      "Installing package(s) 'biomaRt'\n"
     ]
    }
   ],
   "source": [
    "BiocManager::install(\"biomaRt\")"
   ]
  },
  {
   "cell_type": "raw",
   "metadata": {},
   "source": []
  }
 ],
 "metadata": {
  "kernelspec": {
   "display_name": "R",
   "language": "R",
   "name": "ir"
  },
  "language_info": {
   "codemirror_mode": "r",
   "file_extension": ".r",
   "mimetype": "text/x-r-source",
   "name": "R",
   "pygments_lexer": "r",
   "version": "3.6.1"
  }
 },
 "nbformat": 4,
 "nbformat_minor": 2
}
