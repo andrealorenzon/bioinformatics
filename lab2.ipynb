{
 "cells": [
  {
   "cell_type": "markdown",
   "metadata": {},
   "source": [
    "# full genome browsing, offline\n",
    "\n",
    "We are using BSgenome subpackages to browse entire genomes."
   ]
  },
  {
   "cell_type": "code",
   "execution_count": 5,
   "metadata": {
    "collapsed": true
   },
   "outputs": [
    {
     "name": "stderr",
     "output_type": "stream",
     "text": [
      "Loading required package: GenomeInfoDb\n",
      "Loading required package: GenomicRanges\n",
      "Loading required package: rtracklayer\n"
     ]
    }
   ],
   "source": [
    "library(Biostrings)\n",
    "library(BSgenome)"
   ]
  },
  {
   "cell_type": "markdown",
   "metadata": {},
   "source": [
    "We are going to use BSgenome to browse full genome."
   ]
  },
  {
   "cell_type": "code",
   "execution_count": 6,
   "metadata": {},
   "outputs": [],
   "source": [
    "#genome of D.melanogaster\n",
    "library(BSgenome.Dmelanogaster.UCSC.dm6)"
   ]
  },
  {
   "cell_type": "code",
   "execution_count": 8,
   "metadata": {},
   "outputs": [
    {
     "data": {
      "text/plain": [
       "Fly genome:\n",
       "# organism: Drosophila melanogaster (Fly)\n",
       "# provider: UCSC\n",
       "# provider version: dm6\n",
       "# release date: Aug. 2014\n",
       "# release name: BDGP Release 6 + ISO1 MT\n",
       "# 1870 sequences:\n",
       "#   chr2L                  chr2R                  chr3L                 \n",
       "#   chr3R                  chr4                   chrX                  \n",
       "#   chrY                   chrM                   chrX_CP007103v1_random\n",
       "#   chrX_CP007104v1_random chrX_DS483648v1_random chrX_DS483655v1_random\n",
       "#   chrX_DS483660v1_random chrX_DS483665v1_random chrX_DS483666v1_random\n",
       "#   ...                    ...                    ...                   \n",
       "#   chrUn_DS485985v1       chrUn_DS485986v1       chrUn_DS485988v1      \n",
       "#   chrUn_DS485989v1       chrUn_DS485991v1       chrUn_DS485995v1      \n",
       "#   chrUn_DS485996v1       chrUn_DS485997v1       chrUn_DS485998v1      \n",
       "#   chrUn_DS486002v1       chrUn_DS486004v1       chrUn_DS486005v1      \n",
       "#   chrUn_DS486008v1                                                    \n",
       "# (use 'seqnames()' to see all the sequence names, use the '$' or '[[' operator\n",
       "# to access a given sequence)"
      ]
     },
     "metadata": {},
     "output_type": "display_data"
    }
   ],
   "source": [
    "#properties:\n",
    "genome <- BSgenome.Dmelanogaster.UCSC.dm6\n",
    "genome"
   ]
  },
  {
   "cell_type": "code",
   "execution_count": 10,
   "metadata": {},
   "outputs": [
    {
     "data": {
      "text/html": [
       "<ol class=list-inline>\n",
       "\t<li>'chr2L'</li>\n",
       "\t<li>'chr2R'</li>\n",
       "\t<li>'chr3L'</li>\n",
       "\t<li>'chr3R'</li>\n",
       "\t<li>'chr4'</li>\n",
       "\t<li>'chrX'</li>\n",
       "</ol>\n"
      ],
      "text/latex": [
       "\\begin{enumerate*}\n",
       "\\item 'chr2L'\n",
       "\\item 'chr2R'\n",
       "\\item 'chr3L'\n",
       "\\item 'chr3R'\n",
       "\\item 'chr4'\n",
       "\\item 'chrX'\n",
       "\\end{enumerate*}\n"
      ],
      "text/markdown": [
       "1. 'chr2L'\n",
       "2. 'chr2R'\n",
       "3. 'chr3L'\n",
       "4. 'chr3R'\n",
       "5. 'chr4'\n",
       "6. 'chrX'\n",
       "\n",
       "\n"
      ],
      "text/plain": [
       "[1] \"chr2L\" \"chr2R\" \"chr3L\" \"chr3R\" \"chr4\"  \"chrX\" "
      ]
     },
     "metadata": {},
     "output_type": "display_data"
    }
   ],
   "source": [
    "#sequence names:\n",
    "head (seqnames(genome)) "
   ]
  },
  {
   "cell_type": "code",
   "execution_count": 14,
   "metadata": {},
   "outputs": [
    {
     "data": {
      "text/plain": [
       "  23513712-letter \"DNAString\" instance\n",
       "seq: CGACAATGCACGACAGAGGAAGCAGAACAGATATTT...GAGAACAGAGAACAGAGAACAGAGAACAGAGAAGAG"
      ]
     },
     "metadata": {},
     "output_type": "display_data"
    },
    {
     "data": {
      "text/plain": [
       "  3667352-letter \"DNAString\" instance\n",
       "seq: GCGTTGTGAGCAACGACACTGAAAGCAACAATAATA...CTCTTCTCTTCTCTTCTCTTCTCTTCTCTTCTCTTC"
      ]
     },
     "metadata": {},
     "output_type": "display_data"
    }
   ],
   "source": [
    "#accessing a single sequence:\n",
    "genome[[1]]\n",
    "#or\n",
    "genome$chrY"
   ]
  },
  {
   "cell_type": "markdown",
   "metadata": {},
   "source": [
    "## loading annotations as TxDb objects"
   ]
  },
  {
   "cell_type": "code",
   "execution_count": 15,
   "metadata": {
    "collapsed": true
   },
   "outputs": [
    {
     "name": "stderr",
     "output_type": "stream",
     "text": [
      "Loading required package: GenomicFeatures\n",
      "Loading required package: AnnotationDbi\n",
      "Loading required package: Biobase\n",
      "Welcome to Bioconductor\n",
      "\n",
      "    Vignettes contain introductory material; view with\n",
      "    'browseVignettes()'. To cite Bioconductor, see\n",
      "    'citation(\"Biobase\")', and for packages 'citation(\"pkgname\")'.\n",
      "\n"
     ]
    }
   ],
   "source": [
    "# TxDb.Dmelanogaster.UCSC.dm6.ensGene\n",
    "# chech that the genome (UCSC.dm6) matches!\n",
    "# the information on the TxDb (transcript database) is based on the correct genome\n",
    "\n",
    "library(TxDb.Dmelanogaster.UCSC.dm6.ensGene)\n",
    "\n"
   ]
  },
  {
   "cell_type": "code",
   "execution_count": 19,
   "metadata": {},
   "outputs": [],
   "source": [
    "tr <- TxDb.Dmelanogaster.UCSC.dm6.ensGene"
   ]
  },
  {
   "cell_type": "code",
   "execution_count": 20,
   "metadata": {},
   "outputs": [
    {
     "data": {
      "text/plain": [
       "GRanges object with 17699 ranges and 1 metadata column:\n",
       "              seqnames            ranges strand |     gene_id\n",
       "                 <Rle>         <IRanges>  <Rle> | <character>\n",
       "  FBgn0000003    chr3R   6822498-6822796      + | FBgn0000003\n",
       "  FBgn0000008    chr2R 22136968-22172834      + | FBgn0000008\n",
       "  FBgn0000014    chr3R 16807214-16830049      - | FBgn0000014\n",
       "  FBgn0000015    chr3R 16927212-16972236      - | FBgn0000015\n",
       "  FBgn0000017    chr3L 16615866-16647882      - | FBgn0000017\n",
       "          ...      ...               ...    ... .         ...\n",
       "  FBgn0285994    chr3L 21576460-21576661      - | FBgn0285994\n",
       "  FBgn0286004     chrX 19558607-19558693      + | FBgn0286004\n",
       "  FBgn0286005    chr2R 18180151-18180205      - | FBgn0286005\n",
       "  FBgn0286006    chr2R 12170373-12170462      - | FBgn0286006\n",
       "  FBgn0286007    chr2R 12170153-12170244      - | FBgn0286007\n",
       "  -------\n",
       "  seqinfo: 1870 sequences (1 circular) from dm6 genome"
      ]
     },
     "metadata": {},
     "output_type": "display_data"
    }
   ],
   "source": [
    "# getting all the genes from our TxDb object:\n",
    "# we want to get the coordinates of start position for each gene.\n",
    "# by the holy power of RTFM\n",
    "\n",
    "genes(tr)"
   ]
  },
  {
   "cell_type": "code",
   "execution_count": 21,
   "metadata": {},
   "outputs": [
    {
     "name": "stderr",
     "output_type": "stream",
     "text": [
      "Warning message in valid.GenomicRanges.seqinfo(x, suggest.trim = TRUE):\n",
      "“GRanges object contains 15 out-of-bound ranges located on sequences\n",
      "  chr4, chrX_DS483995v1_random, chrY_DS483742v1_random,\n",
      "  chrY_DS483875v1_random, chrY_DS483931v1_random, chrY_DS484142v1_random,\n",
      "  chrY_DS484530v1_random, chrY_DS484909v1_random, chrY_DS485423v1_random,\n",
      "  chrY_DS485523v1_random, chrY_DS485938v1_random, chrUn_CP007102v1,\n",
      "  chrUn_DS483910v1, chrUn_DS484581v1, and chrUn_DS484898v1. Note that\n",
      "  ranges located on a sequence whose length is unknown (NA) or on a\n",
      "  circular sequence are not considered out-of-bound (use seqlengths() and\n",
      "  isCircular() to get the lengths and circularity flags of the underlying\n",
      "  sequences). You can use trim() to trim these ranges. See\n",
      "  ?`trim,GenomicRanges-method` for more information.”"
     ]
    },
    {
     "data": {
      "text/plain": [
       "GRanges object with 34729 ranges and 2 metadata columns:\n",
       "                      seqnames      ranges strand |     tx_id     tx_name\n",
       "                         <Rle>   <IRanges>  <Rle> | <integer> <character>\n",
       "  FBtr0300689            chr2L   5529-7728      + |         1 FBtr0300689\n",
       "  FBtr0300690            chr2L   5529-7728      + |         2 FBtr0300690\n",
       "  FBtr0330654            chr2L   5529-7728      + |         3 FBtr0330654\n",
       "  FBtr0309810            chr2L 19952-22151      + |         4 FBtr0309810\n",
       "  FBtr0347585            chr2L 52817-55016      + |         5 FBtr0347585\n",
       "          ...              ...         ...    ... .       ...         ...\n",
       "  FBtr0346886 chrUn_CP007120v1   5113-7312      - |     34725 FBtr0346886\n",
       "  FBtr0347010 chrUn_DS483646v1  9328-11527      - |     34726 FBtr0347010\n",
       "  FBtr0347035 chrUn_DS483910v1   -1301-898      + |     34727 FBtr0347035\n",
       "  FBtr0302352 chrUn_DS484581v1    155-2354      - |     34728 FBtr0302352\n",
       "  FBtr0347034 chrUn_DS484898v1    541-2740      - |     34729 FBtr0347034\n",
       "  -------\n",
       "  seqinfo: 1870 sequences (1 circular) from dm6 genome"
      ]
     },
     "metadata": {},
     "output_type": "display_data"
    }
   ],
   "source": [
    "promoters(tr)"
   ]
  },
  {
   "cell_type": "code",
   "execution_count": 22,
   "metadata": {},
   "outputs": [
    {
     "data": {
      "text/plain": [
       "GRanges object with 34729 ranges and 2 metadata columns:\n",
       "                  seqnames      ranges strand |     tx_id     tx_name\n",
       "                     <Rle>   <IRanges>  <Rle> | <integer> <character>\n",
       "      [1]            chr2L   7529-9484      + |         1 FBtr0300689\n",
       "      [2]            chr2L   7529-9484      + |         2 FBtr0300690\n",
       "      [3]            chr2L   7529-9484      + |         3 FBtr0330654\n",
       "      [4]            chr2L 21952-24237      + |         4 FBtr0309810\n",
       "      [5]            chr2L 54817-55767      + |         5 FBtr0347585\n",
       "      ...              ...         ...    ... .       ...         ...\n",
       "  [34725] chrUn_CP007120v1   4492-5312      - |     34725 FBtr0346886\n",
       "  [34726] chrUn_DS483646v1   7386-9527      - |     34726 FBtr0347010\n",
       "  [34727] chrUn_DS483910v1    699-1770      + |     34727 FBtr0347035\n",
       "  [34728] chrUn_DS484581v1       7-354      - |     34728 FBtr0302352\n",
       "  [34729] chrUn_DS484898v1       1-740      - |     34729 FBtr0347034\n",
       "  -------\n",
       "  seqinfo: 1870 sequences (1 circular) from dm6 genome"
      ]
     },
     "metadata": {},
     "output_type": "display_data"
    }
   ],
   "source": [
    "transcripts(tr)"
   ]
  },
  {
   "cell_type": "markdown",
   "metadata": {},
   "source": [
    "Genes are defined by a GRanges object (genomic range) that includes seqname (reference sequence, or chromosome), range (start and end coordinates) and strand (+/-), with the associated geneID.\n",
    "\n",
    "It could be useful to transform it in a table/data.frame."
   ]
  },
  {
   "cell_type": "code",
   "execution_count": 23,
   "metadata": {},
   "outputs": [],
   "source": [
    "gen <- as.data.frame(genes(x = tr))"
   ]
  },
  {
   "cell_type": "code",
   "execution_count": 25,
   "metadata": {},
   "outputs": [
    {
     "data": {
      "text/html": [
       "<table>\n",
       "<caption>A data.frame: 6 × 6</caption>\n",
       "<thead>\n",
       "\t<tr><th></th><th scope=col>seqnames</th><th scope=col>start</th><th scope=col>end</th><th scope=col>width</th><th scope=col>strand</th><th scope=col>gene_id</th></tr>\n",
       "\t<tr><th></th><th scope=col>&lt;fct&gt;</th><th scope=col>&lt;int&gt;</th><th scope=col>&lt;int&gt;</th><th scope=col>&lt;int&gt;</th><th scope=col>&lt;fct&gt;</th><th scope=col>&lt;chr&gt;</th></tr>\n",
       "</thead>\n",
       "<tbody>\n",
       "\t<tr><th scope=row>FBgn0000003</th><td>chr3R</td><td> 6822498</td><td> 6822796</td><td>  299</td><td>+</td><td>FBgn0000003</td></tr>\n",
       "\t<tr><th scope=row>FBgn0000008</th><td>chr2R</td><td>22136968</td><td>22172834</td><td>35867</td><td>+</td><td>FBgn0000008</td></tr>\n",
       "\t<tr><th scope=row>FBgn0000014</th><td>chr3R</td><td>16807214</td><td>16830049</td><td>22836</td><td>-</td><td>FBgn0000014</td></tr>\n",
       "\t<tr><th scope=row>FBgn0000015</th><td>chr3R</td><td>16927212</td><td>16972236</td><td>45025</td><td>-</td><td>FBgn0000015</td></tr>\n",
       "\t<tr><th scope=row>FBgn0000017</th><td>chr3L</td><td>16615866</td><td>16647882</td><td>32017</td><td>-</td><td>FBgn0000017</td></tr>\n",
       "\t<tr><th scope=row>FBgn0000018</th><td>chr2L</td><td>10973443</td><td>10975293</td><td> 1851</td><td>-</td><td>FBgn0000018</td></tr>\n",
       "</tbody>\n",
       "</table>\n"
      ],
      "text/latex": [
       "A data.frame: 6 × 6\n",
       "\\begin{tabular}{r|llllll}\n",
       "  & seqnames & start & end & width & strand & gene\\_id\\\\\n",
       "  & <fct> & <int> & <int> & <int> & <fct> & <chr>\\\\\n",
       "\\hline\n",
       "\tFBgn0000003 & chr3R &  6822498 &  6822796 &   299 & + & FBgn0000003\\\\\n",
       "\tFBgn0000008 & chr2R & 22136968 & 22172834 & 35867 & + & FBgn0000008\\\\\n",
       "\tFBgn0000014 & chr3R & 16807214 & 16830049 & 22836 & - & FBgn0000014\\\\\n",
       "\tFBgn0000015 & chr3R & 16927212 & 16972236 & 45025 & - & FBgn0000015\\\\\n",
       "\tFBgn0000017 & chr3L & 16615866 & 16647882 & 32017 & - & FBgn0000017\\\\\n",
       "\tFBgn0000018 & chr2L & 10973443 & 10975293 &  1851 & - & FBgn0000018\\\\\n",
       "\\end{tabular}\n"
      ],
      "text/markdown": [
       "\n",
       "A data.frame: 6 × 6\n",
       "\n",
       "| <!--/--> | seqnames &lt;fct&gt; | start &lt;int&gt; | end &lt;int&gt; | width &lt;int&gt; | strand &lt;fct&gt; | gene_id &lt;chr&gt; |\n",
       "|---|---|---|---|---|---|---|\n",
       "| FBgn0000003 | chr3R |  6822498 |  6822796 |   299 | + | FBgn0000003 |\n",
       "| FBgn0000008 | chr2R | 22136968 | 22172834 | 35867 | + | FBgn0000008 |\n",
       "| FBgn0000014 | chr3R | 16807214 | 16830049 | 22836 | - | FBgn0000014 |\n",
       "| FBgn0000015 | chr3R | 16927212 | 16972236 | 45025 | - | FBgn0000015 |\n",
       "| FBgn0000017 | chr3L | 16615866 | 16647882 | 32017 | - | FBgn0000017 |\n",
       "| FBgn0000018 | chr2L | 10973443 | 10975293 |  1851 | - | FBgn0000018 |\n",
       "\n"
      ],
      "text/plain": [
       "            seqnames start    end      width strand gene_id    \n",
       "FBgn0000003 chr3R     6822498  6822796   299 +      FBgn0000003\n",
       "FBgn0000008 chr2R    22136968 22172834 35867 +      FBgn0000008\n",
       "FBgn0000014 chr3R    16807214 16830049 22836 -      FBgn0000014\n",
       "FBgn0000015 chr3R    16927212 16972236 45025 -      FBgn0000015\n",
       "FBgn0000017 chr3L    16615866 16647882 32017 -      FBgn0000017\n",
       "FBgn0000018 chr2L    10973443 10975293  1851 -      FBgn0000018"
      ]
     },
     "metadata": {},
     "output_type": "display_data"
    }
   ],
   "source": [
    "head(gen)"
   ]
  },
  {
   "cell_type": "markdown",
   "metadata": {},
   "source": [
    "We want to extract all genes whose start is in the -500:+100 intervals we found before. strand =? + : (start-500 , start+100)\n",
    "\n",
    "Depending from the strand, we have to ask to the system:\n",
    "\n",
    "    strand =? + : (start-500 , start+100)\n",
    "    strand =? - : (end - 100 , end + 500)\n",
    "    \n",
    "    ---[-----S-]-------------E---------->  +\n",
    "    <--------S-------------[-E-----]-----  -\n",
    "\n",
    "So we have to transform our table, and maybe filter for coding genes."
   ]
  },
  {
   "cell_type": "code",
   "execution_count": 26,
   "metadata": {},
   "outputs": [],
   "source": [
    "#function to get all gene IDs:\n",
    "\n",
    "get.coding.genes.ids = function() {\n",
    "  library(\"biomaRt\")\n",
    "  ensembl = useMart(\"ENSEMBL_MART_ENSEMBL\")\n",
    "  ensembl = useDataset(\"dmelanogaster_gene_ensembl\",mart=ensembl)\n",
    "  gid = getBM(attributes='ensembl_gene_id',\n",
    "              filters='biotype',values='protein_coding',\n",
    "              mart=ensembl)\n",
    "  gid$ensembl_gene_id\n",
    "}\n",
    "\n",
    "gid = get.coding.genes.ids()"
   ]
  },
  {
   "cell_type": "code",
   "execution_count": 30,
   "metadata": {},
   "outputs": [
    {
     "data": {
      "text/html": [
       "<ol class=list-inline>\n",
       "\t<li>'FBgn0025637'</li>\n",
       "\t<li>'FBgn0029858'</li>\n",
       "\t<li>'FBgn0044049'</li>\n",
       "\t<li>'FBgn0038461'</li>\n",
       "\t<li>'FBgn0035721'</li>\n",
       "\t<li>'FBgn0040383'</li>\n",
       "</ol>\n"
      ],
      "text/latex": [
       "\\begin{enumerate*}\n",
       "\\item 'FBgn0025637'\n",
       "\\item 'FBgn0029858'\n",
       "\\item 'FBgn0044049'\n",
       "\\item 'FBgn0038461'\n",
       "\\item 'FBgn0035721'\n",
       "\\item 'FBgn0040383'\n",
       "\\end{enumerate*}\n"
      ],
      "text/markdown": [
       "1. 'FBgn0025637'\n",
       "2. 'FBgn0029858'\n",
       "3. 'FBgn0044049'\n",
       "4. 'FBgn0038461'\n",
       "5. 'FBgn0035721'\n",
       "6. 'FBgn0040383'\n",
       "\n",
       "\n"
      ],
      "text/plain": [
       "[1] \"FBgn0025637\" \"FBgn0029858\" \"FBgn0044049\" \"FBgn0038461\" \"FBgn0035721\"\n",
       "[6] \"FBgn0040383\""
      ]
     },
     "metadata": {},
     "output_type": "display_data"
    }
   ],
   "source": [
    "head(gid)"
   ]
  },
  {
   "cell_type": "code",
   "execution_count": 33,
   "metadata": {},
   "outputs": [],
   "source": [
    "# morphing the table:\n",
    "gen$prom.start <- ifelse(gen$strand==\"+\",gen$start-500,gen$end-100) # set promoter starts\n",
    "gen$prom.end <- ifelse(gen$strand==\"+\",gen$start+100,gen$end+500) # set promoter ends\n"
   ]
  },
  {
   "cell_type": "code",
   "execution_count": 41,
   "metadata": {},
   "outputs": [
    {
     "data": {
      "text/html": [
       "600"
      ],
      "text/latex": [
       "600"
      ],
      "text/markdown": [
       "600"
      ],
      "text/plain": [
       "[1] 600"
      ]
     },
     "metadata": {},
     "output_type": "display_data"
    }
   ],
   "source": [
    "#check if all sequences are 600 bp long\n",
    "unique(gen$prom.end-gen$prom.start)"
   ]
  },
  {
   "cell_type": "code",
   "execution_count": 40,
   "metadata": {},
   "outputs": [
    {
     "data": {
      "text/html": [
       "<table>\n",
       "<caption>A data.frame: 6 × 8</caption>\n",
       "<thead>\n",
       "\t<tr><th></th><th scope=col>seqnames</th><th scope=col>start</th><th scope=col>end</th><th scope=col>width</th><th scope=col>strand</th><th scope=col>gene_id</th><th scope=col>prom.start</th><th scope=col>prom.end</th></tr>\n",
       "\t<tr><th></th><th scope=col>&lt;fct&gt;</th><th scope=col>&lt;int&gt;</th><th scope=col>&lt;int&gt;</th><th scope=col>&lt;int&gt;</th><th scope=col>&lt;fct&gt;</th><th scope=col>&lt;chr&gt;</th><th scope=col>&lt;dbl&gt;</th><th scope=col>&lt;dbl&gt;</th></tr>\n",
       "</thead>\n",
       "<tbody>\n",
       "\t<tr><th scope=row>FBgn0000003</th><td>chr3R</td><td> 6822498</td><td> 6822796</td><td>  299</td><td>+</td><td>FBgn0000003</td><td> 6821998</td><td> 6822598</td></tr>\n",
       "\t<tr><th scope=row>FBgn0000008</th><td>chr2R</td><td>22136968</td><td>22172834</td><td>35867</td><td>+</td><td>FBgn0000008</td><td>22136468</td><td>22137068</td></tr>\n",
       "\t<tr><th scope=row>FBgn0000014</th><td>chr3R</td><td>16807214</td><td>16830049</td><td>22836</td><td>-</td><td>FBgn0000014</td><td>16829949</td><td>16830549</td></tr>\n",
       "\t<tr><th scope=row>FBgn0000015</th><td>chr3R</td><td>16927212</td><td>16972236</td><td>45025</td><td>-</td><td>FBgn0000015</td><td>16972136</td><td>16972736</td></tr>\n",
       "\t<tr><th scope=row>FBgn0000017</th><td>chr3L</td><td>16615866</td><td>16647882</td><td>32017</td><td>-</td><td>FBgn0000017</td><td>16647782</td><td>16648382</td></tr>\n",
       "\t<tr><th scope=row>FBgn0000018</th><td>chr2L</td><td>10973443</td><td>10975293</td><td> 1851</td><td>-</td><td>FBgn0000018</td><td>10975193</td><td>10975793</td></tr>\n",
       "</tbody>\n",
       "</table>\n"
      ],
      "text/latex": [
       "A data.frame: 6 × 8\n",
       "\\begin{tabular}{r|llllllll}\n",
       "  & seqnames & start & end & width & strand & gene\\_id & prom.start & prom.end\\\\\n",
       "  & <fct> & <int> & <int> & <int> & <fct> & <chr> & <dbl> & <dbl>\\\\\n",
       "\\hline\n",
       "\tFBgn0000003 & chr3R &  6822498 &  6822796 &   299 & + & FBgn0000003 &  6821998 &  6822598\\\\\n",
       "\tFBgn0000008 & chr2R & 22136968 & 22172834 & 35867 & + & FBgn0000008 & 22136468 & 22137068\\\\\n",
       "\tFBgn0000014 & chr3R & 16807214 & 16830049 & 22836 & - & FBgn0000014 & 16829949 & 16830549\\\\\n",
       "\tFBgn0000015 & chr3R & 16927212 & 16972236 & 45025 & - & FBgn0000015 & 16972136 & 16972736\\\\\n",
       "\tFBgn0000017 & chr3L & 16615866 & 16647882 & 32017 & - & FBgn0000017 & 16647782 & 16648382\\\\\n",
       "\tFBgn0000018 & chr2L & 10973443 & 10975293 &  1851 & - & FBgn0000018 & 10975193 & 10975793\\\\\n",
       "\\end{tabular}\n"
      ],
      "text/markdown": [
       "\n",
       "A data.frame: 6 × 8\n",
       "\n",
       "| <!--/--> | seqnames &lt;fct&gt; | start &lt;int&gt; | end &lt;int&gt; | width &lt;int&gt; | strand &lt;fct&gt; | gene_id &lt;chr&gt; | prom.start &lt;dbl&gt; | prom.end &lt;dbl&gt; |\n",
       "|---|---|---|---|---|---|---|---|---|\n",
       "| FBgn0000003 | chr3R |  6822498 |  6822796 |   299 | + | FBgn0000003 |  6821998 |  6822598 |\n",
       "| FBgn0000008 | chr2R | 22136968 | 22172834 | 35867 | + | FBgn0000008 | 22136468 | 22137068 |\n",
       "| FBgn0000014 | chr3R | 16807214 | 16830049 | 22836 | - | FBgn0000014 | 16829949 | 16830549 |\n",
       "| FBgn0000015 | chr3R | 16927212 | 16972236 | 45025 | - | FBgn0000015 | 16972136 | 16972736 |\n",
       "| FBgn0000017 | chr3L | 16615866 | 16647882 | 32017 | - | FBgn0000017 | 16647782 | 16648382 |\n",
       "| FBgn0000018 | chr2L | 10973443 | 10975293 |  1851 | - | FBgn0000018 | 10975193 | 10975793 |\n",
       "\n"
      ],
      "text/plain": [
       "            seqnames start    end      width strand gene_id     prom.start\n",
       "FBgn0000003 chr3R     6822498  6822796   299 +      FBgn0000003  6821998  \n",
       "FBgn0000008 chr2R    22136968 22172834 35867 +      FBgn0000008 22136468  \n",
       "FBgn0000014 chr3R    16807214 16830049 22836 -      FBgn0000014 16829949  \n",
       "FBgn0000015 chr3R    16927212 16972236 45025 -      FBgn0000015 16972136  \n",
       "FBgn0000017 chr3L    16615866 16647882 32017 -      FBgn0000017 16647782  \n",
       "FBgn0000018 chr2L    10973443 10975293  1851 -      FBgn0000018 10975193  \n",
       "            prom.end\n",
       "FBgn0000003  6822598\n",
       "FBgn0000008 22137068\n",
       "FBgn0000014 16830549\n",
       "FBgn0000015 16972736\n",
       "FBgn0000017 16648382\n",
       "FBgn0000018 10975793"
      ]
     },
     "metadata": {},
     "output_type": "display_data"
    }
   ],
   "source": [
    "#morphed table\n",
    "head(gen)"
   ]
  },
  {
   "cell_type": "code",
   "execution_count": 43,
   "metadata": {},
   "outputs": [
    {
     "data": {
      "text/plain": [
       "  14-letter \"DNAString\" instance\n",
       "seq: TGCCAACATATTGT"
      ]
     },
     "metadata": {},
     "output_type": "display_data"
    }
   ],
   "source": [
    "# the function used to extract the sequences \n",
    "# from the coordinates we created is called subseq()\n",
    "# syntax:\n",
    "\n",
    "subseq(x = genome[[1]], \n",
    "       start = 100, \n",
    "       end = 113)"
   ]
  },
  {
   "cell_type": "code",
   "execution_count": 59,
   "metadata": {},
   "outputs": [
    {
     "data": {
      "text/html": [
       "<table>\n",
       "<caption>A data.frame: 6 × 8</caption>\n",
       "<thead>\n",
       "\t<tr><th></th><th scope=col>seqnames</th><th scope=col>start</th><th scope=col>end</th><th scope=col>width</th><th scope=col>strand</th><th scope=col>gene_id</th><th scope=col>prom.start</th><th scope=col>prom.end</th></tr>\n",
       "\t<tr><th></th><th scope=col>&lt;fct&gt;</th><th scope=col>&lt;int&gt;</th><th scope=col>&lt;int&gt;</th><th scope=col>&lt;int&gt;</th><th scope=col>&lt;fct&gt;</th><th scope=col>&lt;chr&gt;</th><th scope=col>&lt;dbl&gt;</th><th scope=col>&lt;dbl&gt;</th></tr>\n",
       "</thead>\n",
       "<tbody>\n",
       "\t<tr><th scope=row>FBgn0000003</th><td>chr3R</td><td> 6822498</td><td> 6822796</td><td>  299</td><td>+</td><td>FBgn0000003</td><td> 6821998</td><td> 6822598</td></tr>\n",
       "\t<tr><th scope=row>FBgn0000008</th><td>chr2R</td><td>22136968</td><td>22172834</td><td>35867</td><td>+</td><td>FBgn0000008</td><td>22136468</td><td>22137068</td></tr>\n",
       "\t<tr><th scope=row>FBgn0000014</th><td>chr3R</td><td>16807214</td><td>16830049</td><td>22836</td><td>-</td><td>FBgn0000014</td><td>16829949</td><td>16830549</td></tr>\n",
       "\t<tr><th scope=row>FBgn0000015</th><td>chr3R</td><td>16927212</td><td>16972236</td><td>45025</td><td>-</td><td>FBgn0000015</td><td>16972136</td><td>16972736</td></tr>\n",
       "\t<tr><th scope=row>FBgn0000017</th><td>chr3L</td><td>16615866</td><td>16647882</td><td>32017</td><td>-</td><td>FBgn0000017</td><td>16647782</td><td>16648382</td></tr>\n",
       "\t<tr><th scope=row>FBgn0000018</th><td>chr2L</td><td>10973443</td><td>10975293</td><td> 1851</td><td>-</td><td>FBgn0000018</td><td>10975193</td><td>10975793</td></tr>\n",
       "</tbody>\n",
       "</table>\n"
      ],
      "text/latex": [
       "A data.frame: 6 × 8\n",
       "\\begin{tabular}{r|llllllll}\n",
       "  & seqnames & start & end & width & strand & gene\\_id & prom.start & prom.end\\\\\n",
       "  & <fct> & <int> & <int> & <int> & <fct> & <chr> & <dbl> & <dbl>\\\\\n",
       "\\hline\n",
       "\tFBgn0000003 & chr3R &  6822498 &  6822796 &   299 & + & FBgn0000003 &  6821998 &  6822598\\\\\n",
       "\tFBgn0000008 & chr2R & 22136968 & 22172834 & 35867 & + & FBgn0000008 & 22136468 & 22137068\\\\\n",
       "\tFBgn0000014 & chr3R & 16807214 & 16830049 & 22836 & - & FBgn0000014 & 16829949 & 16830549\\\\\n",
       "\tFBgn0000015 & chr3R & 16927212 & 16972236 & 45025 & - & FBgn0000015 & 16972136 & 16972736\\\\\n",
       "\tFBgn0000017 & chr3L & 16615866 & 16647882 & 32017 & - & FBgn0000017 & 16647782 & 16648382\\\\\n",
       "\tFBgn0000018 & chr2L & 10973443 & 10975293 &  1851 & - & FBgn0000018 & 10975193 & 10975793\\\\\n",
       "\\end{tabular}\n"
      ],
      "text/markdown": [
       "\n",
       "A data.frame: 6 × 8\n",
       "\n",
       "| <!--/--> | seqnames &lt;fct&gt; | start &lt;int&gt; | end &lt;int&gt; | width &lt;int&gt; | strand &lt;fct&gt; | gene_id &lt;chr&gt; | prom.start &lt;dbl&gt; | prom.end &lt;dbl&gt; |\n",
       "|---|---|---|---|---|---|---|---|---|\n",
       "| FBgn0000003 | chr3R |  6822498 |  6822796 |   299 | + | FBgn0000003 |  6821998 |  6822598 |\n",
       "| FBgn0000008 | chr2R | 22136968 | 22172834 | 35867 | + | FBgn0000008 | 22136468 | 22137068 |\n",
       "| FBgn0000014 | chr3R | 16807214 | 16830049 | 22836 | - | FBgn0000014 | 16829949 | 16830549 |\n",
       "| FBgn0000015 | chr3R | 16927212 | 16972236 | 45025 | - | FBgn0000015 | 16972136 | 16972736 |\n",
       "| FBgn0000017 | chr3L | 16615866 | 16647882 | 32017 | - | FBgn0000017 | 16647782 | 16648382 |\n",
       "| FBgn0000018 | chr2L | 10973443 | 10975293 |  1851 | - | FBgn0000018 | 10975193 | 10975793 |\n",
       "\n"
      ],
      "text/plain": [
       "            seqnames start    end      width strand gene_id     prom.start\n",
       "FBgn0000003 chr3R     6822498  6822796   299 +      FBgn0000003  6821998  \n",
       "FBgn0000008 chr2R    22136968 22172834 35867 +      FBgn0000008 22136468  \n",
       "FBgn0000014 chr3R    16807214 16830049 22836 -      FBgn0000014 16829949  \n",
       "FBgn0000015 chr3R    16927212 16972236 45025 -      FBgn0000015 16972136  \n",
       "FBgn0000017 chr3L    16615866 16647882 32017 -      FBgn0000017 16647782  \n",
       "FBgn0000018 chr2L    10973443 10975293  1851 -      FBgn0000018 10975193  \n",
       "            prom.end\n",
       "FBgn0000003  6822598\n",
       "FBgn0000008 22137068\n",
       "FBgn0000014 16830549\n",
       "FBgn0000015 16972736\n",
       "FBgn0000017 16648382\n",
       "FBgn0000018 10975793"
      ]
     },
     "metadata": {},
     "output_type": "display_data"
    }
   ],
   "source": [
    "#we need to write our custom function to retrieve sequences\n",
    "# input: start, end, strand and chromosome, genome\n",
    "# output: sequence\n",
    "\n",
    "\n",
    "\n",
    "\n",
    "# using it on every row (and converting to string with toString()):\n",
    "gen$prom.seq <- apply()"
   ]
  },
  {
   "cell_type": "code",
   "execution_count": null,
   "metadata": {},
   "outputs": [],
   "source": []
  }
 ],
 "metadata": {
  "kernelspec": {
   "display_name": "R",
   "language": "R",
   "name": "ir"
  },
  "language_info": {
   "codemirror_mode": "r",
   "file_extension": ".r",
   "mimetype": "text/x-r-source",
   "name": "R",
   "pygments_lexer": "r",
   "version": "3.6.1"
  }
 },
 "nbformat": 4,
 "nbformat_minor": 2
}
