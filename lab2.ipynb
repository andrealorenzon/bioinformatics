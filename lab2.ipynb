{
 "cells": [
  {
   "cell_type": "markdown",
   "metadata": {},
   "source": [
    "# full genome browsing, offline\n",
    "\n",
    "We are using BSgenome subpackages to browse entire genomes."
   ]
  },
  {
   "cell_type": "code",
   "execution_count": 1,
   "metadata": {},
   "outputs": [
    {
     "name": "stderr",
     "output_type": "stream",
     "text": [
      "Loading required package: BiocGenerics\n",
      "Loading required package: parallel\n",
      "\n",
      "Attaching package: ‘BiocGenerics’\n",
      "\n",
      "The following objects are masked from ‘package:parallel’:\n",
      "\n",
      "    clusterApply, clusterApplyLB, clusterCall, clusterEvalQ,\n",
      "    clusterExport, clusterMap, parApply, parCapply, parLapply,\n",
      "    parLapplyLB, parRapply, parSapply, parSapplyLB\n",
      "\n",
      "The following objects are masked from ‘package:stats’:\n",
      "\n",
      "    IQR, mad, sd, var, xtabs\n",
      "\n",
      "The following objects are masked from ‘package:base’:\n",
      "\n",
      "    anyDuplicated, append, as.data.frame, basename, cbind, colnames,\n",
      "    dirname, do.call, duplicated, eval, evalq, Filter, Find, get, grep,\n",
      "    grepl, intersect, is.unsorted, lapply, Map, mapply, match, mget,\n",
      "    order, paste, pmax, pmax.int, pmin, pmin.int, Position, rank,\n",
      "    rbind, Reduce, rownames, sapply, setdiff, sort, table, tapply,\n",
      "    union, unique, unsplit, which, which.max, which.min\n",
      "\n",
      "Loading required package: S4Vectors\n",
      "Loading required package: stats4\n",
      "\n",
      "Attaching package: ‘S4Vectors’\n",
      "\n",
      "The following object is masked from ‘package:base’:\n",
      "\n",
      "    expand.grid\n",
      "\n",
      "Loading required package: IRanges\n",
      "Loading required package: XVector\n",
      "\n",
      "Attaching package: ‘Biostrings’\n",
      "\n",
      "The following object is masked from ‘package:base’:\n",
      "\n",
      "    strsplit\n",
      "\n",
      "Loading required package: GenomeInfoDb\n",
      "Loading required package: GenomicRanges\n",
      "Loading required package: rtracklayer\n"
     ]
    }
   ],
   "source": [
    "library(Biostrings)\n",
    "library(BSgenome)"
   ]
  },
  {
   "cell_type": "markdown",
   "metadata": {},
   "source": [
    "We are going to use BSgenome to browse full genome."
   ]
  },
  {
   "cell_type": "code",
   "execution_count": 2,
   "metadata": {},
   "outputs": [],
   "source": [
    "#genome of D.melanogaster\n",
    "library(BSgenome.Dmelanogaster.UCSC.dm6)"
   ]
  },
  {
   "cell_type": "code",
   "execution_count": 3,
   "metadata": {},
   "outputs": [
    {
     "data": {
      "text/plain": [
       "Fly genome:\n",
       "# organism: Drosophila melanogaster (Fly)\n",
       "# provider: UCSC\n",
       "# provider version: dm6\n",
       "# release date: Aug. 2014\n",
       "# release name: BDGP Release 6 + ISO1 MT\n",
       "# 1870 sequences:\n",
       "#   chr2L                  chr2R                  chr3L                 \n",
       "#   chr3R                  chr4                   chrX                  \n",
       "#   chrY                   chrM                   chrX_CP007103v1_random\n",
       "#   chrX_CP007104v1_random chrX_DS483648v1_random chrX_DS483655v1_random\n",
       "#   chrX_DS483660v1_random chrX_DS483665v1_random chrX_DS483666v1_random\n",
       "#   ...                    ...                    ...                   \n",
       "#   chrUn_DS485985v1       chrUn_DS485986v1       chrUn_DS485988v1      \n",
       "#   chrUn_DS485989v1       chrUn_DS485991v1       chrUn_DS485995v1      \n",
       "#   chrUn_DS485996v1       chrUn_DS485997v1       chrUn_DS485998v1      \n",
       "#   chrUn_DS486002v1       chrUn_DS486004v1       chrUn_DS486005v1      \n",
       "#   chrUn_DS486008v1                                                    \n",
       "# (use 'seqnames()' to see all the sequence names, use the '$' or '[[' operator\n",
       "# to access a given sequence)"
      ]
     },
     "metadata": {},
     "output_type": "display_data"
    }
   ],
   "source": [
    "#properties:\n",
    "genome <- BSgenome.Dmelanogaster.UCSC.dm6\n",
    "genome"
   ]
  },
  {
   "cell_type": "code",
   "execution_count": 24,
   "metadata": {},
   "outputs": [
    {
     "data": {
      "text/html": [
       "<ol class=list-inline>\n",
       "\t<li>'chr2L'</li>\n",
       "\t<li>'chr2R'</li>\n",
       "\t<li>'chr3L'</li>\n",
       "\t<li>'chr3R'</li>\n",
       "\t<li>'chr4'</li>\n",
       "\t<li>'chrX'</li>\n",
       "</ol>\n"
      ],
      "text/latex": [
       "\\begin{enumerate*}\n",
       "\\item 'chr2L'\n",
       "\\item 'chr2R'\n",
       "\\item 'chr3L'\n",
       "\\item 'chr3R'\n",
       "\\item 'chr4'\n",
       "\\item 'chrX'\n",
       "\\end{enumerate*}\n"
      ],
      "text/markdown": [
       "1. 'chr2L'\n",
       "2. 'chr2R'\n",
       "3. 'chr3L'\n",
       "4. 'chr3R'\n",
       "5. 'chr4'\n",
       "6. 'chrX'\n",
       "\n",
       "\n"
      ],
      "text/plain": [
       "[1] \"chr2L\" \"chr2R\" \"chr3L\" \"chr3R\" \"chr4\"  \"chrX\" "
      ]
     },
     "metadata": {},
     "output_type": "display_data"
    },
    {
     "data": {
      "text/html": [
       "'chr2L'"
      ],
      "text/latex": [
       "'chr2L'"
      ],
      "text/markdown": [
       "'chr2L'"
      ],
      "text/plain": [
       "[1] \"chr2L\""
      ]
     },
     "metadata": {},
     "output_type": "display_data"
    }
   ],
   "source": [
    "#sequence names:\n",
    "head (seqnames(genome)) \n",
    "\n",
    "#all randoms are very small and not annotated. unfinished content, partial, etc.\n",
    "chr = seqnames(genome)\n",
    "chr = chr[ - grep(\"_\",chr)]\n",
    "\n"
   ]
  },
  {
   "cell_type": "code",
   "execution_count": 5,
   "metadata": {},
   "outputs": [
    {
     "data": {
      "text/plain": [
       "  23513712-letter \"DNAString\" instance\n",
       "seq: CGACAATGCACGACAGAGGAAGCAGAACAGATATTT...GAGAACAGAGAACAGAGAACAGAGAACAGAGAAGAG"
      ]
     },
     "metadata": {},
     "output_type": "display_data"
    },
    {
     "data": {
      "text/plain": [
       "  3667352-letter \"DNAString\" instance\n",
       "seq: GCGTTGTGAGCAACGACACTGAAAGCAACAATAATA...CTCTTCTCTTCTCTTCTCTTCTCTTCTCTTCTCTTC"
      ]
     },
     "metadata": {},
     "output_type": "display_data"
    }
   ],
   "source": [
    "#accessing a single sequence:\n",
    "genome[[1]]\n",
    "#or\n",
    "genome$chrY"
   ]
  },
  {
   "cell_type": "markdown",
   "metadata": {},
   "source": [
    "## loading annotations as TxDb objects"
   ]
  },
  {
   "cell_type": "code",
   "execution_count": 6,
   "metadata": {},
   "outputs": [
    {
     "name": "stderr",
     "output_type": "stream",
     "text": [
      "Loading required package: GenomicFeatures\n",
      "Loading required package: AnnotationDbi\n",
      "Loading required package: Biobase\n",
      "Welcome to Bioconductor\n",
      "\n",
      "    Vignettes contain introductory material; view with\n",
      "    'browseVignettes()'. To cite Bioconductor, see\n",
      "    'citation(\"Biobase\")', and for packages 'citation(\"pkgname\")'.\n",
      "\n"
     ]
    }
   ],
   "source": [
    "# TxDb.Dmelanogaster.UCSC.dm6.ensGene\n",
    "# chech that the genome (UCSC.dm6) matches!\n",
    "# the information on the TxDb (transcript database) is based on the correct genome\n",
    "\n",
    "library(TxDb.Dmelanogaster.UCSC.dm6.ensGene)\n",
    "\n"
   ]
  },
  {
   "cell_type": "code",
   "execution_count": 7,
   "metadata": {},
   "outputs": [],
   "source": [
    "tr <- TxDb.Dmelanogaster.UCSC.dm6.ensGene"
   ]
  },
  {
   "cell_type": "code",
   "execution_count": 8,
   "metadata": {},
   "outputs": [
    {
     "data": {
      "text/plain": [
       "GRanges object with 17699 ranges and 1 metadata column:\n",
       "              seqnames            ranges strand |     gene_id\n",
       "                 <Rle>         <IRanges>  <Rle> | <character>\n",
       "  FBgn0000003    chr3R   6822498-6822796      + | FBgn0000003\n",
       "  FBgn0000008    chr2R 22136968-22172834      + | FBgn0000008\n",
       "  FBgn0000014    chr3R 16807214-16830049      - | FBgn0000014\n",
       "  FBgn0000015    chr3R 16927212-16972236      - | FBgn0000015\n",
       "  FBgn0000017    chr3L 16615866-16647882      - | FBgn0000017\n",
       "          ...      ...               ...    ... .         ...\n",
       "  FBgn0285994    chr3L 21576460-21576661      - | FBgn0285994\n",
       "  FBgn0286004     chrX 19558607-19558693      + | FBgn0286004\n",
       "  FBgn0286005    chr2R 18180151-18180205      - | FBgn0286005\n",
       "  FBgn0286006    chr2R 12170373-12170462      - | FBgn0286006\n",
       "  FBgn0286007    chr2R 12170153-12170244      - | FBgn0286007\n",
       "  -------\n",
       "  seqinfo: 1870 sequences (1 circular) from dm6 genome"
      ]
     },
     "metadata": {},
     "output_type": "display_data"
    }
   ],
   "source": [
    "# getting all the genes from our TxDb object:\n",
    "# we want to get the coordinates of start position for each gene.\n",
    "# by the holy power of RTFM\n",
    "\n",
    "genes(tr)"
   ]
  },
  {
   "cell_type": "code",
   "execution_count": 9,
   "metadata": {},
   "outputs": [
    {
     "name": "stderr",
     "output_type": "stream",
     "text": [
      "Warning message in valid.GenomicRanges.seqinfo(x, suggest.trim = TRUE):\n",
      "“GRanges object contains 15 out-of-bound ranges located on sequences\n",
      "  chr4, chrX_DS483995v1_random, chrY_DS483742v1_random,\n",
      "  chrY_DS483875v1_random, chrY_DS483931v1_random, chrY_DS484142v1_random,\n",
      "  chrY_DS484530v1_random, chrY_DS484909v1_random, chrY_DS485423v1_random,\n",
      "  chrY_DS485523v1_random, chrY_DS485938v1_random, chrUn_CP007102v1,\n",
      "  chrUn_DS483910v1, chrUn_DS484581v1, and chrUn_DS484898v1. Note that\n",
      "  ranges located on a sequence whose length is unknown (NA) or on a\n",
      "  circular sequence are not considered out-of-bound (use seqlengths() and\n",
      "  isCircular() to get the lengths and circularity flags of the underlying\n",
      "  sequences). You can use trim() to trim these ranges. See\n",
      "  ?`trim,GenomicRanges-method` for more information.”"
     ]
    },
    {
     "data": {
      "text/plain": [
       "GRanges object with 34729 ranges and 2 metadata columns:\n",
       "                      seqnames      ranges strand |     tx_id     tx_name\n",
       "                         <Rle>   <IRanges>  <Rle> | <integer> <character>\n",
       "  FBtr0300689            chr2L   5529-7728      + |         1 FBtr0300689\n",
       "  FBtr0300690            chr2L   5529-7728      + |         2 FBtr0300690\n",
       "  FBtr0330654            chr2L   5529-7728      + |         3 FBtr0330654\n",
       "  FBtr0309810            chr2L 19952-22151      + |         4 FBtr0309810\n",
       "  FBtr0347585            chr2L 52817-55016      + |         5 FBtr0347585\n",
       "          ...              ...         ...    ... .       ...         ...\n",
       "  FBtr0346886 chrUn_CP007120v1   5113-7312      - |     34725 FBtr0346886\n",
       "  FBtr0347010 chrUn_DS483646v1  9328-11527      - |     34726 FBtr0347010\n",
       "  FBtr0347035 chrUn_DS483910v1   -1301-898      + |     34727 FBtr0347035\n",
       "  FBtr0302352 chrUn_DS484581v1    155-2354      - |     34728 FBtr0302352\n",
       "  FBtr0347034 chrUn_DS484898v1    541-2740      - |     34729 FBtr0347034\n",
       "  -------\n",
       "  seqinfo: 1870 sequences (1 circular) from dm6 genome"
      ]
     },
     "metadata": {},
     "output_type": "display_data"
    }
   ],
   "source": [
    "promoters(tr)"
   ]
  },
  {
   "cell_type": "code",
   "execution_count": 10,
   "metadata": {},
   "outputs": [
    {
     "data": {
      "text/plain": [
       "GRanges object with 34729 ranges and 2 metadata columns:\n",
       "                  seqnames      ranges strand |     tx_id     tx_name\n",
       "                     <Rle>   <IRanges>  <Rle> | <integer> <character>\n",
       "      [1]            chr2L   7529-9484      + |         1 FBtr0300689\n",
       "      [2]            chr2L   7529-9484      + |         2 FBtr0300690\n",
       "      [3]            chr2L   7529-9484      + |         3 FBtr0330654\n",
       "      [4]            chr2L 21952-24237      + |         4 FBtr0309810\n",
       "      [5]            chr2L 54817-55767      + |         5 FBtr0347585\n",
       "      ...              ...         ...    ... .       ...         ...\n",
       "  [34725] chrUn_CP007120v1   4492-5312      - |     34725 FBtr0346886\n",
       "  [34726] chrUn_DS483646v1   7386-9527      - |     34726 FBtr0347010\n",
       "  [34727] chrUn_DS483910v1    699-1770      + |     34727 FBtr0347035\n",
       "  [34728] chrUn_DS484581v1       7-354      - |     34728 FBtr0302352\n",
       "  [34729] chrUn_DS484898v1       1-740      - |     34729 FBtr0347034\n",
       "  -------\n",
       "  seqinfo: 1870 sequences (1 circular) from dm6 genome"
      ]
     },
     "metadata": {},
     "output_type": "display_data"
    }
   ],
   "source": [
    "transcripts(tr)"
   ]
  },
  {
   "cell_type": "markdown",
   "metadata": {},
   "source": [
    "Genes are defined by a GRanges object (genomic range) that includes seqname (reference sequence, or chromosome), range (start and end coordinates) and strand (+/-), with the associated geneID.\n",
    "\n",
    "It could be useful to transform it in a table/data.frame."
   ]
  },
  {
   "cell_type": "code",
   "execution_count": 11,
   "metadata": {},
   "outputs": [],
   "source": [
    "gen <- as.data.frame(genes(x = tr))"
   ]
  },
  {
   "cell_type": "code",
   "execution_count": 12,
   "metadata": {},
   "outputs": [
    {
     "data": {
      "text/html": [
       "<table>\n",
       "<caption>A data.frame: 6 × 6</caption>\n",
       "<thead>\n",
       "\t<tr><th></th><th scope=col>seqnames</th><th scope=col>start</th><th scope=col>end</th><th scope=col>width</th><th scope=col>strand</th><th scope=col>gene_id</th></tr>\n",
       "\t<tr><th></th><th scope=col>&lt;fct&gt;</th><th scope=col>&lt;int&gt;</th><th scope=col>&lt;int&gt;</th><th scope=col>&lt;int&gt;</th><th scope=col>&lt;fct&gt;</th><th scope=col>&lt;chr&gt;</th></tr>\n",
       "</thead>\n",
       "<tbody>\n",
       "\t<tr><th scope=row>FBgn0000003</th><td>chr3R</td><td> 6822498</td><td> 6822796</td><td>  299</td><td>+</td><td>FBgn0000003</td></tr>\n",
       "\t<tr><th scope=row>FBgn0000008</th><td>chr2R</td><td>22136968</td><td>22172834</td><td>35867</td><td>+</td><td>FBgn0000008</td></tr>\n",
       "\t<tr><th scope=row>FBgn0000014</th><td>chr3R</td><td>16807214</td><td>16830049</td><td>22836</td><td>-</td><td>FBgn0000014</td></tr>\n",
       "\t<tr><th scope=row>FBgn0000015</th><td>chr3R</td><td>16927212</td><td>16972236</td><td>45025</td><td>-</td><td>FBgn0000015</td></tr>\n",
       "\t<tr><th scope=row>FBgn0000017</th><td>chr3L</td><td>16615866</td><td>16647882</td><td>32017</td><td>-</td><td>FBgn0000017</td></tr>\n",
       "\t<tr><th scope=row>FBgn0000018</th><td>chr2L</td><td>10973443</td><td>10975293</td><td> 1851</td><td>-</td><td>FBgn0000018</td></tr>\n",
       "</tbody>\n",
       "</table>\n"
      ],
      "text/latex": [
       "A data.frame: 6 × 6\n",
       "\\begin{tabular}{r|llllll}\n",
       "  & seqnames & start & end & width & strand & gene\\_id\\\\\n",
       "  & <fct> & <int> & <int> & <int> & <fct> & <chr>\\\\\n",
       "\\hline\n",
       "\tFBgn0000003 & chr3R &  6822498 &  6822796 &   299 & + & FBgn0000003\\\\\n",
       "\tFBgn0000008 & chr2R & 22136968 & 22172834 & 35867 & + & FBgn0000008\\\\\n",
       "\tFBgn0000014 & chr3R & 16807214 & 16830049 & 22836 & - & FBgn0000014\\\\\n",
       "\tFBgn0000015 & chr3R & 16927212 & 16972236 & 45025 & - & FBgn0000015\\\\\n",
       "\tFBgn0000017 & chr3L & 16615866 & 16647882 & 32017 & - & FBgn0000017\\\\\n",
       "\tFBgn0000018 & chr2L & 10973443 & 10975293 &  1851 & - & FBgn0000018\\\\\n",
       "\\end{tabular}\n"
      ],
      "text/markdown": [
       "\n",
       "A data.frame: 6 × 6\n",
       "\n",
       "| <!--/--> | seqnames &lt;fct&gt; | start &lt;int&gt; | end &lt;int&gt; | width &lt;int&gt; | strand &lt;fct&gt; | gene_id &lt;chr&gt; |\n",
       "|---|---|---|---|---|---|---|\n",
       "| FBgn0000003 | chr3R |  6822498 |  6822796 |   299 | + | FBgn0000003 |\n",
       "| FBgn0000008 | chr2R | 22136968 | 22172834 | 35867 | + | FBgn0000008 |\n",
       "| FBgn0000014 | chr3R | 16807214 | 16830049 | 22836 | - | FBgn0000014 |\n",
       "| FBgn0000015 | chr3R | 16927212 | 16972236 | 45025 | - | FBgn0000015 |\n",
       "| FBgn0000017 | chr3L | 16615866 | 16647882 | 32017 | - | FBgn0000017 |\n",
       "| FBgn0000018 | chr2L | 10973443 | 10975293 |  1851 | - | FBgn0000018 |\n",
       "\n"
      ],
      "text/plain": [
       "            seqnames start    end      width strand gene_id    \n",
       "FBgn0000003 chr3R     6822498  6822796   299 +      FBgn0000003\n",
       "FBgn0000008 chr2R    22136968 22172834 35867 +      FBgn0000008\n",
       "FBgn0000014 chr3R    16807214 16830049 22836 -      FBgn0000014\n",
       "FBgn0000015 chr3R    16927212 16972236 45025 -      FBgn0000015\n",
       "FBgn0000017 chr3L    16615866 16647882 32017 -      FBgn0000017\n",
       "FBgn0000018 chr2L    10973443 10975293  1851 -      FBgn0000018"
      ]
     },
     "metadata": {},
     "output_type": "display_data"
    }
   ],
   "source": [
    "head(gen)"
   ]
  },
  {
   "cell_type": "markdown",
   "metadata": {},
   "source": [
    "We want to extract all genes whose start is in the -500:+100 intervals we found before. strand =? + : (start-500 , start+100)\n",
    "\n",
    "Depending from the strand, we have to ask to the system:\n",
    "\n",
    "    strand =? + : (start-500 , start+100)\n",
    "    strand =? - : (end - 100 , end + 500)\n",
    "    \n",
    "    ---[-----S-]-------------E---------->  +\n",
    "    <--------S-------------[-E-----]-----  -\n",
    "\n",
    "So we have to transform our table, and maybe filter for coding genes."
   ]
  },
  {
   "cell_type": "code",
   "execution_count": 13,
   "metadata": {},
   "outputs": [],
   "source": [
    "#function to get all gene IDs:\n",
    "\n",
    "get.coding.genes.ids = function() {\n",
    "  library(\"biomaRt\")\n",
    "  ensembl = useMart(\"ENSEMBL_MART_ENSEMBL\")\n",
    "  ensembl = useDataset(\"dmelanogaster_gene_ensembl\",mart=ensembl)\n",
    "  gid = getBM(attributes='ensembl_gene_id',\n",
    "              filters='biotype',values='protein_coding',\n",
    "              mart=ensembl)\n",
    "  gid$ensembl_gene_id\n",
    "}\n",
    "\n",
    "gid = get.coding.genes.ids()"
   ]
  },
  {
   "cell_type": "code",
   "execution_count": 14,
   "metadata": {},
   "outputs": [
    {
     "data": {
      "text/html": [
       "<ol class=list-inline>\n",
       "\t<li>'FBgn0025637'</li>\n",
       "\t<li>'FBgn0029858'</li>\n",
       "\t<li>'FBgn0044049'</li>\n",
       "\t<li>'FBgn0038461'</li>\n",
       "\t<li>'FBgn0035721'</li>\n",
       "\t<li>'FBgn0040383'</li>\n",
       "</ol>\n"
      ],
      "text/latex": [
       "\\begin{enumerate*}\n",
       "\\item 'FBgn0025637'\n",
       "\\item 'FBgn0029858'\n",
       "\\item 'FBgn0044049'\n",
       "\\item 'FBgn0038461'\n",
       "\\item 'FBgn0035721'\n",
       "\\item 'FBgn0040383'\n",
       "\\end{enumerate*}\n"
      ],
      "text/markdown": [
       "1. 'FBgn0025637'\n",
       "2. 'FBgn0029858'\n",
       "3. 'FBgn0044049'\n",
       "4. 'FBgn0038461'\n",
       "5. 'FBgn0035721'\n",
       "6. 'FBgn0040383'\n",
       "\n",
       "\n"
      ],
      "text/plain": [
       "[1] \"FBgn0025637\" \"FBgn0029858\" \"FBgn0044049\" \"FBgn0038461\" \"FBgn0035721\"\n",
       "[6] \"FBgn0040383\""
      ]
     },
     "metadata": {},
     "output_type": "display_data"
    }
   ],
   "source": [
    "head(gid)"
   ]
  },
  {
   "cell_type": "code",
   "execution_count": 15,
   "metadata": {},
   "outputs": [],
   "source": [
    "# morphing the table:\n",
    "\n",
    "up <- 500\n",
    "down  <- 100\n",
    "\n",
    "gen$prom.start <- ifelse(gen$strand==\"+\",gen$start-up,  gen$end-down) # set promoter starts\n",
    "gen$prom.end   <- ifelse(gen$strand==\"+\",gen$start+down,gen$end+up)   # set promoter ends\n"
   ]
  },
  {
   "cell_type": "code",
   "execution_count": 16,
   "metadata": {},
   "outputs": [
    {
     "data": {
      "text/html": [
       "600"
      ],
      "text/latex": [
       "600"
      ],
      "text/markdown": [
       "600"
      ],
      "text/plain": [
       "[1] 600"
      ]
     },
     "metadata": {},
     "output_type": "display_data"
    }
   ],
   "source": [
    "#check if all sequences are 600 bp long\n",
    "unique(gen$prom.end-gen$prom.start)"
   ]
  },
  {
   "cell_type": "code",
   "execution_count": 17,
   "metadata": {},
   "outputs": [
    {
     "data": {
      "text/html": [
       "<table>\n",
       "<caption>A data.frame: 6 × 8</caption>\n",
       "<thead>\n",
       "\t<tr><th></th><th scope=col>seqnames</th><th scope=col>start</th><th scope=col>end</th><th scope=col>width</th><th scope=col>strand</th><th scope=col>gene_id</th><th scope=col>prom.start</th><th scope=col>prom.end</th></tr>\n",
       "\t<tr><th></th><th scope=col>&lt;fct&gt;</th><th scope=col>&lt;int&gt;</th><th scope=col>&lt;int&gt;</th><th scope=col>&lt;int&gt;</th><th scope=col>&lt;fct&gt;</th><th scope=col>&lt;chr&gt;</th><th scope=col>&lt;dbl&gt;</th><th scope=col>&lt;dbl&gt;</th></tr>\n",
       "</thead>\n",
       "<tbody>\n",
       "\t<tr><th scope=row>FBgn0000003</th><td>chr3R</td><td> 6822498</td><td> 6822796</td><td>  299</td><td>+</td><td>FBgn0000003</td><td> 6821998</td><td> 6822598</td></tr>\n",
       "\t<tr><th scope=row>FBgn0000008</th><td>chr2R</td><td>22136968</td><td>22172834</td><td>35867</td><td>+</td><td>FBgn0000008</td><td>22136468</td><td>22137068</td></tr>\n",
       "\t<tr><th scope=row>FBgn0000014</th><td>chr3R</td><td>16807214</td><td>16830049</td><td>22836</td><td>-</td><td>FBgn0000014</td><td>16829949</td><td>16830549</td></tr>\n",
       "\t<tr><th scope=row>FBgn0000015</th><td>chr3R</td><td>16927212</td><td>16972236</td><td>45025</td><td>-</td><td>FBgn0000015</td><td>16972136</td><td>16972736</td></tr>\n",
       "\t<tr><th scope=row>FBgn0000017</th><td>chr3L</td><td>16615866</td><td>16647882</td><td>32017</td><td>-</td><td>FBgn0000017</td><td>16647782</td><td>16648382</td></tr>\n",
       "\t<tr><th scope=row>FBgn0000018</th><td>chr2L</td><td>10973443</td><td>10975293</td><td> 1851</td><td>-</td><td>FBgn0000018</td><td>10975193</td><td>10975793</td></tr>\n",
       "</tbody>\n",
       "</table>\n"
      ],
      "text/latex": [
       "A data.frame: 6 × 8\n",
       "\\begin{tabular}{r|llllllll}\n",
       "  & seqnames & start & end & width & strand & gene\\_id & prom.start & prom.end\\\\\n",
       "  & <fct> & <int> & <int> & <int> & <fct> & <chr> & <dbl> & <dbl>\\\\\n",
       "\\hline\n",
       "\tFBgn0000003 & chr3R &  6822498 &  6822796 &   299 & + & FBgn0000003 &  6821998 &  6822598\\\\\n",
       "\tFBgn0000008 & chr2R & 22136968 & 22172834 & 35867 & + & FBgn0000008 & 22136468 & 22137068\\\\\n",
       "\tFBgn0000014 & chr3R & 16807214 & 16830049 & 22836 & - & FBgn0000014 & 16829949 & 16830549\\\\\n",
       "\tFBgn0000015 & chr3R & 16927212 & 16972236 & 45025 & - & FBgn0000015 & 16972136 & 16972736\\\\\n",
       "\tFBgn0000017 & chr3L & 16615866 & 16647882 & 32017 & - & FBgn0000017 & 16647782 & 16648382\\\\\n",
       "\tFBgn0000018 & chr2L & 10973443 & 10975293 &  1851 & - & FBgn0000018 & 10975193 & 10975793\\\\\n",
       "\\end{tabular}\n"
      ],
      "text/markdown": [
       "\n",
       "A data.frame: 6 × 8\n",
       "\n",
       "| <!--/--> | seqnames &lt;fct&gt; | start &lt;int&gt; | end &lt;int&gt; | width &lt;int&gt; | strand &lt;fct&gt; | gene_id &lt;chr&gt; | prom.start &lt;dbl&gt; | prom.end &lt;dbl&gt; |\n",
       "|---|---|---|---|---|---|---|---|---|\n",
       "| FBgn0000003 | chr3R |  6822498 |  6822796 |   299 | + | FBgn0000003 |  6821998 |  6822598 |\n",
       "| FBgn0000008 | chr2R | 22136968 | 22172834 | 35867 | + | FBgn0000008 | 22136468 | 22137068 |\n",
       "| FBgn0000014 | chr3R | 16807214 | 16830049 | 22836 | - | FBgn0000014 | 16829949 | 16830549 |\n",
       "| FBgn0000015 | chr3R | 16927212 | 16972236 | 45025 | - | FBgn0000015 | 16972136 | 16972736 |\n",
       "| FBgn0000017 | chr3L | 16615866 | 16647882 | 32017 | - | FBgn0000017 | 16647782 | 16648382 |\n",
       "| FBgn0000018 | chr2L | 10973443 | 10975293 |  1851 | - | FBgn0000018 | 10975193 | 10975793 |\n",
       "\n"
      ],
      "text/plain": [
       "            seqnames start    end      width strand gene_id     prom.start\n",
       "FBgn0000003 chr3R     6822498  6822796   299 +      FBgn0000003  6821998  \n",
       "FBgn0000008 chr2R    22136968 22172834 35867 +      FBgn0000008 22136468  \n",
       "FBgn0000014 chr3R    16807214 16830049 22836 -      FBgn0000014 16829949  \n",
       "FBgn0000015 chr3R    16927212 16972236 45025 -      FBgn0000015 16972136  \n",
       "FBgn0000017 chr3L    16615866 16647882 32017 -      FBgn0000017 16647782  \n",
       "FBgn0000018 chr2L    10973443 10975293  1851 -      FBgn0000018 10975193  \n",
       "            prom.end\n",
       "FBgn0000003  6822598\n",
       "FBgn0000008 22137068\n",
       "FBgn0000014 16830549\n",
       "FBgn0000015 16972736\n",
       "FBgn0000017 16648382\n",
       "FBgn0000018 10975793"
      ]
     },
     "metadata": {},
     "output_type": "display_data"
    }
   ],
   "source": [
    "#morphed table\n",
    "head(gen)"
   ]
  },
  {
   "cell_type": "code",
   "execution_count": 18,
   "metadata": {},
   "outputs": [
    {
     "data": {
      "text/plain": [
       "  14-letter \"DNAString\" instance\n",
       "seq: TGCCAACATATTGT"
      ]
     },
     "metadata": {},
     "output_type": "display_data"
    }
   ],
   "source": [
    "# the function used to extract the sequences \n",
    "# from the coordinates we created is called subseq()\n",
    "# example syntax:\n",
    "\n",
    "subseq(x = genome[[1]], \n",
    "       start = 100, \n",
    "       end = 113)"
   ]
  },
  {
   "cell_type": "code",
   "execution_count": 19,
   "metadata": {},
   "outputs": [
    {
     "ename": "ERROR",
     "evalue": "Error in match.fun(FUN): argument \"FUN\" is missing, with no default\n",
     "output_type": "error",
     "traceback": [
      "Error in match.fun(FUN): argument \"FUN\" is missing, with no default\nTraceback:\n",
      "1. apply()",
      "2. match.fun(FUN)"
     ]
    }
   ],
   "source": [
    "#we need to write our custom function to retrieve sequences\n",
    "# input: start, end, strand and chromosome, genome\n",
    "# output: sequence\n",
    "\n",
    "\n",
    "\n",
    "\n",
    "# using it on every row (and converting to string with toString()):\n",
    "gen$prom.seq <- apply()"
   ]
  },
  {
   "cell_type": "code",
   "execution_count": 20,
   "metadata": {},
   "outputs": [
    {
     "data": {
      "text/plain": [
       "Fly genome:\n",
       "# organism: Drosophila melanogaster (Fly)\n",
       "# provider: UCSC\n",
       "# provider version: dm6\n",
       "# release date: Aug. 2014\n",
       "# release name: BDGP Release 6 + ISO1 MT\n",
       "# 1870 sequences:\n",
       "#   chr2L                  chr2R                  chr3L                 \n",
       "#   chr3R                  chr4                   chrX                  \n",
       "#   chrY                   chrM                   chrX_CP007103v1_random\n",
       "#   chrX_CP007104v1_random chrX_DS483648v1_random chrX_DS483655v1_random\n",
       "#   chrX_DS483660v1_random chrX_DS483665v1_random chrX_DS483666v1_random\n",
       "#   ...                    ...                    ...                   \n",
       "#   chrUn_DS485985v1       chrUn_DS485986v1       chrUn_DS485988v1      \n",
       "#   chrUn_DS485989v1       chrUn_DS485991v1       chrUn_DS485995v1      \n",
       "#   chrUn_DS485996v1       chrUn_DS485997v1       chrUn_DS485998v1      \n",
       "#   chrUn_DS486002v1       chrUn_DS486004v1       chrUn_DS486005v1      \n",
       "#   chrUn_DS486008v1                                                    \n",
       "# (use 'seqnames()' to see all the sequence names, use the '$' or '[[' operator\n",
       "# to access a given sequence)"
      ]
     },
     "metadata": {},
     "output_type": "display_data"
    }
   ],
   "source": [
    "genome"
   ]
  },
  {
   "cell_type": "markdown",
   "metadata": {},
   "source": [
    "## ...next lesson...\n"
   ]
  },
  {
   "cell_type": "code",
   "execution_count": 33,
   "metadata": {},
   "outputs": [],
   "source": [
    "genes = genes(tr)\n",
    "genes.tab = as.data.frame(genes)\n",
    "genes.tab = gene.tab[gid,]  # subset only protein coding genes.\n",
    "genes.tab = subset(gene.tab, seqnames %in% chr)  # select only on genes that are annotated on chromosomes, excluding 29 sequences"
   ]
  },
  {
   "cell_type": "code",
   "execution_count": 37,
   "metadata": {},
   "outputs": [
    {
     "data": {
      "text/html": [
       "<ol class=list-inline>\n",
       "\t<li>'chr2L'</li>\n",
       "\t<li>'chr2R'</li>\n",
       "\t<li>'chr3L'</li>\n",
       "\t<li>'chr3R'</li>\n",
       "\t<li>'chr4'</li>\n",
       "\t<li>'chrX'</li>\n",
       "\t<li>'chrY'</li>\n",
       "\t<li>'chrM'</li>\n",
       "</ol>\n"
      ],
      "text/latex": [
       "\\begin{enumerate*}\n",
       "\\item 'chr2L'\n",
       "\\item 'chr2R'\n",
       "\\item 'chr3L'\n",
       "\\item 'chr3R'\n",
       "\\item 'chr4'\n",
       "\\item 'chrX'\n",
       "\\item 'chrY'\n",
       "\\item 'chrM'\n",
       "\\end{enumerate*}\n"
      ],
      "text/markdown": [
       "1. 'chr2L'\n",
       "2. 'chr2R'\n",
       "3. 'chr3L'\n",
       "4. 'chr3R'\n",
       "5. 'chr4'\n",
       "6. 'chrX'\n",
       "7. 'chrY'\n",
       "8. 'chrM'\n",
       "\n",
       "\n"
      ],
      "text/plain": [
       "[1] \"chr2L\" \"chr2R\" \"chr3L\" \"chr3R\" \"chr4\"  \"chrX\"  \"chrY\"  \"chrM\" "
      ]
     },
     "metadata": {},
     "output_type": "display_data"
    },
    {
     "data": {
      "text/html": [
       "<table>\n",
       "<caption>A data.frame: 13902 × 6</caption>\n",
       "<thead>\n",
       "\t<tr><th></th><th scope=col>seqnames</th><th scope=col>start</th><th scope=col>end</th><th scope=col>width</th><th scope=col>strand</th><th scope=col>gene_id</th></tr>\n",
       "\t<tr><th></th><th scope=col>&lt;fct&gt;</th><th scope=col>&lt;int&gt;</th><th scope=col>&lt;int&gt;</th><th scope=col>&lt;int&gt;</th><th scope=col>&lt;fct&gt;</th><th scope=col>&lt;chr&gt;</th></tr>\n",
       "</thead>\n",
       "<tbody>\n",
       "\t<tr><th scope=row>FBgn0025637</th><td>chrX </td><td>  656114</td><td>  657899</td><td> 1786</td><td>+</td><td>FBgn0025637</td></tr>\n",
       "\t<tr><th scope=row>FBgn0029858</th><td>chrX </td><td> 6291303</td><td> 6294177</td><td> 2875</td><td>+</td><td>FBgn0029858</td></tr>\n",
       "\t<tr><th scope=row>FBgn0044049</th><td>chr3L</td><td> 9803399</td><td> 9804263</td><td>  865</td><td>-</td><td>FBgn0044049</td></tr>\n",
       "\t<tr><th scope=row>FBgn0038461</th><td>chr3R</td><td>16990334</td><td>16991878</td><td> 1545</td><td>-</td><td>FBgn0038461</td></tr>\n",
       "\t<tr><th scope=row>FBgn0035721</th><td>chr3L</td><td> 6955991</td><td> 6957440</td><td> 1450</td><td>+</td><td>FBgn0035721</td></tr>\n",
       "\t<tr><th scope=row>FBgn0040383</th><td>chrX </td><td>  750347</td><td>  758719</td><td> 8373</td><td>+</td><td>FBgn0040383</td></tr>\n",
       "\t<tr><th scope=row>FBgn0032728</th><td>chr2L</td><td>18969028</td><td>18972004</td><td> 2977</td><td>+</td><td>FBgn0032728</td></tr>\n",
       "\t<tr><th scope=row>FBgn0039250</th><td>chr3R</td><td>24922473</td><td>24925160</td><td> 2688</td><td>+</td><td>FBgn0039250</td></tr>\n",
       "\t<tr><th scope=row>FBgn0030398</th><td>chrX </td><td>12553124</td><td>12554235</td><td> 1112</td><td>+</td><td>FBgn0030398</td></tr>\n",
       "\t<tr><th scope=row>FBgn0038223</th><td>chr3R</td><td>14320191</td><td>14326689</td><td> 6499</td><td>-</td><td>FBgn0038223</td></tr>\n",
       "\t<tr><th scope=row>FBgn0031866</th><td>chr2L</td><td> 6874900</td><td> 6906656</td><td>31757</td><td>+</td><td>FBgn0031866</td></tr>\n",
       "\t<tr><th scope=row>FBgn0036799</th><td>chr3L</td><td>18600150</td><td>18617943</td><td>17794</td><td>-</td><td>FBgn0036799</td></tr>\n",
       "\t<tr><th scope=row>FBgn0035692</th><td>chr3L</td><td> 6192124</td><td> 6193179</td><td> 1056</td><td>-</td><td>FBgn0035692</td></tr>\n",
       "\t<tr><th scope=row>FBgn0054025</th><td>chr3L</td><td> 2959722</td><td> 2961049</td><td> 1328</td><td>-</td><td>FBgn0054025</td></tr>\n",
       "\t<tr><th scope=row>FBgn0042106</th><td>chr3R</td><td>23684057</td><td>23686537</td><td> 2481</td><td>+</td><td>FBgn0042106</td></tr>\n",
       "\t<tr><th scope=row>FBgn0001124</th><td>chr2R</td><td>16138352</td><td>16141928</td><td> 3577</td><td>+</td><td>FBgn0001124</td></tr>\n",
       "\t<tr><th scope=row>FBgn0053252</th><td>chrX </td><td>16896215</td><td>16897187</td><td>  973</td><td>-</td><td>FBgn0053252</td></tr>\n",
       "\t<tr><th scope=row>FBgn0263832</th><td>chr3L</td><td> 4040529</td><td> 4042597</td><td> 2069</td><td>+</td><td>FBgn0263832</td></tr>\n",
       "\t<tr><th scope=row>FBgn0039719</th><td>chr3R</td><td>29905464</td><td>29906448</td><td>  985</td><td>+</td><td>FBgn0039719</td></tr>\n",
       "\t<tr><th scope=row>FBgn0029718</th><td>chrX </td><td> 4647871</td><td> 4648646</td><td>  776</td><td>+</td><td>FBgn0029718</td></tr>\n",
       "\t<tr><th scope=row>FBgn0025832</th><td>chr2R</td><td>16854025</td><td>16855464</td><td> 1440</td><td>-</td><td>FBgn0025832</td></tr>\n",
       "\t<tr><th scope=row>FBgn0050466</th><td>chr2R</td><td>15568960</td><td>15573170</td><td> 4211</td><td>+</td><td>FBgn0050466</td></tr>\n",
       "\t<tr><th scope=row>FBgn0038627</th><td>chr3R</td><td>18573091</td><td>18590726</td><td>17636</td><td>+</td><td>FBgn0038627</td></tr>\n",
       "\t<tr><th scope=row>FBgn0025866</th><td>chr3L</td><td> 9888762</td><td> 9893319</td><td> 4558</td><td>+</td><td>FBgn0025866</td></tr>\n",
       "\t<tr><th scope=row>FBgn0053012</th><td>chr2R</td><td>12367353</td><td>12370886</td><td> 3534</td><td>+</td><td>FBgn0053012</td></tr>\n",
       "\t<tr><th scope=row>FBgn0036133</th><td>chr3L</td><td>11109690</td><td>11112117</td><td> 2428</td><td>+</td><td>FBgn0036133</td></tr>\n",
       "\t<tr><th scope=row>FBgn0264574</th><td>chr3L</td><td>  914074</td><td>  993788</td><td>79715</td><td>+</td><td>FBgn0264574</td></tr>\n",
       "\t<tr><th scope=row>FBgn0053458</th><td>chr2R</td><td>16486674</td><td>16487801</td><td> 1128</td><td>+</td><td>FBgn0053458</td></tr>\n",
       "\t<tr><th scope=row>FBgn0019686</th><td>chr2L</td><td>20061422</td><td>20064381</td><td> 2960</td><td>+</td><td>FBgn0019686</td></tr>\n",
       "\t<tr><th scope=row>FBgn0034795</th><td>chr2R</td><td>22888928</td><td>22894425</td><td> 5498</td><td>+</td><td>FBgn0034795</td></tr>\n",
       "\t<tr><th scope=row>⋮</th><td>⋮</td><td>⋮</td><td>⋮</td><td>⋮</td><td>⋮</td><td>⋮</td></tr>\n",
       "\t<tr><th scope=row>FBgn0261564</th><td>chr2R</td><td>22925107</td><td>22932044</td><td> 6938</td><td>+</td><td>FBgn0261564</td></tr>\n",
       "\t<tr><th scope=row>FBgn0033887</th><td>chr2R</td><td>13969910</td><td>13971263</td><td> 1354</td><td>-</td><td>FBgn0033887</td></tr>\n",
       "\t<tr><th scope=row>FBgn0003375</th><td>chr3R</td><td>17595362</td><td>17596112</td><td>  751</td><td>+</td><td>FBgn0003375</td></tr>\n",
       "\t<tr><th scope=row>FBgn0040759</th><td>chr2R</td><td>12163675</td><td>12164896</td><td> 1222</td><td>+</td><td>FBgn0040759</td></tr>\n",
       "\t<tr><th scope=row>FBgn0040344</th><td>chrX </td><td>  922889</td><td>  927582</td><td> 4694</td><td>-</td><td>FBgn0040344</td></tr>\n",
       "\t<tr><th scope=row>FBgn0038136</th><td>chr3R</td><td>13298768</td><td>13302334</td><td> 3567</td><td>+</td><td>FBgn0038136</td></tr>\n",
       "\t<tr><th scope=row>FBgn0031850</th><td>chr2L</td><td> 6686791</td><td> 6709086</td><td>22296</td><td>-</td><td>FBgn0031850</td></tr>\n",
       "\t<tr><th scope=row>FBgn0262562</th><td>chr3R</td><td>17768272</td><td>17794490</td><td>26219</td><td>-</td><td>FBgn0262562</td></tr>\n",
       "\t<tr><th scope=row>FBgn0037749</th><td>chr3R</td><td> 9770532</td><td> 9771542</td><td> 1011</td><td>-</td><td>FBgn0037749</td></tr>\n",
       "\t<tr><th scope=row>FBgn0034703</th><td>chr2R</td><td>22172803</td><td>22174691</td><td> 1889</td><td>-</td><td>FBgn0034703</td></tr>\n",
       "\t<tr><th scope=row>FBgn0038756</th><td>chr3R</td><td>19948443</td><td>19948907</td><td>  465</td><td>+</td><td>FBgn0038756</td></tr>\n",
       "\t<tr><th scope=row>FBgn0028847</th><td>chr2L</td><td>13722161</td><td>13723642</td><td> 1482</td><td>-</td><td>FBgn0028847</td></tr>\n",
       "\t<tr><th scope=row>FBgn0025456</th><td>chr3R</td><td>17393272</td><td>17394640</td><td> 1369</td><td>-</td><td>FBgn0025456</td></tr>\n",
       "\t<tr><th scope=row>FBgn0039632</th><td>chr3R</td><td>29059272</td><td>29062975</td><td> 3704</td><td>-</td><td>FBgn0039632</td></tr>\n",
       "\t<tr><th scope=row>FBgn0027339</th><td>chr3L</td><td>22789233</td><td>22835194</td><td>45962</td><td>-</td><td>FBgn0027339</td></tr>\n",
       "\t<tr><th scope=row>FBgn0040371</th><td>chrX </td><td>  307684</td><td>  308935</td><td> 1252</td><td>+</td><td>FBgn0040371</td></tr>\n",
       "\t<tr><th scope=row>FBgn0030456</th><td>chrX </td><td>13155038</td><td>13157372</td><td> 2335</td><td>+</td><td>FBgn0030456</td></tr>\n",
       "\t<tr><th scope=row>FBgn0051248</th><td>chr3R</td><td> 7129320</td><td> 7130908</td><td> 1589</td><td>+</td><td>FBgn0051248</td></tr>\n",
       "\t<tr><th scope=row>FBgn0029123</th><td>chr2L</td><td> 8825645</td><td> 8829670</td><td> 4026</td><td>+</td><td>FBgn0029123</td></tr>\n",
       "\t<tr><th scope=row>FBgn0029172</th><td>chr3L</td><td>11023535</td><td>11024846</td><td> 1312</td><td>+</td><td>FBgn0029172</td></tr>\n",
       "\t<tr><th scope=row>FBgn0005586</th><td>chr2R</td><td>10721335</td><td>10729203</td><td> 7869</td><td>-</td><td>FBgn0005586</td></tr>\n",
       "\t<tr><th scope=row>FBgn0051646</th><td>chr2L</td><td> 5626291</td><td> 5658560</td><td>32270</td><td>-</td><td>FBgn0051646</td></tr>\n",
       "\t<tr><th scope=row>FBgn0011606</th><td>chrX </td><td> 2599158</td><td> 2604052</td><td> 4895</td><td>-</td><td>FBgn0011606</td></tr>\n",
       "\t<tr><th scope=row>FBgn0003545</th><td>chr2R</td><td>17745500</td><td>17748078</td><td> 2579</td><td>-</td><td>FBgn0003545</td></tr>\n",
       "\t<tr><th scope=row>FBgn0011283</th><td>chr2L</td><td> 7496791</td><td> 7497365</td><td>  575</td><td>-</td><td>FBgn0011283</td></tr>\n",
       "\t<tr><th scope=row>FBgn0053136</th><td>chr2R</td><td>18664449</td><td>18665792</td><td> 1344</td><td>-</td><td>FBgn0053136</td></tr>\n",
       "\t<tr><th scope=row>FBgn0039634</th><td>chr3R</td><td>29109053</td><td>29112822</td><td> 3770</td><td>-</td><td>FBgn0039634</td></tr>\n",
       "\t<tr><th scope=row>FBgn0034325</th><td>chr2R</td><td>18297795</td><td>18298903</td><td> 1109</td><td>+</td><td>FBgn0034325</td></tr>\n",
       "\t<tr><th scope=row>FBgn0036754</th><td>chr3L</td><td>17802490</td><td>17804715</td><td> 2226</td><td>-</td><td>FBgn0036754</td></tr>\n",
       "\t<tr><th scope=row>FBgn0053182</th><td>chr2R</td><td>13176553</td><td>13198337</td><td>21785</td><td>-</td><td>FBgn0053182</td></tr>\n",
       "</tbody>\n",
       "</table>\n"
      ],
      "text/latex": [
       "A data.frame: 13902 × 6\n",
       "\\begin{tabular}{r|llllll}\n",
       "  & seqnames & start & end & width & strand & gene\\_id\\\\\n",
       "  & <fct> & <int> & <int> & <int> & <fct> & <chr>\\\\\n",
       "\\hline\n",
       "\tFBgn0025637 & chrX  &   656114 &   657899 &  1786 & + & FBgn0025637\\\\\n",
       "\tFBgn0029858 & chrX  &  6291303 &  6294177 &  2875 & + & FBgn0029858\\\\\n",
       "\tFBgn0044049 & chr3L &  9803399 &  9804263 &   865 & - & FBgn0044049\\\\\n",
       "\tFBgn0038461 & chr3R & 16990334 & 16991878 &  1545 & - & FBgn0038461\\\\\n",
       "\tFBgn0035721 & chr3L &  6955991 &  6957440 &  1450 & + & FBgn0035721\\\\\n",
       "\tFBgn0040383 & chrX  &   750347 &   758719 &  8373 & + & FBgn0040383\\\\\n",
       "\tFBgn0032728 & chr2L & 18969028 & 18972004 &  2977 & + & FBgn0032728\\\\\n",
       "\tFBgn0039250 & chr3R & 24922473 & 24925160 &  2688 & + & FBgn0039250\\\\\n",
       "\tFBgn0030398 & chrX  & 12553124 & 12554235 &  1112 & + & FBgn0030398\\\\\n",
       "\tFBgn0038223 & chr3R & 14320191 & 14326689 &  6499 & - & FBgn0038223\\\\\n",
       "\tFBgn0031866 & chr2L &  6874900 &  6906656 & 31757 & + & FBgn0031866\\\\\n",
       "\tFBgn0036799 & chr3L & 18600150 & 18617943 & 17794 & - & FBgn0036799\\\\\n",
       "\tFBgn0035692 & chr3L &  6192124 &  6193179 &  1056 & - & FBgn0035692\\\\\n",
       "\tFBgn0054025 & chr3L &  2959722 &  2961049 &  1328 & - & FBgn0054025\\\\\n",
       "\tFBgn0042106 & chr3R & 23684057 & 23686537 &  2481 & + & FBgn0042106\\\\\n",
       "\tFBgn0001124 & chr2R & 16138352 & 16141928 &  3577 & + & FBgn0001124\\\\\n",
       "\tFBgn0053252 & chrX  & 16896215 & 16897187 &   973 & - & FBgn0053252\\\\\n",
       "\tFBgn0263832 & chr3L &  4040529 &  4042597 &  2069 & + & FBgn0263832\\\\\n",
       "\tFBgn0039719 & chr3R & 29905464 & 29906448 &   985 & + & FBgn0039719\\\\\n",
       "\tFBgn0029718 & chrX  &  4647871 &  4648646 &   776 & + & FBgn0029718\\\\\n",
       "\tFBgn0025832 & chr2R & 16854025 & 16855464 &  1440 & - & FBgn0025832\\\\\n",
       "\tFBgn0050466 & chr2R & 15568960 & 15573170 &  4211 & + & FBgn0050466\\\\\n",
       "\tFBgn0038627 & chr3R & 18573091 & 18590726 & 17636 & + & FBgn0038627\\\\\n",
       "\tFBgn0025866 & chr3L &  9888762 &  9893319 &  4558 & + & FBgn0025866\\\\\n",
       "\tFBgn0053012 & chr2R & 12367353 & 12370886 &  3534 & + & FBgn0053012\\\\\n",
       "\tFBgn0036133 & chr3L & 11109690 & 11112117 &  2428 & + & FBgn0036133\\\\\n",
       "\tFBgn0264574 & chr3L &   914074 &   993788 & 79715 & + & FBgn0264574\\\\\n",
       "\tFBgn0053458 & chr2R & 16486674 & 16487801 &  1128 & + & FBgn0053458\\\\\n",
       "\tFBgn0019686 & chr2L & 20061422 & 20064381 &  2960 & + & FBgn0019686\\\\\n",
       "\tFBgn0034795 & chr2R & 22888928 & 22894425 &  5498 & + & FBgn0034795\\\\\n",
       "\t⋮ & ⋮ & ⋮ & ⋮ & ⋮ & ⋮ & ⋮\\\\\n",
       "\tFBgn0261564 & chr2R & 22925107 & 22932044 &  6938 & + & FBgn0261564\\\\\n",
       "\tFBgn0033887 & chr2R & 13969910 & 13971263 &  1354 & - & FBgn0033887\\\\\n",
       "\tFBgn0003375 & chr3R & 17595362 & 17596112 &   751 & + & FBgn0003375\\\\\n",
       "\tFBgn0040759 & chr2R & 12163675 & 12164896 &  1222 & + & FBgn0040759\\\\\n",
       "\tFBgn0040344 & chrX  &   922889 &   927582 &  4694 & - & FBgn0040344\\\\\n",
       "\tFBgn0038136 & chr3R & 13298768 & 13302334 &  3567 & + & FBgn0038136\\\\\n",
       "\tFBgn0031850 & chr2L &  6686791 &  6709086 & 22296 & - & FBgn0031850\\\\\n",
       "\tFBgn0262562 & chr3R & 17768272 & 17794490 & 26219 & - & FBgn0262562\\\\\n",
       "\tFBgn0037749 & chr3R &  9770532 &  9771542 &  1011 & - & FBgn0037749\\\\\n",
       "\tFBgn0034703 & chr2R & 22172803 & 22174691 &  1889 & - & FBgn0034703\\\\\n",
       "\tFBgn0038756 & chr3R & 19948443 & 19948907 &   465 & + & FBgn0038756\\\\\n",
       "\tFBgn0028847 & chr2L & 13722161 & 13723642 &  1482 & - & FBgn0028847\\\\\n",
       "\tFBgn0025456 & chr3R & 17393272 & 17394640 &  1369 & - & FBgn0025456\\\\\n",
       "\tFBgn0039632 & chr3R & 29059272 & 29062975 &  3704 & - & FBgn0039632\\\\\n",
       "\tFBgn0027339 & chr3L & 22789233 & 22835194 & 45962 & - & FBgn0027339\\\\\n",
       "\tFBgn0040371 & chrX  &   307684 &   308935 &  1252 & + & FBgn0040371\\\\\n",
       "\tFBgn0030456 & chrX  & 13155038 & 13157372 &  2335 & + & FBgn0030456\\\\\n",
       "\tFBgn0051248 & chr3R &  7129320 &  7130908 &  1589 & + & FBgn0051248\\\\\n",
       "\tFBgn0029123 & chr2L &  8825645 &  8829670 &  4026 & + & FBgn0029123\\\\\n",
       "\tFBgn0029172 & chr3L & 11023535 & 11024846 &  1312 & + & FBgn0029172\\\\\n",
       "\tFBgn0005586 & chr2R & 10721335 & 10729203 &  7869 & - & FBgn0005586\\\\\n",
       "\tFBgn0051646 & chr2L &  5626291 &  5658560 & 32270 & - & FBgn0051646\\\\\n",
       "\tFBgn0011606 & chrX  &  2599158 &  2604052 &  4895 & - & FBgn0011606\\\\\n",
       "\tFBgn0003545 & chr2R & 17745500 & 17748078 &  2579 & - & FBgn0003545\\\\\n",
       "\tFBgn0011283 & chr2L &  7496791 &  7497365 &   575 & - & FBgn0011283\\\\\n",
       "\tFBgn0053136 & chr2R & 18664449 & 18665792 &  1344 & - & FBgn0053136\\\\\n",
       "\tFBgn0039634 & chr3R & 29109053 & 29112822 &  3770 & - & FBgn0039634\\\\\n",
       "\tFBgn0034325 & chr2R & 18297795 & 18298903 &  1109 & + & FBgn0034325\\\\\n",
       "\tFBgn0036754 & chr3L & 17802490 & 17804715 &  2226 & - & FBgn0036754\\\\\n",
       "\tFBgn0053182 & chr2R & 13176553 & 13198337 & 21785 & - & FBgn0053182\\\\\n",
       "\\end{tabular}\n"
      ],
      "text/markdown": [
       "\n",
       "A data.frame: 13902 × 6\n",
       "\n",
       "| <!--/--> | seqnames &lt;fct&gt; | start &lt;int&gt; | end &lt;int&gt; | width &lt;int&gt; | strand &lt;fct&gt; | gene_id &lt;chr&gt; |\n",
       "|---|---|---|---|---|---|---|\n",
       "| FBgn0025637 | chrX  |   656114 |   657899 |  1786 | + | FBgn0025637 |\n",
       "| FBgn0029858 | chrX  |  6291303 |  6294177 |  2875 | + | FBgn0029858 |\n",
       "| FBgn0044049 | chr3L |  9803399 |  9804263 |   865 | - | FBgn0044049 |\n",
       "| FBgn0038461 | chr3R | 16990334 | 16991878 |  1545 | - | FBgn0038461 |\n",
       "| FBgn0035721 | chr3L |  6955991 |  6957440 |  1450 | + | FBgn0035721 |\n",
       "| FBgn0040383 | chrX  |   750347 |   758719 |  8373 | + | FBgn0040383 |\n",
       "| FBgn0032728 | chr2L | 18969028 | 18972004 |  2977 | + | FBgn0032728 |\n",
       "| FBgn0039250 | chr3R | 24922473 | 24925160 |  2688 | + | FBgn0039250 |\n",
       "| FBgn0030398 | chrX  | 12553124 | 12554235 |  1112 | + | FBgn0030398 |\n",
       "| FBgn0038223 | chr3R | 14320191 | 14326689 |  6499 | - | FBgn0038223 |\n",
       "| FBgn0031866 | chr2L |  6874900 |  6906656 | 31757 | + | FBgn0031866 |\n",
       "| FBgn0036799 | chr3L | 18600150 | 18617943 | 17794 | - | FBgn0036799 |\n",
       "| FBgn0035692 | chr3L |  6192124 |  6193179 |  1056 | - | FBgn0035692 |\n",
       "| FBgn0054025 | chr3L |  2959722 |  2961049 |  1328 | - | FBgn0054025 |\n",
       "| FBgn0042106 | chr3R | 23684057 | 23686537 |  2481 | + | FBgn0042106 |\n",
       "| FBgn0001124 | chr2R | 16138352 | 16141928 |  3577 | + | FBgn0001124 |\n",
       "| FBgn0053252 | chrX  | 16896215 | 16897187 |   973 | - | FBgn0053252 |\n",
       "| FBgn0263832 | chr3L |  4040529 |  4042597 |  2069 | + | FBgn0263832 |\n",
       "| FBgn0039719 | chr3R | 29905464 | 29906448 |   985 | + | FBgn0039719 |\n",
       "| FBgn0029718 | chrX  |  4647871 |  4648646 |   776 | + | FBgn0029718 |\n",
       "| FBgn0025832 | chr2R | 16854025 | 16855464 |  1440 | - | FBgn0025832 |\n",
       "| FBgn0050466 | chr2R | 15568960 | 15573170 |  4211 | + | FBgn0050466 |\n",
       "| FBgn0038627 | chr3R | 18573091 | 18590726 | 17636 | + | FBgn0038627 |\n",
       "| FBgn0025866 | chr3L |  9888762 |  9893319 |  4558 | + | FBgn0025866 |\n",
       "| FBgn0053012 | chr2R | 12367353 | 12370886 |  3534 | + | FBgn0053012 |\n",
       "| FBgn0036133 | chr3L | 11109690 | 11112117 |  2428 | + | FBgn0036133 |\n",
       "| FBgn0264574 | chr3L |   914074 |   993788 | 79715 | + | FBgn0264574 |\n",
       "| FBgn0053458 | chr2R | 16486674 | 16487801 |  1128 | + | FBgn0053458 |\n",
       "| FBgn0019686 | chr2L | 20061422 | 20064381 |  2960 | + | FBgn0019686 |\n",
       "| FBgn0034795 | chr2R | 22888928 | 22894425 |  5498 | + | FBgn0034795 |\n",
       "| ⋮ | ⋮ | ⋮ | ⋮ | ⋮ | ⋮ | ⋮ |\n",
       "| FBgn0261564 | chr2R | 22925107 | 22932044 |  6938 | + | FBgn0261564 |\n",
       "| FBgn0033887 | chr2R | 13969910 | 13971263 |  1354 | - | FBgn0033887 |\n",
       "| FBgn0003375 | chr3R | 17595362 | 17596112 |   751 | + | FBgn0003375 |\n",
       "| FBgn0040759 | chr2R | 12163675 | 12164896 |  1222 | + | FBgn0040759 |\n",
       "| FBgn0040344 | chrX  |   922889 |   927582 |  4694 | - | FBgn0040344 |\n",
       "| FBgn0038136 | chr3R | 13298768 | 13302334 |  3567 | + | FBgn0038136 |\n",
       "| FBgn0031850 | chr2L |  6686791 |  6709086 | 22296 | - | FBgn0031850 |\n",
       "| FBgn0262562 | chr3R | 17768272 | 17794490 | 26219 | - | FBgn0262562 |\n",
       "| FBgn0037749 | chr3R |  9770532 |  9771542 |  1011 | - | FBgn0037749 |\n",
       "| FBgn0034703 | chr2R | 22172803 | 22174691 |  1889 | - | FBgn0034703 |\n",
       "| FBgn0038756 | chr3R | 19948443 | 19948907 |   465 | + | FBgn0038756 |\n",
       "| FBgn0028847 | chr2L | 13722161 | 13723642 |  1482 | - | FBgn0028847 |\n",
       "| FBgn0025456 | chr3R | 17393272 | 17394640 |  1369 | - | FBgn0025456 |\n",
       "| FBgn0039632 | chr3R | 29059272 | 29062975 |  3704 | - | FBgn0039632 |\n",
       "| FBgn0027339 | chr3L | 22789233 | 22835194 | 45962 | - | FBgn0027339 |\n",
       "| FBgn0040371 | chrX  |   307684 |   308935 |  1252 | + | FBgn0040371 |\n",
       "| FBgn0030456 | chrX  | 13155038 | 13157372 |  2335 | + | FBgn0030456 |\n",
       "| FBgn0051248 | chr3R |  7129320 |  7130908 |  1589 | + | FBgn0051248 |\n",
       "| FBgn0029123 | chr2L |  8825645 |  8829670 |  4026 | + | FBgn0029123 |\n",
       "| FBgn0029172 | chr3L | 11023535 | 11024846 |  1312 | + | FBgn0029172 |\n",
       "| FBgn0005586 | chr2R | 10721335 | 10729203 |  7869 | - | FBgn0005586 |\n",
       "| FBgn0051646 | chr2L |  5626291 |  5658560 | 32270 | - | FBgn0051646 |\n",
       "| FBgn0011606 | chrX  |  2599158 |  2604052 |  4895 | - | FBgn0011606 |\n",
       "| FBgn0003545 | chr2R | 17745500 | 17748078 |  2579 | - | FBgn0003545 |\n",
       "| FBgn0011283 | chr2L |  7496791 |  7497365 |   575 | - | FBgn0011283 |\n",
       "| FBgn0053136 | chr2R | 18664449 | 18665792 |  1344 | - | FBgn0053136 |\n",
       "| FBgn0039634 | chr3R | 29109053 | 29112822 |  3770 | - | FBgn0039634 |\n",
       "| FBgn0034325 | chr2R | 18297795 | 18298903 |  1109 | + | FBgn0034325 |\n",
       "| FBgn0036754 | chr3L | 17802490 | 17804715 |  2226 | - | FBgn0036754 |\n",
       "| FBgn0053182 | chr2R | 13176553 | 13198337 | 21785 | - | FBgn0053182 |\n",
       "\n"
      ],
      "text/plain": [
       "            seqnames start    end      width strand gene_id    \n",
       "FBgn0025637 chrX       656114   657899  1786 +      FBgn0025637\n",
       "FBgn0029858 chrX      6291303  6294177  2875 +      FBgn0029858\n",
       "FBgn0044049 chr3L     9803399  9804263   865 -      FBgn0044049\n",
       "FBgn0038461 chr3R    16990334 16991878  1545 -      FBgn0038461\n",
       "FBgn0035721 chr3L     6955991  6957440  1450 +      FBgn0035721\n",
       "FBgn0040383 chrX       750347   758719  8373 +      FBgn0040383\n",
       "FBgn0032728 chr2L    18969028 18972004  2977 +      FBgn0032728\n",
       "FBgn0039250 chr3R    24922473 24925160  2688 +      FBgn0039250\n",
       "FBgn0030398 chrX     12553124 12554235  1112 +      FBgn0030398\n",
       "FBgn0038223 chr3R    14320191 14326689  6499 -      FBgn0038223\n",
       "FBgn0031866 chr2L     6874900  6906656 31757 +      FBgn0031866\n",
       "FBgn0036799 chr3L    18600150 18617943 17794 -      FBgn0036799\n",
       "FBgn0035692 chr3L     6192124  6193179  1056 -      FBgn0035692\n",
       "FBgn0054025 chr3L     2959722  2961049  1328 -      FBgn0054025\n",
       "FBgn0042106 chr3R    23684057 23686537  2481 +      FBgn0042106\n",
       "FBgn0001124 chr2R    16138352 16141928  3577 +      FBgn0001124\n",
       "FBgn0053252 chrX     16896215 16897187   973 -      FBgn0053252\n",
       "FBgn0263832 chr3L     4040529  4042597  2069 +      FBgn0263832\n",
       "FBgn0039719 chr3R    29905464 29906448   985 +      FBgn0039719\n",
       "FBgn0029718 chrX      4647871  4648646   776 +      FBgn0029718\n",
       "FBgn0025832 chr2R    16854025 16855464  1440 -      FBgn0025832\n",
       "FBgn0050466 chr2R    15568960 15573170  4211 +      FBgn0050466\n",
       "FBgn0038627 chr3R    18573091 18590726 17636 +      FBgn0038627\n",
       "FBgn0025866 chr3L     9888762  9893319  4558 +      FBgn0025866\n",
       "FBgn0053012 chr2R    12367353 12370886  3534 +      FBgn0053012\n",
       "FBgn0036133 chr3L    11109690 11112117  2428 +      FBgn0036133\n",
       "FBgn0264574 chr3L      914074   993788 79715 +      FBgn0264574\n",
       "FBgn0053458 chr2R    16486674 16487801  1128 +      FBgn0053458\n",
       "FBgn0019686 chr2L    20061422 20064381  2960 +      FBgn0019686\n",
       "FBgn0034795 chr2R    22888928 22894425  5498 +      FBgn0034795\n",
       "⋮           ⋮        ⋮        ⋮        ⋮     ⋮      ⋮          \n",
       "FBgn0261564 chr2R    22925107 22932044  6938 +      FBgn0261564\n",
       "FBgn0033887 chr2R    13969910 13971263  1354 -      FBgn0033887\n",
       "FBgn0003375 chr3R    17595362 17596112   751 +      FBgn0003375\n",
       "FBgn0040759 chr2R    12163675 12164896  1222 +      FBgn0040759\n",
       "FBgn0040344 chrX       922889   927582  4694 -      FBgn0040344\n",
       "FBgn0038136 chr3R    13298768 13302334  3567 +      FBgn0038136\n",
       "FBgn0031850 chr2L     6686791  6709086 22296 -      FBgn0031850\n",
       "FBgn0262562 chr3R    17768272 17794490 26219 -      FBgn0262562\n",
       "FBgn0037749 chr3R     9770532  9771542  1011 -      FBgn0037749\n",
       "FBgn0034703 chr2R    22172803 22174691  1889 -      FBgn0034703\n",
       "FBgn0038756 chr3R    19948443 19948907   465 +      FBgn0038756\n",
       "FBgn0028847 chr2L    13722161 13723642  1482 -      FBgn0028847\n",
       "FBgn0025456 chr3R    17393272 17394640  1369 -      FBgn0025456\n",
       "FBgn0039632 chr3R    29059272 29062975  3704 -      FBgn0039632\n",
       "FBgn0027339 chr3L    22789233 22835194 45962 -      FBgn0027339\n",
       "FBgn0040371 chrX       307684   308935  1252 +      FBgn0040371\n",
       "FBgn0030456 chrX     13155038 13157372  2335 +      FBgn0030456\n",
       "FBgn0051248 chr3R     7129320  7130908  1589 +      FBgn0051248\n",
       "FBgn0029123 chr2L     8825645  8829670  4026 +      FBgn0029123\n",
       "FBgn0029172 chr3L    11023535 11024846  1312 +      FBgn0029172\n",
       "FBgn0005586 chr2R    10721335 10729203  7869 -      FBgn0005586\n",
       "FBgn0051646 chr2L     5626291  5658560 32270 -      FBgn0051646\n",
       "FBgn0011606 chrX      2599158  2604052  4895 -      FBgn0011606\n",
       "FBgn0003545 chr2R    17745500 17748078  2579 -      FBgn0003545\n",
       "FBgn0011283 chr2L     7496791  7497365   575 -      FBgn0011283\n",
       "FBgn0053136 chr2R    18664449 18665792  1344 -      FBgn0053136\n",
       "FBgn0039634 chr3R    29109053 29112822  3770 -      FBgn0039634\n",
       "FBgn0034325 chr2R    18297795 18298903  1109 +      FBgn0034325\n",
       "FBgn0036754 chr3L    17802490 17804715  2226 -      FBgn0036754\n",
       "FBgn0053182 chr2R    13176553 13198337 21785 -      FBgn0053182"
      ]
     },
     "metadata": {},
     "output_type": "display_data"
    }
   ],
   "source": [
    "chr # chromosomes\n",
    "genes.tab # our sequences"
   ]
  },
  {
   "cell_type": "markdown",
   "metadata": {},
   "source": [
    "Populate starts and ends positions:"
   ]
  },
  {
   "cell_type": "code",
   "execution_count": 41,
   "metadata": {},
   "outputs": [],
   "source": [
    "up   <- 500\n",
    "down <- 100\n",
    "\n",
    "gene.tab$prom.start <- ifelse(gene.tab$strand==\"+\",\n",
    "                             gene.tab$start - up,\n",
    "                             gene.tab$end   - down)\n",
    "\n",
    "gene.tab$prom.end   <- ifelse(gene.tab$strand==\"+\",\n",
    "                             gene.tab$start + down,\n",
    "                             gene.tab$end   - up)\n"
   ]
  },
  {
   "cell_type": "code",
   "execution_count": 42,
   "metadata": {},
   "outputs": [
    {
     "data": {
      "text/html": [
       "<table>\n",
       "<caption>A data.frame: 13902 × 8</caption>\n",
       "<thead>\n",
       "\t<tr><th></th><th scope=col>seqnames</th><th scope=col>start</th><th scope=col>end</th><th scope=col>width</th><th scope=col>strand</th><th scope=col>gene_id</th><th scope=col>prom.start</th><th scope=col>prom.end</th></tr>\n",
       "\t<tr><th></th><th scope=col>&lt;fct&gt;</th><th scope=col>&lt;int&gt;</th><th scope=col>&lt;int&gt;</th><th scope=col>&lt;int&gt;</th><th scope=col>&lt;fct&gt;</th><th scope=col>&lt;chr&gt;</th><th scope=col>&lt;dbl&gt;</th><th scope=col>&lt;dbl&gt;</th></tr>\n",
       "</thead>\n",
       "<tbody>\n",
       "\t<tr><th scope=row>FBgn0025637</th><td>chrX </td><td>  656114</td><td>  657899</td><td> 1786</td><td>+</td><td>FBgn0025637</td><td>  655614</td><td>  656214</td></tr>\n",
       "\t<tr><th scope=row>FBgn0029858</th><td>chrX </td><td> 6291303</td><td> 6294177</td><td> 2875</td><td>+</td><td>FBgn0029858</td><td> 6290803</td><td> 6291403</td></tr>\n",
       "\t<tr><th scope=row>FBgn0044049</th><td>chr3L</td><td> 9803399</td><td> 9804263</td><td>  865</td><td>-</td><td>FBgn0044049</td><td> 9804163</td><td> 9803763</td></tr>\n",
       "\t<tr><th scope=row>FBgn0038461</th><td>chr3R</td><td>16990334</td><td>16991878</td><td> 1545</td><td>-</td><td>FBgn0038461</td><td>16991778</td><td>16991378</td></tr>\n",
       "\t<tr><th scope=row>FBgn0035721</th><td>chr3L</td><td> 6955991</td><td> 6957440</td><td> 1450</td><td>+</td><td>FBgn0035721</td><td> 6955491</td><td> 6956091</td></tr>\n",
       "\t<tr><th scope=row>FBgn0040383</th><td>chrX </td><td>  750347</td><td>  758719</td><td> 8373</td><td>+</td><td>FBgn0040383</td><td>  749847</td><td>  750447</td></tr>\n",
       "\t<tr><th scope=row>FBgn0032728</th><td>chr2L</td><td>18969028</td><td>18972004</td><td> 2977</td><td>+</td><td>FBgn0032728</td><td>18968528</td><td>18969128</td></tr>\n",
       "\t<tr><th scope=row>FBgn0039250</th><td>chr3R</td><td>24922473</td><td>24925160</td><td> 2688</td><td>+</td><td>FBgn0039250</td><td>24921973</td><td>24922573</td></tr>\n",
       "\t<tr><th scope=row>FBgn0030398</th><td>chrX </td><td>12553124</td><td>12554235</td><td> 1112</td><td>+</td><td>FBgn0030398</td><td>12552624</td><td>12553224</td></tr>\n",
       "\t<tr><th scope=row>FBgn0038223</th><td>chr3R</td><td>14320191</td><td>14326689</td><td> 6499</td><td>-</td><td>FBgn0038223</td><td>14326589</td><td>14326189</td></tr>\n",
       "\t<tr><th scope=row>FBgn0031866</th><td>chr2L</td><td> 6874900</td><td> 6906656</td><td>31757</td><td>+</td><td>FBgn0031866</td><td> 6874400</td><td> 6875000</td></tr>\n",
       "\t<tr><th scope=row>FBgn0036799</th><td>chr3L</td><td>18600150</td><td>18617943</td><td>17794</td><td>-</td><td>FBgn0036799</td><td>18617843</td><td>18617443</td></tr>\n",
       "\t<tr><th scope=row>FBgn0035692</th><td>chr3L</td><td> 6192124</td><td> 6193179</td><td> 1056</td><td>-</td><td>FBgn0035692</td><td> 6193079</td><td> 6192679</td></tr>\n",
       "\t<tr><th scope=row>FBgn0054025</th><td>chr3L</td><td> 2959722</td><td> 2961049</td><td> 1328</td><td>-</td><td>FBgn0054025</td><td> 2960949</td><td> 2960549</td></tr>\n",
       "\t<tr><th scope=row>FBgn0042106</th><td>chr3R</td><td>23684057</td><td>23686537</td><td> 2481</td><td>+</td><td>FBgn0042106</td><td>23683557</td><td>23684157</td></tr>\n",
       "\t<tr><th scope=row>FBgn0001124</th><td>chr2R</td><td>16138352</td><td>16141928</td><td> 3577</td><td>+</td><td>FBgn0001124</td><td>16137852</td><td>16138452</td></tr>\n",
       "\t<tr><th scope=row>FBgn0053252</th><td>chrX </td><td>16896215</td><td>16897187</td><td>  973</td><td>-</td><td>FBgn0053252</td><td>16897087</td><td>16896687</td></tr>\n",
       "\t<tr><th scope=row>FBgn0263832</th><td>chr3L</td><td> 4040529</td><td> 4042597</td><td> 2069</td><td>+</td><td>FBgn0263832</td><td> 4040029</td><td> 4040629</td></tr>\n",
       "\t<tr><th scope=row>FBgn0039719</th><td>chr3R</td><td>29905464</td><td>29906448</td><td>  985</td><td>+</td><td>FBgn0039719</td><td>29904964</td><td>29905564</td></tr>\n",
       "\t<tr><th scope=row>FBgn0029718</th><td>chrX </td><td> 4647871</td><td> 4648646</td><td>  776</td><td>+</td><td>FBgn0029718</td><td> 4647371</td><td> 4647971</td></tr>\n",
       "\t<tr><th scope=row>FBgn0025832</th><td>chr2R</td><td>16854025</td><td>16855464</td><td> 1440</td><td>-</td><td>FBgn0025832</td><td>16855364</td><td>16854964</td></tr>\n",
       "\t<tr><th scope=row>FBgn0050466</th><td>chr2R</td><td>15568960</td><td>15573170</td><td> 4211</td><td>+</td><td>FBgn0050466</td><td>15568460</td><td>15569060</td></tr>\n",
       "\t<tr><th scope=row>FBgn0038627</th><td>chr3R</td><td>18573091</td><td>18590726</td><td>17636</td><td>+</td><td>FBgn0038627</td><td>18572591</td><td>18573191</td></tr>\n",
       "\t<tr><th scope=row>FBgn0025866</th><td>chr3L</td><td> 9888762</td><td> 9893319</td><td> 4558</td><td>+</td><td>FBgn0025866</td><td> 9888262</td><td> 9888862</td></tr>\n",
       "\t<tr><th scope=row>FBgn0053012</th><td>chr2R</td><td>12367353</td><td>12370886</td><td> 3534</td><td>+</td><td>FBgn0053012</td><td>12366853</td><td>12367453</td></tr>\n",
       "\t<tr><th scope=row>FBgn0036133</th><td>chr3L</td><td>11109690</td><td>11112117</td><td> 2428</td><td>+</td><td>FBgn0036133</td><td>11109190</td><td>11109790</td></tr>\n",
       "\t<tr><th scope=row>FBgn0264574</th><td>chr3L</td><td>  914074</td><td>  993788</td><td>79715</td><td>+</td><td>FBgn0264574</td><td>  913574</td><td>  914174</td></tr>\n",
       "\t<tr><th scope=row>FBgn0053458</th><td>chr2R</td><td>16486674</td><td>16487801</td><td> 1128</td><td>+</td><td>FBgn0053458</td><td>16486174</td><td>16486774</td></tr>\n",
       "\t<tr><th scope=row>FBgn0019686</th><td>chr2L</td><td>20061422</td><td>20064381</td><td> 2960</td><td>+</td><td>FBgn0019686</td><td>20060922</td><td>20061522</td></tr>\n",
       "\t<tr><th scope=row>FBgn0034795</th><td>chr2R</td><td>22888928</td><td>22894425</td><td> 5498</td><td>+</td><td>FBgn0034795</td><td>22888428</td><td>22889028</td></tr>\n",
       "\t<tr><th scope=row>⋮</th><td>⋮</td><td>⋮</td><td>⋮</td><td>⋮</td><td>⋮</td><td>⋮</td><td>⋮</td><td>⋮</td></tr>\n",
       "\t<tr><th scope=row>FBgn0261564</th><td>chr2R</td><td>22925107</td><td>22932044</td><td> 6938</td><td>+</td><td>FBgn0261564</td><td>22924607</td><td>22925207</td></tr>\n",
       "\t<tr><th scope=row>FBgn0033887</th><td>chr2R</td><td>13969910</td><td>13971263</td><td> 1354</td><td>-</td><td>FBgn0033887</td><td>13971163</td><td>13970763</td></tr>\n",
       "\t<tr><th scope=row>FBgn0003375</th><td>chr3R</td><td>17595362</td><td>17596112</td><td>  751</td><td>+</td><td>FBgn0003375</td><td>17594862</td><td>17595462</td></tr>\n",
       "\t<tr><th scope=row>FBgn0040759</th><td>chr2R</td><td>12163675</td><td>12164896</td><td> 1222</td><td>+</td><td>FBgn0040759</td><td>12163175</td><td>12163775</td></tr>\n",
       "\t<tr><th scope=row>FBgn0040344</th><td>chrX </td><td>  922889</td><td>  927582</td><td> 4694</td><td>-</td><td>FBgn0040344</td><td>  927482</td><td>  927082</td></tr>\n",
       "\t<tr><th scope=row>FBgn0038136</th><td>chr3R</td><td>13298768</td><td>13302334</td><td> 3567</td><td>+</td><td>FBgn0038136</td><td>13298268</td><td>13298868</td></tr>\n",
       "\t<tr><th scope=row>FBgn0031850</th><td>chr2L</td><td> 6686791</td><td> 6709086</td><td>22296</td><td>-</td><td>FBgn0031850</td><td> 6708986</td><td> 6708586</td></tr>\n",
       "\t<tr><th scope=row>FBgn0262562</th><td>chr3R</td><td>17768272</td><td>17794490</td><td>26219</td><td>-</td><td>FBgn0262562</td><td>17794390</td><td>17793990</td></tr>\n",
       "\t<tr><th scope=row>FBgn0037749</th><td>chr3R</td><td> 9770532</td><td> 9771542</td><td> 1011</td><td>-</td><td>FBgn0037749</td><td> 9771442</td><td> 9771042</td></tr>\n",
       "\t<tr><th scope=row>FBgn0034703</th><td>chr2R</td><td>22172803</td><td>22174691</td><td> 1889</td><td>-</td><td>FBgn0034703</td><td>22174591</td><td>22174191</td></tr>\n",
       "\t<tr><th scope=row>FBgn0038756</th><td>chr3R</td><td>19948443</td><td>19948907</td><td>  465</td><td>+</td><td>FBgn0038756</td><td>19947943</td><td>19948543</td></tr>\n",
       "\t<tr><th scope=row>FBgn0028847</th><td>chr2L</td><td>13722161</td><td>13723642</td><td> 1482</td><td>-</td><td>FBgn0028847</td><td>13723542</td><td>13723142</td></tr>\n",
       "\t<tr><th scope=row>FBgn0025456</th><td>chr3R</td><td>17393272</td><td>17394640</td><td> 1369</td><td>-</td><td>FBgn0025456</td><td>17394540</td><td>17394140</td></tr>\n",
       "\t<tr><th scope=row>FBgn0039632</th><td>chr3R</td><td>29059272</td><td>29062975</td><td> 3704</td><td>-</td><td>FBgn0039632</td><td>29062875</td><td>29062475</td></tr>\n",
       "\t<tr><th scope=row>FBgn0027339</th><td>chr3L</td><td>22789233</td><td>22835194</td><td>45962</td><td>-</td><td>FBgn0027339</td><td>22835094</td><td>22834694</td></tr>\n",
       "\t<tr><th scope=row>FBgn0040371</th><td>chrX </td><td>  307684</td><td>  308935</td><td> 1252</td><td>+</td><td>FBgn0040371</td><td>  307184</td><td>  307784</td></tr>\n",
       "\t<tr><th scope=row>FBgn0030456</th><td>chrX </td><td>13155038</td><td>13157372</td><td> 2335</td><td>+</td><td>FBgn0030456</td><td>13154538</td><td>13155138</td></tr>\n",
       "\t<tr><th scope=row>FBgn0051248</th><td>chr3R</td><td> 7129320</td><td> 7130908</td><td> 1589</td><td>+</td><td>FBgn0051248</td><td> 7128820</td><td> 7129420</td></tr>\n",
       "\t<tr><th scope=row>FBgn0029123</th><td>chr2L</td><td> 8825645</td><td> 8829670</td><td> 4026</td><td>+</td><td>FBgn0029123</td><td> 8825145</td><td> 8825745</td></tr>\n",
       "\t<tr><th scope=row>FBgn0029172</th><td>chr3L</td><td>11023535</td><td>11024846</td><td> 1312</td><td>+</td><td>FBgn0029172</td><td>11023035</td><td>11023635</td></tr>\n",
       "\t<tr><th scope=row>FBgn0005586</th><td>chr2R</td><td>10721335</td><td>10729203</td><td> 7869</td><td>-</td><td>FBgn0005586</td><td>10729103</td><td>10728703</td></tr>\n",
       "\t<tr><th scope=row>FBgn0051646</th><td>chr2L</td><td> 5626291</td><td> 5658560</td><td>32270</td><td>-</td><td>FBgn0051646</td><td> 5658460</td><td> 5658060</td></tr>\n",
       "\t<tr><th scope=row>FBgn0011606</th><td>chrX </td><td> 2599158</td><td> 2604052</td><td> 4895</td><td>-</td><td>FBgn0011606</td><td> 2603952</td><td> 2603552</td></tr>\n",
       "\t<tr><th scope=row>FBgn0003545</th><td>chr2R</td><td>17745500</td><td>17748078</td><td> 2579</td><td>-</td><td>FBgn0003545</td><td>17747978</td><td>17747578</td></tr>\n",
       "\t<tr><th scope=row>FBgn0011283</th><td>chr2L</td><td> 7496791</td><td> 7497365</td><td>  575</td><td>-</td><td>FBgn0011283</td><td> 7497265</td><td> 7496865</td></tr>\n",
       "\t<tr><th scope=row>FBgn0053136</th><td>chr2R</td><td>18664449</td><td>18665792</td><td> 1344</td><td>-</td><td>FBgn0053136</td><td>18665692</td><td>18665292</td></tr>\n",
       "\t<tr><th scope=row>FBgn0039634</th><td>chr3R</td><td>29109053</td><td>29112822</td><td> 3770</td><td>-</td><td>FBgn0039634</td><td>29112722</td><td>29112322</td></tr>\n",
       "\t<tr><th scope=row>FBgn0034325</th><td>chr2R</td><td>18297795</td><td>18298903</td><td> 1109</td><td>+</td><td>FBgn0034325</td><td>18297295</td><td>18297895</td></tr>\n",
       "\t<tr><th scope=row>FBgn0036754</th><td>chr3L</td><td>17802490</td><td>17804715</td><td> 2226</td><td>-</td><td>FBgn0036754</td><td>17804615</td><td>17804215</td></tr>\n",
       "\t<tr><th scope=row>FBgn0053182</th><td>chr2R</td><td>13176553</td><td>13198337</td><td>21785</td><td>-</td><td>FBgn0053182</td><td>13198237</td><td>13197837</td></tr>\n",
       "</tbody>\n",
       "</table>\n"
      ],
      "text/latex": [
       "A data.frame: 13902 × 8\n",
       "\\begin{tabular}{r|llllllll}\n",
       "  & seqnames & start & end & width & strand & gene\\_id & prom.start & prom.end\\\\\n",
       "  & <fct> & <int> & <int> & <int> & <fct> & <chr> & <dbl> & <dbl>\\\\\n",
       "\\hline\n",
       "\tFBgn0025637 & chrX  &   656114 &   657899 &  1786 & + & FBgn0025637 &   655614 &   656214\\\\\n",
       "\tFBgn0029858 & chrX  &  6291303 &  6294177 &  2875 & + & FBgn0029858 &  6290803 &  6291403\\\\\n",
       "\tFBgn0044049 & chr3L &  9803399 &  9804263 &   865 & - & FBgn0044049 &  9804163 &  9803763\\\\\n",
       "\tFBgn0038461 & chr3R & 16990334 & 16991878 &  1545 & - & FBgn0038461 & 16991778 & 16991378\\\\\n",
       "\tFBgn0035721 & chr3L &  6955991 &  6957440 &  1450 & + & FBgn0035721 &  6955491 &  6956091\\\\\n",
       "\tFBgn0040383 & chrX  &   750347 &   758719 &  8373 & + & FBgn0040383 &   749847 &   750447\\\\\n",
       "\tFBgn0032728 & chr2L & 18969028 & 18972004 &  2977 & + & FBgn0032728 & 18968528 & 18969128\\\\\n",
       "\tFBgn0039250 & chr3R & 24922473 & 24925160 &  2688 & + & FBgn0039250 & 24921973 & 24922573\\\\\n",
       "\tFBgn0030398 & chrX  & 12553124 & 12554235 &  1112 & + & FBgn0030398 & 12552624 & 12553224\\\\\n",
       "\tFBgn0038223 & chr3R & 14320191 & 14326689 &  6499 & - & FBgn0038223 & 14326589 & 14326189\\\\\n",
       "\tFBgn0031866 & chr2L &  6874900 &  6906656 & 31757 & + & FBgn0031866 &  6874400 &  6875000\\\\\n",
       "\tFBgn0036799 & chr3L & 18600150 & 18617943 & 17794 & - & FBgn0036799 & 18617843 & 18617443\\\\\n",
       "\tFBgn0035692 & chr3L &  6192124 &  6193179 &  1056 & - & FBgn0035692 &  6193079 &  6192679\\\\\n",
       "\tFBgn0054025 & chr3L &  2959722 &  2961049 &  1328 & - & FBgn0054025 &  2960949 &  2960549\\\\\n",
       "\tFBgn0042106 & chr3R & 23684057 & 23686537 &  2481 & + & FBgn0042106 & 23683557 & 23684157\\\\\n",
       "\tFBgn0001124 & chr2R & 16138352 & 16141928 &  3577 & + & FBgn0001124 & 16137852 & 16138452\\\\\n",
       "\tFBgn0053252 & chrX  & 16896215 & 16897187 &   973 & - & FBgn0053252 & 16897087 & 16896687\\\\\n",
       "\tFBgn0263832 & chr3L &  4040529 &  4042597 &  2069 & + & FBgn0263832 &  4040029 &  4040629\\\\\n",
       "\tFBgn0039719 & chr3R & 29905464 & 29906448 &   985 & + & FBgn0039719 & 29904964 & 29905564\\\\\n",
       "\tFBgn0029718 & chrX  &  4647871 &  4648646 &   776 & + & FBgn0029718 &  4647371 &  4647971\\\\\n",
       "\tFBgn0025832 & chr2R & 16854025 & 16855464 &  1440 & - & FBgn0025832 & 16855364 & 16854964\\\\\n",
       "\tFBgn0050466 & chr2R & 15568960 & 15573170 &  4211 & + & FBgn0050466 & 15568460 & 15569060\\\\\n",
       "\tFBgn0038627 & chr3R & 18573091 & 18590726 & 17636 & + & FBgn0038627 & 18572591 & 18573191\\\\\n",
       "\tFBgn0025866 & chr3L &  9888762 &  9893319 &  4558 & + & FBgn0025866 &  9888262 &  9888862\\\\\n",
       "\tFBgn0053012 & chr2R & 12367353 & 12370886 &  3534 & + & FBgn0053012 & 12366853 & 12367453\\\\\n",
       "\tFBgn0036133 & chr3L & 11109690 & 11112117 &  2428 & + & FBgn0036133 & 11109190 & 11109790\\\\\n",
       "\tFBgn0264574 & chr3L &   914074 &   993788 & 79715 & + & FBgn0264574 &   913574 &   914174\\\\\n",
       "\tFBgn0053458 & chr2R & 16486674 & 16487801 &  1128 & + & FBgn0053458 & 16486174 & 16486774\\\\\n",
       "\tFBgn0019686 & chr2L & 20061422 & 20064381 &  2960 & + & FBgn0019686 & 20060922 & 20061522\\\\\n",
       "\tFBgn0034795 & chr2R & 22888928 & 22894425 &  5498 & + & FBgn0034795 & 22888428 & 22889028\\\\\n",
       "\t⋮ & ⋮ & ⋮ & ⋮ & ⋮ & ⋮ & ⋮ & ⋮ & ⋮\\\\\n",
       "\tFBgn0261564 & chr2R & 22925107 & 22932044 &  6938 & + & FBgn0261564 & 22924607 & 22925207\\\\\n",
       "\tFBgn0033887 & chr2R & 13969910 & 13971263 &  1354 & - & FBgn0033887 & 13971163 & 13970763\\\\\n",
       "\tFBgn0003375 & chr3R & 17595362 & 17596112 &   751 & + & FBgn0003375 & 17594862 & 17595462\\\\\n",
       "\tFBgn0040759 & chr2R & 12163675 & 12164896 &  1222 & + & FBgn0040759 & 12163175 & 12163775\\\\\n",
       "\tFBgn0040344 & chrX  &   922889 &   927582 &  4694 & - & FBgn0040344 &   927482 &   927082\\\\\n",
       "\tFBgn0038136 & chr3R & 13298768 & 13302334 &  3567 & + & FBgn0038136 & 13298268 & 13298868\\\\\n",
       "\tFBgn0031850 & chr2L &  6686791 &  6709086 & 22296 & - & FBgn0031850 &  6708986 &  6708586\\\\\n",
       "\tFBgn0262562 & chr3R & 17768272 & 17794490 & 26219 & - & FBgn0262562 & 17794390 & 17793990\\\\\n",
       "\tFBgn0037749 & chr3R &  9770532 &  9771542 &  1011 & - & FBgn0037749 &  9771442 &  9771042\\\\\n",
       "\tFBgn0034703 & chr2R & 22172803 & 22174691 &  1889 & - & FBgn0034703 & 22174591 & 22174191\\\\\n",
       "\tFBgn0038756 & chr3R & 19948443 & 19948907 &   465 & + & FBgn0038756 & 19947943 & 19948543\\\\\n",
       "\tFBgn0028847 & chr2L & 13722161 & 13723642 &  1482 & - & FBgn0028847 & 13723542 & 13723142\\\\\n",
       "\tFBgn0025456 & chr3R & 17393272 & 17394640 &  1369 & - & FBgn0025456 & 17394540 & 17394140\\\\\n",
       "\tFBgn0039632 & chr3R & 29059272 & 29062975 &  3704 & - & FBgn0039632 & 29062875 & 29062475\\\\\n",
       "\tFBgn0027339 & chr3L & 22789233 & 22835194 & 45962 & - & FBgn0027339 & 22835094 & 22834694\\\\\n",
       "\tFBgn0040371 & chrX  &   307684 &   308935 &  1252 & + & FBgn0040371 &   307184 &   307784\\\\\n",
       "\tFBgn0030456 & chrX  & 13155038 & 13157372 &  2335 & + & FBgn0030456 & 13154538 & 13155138\\\\\n",
       "\tFBgn0051248 & chr3R &  7129320 &  7130908 &  1589 & + & FBgn0051248 &  7128820 &  7129420\\\\\n",
       "\tFBgn0029123 & chr2L &  8825645 &  8829670 &  4026 & + & FBgn0029123 &  8825145 &  8825745\\\\\n",
       "\tFBgn0029172 & chr3L & 11023535 & 11024846 &  1312 & + & FBgn0029172 & 11023035 & 11023635\\\\\n",
       "\tFBgn0005586 & chr2R & 10721335 & 10729203 &  7869 & - & FBgn0005586 & 10729103 & 10728703\\\\\n",
       "\tFBgn0051646 & chr2L &  5626291 &  5658560 & 32270 & - & FBgn0051646 &  5658460 &  5658060\\\\\n",
       "\tFBgn0011606 & chrX  &  2599158 &  2604052 &  4895 & - & FBgn0011606 &  2603952 &  2603552\\\\\n",
       "\tFBgn0003545 & chr2R & 17745500 & 17748078 &  2579 & - & FBgn0003545 & 17747978 & 17747578\\\\\n",
       "\tFBgn0011283 & chr2L &  7496791 &  7497365 &   575 & - & FBgn0011283 &  7497265 &  7496865\\\\\n",
       "\tFBgn0053136 & chr2R & 18664449 & 18665792 &  1344 & - & FBgn0053136 & 18665692 & 18665292\\\\\n",
       "\tFBgn0039634 & chr3R & 29109053 & 29112822 &  3770 & - & FBgn0039634 & 29112722 & 29112322\\\\\n",
       "\tFBgn0034325 & chr2R & 18297795 & 18298903 &  1109 & + & FBgn0034325 & 18297295 & 18297895\\\\\n",
       "\tFBgn0036754 & chr3L & 17802490 & 17804715 &  2226 & - & FBgn0036754 & 17804615 & 17804215\\\\\n",
       "\tFBgn0053182 & chr2R & 13176553 & 13198337 & 21785 & - & FBgn0053182 & 13198237 & 13197837\\\\\n",
       "\\end{tabular}\n"
      ],
      "text/markdown": [
       "\n",
       "A data.frame: 13902 × 8\n",
       "\n",
       "| <!--/--> | seqnames &lt;fct&gt; | start &lt;int&gt; | end &lt;int&gt; | width &lt;int&gt; | strand &lt;fct&gt; | gene_id &lt;chr&gt; | prom.start &lt;dbl&gt; | prom.end &lt;dbl&gt; |\n",
       "|---|---|---|---|---|---|---|---|---|\n",
       "| FBgn0025637 | chrX  |   656114 |   657899 |  1786 | + | FBgn0025637 |   655614 |   656214 |\n",
       "| FBgn0029858 | chrX  |  6291303 |  6294177 |  2875 | + | FBgn0029858 |  6290803 |  6291403 |\n",
       "| FBgn0044049 | chr3L |  9803399 |  9804263 |   865 | - | FBgn0044049 |  9804163 |  9803763 |\n",
       "| FBgn0038461 | chr3R | 16990334 | 16991878 |  1545 | - | FBgn0038461 | 16991778 | 16991378 |\n",
       "| FBgn0035721 | chr3L |  6955991 |  6957440 |  1450 | + | FBgn0035721 |  6955491 |  6956091 |\n",
       "| FBgn0040383 | chrX  |   750347 |   758719 |  8373 | + | FBgn0040383 |   749847 |   750447 |\n",
       "| FBgn0032728 | chr2L | 18969028 | 18972004 |  2977 | + | FBgn0032728 | 18968528 | 18969128 |\n",
       "| FBgn0039250 | chr3R | 24922473 | 24925160 |  2688 | + | FBgn0039250 | 24921973 | 24922573 |\n",
       "| FBgn0030398 | chrX  | 12553124 | 12554235 |  1112 | + | FBgn0030398 | 12552624 | 12553224 |\n",
       "| FBgn0038223 | chr3R | 14320191 | 14326689 |  6499 | - | FBgn0038223 | 14326589 | 14326189 |\n",
       "| FBgn0031866 | chr2L |  6874900 |  6906656 | 31757 | + | FBgn0031866 |  6874400 |  6875000 |\n",
       "| FBgn0036799 | chr3L | 18600150 | 18617943 | 17794 | - | FBgn0036799 | 18617843 | 18617443 |\n",
       "| FBgn0035692 | chr3L |  6192124 |  6193179 |  1056 | - | FBgn0035692 |  6193079 |  6192679 |\n",
       "| FBgn0054025 | chr3L |  2959722 |  2961049 |  1328 | - | FBgn0054025 |  2960949 |  2960549 |\n",
       "| FBgn0042106 | chr3R | 23684057 | 23686537 |  2481 | + | FBgn0042106 | 23683557 | 23684157 |\n",
       "| FBgn0001124 | chr2R | 16138352 | 16141928 |  3577 | + | FBgn0001124 | 16137852 | 16138452 |\n",
       "| FBgn0053252 | chrX  | 16896215 | 16897187 |   973 | - | FBgn0053252 | 16897087 | 16896687 |\n",
       "| FBgn0263832 | chr3L |  4040529 |  4042597 |  2069 | + | FBgn0263832 |  4040029 |  4040629 |\n",
       "| FBgn0039719 | chr3R | 29905464 | 29906448 |   985 | + | FBgn0039719 | 29904964 | 29905564 |\n",
       "| FBgn0029718 | chrX  |  4647871 |  4648646 |   776 | + | FBgn0029718 |  4647371 |  4647971 |\n",
       "| FBgn0025832 | chr2R | 16854025 | 16855464 |  1440 | - | FBgn0025832 | 16855364 | 16854964 |\n",
       "| FBgn0050466 | chr2R | 15568960 | 15573170 |  4211 | + | FBgn0050466 | 15568460 | 15569060 |\n",
       "| FBgn0038627 | chr3R | 18573091 | 18590726 | 17636 | + | FBgn0038627 | 18572591 | 18573191 |\n",
       "| FBgn0025866 | chr3L |  9888762 |  9893319 |  4558 | + | FBgn0025866 |  9888262 |  9888862 |\n",
       "| FBgn0053012 | chr2R | 12367353 | 12370886 |  3534 | + | FBgn0053012 | 12366853 | 12367453 |\n",
       "| FBgn0036133 | chr3L | 11109690 | 11112117 |  2428 | + | FBgn0036133 | 11109190 | 11109790 |\n",
       "| FBgn0264574 | chr3L |   914074 |   993788 | 79715 | + | FBgn0264574 |   913574 |   914174 |\n",
       "| FBgn0053458 | chr2R | 16486674 | 16487801 |  1128 | + | FBgn0053458 | 16486174 | 16486774 |\n",
       "| FBgn0019686 | chr2L | 20061422 | 20064381 |  2960 | + | FBgn0019686 | 20060922 | 20061522 |\n",
       "| FBgn0034795 | chr2R | 22888928 | 22894425 |  5498 | + | FBgn0034795 | 22888428 | 22889028 |\n",
       "| ⋮ | ⋮ | ⋮ | ⋮ | ⋮ | ⋮ | ⋮ | ⋮ | ⋮ |\n",
       "| FBgn0261564 | chr2R | 22925107 | 22932044 |  6938 | + | FBgn0261564 | 22924607 | 22925207 |\n",
       "| FBgn0033887 | chr2R | 13969910 | 13971263 |  1354 | - | FBgn0033887 | 13971163 | 13970763 |\n",
       "| FBgn0003375 | chr3R | 17595362 | 17596112 |   751 | + | FBgn0003375 | 17594862 | 17595462 |\n",
       "| FBgn0040759 | chr2R | 12163675 | 12164896 |  1222 | + | FBgn0040759 | 12163175 | 12163775 |\n",
       "| FBgn0040344 | chrX  |   922889 |   927582 |  4694 | - | FBgn0040344 |   927482 |   927082 |\n",
       "| FBgn0038136 | chr3R | 13298768 | 13302334 |  3567 | + | FBgn0038136 | 13298268 | 13298868 |\n",
       "| FBgn0031850 | chr2L |  6686791 |  6709086 | 22296 | - | FBgn0031850 |  6708986 |  6708586 |\n",
       "| FBgn0262562 | chr3R | 17768272 | 17794490 | 26219 | - | FBgn0262562 | 17794390 | 17793990 |\n",
       "| FBgn0037749 | chr3R |  9770532 |  9771542 |  1011 | - | FBgn0037749 |  9771442 |  9771042 |\n",
       "| FBgn0034703 | chr2R | 22172803 | 22174691 |  1889 | - | FBgn0034703 | 22174591 | 22174191 |\n",
       "| FBgn0038756 | chr3R | 19948443 | 19948907 |   465 | + | FBgn0038756 | 19947943 | 19948543 |\n",
       "| FBgn0028847 | chr2L | 13722161 | 13723642 |  1482 | - | FBgn0028847 | 13723542 | 13723142 |\n",
       "| FBgn0025456 | chr3R | 17393272 | 17394640 |  1369 | - | FBgn0025456 | 17394540 | 17394140 |\n",
       "| FBgn0039632 | chr3R | 29059272 | 29062975 |  3704 | - | FBgn0039632 | 29062875 | 29062475 |\n",
       "| FBgn0027339 | chr3L | 22789233 | 22835194 | 45962 | - | FBgn0027339 | 22835094 | 22834694 |\n",
       "| FBgn0040371 | chrX  |   307684 |   308935 |  1252 | + | FBgn0040371 |   307184 |   307784 |\n",
       "| FBgn0030456 | chrX  | 13155038 | 13157372 |  2335 | + | FBgn0030456 | 13154538 | 13155138 |\n",
       "| FBgn0051248 | chr3R |  7129320 |  7130908 |  1589 | + | FBgn0051248 |  7128820 |  7129420 |\n",
       "| FBgn0029123 | chr2L |  8825645 |  8829670 |  4026 | + | FBgn0029123 |  8825145 |  8825745 |\n",
       "| FBgn0029172 | chr3L | 11023535 | 11024846 |  1312 | + | FBgn0029172 | 11023035 | 11023635 |\n",
       "| FBgn0005586 | chr2R | 10721335 | 10729203 |  7869 | - | FBgn0005586 | 10729103 | 10728703 |\n",
       "| FBgn0051646 | chr2L |  5626291 |  5658560 | 32270 | - | FBgn0051646 |  5658460 |  5658060 |\n",
       "| FBgn0011606 | chrX  |  2599158 |  2604052 |  4895 | - | FBgn0011606 |  2603952 |  2603552 |\n",
       "| FBgn0003545 | chr2R | 17745500 | 17748078 |  2579 | - | FBgn0003545 | 17747978 | 17747578 |\n",
       "| FBgn0011283 | chr2L |  7496791 |  7497365 |   575 | - | FBgn0011283 |  7497265 |  7496865 |\n",
       "| FBgn0053136 | chr2R | 18664449 | 18665792 |  1344 | - | FBgn0053136 | 18665692 | 18665292 |\n",
       "| FBgn0039634 | chr3R | 29109053 | 29112822 |  3770 | - | FBgn0039634 | 29112722 | 29112322 |\n",
       "| FBgn0034325 | chr2R | 18297795 | 18298903 |  1109 | + | FBgn0034325 | 18297295 | 18297895 |\n",
       "| FBgn0036754 | chr3L | 17802490 | 17804715 |  2226 | - | FBgn0036754 | 17804615 | 17804215 |\n",
       "| FBgn0053182 | chr2R | 13176553 | 13198337 | 21785 | - | FBgn0053182 | 13198237 | 13197837 |\n",
       "\n"
      ],
      "text/plain": [
       "            seqnames start    end      width strand gene_id     prom.start\n",
       "FBgn0025637 chrX       656114   657899  1786 +      FBgn0025637   655614  \n",
       "FBgn0029858 chrX      6291303  6294177  2875 +      FBgn0029858  6290803  \n",
       "FBgn0044049 chr3L     9803399  9804263   865 -      FBgn0044049  9804163  \n",
       "FBgn0038461 chr3R    16990334 16991878  1545 -      FBgn0038461 16991778  \n",
       "FBgn0035721 chr3L     6955991  6957440  1450 +      FBgn0035721  6955491  \n",
       "FBgn0040383 chrX       750347   758719  8373 +      FBgn0040383   749847  \n",
       "FBgn0032728 chr2L    18969028 18972004  2977 +      FBgn0032728 18968528  \n",
       "FBgn0039250 chr3R    24922473 24925160  2688 +      FBgn0039250 24921973  \n",
       "FBgn0030398 chrX     12553124 12554235  1112 +      FBgn0030398 12552624  \n",
       "FBgn0038223 chr3R    14320191 14326689  6499 -      FBgn0038223 14326589  \n",
       "FBgn0031866 chr2L     6874900  6906656 31757 +      FBgn0031866  6874400  \n",
       "FBgn0036799 chr3L    18600150 18617943 17794 -      FBgn0036799 18617843  \n",
       "FBgn0035692 chr3L     6192124  6193179  1056 -      FBgn0035692  6193079  \n",
       "FBgn0054025 chr3L     2959722  2961049  1328 -      FBgn0054025  2960949  \n",
       "FBgn0042106 chr3R    23684057 23686537  2481 +      FBgn0042106 23683557  \n",
       "FBgn0001124 chr2R    16138352 16141928  3577 +      FBgn0001124 16137852  \n",
       "FBgn0053252 chrX     16896215 16897187   973 -      FBgn0053252 16897087  \n",
       "FBgn0263832 chr3L     4040529  4042597  2069 +      FBgn0263832  4040029  \n",
       "FBgn0039719 chr3R    29905464 29906448   985 +      FBgn0039719 29904964  \n",
       "FBgn0029718 chrX      4647871  4648646   776 +      FBgn0029718  4647371  \n",
       "FBgn0025832 chr2R    16854025 16855464  1440 -      FBgn0025832 16855364  \n",
       "FBgn0050466 chr2R    15568960 15573170  4211 +      FBgn0050466 15568460  \n",
       "FBgn0038627 chr3R    18573091 18590726 17636 +      FBgn0038627 18572591  \n",
       "FBgn0025866 chr3L     9888762  9893319  4558 +      FBgn0025866  9888262  \n",
       "FBgn0053012 chr2R    12367353 12370886  3534 +      FBgn0053012 12366853  \n",
       "FBgn0036133 chr3L    11109690 11112117  2428 +      FBgn0036133 11109190  \n",
       "FBgn0264574 chr3L      914074   993788 79715 +      FBgn0264574   913574  \n",
       "FBgn0053458 chr2R    16486674 16487801  1128 +      FBgn0053458 16486174  \n",
       "FBgn0019686 chr2L    20061422 20064381  2960 +      FBgn0019686 20060922  \n",
       "FBgn0034795 chr2R    22888928 22894425  5498 +      FBgn0034795 22888428  \n",
       "⋮           ⋮        ⋮        ⋮        ⋮     ⋮      ⋮           ⋮         \n",
       "FBgn0261564 chr2R    22925107 22932044  6938 +      FBgn0261564 22924607  \n",
       "FBgn0033887 chr2R    13969910 13971263  1354 -      FBgn0033887 13971163  \n",
       "FBgn0003375 chr3R    17595362 17596112   751 +      FBgn0003375 17594862  \n",
       "FBgn0040759 chr2R    12163675 12164896  1222 +      FBgn0040759 12163175  \n",
       "FBgn0040344 chrX       922889   927582  4694 -      FBgn0040344   927482  \n",
       "FBgn0038136 chr3R    13298768 13302334  3567 +      FBgn0038136 13298268  \n",
       "FBgn0031850 chr2L     6686791  6709086 22296 -      FBgn0031850  6708986  \n",
       "FBgn0262562 chr3R    17768272 17794490 26219 -      FBgn0262562 17794390  \n",
       "FBgn0037749 chr3R     9770532  9771542  1011 -      FBgn0037749  9771442  \n",
       "FBgn0034703 chr2R    22172803 22174691  1889 -      FBgn0034703 22174591  \n",
       "FBgn0038756 chr3R    19948443 19948907   465 +      FBgn0038756 19947943  \n",
       "FBgn0028847 chr2L    13722161 13723642  1482 -      FBgn0028847 13723542  \n",
       "FBgn0025456 chr3R    17393272 17394640  1369 -      FBgn0025456 17394540  \n",
       "FBgn0039632 chr3R    29059272 29062975  3704 -      FBgn0039632 29062875  \n",
       "FBgn0027339 chr3L    22789233 22835194 45962 -      FBgn0027339 22835094  \n",
       "FBgn0040371 chrX       307684   308935  1252 +      FBgn0040371   307184  \n",
       "FBgn0030456 chrX     13155038 13157372  2335 +      FBgn0030456 13154538  \n",
       "FBgn0051248 chr3R     7129320  7130908  1589 +      FBgn0051248  7128820  \n",
       "FBgn0029123 chr2L     8825645  8829670  4026 +      FBgn0029123  8825145  \n",
       "FBgn0029172 chr3L    11023535 11024846  1312 +      FBgn0029172 11023035  \n",
       "FBgn0005586 chr2R    10721335 10729203  7869 -      FBgn0005586 10729103  \n",
       "FBgn0051646 chr2L     5626291  5658560 32270 -      FBgn0051646  5658460  \n",
       "FBgn0011606 chrX      2599158  2604052  4895 -      FBgn0011606  2603952  \n",
       "FBgn0003545 chr2R    17745500 17748078  2579 -      FBgn0003545 17747978  \n",
       "FBgn0011283 chr2L     7496791  7497365   575 -      FBgn0011283  7497265  \n",
       "FBgn0053136 chr2R    18664449 18665792  1344 -      FBgn0053136 18665692  \n",
       "FBgn0039634 chr3R    29109053 29112822  3770 -      FBgn0039634 29112722  \n",
       "FBgn0034325 chr2R    18297795 18298903  1109 +      FBgn0034325 18297295  \n",
       "FBgn0036754 chr3L    17802490 17804715  2226 -      FBgn0036754 17804615  \n",
       "FBgn0053182 chr2R    13176553 13198337 21785 -      FBgn0053182 13198237  \n",
       "            prom.end\n",
       "FBgn0025637   656214\n",
       "FBgn0029858  6291403\n",
       "FBgn0044049  9803763\n",
       "FBgn0038461 16991378\n",
       "FBgn0035721  6956091\n",
       "FBgn0040383   750447\n",
       "FBgn0032728 18969128\n",
       "FBgn0039250 24922573\n",
       "FBgn0030398 12553224\n",
       "FBgn0038223 14326189\n",
       "FBgn0031866  6875000\n",
       "FBgn0036799 18617443\n",
       "FBgn0035692  6192679\n",
       "FBgn0054025  2960549\n",
       "FBgn0042106 23684157\n",
       "FBgn0001124 16138452\n",
       "FBgn0053252 16896687\n",
       "FBgn0263832  4040629\n",
       "FBgn0039719 29905564\n",
       "FBgn0029718  4647971\n",
       "FBgn0025832 16854964\n",
       "FBgn0050466 15569060\n",
       "FBgn0038627 18573191\n",
       "FBgn0025866  9888862\n",
       "FBgn0053012 12367453\n",
       "FBgn0036133 11109790\n",
       "FBgn0264574   914174\n",
       "FBgn0053458 16486774\n",
       "FBgn0019686 20061522\n",
       "FBgn0034795 22889028\n",
       "⋮           ⋮       \n",
       "FBgn0261564 22925207\n",
       "FBgn0033887 13970763\n",
       "FBgn0003375 17595462\n",
       "FBgn0040759 12163775\n",
       "FBgn0040344   927082\n",
       "FBgn0038136 13298868\n",
       "FBgn0031850  6708586\n",
       "FBgn0262562 17793990\n",
       "FBgn0037749  9771042\n",
       "FBgn0034703 22174191\n",
       "FBgn0038756 19948543\n",
       "FBgn0028847 13723142\n",
       "FBgn0025456 17394140\n",
       "FBgn0039632 29062475\n",
       "FBgn0027339 22834694\n",
       "FBgn0040371   307784\n",
       "FBgn0030456 13155138\n",
       "FBgn0051248  7129420\n",
       "FBgn0029123  8825745\n",
       "FBgn0029172 11023635\n",
       "FBgn0005586 10728703\n",
       "FBgn0051646  5658060\n",
       "FBgn0011606  2603552\n",
       "FBgn0003545 17747578\n",
       "FBgn0011283  7496865\n",
       "FBgn0053136 18665292\n",
       "FBgn0039634 29112322\n",
       "FBgn0034325 18297895\n",
       "FBgn0036754 17804215\n",
       "FBgn0053182 13197837"
      ]
     },
     "metadata": {},
     "output_type": "display_data"
    }
   ],
   "source": [
    "unique(gene.tab$start - gene.ta"
   ]
  },
  {
   "cell_type": "code",
   "execution_count": null,
   "metadata": {},
   "outputs": [],
   "source": []
  }
 ],
 "metadata": {
  "kernelspec": {
   "display_name": "R",
   "language": "R",
   "name": "ir"
  },
  "language_info": {
   "codemirror_mode": "r",
   "file_extension": ".r",
   "mimetype": "text/x-r-source",
   "name": "R",
   "pygments_lexer": "r",
   "version": "3.6.1"
  }
 },
 "nbformat": 4,
 "nbformat_minor": 2
}
